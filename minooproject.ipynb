{
  "nbformat": 4,
  "nbformat_minor": 0,
  "metadata": {
    "colab": {
      "provenance": [],
      "collapsed_sections": [
        "pd2di4SZ3jzZ",
        "-lBfToqH2wU6",
        "d2vWR184FEoO"
      ]
    },
    "kernelspec": {
      "name": "python3",
      "display_name": "Python 3"
    },
    "language_info": {
      "name": "python"
    }
  },
  "cells": [
    {
      "cell_type": "code",
      "execution_count": null,
      "metadata": {
        "id": "eNCuH64VYAgd"
      },
      "outputs": [],
      "source": [
        "import pandas as pd\n",
        "import numpy as np\n",
        "import seaborn as sns\n",
        "import matplotlib.pyplot as plt \n"
      ]
    },
    {
      "cell_type": "markdown",
      "source": [
        "# **INTRODUCING THE DATA**"
      ],
      "metadata": {
        "id": "pd2di4SZ3jzZ"
      }
    },
    {
      "cell_type": "code",
      "source": [
        "stroke = pd.read_csv('/content/healthcare-dataset-stroke-data.csv')"
      ],
      "metadata": {
        "id": "zeK77PMLa9ai"
      },
      "execution_count": null,
      "outputs": []
    },
    {
      "cell_type": "code",
      "source": [
        "stroke.head()"
      ],
      "metadata": {
        "id": "txWJw3DabKAQ",
        "colab": {
          "base_uri": "https://localhost:8080/"
        },
        "outputId": "aa607ac0-5859-45e5-e4fe-c2ce4fd25b71"
      },
      "execution_count": null,
      "outputs": [
        {
          "output_type": "execute_result",
          "data": {
            "text/plain": [
              "      id  gender   age  hypertension  heart_disease ever_married  \\\n",
              "0   9046    Male  67.0             0              1          Yes   \n",
              "1  51676  Female  61.0             0              0          Yes   \n",
              "2  31112    Male  80.0             0              1          Yes   \n",
              "3  60182  Female  49.0             0              0          Yes   \n",
              "4   1665  Female  79.0             1              0          Yes   \n",
              "\n",
              "       work_type Residence_type  avg_glucose_level   bmi   smoking_status  \\\n",
              "0        Private          Urban             228.69  36.6  formerly smoked   \n",
              "1  Self-employed          Rural             202.21   NaN     never smoked   \n",
              "2        Private          Rural             105.92  32.5     never smoked   \n",
              "3        Private          Urban             171.23  34.4           smokes   \n",
              "4  Self-employed          Rural             174.12  24.0     never smoked   \n",
              "\n",
              "   stroke  \n",
              "0       1  \n",
              "1       1  \n",
              "2       1  \n",
              "3       1  \n",
              "4       1  "
            ],
            "text/html": [
              "\n",
              "  <div id=\"df-c78f7633-53a5-477d-889a-976f208e0bc8\">\n",
              "    <div class=\"colab-df-container\">\n",
              "      <div>\n",
              "<style scoped>\n",
              "    .dataframe tbody tr th:only-of-type {\n",
              "        vertical-align: middle;\n",
              "    }\n",
              "\n",
              "    .dataframe tbody tr th {\n",
              "        vertical-align: top;\n",
              "    }\n",
              "\n",
              "    .dataframe thead th {\n",
              "        text-align: right;\n",
              "    }\n",
              "</style>\n",
              "<table border=\"1\" class=\"dataframe\">\n",
              "  <thead>\n",
              "    <tr style=\"text-align: right;\">\n",
              "      <th></th>\n",
              "      <th>id</th>\n",
              "      <th>gender</th>\n",
              "      <th>age</th>\n",
              "      <th>hypertension</th>\n",
              "      <th>heart_disease</th>\n",
              "      <th>ever_married</th>\n",
              "      <th>work_type</th>\n",
              "      <th>Residence_type</th>\n",
              "      <th>avg_glucose_level</th>\n",
              "      <th>bmi</th>\n",
              "      <th>smoking_status</th>\n",
              "      <th>stroke</th>\n",
              "    </tr>\n",
              "  </thead>\n",
              "  <tbody>\n",
              "    <tr>\n",
              "      <th>0</th>\n",
              "      <td>9046</td>\n",
              "      <td>Male</td>\n",
              "      <td>67.0</td>\n",
              "      <td>0</td>\n",
              "      <td>1</td>\n",
              "      <td>Yes</td>\n",
              "      <td>Private</td>\n",
              "      <td>Urban</td>\n",
              "      <td>228.69</td>\n",
              "      <td>36.6</td>\n",
              "      <td>formerly smoked</td>\n",
              "      <td>1</td>\n",
              "    </tr>\n",
              "    <tr>\n",
              "      <th>1</th>\n",
              "      <td>51676</td>\n",
              "      <td>Female</td>\n",
              "      <td>61.0</td>\n",
              "      <td>0</td>\n",
              "      <td>0</td>\n",
              "      <td>Yes</td>\n",
              "      <td>Self-employed</td>\n",
              "      <td>Rural</td>\n",
              "      <td>202.21</td>\n",
              "      <td>NaN</td>\n",
              "      <td>never smoked</td>\n",
              "      <td>1</td>\n",
              "    </tr>\n",
              "    <tr>\n",
              "      <th>2</th>\n",
              "      <td>31112</td>\n",
              "      <td>Male</td>\n",
              "      <td>80.0</td>\n",
              "      <td>0</td>\n",
              "      <td>1</td>\n",
              "      <td>Yes</td>\n",
              "      <td>Private</td>\n",
              "      <td>Rural</td>\n",
              "      <td>105.92</td>\n",
              "      <td>32.5</td>\n",
              "      <td>never smoked</td>\n",
              "      <td>1</td>\n",
              "    </tr>\n",
              "    <tr>\n",
              "      <th>3</th>\n",
              "      <td>60182</td>\n",
              "      <td>Female</td>\n",
              "      <td>49.0</td>\n",
              "      <td>0</td>\n",
              "      <td>0</td>\n",
              "      <td>Yes</td>\n",
              "      <td>Private</td>\n",
              "      <td>Urban</td>\n",
              "      <td>171.23</td>\n",
              "      <td>34.4</td>\n",
              "      <td>smokes</td>\n",
              "      <td>1</td>\n",
              "    </tr>\n",
              "    <tr>\n",
              "      <th>4</th>\n",
              "      <td>1665</td>\n",
              "      <td>Female</td>\n",
              "      <td>79.0</td>\n",
              "      <td>1</td>\n",
              "      <td>0</td>\n",
              "      <td>Yes</td>\n",
              "      <td>Self-employed</td>\n",
              "      <td>Rural</td>\n",
              "      <td>174.12</td>\n",
              "      <td>24.0</td>\n",
              "      <td>never smoked</td>\n",
              "      <td>1</td>\n",
              "    </tr>\n",
              "  </tbody>\n",
              "</table>\n",
              "</div>\n",
              "      <button class=\"colab-df-convert\" onclick=\"convertToInteractive('df-c78f7633-53a5-477d-889a-976f208e0bc8')\"\n",
              "              title=\"Convert this dataframe to an interactive table.\"\n",
              "              style=\"display:none;\">\n",
              "        \n",
              "  <svg xmlns=\"http://www.w3.org/2000/svg\" height=\"24px\"viewBox=\"0 0 24 24\"\n",
              "       width=\"24px\">\n",
              "    <path d=\"M0 0h24v24H0V0z\" fill=\"none\"/>\n",
              "    <path d=\"M18.56 5.44l.94 2.06.94-2.06 2.06-.94-2.06-.94-.94-2.06-.94 2.06-2.06.94zm-11 1L8.5 8.5l.94-2.06 2.06-.94-2.06-.94L8.5 2.5l-.94 2.06-2.06.94zm10 10l.94 2.06.94-2.06 2.06-.94-2.06-.94-.94-2.06-.94 2.06-2.06.94z\"/><path d=\"M17.41 7.96l-1.37-1.37c-.4-.4-.92-.59-1.43-.59-.52 0-1.04.2-1.43.59L10.3 9.45l-7.72 7.72c-.78.78-.78 2.05 0 2.83L4 21.41c.39.39.9.59 1.41.59.51 0 1.02-.2 1.41-.59l7.78-7.78 2.81-2.81c.8-.78.8-2.07 0-2.86zM5.41 20L4 18.59l7.72-7.72 1.47 1.35L5.41 20z\"/>\n",
              "  </svg>\n",
              "      </button>\n",
              "      \n",
              "  <style>\n",
              "    .colab-df-container {\n",
              "      display:flex;\n",
              "      flex-wrap:wrap;\n",
              "      gap: 12px;\n",
              "    }\n",
              "\n",
              "    .colab-df-convert {\n",
              "      background-color: #E8F0FE;\n",
              "      border: none;\n",
              "      border-radius: 50%;\n",
              "      cursor: pointer;\n",
              "      display: none;\n",
              "      fill: #1967D2;\n",
              "      height: 32px;\n",
              "      padding: 0 0 0 0;\n",
              "      width: 32px;\n",
              "    }\n",
              "\n",
              "    .colab-df-convert:hover {\n",
              "      background-color: #E2EBFA;\n",
              "      box-shadow: 0px 1px 2px rgba(60, 64, 67, 0.3), 0px 1px 3px 1px rgba(60, 64, 67, 0.15);\n",
              "      fill: #174EA6;\n",
              "    }\n",
              "\n",
              "    [theme=dark] .colab-df-convert {\n",
              "      background-color: #3B4455;\n",
              "      fill: #D2E3FC;\n",
              "    }\n",
              "\n",
              "    [theme=dark] .colab-df-convert:hover {\n",
              "      background-color: #434B5C;\n",
              "      box-shadow: 0px 1px 3px 1px rgba(0, 0, 0, 0.15);\n",
              "      filter: drop-shadow(0px 1px 2px rgba(0, 0, 0, 0.3));\n",
              "      fill: #FFFFFF;\n",
              "    }\n",
              "  </style>\n",
              "\n",
              "      <script>\n",
              "        const buttonEl =\n",
              "          document.querySelector('#df-c78f7633-53a5-477d-889a-976f208e0bc8 button.colab-df-convert');\n",
              "        buttonEl.style.display =\n",
              "          google.colab.kernel.accessAllowed ? 'block' : 'none';\n",
              "\n",
              "        async function convertToInteractive(key) {\n",
              "          const element = document.querySelector('#df-c78f7633-53a5-477d-889a-976f208e0bc8');\n",
              "          const dataTable =\n",
              "            await google.colab.kernel.invokeFunction('convertToInteractive',\n",
              "                                                     [key], {});\n",
              "          if (!dataTable) return;\n",
              "\n",
              "          const docLinkHtml = 'Like what you see? Visit the ' +\n",
              "            '<a target=\"_blank\" href=https://colab.research.google.com/notebooks/data_table.ipynb>data table notebook</a>'\n",
              "            + ' to learn more about interactive tables.';\n",
              "          element.innerHTML = '';\n",
              "          dataTable['output_type'] = 'display_data';\n",
              "          await google.colab.output.renderOutput(dataTable, element);\n",
              "          const docLink = document.createElement('div');\n",
              "          docLink.innerHTML = docLinkHtml;\n",
              "          element.appendChild(docLink);\n",
              "        }\n",
              "      </script>\n",
              "    </div>\n",
              "  </div>\n",
              "  "
            ]
          },
          "metadata": {},
          "execution_count": 367
        }
      ]
    },
    {
      "cell_type": "markdown",
      "source": [
        "**What is the items**?\n",
        "1) id: unique identifier\n",
        "2) gender: \"Male\", \"Female\" or \"Other\"\n",
        "3) age: age of the patient\n",
        "4) hypertension: 0 if the patient doesn't have hypertension, 1 if the patient has hypertension\n",
        "5) heart_disease: 0 if the patient doesn't have any heart diseases, 1 if the patient has a heart disease\n",
        "6) ever_married: \"No\" or \"Yes\"\n",
        "7) work_type: \"children\", \"Govt_jov\", \"Never_worked\", \"Private\" or \"Self-employed\"\n",
        "8) Residence_type: \"Rural\" or \"Urban\"\n",
        "9) avg_glucose_level: average glucose level in blood\n",
        "10) bmi: body mass index\n",
        "11) smoking_status: \"formerly smoked\", \"never smoked\", \"smokes\" or \"Unknown\"*\n",
        "12) stroke: 1 if the patient had a stroke or 0 if not"
      ],
      "metadata": {
        "id": "GXygG5NxidS3"
      }
    },
    {
      "cell_type": "code",
      "source": [
        "stroke.tail()"
      ],
      "metadata": {
        "id": "0HixkeDCbMgn",
        "colab": {
          "base_uri": "https://localhost:8080/"
        },
        "outputId": "0a2ece0b-fd2e-4b55-9747-7559884a20df"
      },
      "execution_count": null,
      "outputs": [
        {
          "output_type": "execute_result",
          "data": {
            "text/plain": [
              "         id  gender   age  hypertension  heart_disease ever_married  \\\n",
              "5105  18234  Female  80.0             1              0          Yes   \n",
              "5106  44873  Female  81.0             0              0          Yes   \n",
              "5107  19723  Female  35.0             0              0          Yes   \n",
              "5108  37544    Male  51.0             0              0          Yes   \n",
              "5109  44679  Female  44.0             0              0          Yes   \n",
              "\n",
              "          work_type Residence_type  avg_glucose_level   bmi   smoking_status  \\\n",
              "5105        Private          Urban              83.75   NaN     never smoked   \n",
              "5106  Self-employed          Urban             125.20  40.0     never smoked   \n",
              "5107  Self-employed          Rural              82.99  30.6     never smoked   \n",
              "5108        Private          Rural             166.29  25.6  formerly smoked   \n",
              "5109       Govt_job          Urban              85.28  26.2          Unknown   \n",
              "\n",
              "      stroke  \n",
              "5105       0  \n",
              "5106       0  \n",
              "5107       0  \n",
              "5108       0  \n",
              "5109       0  "
            ],
            "text/html": [
              "\n",
              "  <div id=\"df-add3163c-3633-4ed5-beee-201ef81975fa\">\n",
              "    <div class=\"colab-df-container\">\n",
              "      <div>\n",
              "<style scoped>\n",
              "    .dataframe tbody tr th:only-of-type {\n",
              "        vertical-align: middle;\n",
              "    }\n",
              "\n",
              "    .dataframe tbody tr th {\n",
              "        vertical-align: top;\n",
              "    }\n",
              "\n",
              "    .dataframe thead th {\n",
              "        text-align: right;\n",
              "    }\n",
              "</style>\n",
              "<table border=\"1\" class=\"dataframe\">\n",
              "  <thead>\n",
              "    <tr style=\"text-align: right;\">\n",
              "      <th></th>\n",
              "      <th>id</th>\n",
              "      <th>gender</th>\n",
              "      <th>age</th>\n",
              "      <th>hypertension</th>\n",
              "      <th>heart_disease</th>\n",
              "      <th>ever_married</th>\n",
              "      <th>work_type</th>\n",
              "      <th>Residence_type</th>\n",
              "      <th>avg_glucose_level</th>\n",
              "      <th>bmi</th>\n",
              "      <th>smoking_status</th>\n",
              "      <th>stroke</th>\n",
              "    </tr>\n",
              "  </thead>\n",
              "  <tbody>\n",
              "    <tr>\n",
              "      <th>5105</th>\n",
              "      <td>18234</td>\n",
              "      <td>Female</td>\n",
              "      <td>80.0</td>\n",
              "      <td>1</td>\n",
              "      <td>0</td>\n",
              "      <td>Yes</td>\n",
              "      <td>Private</td>\n",
              "      <td>Urban</td>\n",
              "      <td>83.75</td>\n",
              "      <td>NaN</td>\n",
              "      <td>never smoked</td>\n",
              "      <td>0</td>\n",
              "    </tr>\n",
              "    <tr>\n",
              "      <th>5106</th>\n",
              "      <td>44873</td>\n",
              "      <td>Female</td>\n",
              "      <td>81.0</td>\n",
              "      <td>0</td>\n",
              "      <td>0</td>\n",
              "      <td>Yes</td>\n",
              "      <td>Self-employed</td>\n",
              "      <td>Urban</td>\n",
              "      <td>125.20</td>\n",
              "      <td>40.0</td>\n",
              "      <td>never smoked</td>\n",
              "      <td>0</td>\n",
              "    </tr>\n",
              "    <tr>\n",
              "      <th>5107</th>\n",
              "      <td>19723</td>\n",
              "      <td>Female</td>\n",
              "      <td>35.0</td>\n",
              "      <td>0</td>\n",
              "      <td>0</td>\n",
              "      <td>Yes</td>\n",
              "      <td>Self-employed</td>\n",
              "      <td>Rural</td>\n",
              "      <td>82.99</td>\n",
              "      <td>30.6</td>\n",
              "      <td>never smoked</td>\n",
              "      <td>0</td>\n",
              "    </tr>\n",
              "    <tr>\n",
              "      <th>5108</th>\n",
              "      <td>37544</td>\n",
              "      <td>Male</td>\n",
              "      <td>51.0</td>\n",
              "      <td>0</td>\n",
              "      <td>0</td>\n",
              "      <td>Yes</td>\n",
              "      <td>Private</td>\n",
              "      <td>Rural</td>\n",
              "      <td>166.29</td>\n",
              "      <td>25.6</td>\n",
              "      <td>formerly smoked</td>\n",
              "      <td>0</td>\n",
              "    </tr>\n",
              "    <tr>\n",
              "      <th>5109</th>\n",
              "      <td>44679</td>\n",
              "      <td>Female</td>\n",
              "      <td>44.0</td>\n",
              "      <td>0</td>\n",
              "      <td>0</td>\n",
              "      <td>Yes</td>\n",
              "      <td>Govt_job</td>\n",
              "      <td>Urban</td>\n",
              "      <td>85.28</td>\n",
              "      <td>26.2</td>\n",
              "      <td>Unknown</td>\n",
              "      <td>0</td>\n",
              "    </tr>\n",
              "  </tbody>\n",
              "</table>\n",
              "</div>\n",
              "      <button class=\"colab-df-convert\" onclick=\"convertToInteractive('df-add3163c-3633-4ed5-beee-201ef81975fa')\"\n",
              "              title=\"Convert this dataframe to an interactive table.\"\n",
              "              style=\"display:none;\">\n",
              "        \n",
              "  <svg xmlns=\"http://www.w3.org/2000/svg\" height=\"24px\"viewBox=\"0 0 24 24\"\n",
              "       width=\"24px\">\n",
              "    <path d=\"M0 0h24v24H0V0z\" fill=\"none\"/>\n",
              "    <path d=\"M18.56 5.44l.94 2.06.94-2.06 2.06-.94-2.06-.94-.94-2.06-.94 2.06-2.06.94zm-11 1L8.5 8.5l.94-2.06 2.06-.94-2.06-.94L8.5 2.5l-.94 2.06-2.06.94zm10 10l.94 2.06.94-2.06 2.06-.94-2.06-.94-.94-2.06-.94 2.06-2.06.94z\"/><path d=\"M17.41 7.96l-1.37-1.37c-.4-.4-.92-.59-1.43-.59-.52 0-1.04.2-1.43.59L10.3 9.45l-7.72 7.72c-.78.78-.78 2.05 0 2.83L4 21.41c.39.39.9.59 1.41.59.51 0 1.02-.2 1.41-.59l7.78-7.78 2.81-2.81c.8-.78.8-2.07 0-2.86zM5.41 20L4 18.59l7.72-7.72 1.47 1.35L5.41 20z\"/>\n",
              "  </svg>\n",
              "      </button>\n",
              "      \n",
              "  <style>\n",
              "    .colab-df-container {\n",
              "      display:flex;\n",
              "      flex-wrap:wrap;\n",
              "      gap: 12px;\n",
              "    }\n",
              "\n",
              "    .colab-df-convert {\n",
              "      background-color: #E8F0FE;\n",
              "      border: none;\n",
              "      border-radius: 50%;\n",
              "      cursor: pointer;\n",
              "      display: none;\n",
              "      fill: #1967D2;\n",
              "      height: 32px;\n",
              "      padding: 0 0 0 0;\n",
              "      width: 32px;\n",
              "    }\n",
              "\n",
              "    .colab-df-convert:hover {\n",
              "      background-color: #E2EBFA;\n",
              "      box-shadow: 0px 1px 2px rgba(60, 64, 67, 0.3), 0px 1px 3px 1px rgba(60, 64, 67, 0.15);\n",
              "      fill: #174EA6;\n",
              "    }\n",
              "\n",
              "    [theme=dark] .colab-df-convert {\n",
              "      background-color: #3B4455;\n",
              "      fill: #D2E3FC;\n",
              "    }\n",
              "\n",
              "    [theme=dark] .colab-df-convert:hover {\n",
              "      background-color: #434B5C;\n",
              "      box-shadow: 0px 1px 3px 1px rgba(0, 0, 0, 0.15);\n",
              "      filter: drop-shadow(0px 1px 2px rgba(0, 0, 0, 0.3));\n",
              "      fill: #FFFFFF;\n",
              "    }\n",
              "  </style>\n",
              "\n",
              "      <script>\n",
              "        const buttonEl =\n",
              "          document.querySelector('#df-add3163c-3633-4ed5-beee-201ef81975fa button.colab-df-convert');\n",
              "        buttonEl.style.display =\n",
              "          google.colab.kernel.accessAllowed ? 'block' : 'none';\n",
              "\n",
              "        async function convertToInteractive(key) {\n",
              "          const element = document.querySelector('#df-add3163c-3633-4ed5-beee-201ef81975fa');\n",
              "          const dataTable =\n",
              "            await google.colab.kernel.invokeFunction('convertToInteractive',\n",
              "                                                     [key], {});\n",
              "          if (!dataTable) return;\n",
              "\n",
              "          const docLinkHtml = 'Like what you see? Visit the ' +\n",
              "            '<a target=\"_blank\" href=https://colab.research.google.com/notebooks/data_table.ipynb>data table notebook</a>'\n",
              "            + ' to learn more about interactive tables.';\n",
              "          element.innerHTML = '';\n",
              "          dataTable['output_type'] = 'display_data';\n",
              "          await google.colab.output.renderOutput(dataTable, element);\n",
              "          const docLink = document.createElement('div');\n",
              "          docLink.innerHTML = docLinkHtml;\n",
              "          element.appendChild(docLink);\n",
              "        }\n",
              "      </script>\n",
              "    </div>\n",
              "  </div>\n",
              "  "
            ]
          },
          "metadata": {},
          "execution_count": 368
        }
      ]
    },
    {
      "cell_type": "code",
      "source": [
        "stroke.shape"
      ],
      "metadata": {
        "id": "8XrmA9nUbWbq",
        "colab": {
          "base_uri": "https://localhost:8080/"
        },
        "outputId": "9ff32497-94dd-40e6-a498-837cdc02020a"
      },
      "execution_count": null,
      "outputs": [
        {
          "output_type": "execute_result",
          "data": {
            "text/plain": [
              "(5110, 12)"
            ]
          },
          "metadata": {},
          "execution_count": 369
        }
      ]
    },
    {
      "cell_type": "code",
      "source": [
        "# how many typle have each column\n",
        "stroke.nunique()"
      ],
      "metadata": {
        "colab": {
          "base_uri": "https://localhost:8080/"
        },
        "id": "9yNWI9AieZft",
        "outputId": "46847843-864e-4429-af7d-8b4bab886929"
      },
      "execution_count": null,
      "outputs": [
        {
          "output_type": "execute_result",
          "data": {
            "text/plain": [
              "id                   5110\n",
              "gender                  3\n",
              "age                   104\n",
              "hypertension            2\n",
              "heart_disease           2\n",
              "ever_married            2\n",
              "work_type               5\n",
              "Residence_type          2\n",
              "avg_glucose_level    3979\n",
              "bmi                   418\n",
              "smoking_status          4\n",
              "stroke                  2\n",
              "dtype: int64"
            ]
          },
          "metadata": {},
          "execution_count": 370
        }
      ]
    },
    {
      "cell_type": "code",
      "source": [
        "# the type of the each column\n",
        "stroke.dtypes"
      ],
      "metadata": {
        "colab": {
          "base_uri": "https://localhost:8080/"
        },
        "id": "HUSd5ov7z6_7",
        "outputId": "e346f139-c82b-44d3-9d5a-fa21b713939b"
      },
      "execution_count": null,
      "outputs": [
        {
          "output_type": "execute_result",
          "data": {
            "text/plain": [
              "id                     int64\n",
              "gender                object\n",
              "age                  float64\n",
              "hypertension           int64\n",
              "heart_disease          int64\n",
              "ever_married          object\n",
              "work_type             object\n",
              "Residence_type        object\n",
              "avg_glucose_level    float64\n",
              "bmi                  float64\n",
              "smoking_status        object\n",
              "stroke                 int64\n",
              "dtype: object"
            ]
          },
          "metadata": {},
          "execution_count": 371
        }
      ]
    },
    {
      "cell_type": "code",
      "source": [
        "hadstroke = stroke[stroke['stroke']==1]\n",
        "hadntstroke = stroke[stroke['stroke']==0]"
      ],
      "metadata": {
        "id": "CU3FsetDem5l"
      },
      "execution_count": null,
      "outputs": []
    },
    {
      "cell_type": "code",
      "source": [
        "# number al our total values in data and how mach stroke and not stroke\n",
        "print('total =' , len(stroke))\n",
        "print('number of people who had stroke  =' ,len(hadstroke) )\n",
        "print('number of people who hadnot stroke =' ,len(hadntstroke) )"
      ],
      "metadata": {
        "id": "h_ZyPSLIe-Qk",
        "colab": {
          "base_uri": "https://localhost:8080/"
        },
        "outputId": "97b187e1-2694-4719-d260-923691ade792"
      },
      "execution_count": null,
      "outputs": [
        {
          "output_type": "stream",
          "name": "stdout",
          "text": [
            "total = 5110\n",
            "number of people who had stroke  = 249\n",
            "number of people who hadnot stroke = 4861\n"
          ]
        }
      ]
    },
    {
      "cell_type": "code",
      "source": [
        "stroke.info()"
      ],
      "metadata": {
        "id": "xFYictiAbTBC",
        "colab": {
          "base_uri": "https://localhost:8080/"
        },
        "outputId": "c2570a83-b422-42d7-b50d-acc4b18ba2b9"
      },
      "execution_count": null,
      "outputs": [
        {
          "output_type": "stream",
          "name": "stdout",
          "text": [
            "<class 'pandas.core.frame.DataFrame'>\n",
            "RangeIndex: 5110 entries, 0 to 5109\n",
            "Data columns (total 12 columns):\n",
            " #   Column             Non-Null Count  Dtype  \n",
            "---  ------             --------------  -----  \n",
            " 0   id                 5110 non-null   int64  \n",
            " 1   gender             5110 non-null   object \n",
            " 2   age                5110 non-null   float64\n",
            " 3   hypertension       5110 non-null   int64  \n",
            " 4   heart_disease      5110 non-null   int64  \n",
            " 5   ever_married       5110 non-null   object \n",
            " 6   work_type          5110 non-null   object \n",
            " 7   Residence_type     5110 non-null   object \n",
            " 8   avg_glucose_level  5110 non-null   float64\n",
            " 9   bmi                4909 non-null   float64\n",
            " 10  smoking_status     5110 non-null   object \n",
            " 11  stroke             5110 non-null   int64  \n",
            "dtypes: float64(3), int64(4), object(5)\n",
            "memory usage: 479.2+ KB\n"
          ]
        }
      ]
    },
    {
      "cell_type": "code",
      "source": [
        "stroke.describe()"
      ],
      "metadata": {
        "id": "ybNYp6j-f3Li",
        "colab": {
          "base_uri": "https://localhost:8080/"
        },
        "outputId": "468edd35-9322-4d72-f39a-374ea369a9b4"
      },
      "execution_count": null,
      "outputs": [
        {
          "output_type": "execute_result",
          "data": {
            "text/plain": [
              "                 id          age  hypertension  heart_disease  \\\n",
              "count   5110.000000  5110.000000   5110.000000    5110.000000   \n",
              "mean   36517.829354    43.226614      0.097456       0.054012   \n",
              "std    21161.721625    22.612647      0.296607       0.226063   \n",
              "min       67.000000     0.080000      0.000000       0.000000   \n",
              "25%    17741.250000    25.000000      0.000000       0.000000   \n",
              "50%    36932.000000    45.000000      0.000000       0.000000   \n",
              "75%    54682.000000    61.000000      0.000000       0.000000   \n",
              "max    72940.000000    82.000000      1.000000       1.000000   \n",
              "\n",
              "       avg_glucose_level          bmi       stroke  \n",
              "count        5110.000000  4909.000000  5110.000000  \n",
              "mean          106.147677    28.893237     0.048728  \n",
              "std            45.283560     7.854067     0.215320  \n",
              "min            55.120000    10.300000     0.000000  \n",
              "25%            77.245000    23.500000     0.000000  \n",
              "50%            91.885000    28.100000     0.000000  \n",
              "75%           114.090000    33.100000     0.000000  \n",
              "max           271.740000    97.600000     1.000000  "
            ],
            "text/html": [
              "\n",
              "  <div id=\"df-757ac004-5c80-4942-9f62-9a49d918575b\">\n",
              "    <div class=\"colab-df-container\">\n",
              "      <div>\n",
              "<style scoped>\n",
              "    .dataframe tbody tr th:only-of-type {\n",
              "        vertical-align: middle;\n",
              "    }\n",
              "\n",
              "    .dataframe tbody tr th {\n",
              "        vertical-align: top;\n",
              "    }\n",
              "\n",
              "    .dataframe thead th {\n",
              "        text-align: right;\n",
              "    }\n",
              "</style>\n",
              "<table border=\"1\" class=\"dataframe\">\n",
              "  <thead>\n",
              "    <tr style=\"text-align: right;\">\n",
              "      <th></th>\n",
              "      <th>id</th>\n",
              "      <th>age</th>\n",
              "      <th>hypertension</th>\n",
              "      <th>heart_disease</th>\n",
              "      <th>avg_glucose_level</th>\n",
              "      <th>bmi</th>\n",
              "      <th>stroke</th>\n",
              "    </tr>\n",
              "  </thead>\n",
              "  <tbody>\n",
              "    <tr>\n",
              "      <th>count</th>\n",
              "      <td>5110.000000</td>\n",
              "      <td>5110.000000</td>\n",
              "      <td>5110.000000</td>\n",
              "      <td>5110.000000</td>\n",
              "      <td>5110.000000</td>\n",
              "      <td>4909.000000</td>\n",
              "      <td>5110.000000</td>\n",
              "    </tr>\n",
              "    <tr>\n",
              "      <th>mean</th>\n",
              "      <td>36517.829354</td>\n",
              "      <td>43.226614</td>\n",
              "      <td>0.097456</td>\n",
              "      <td>0.054012</td>\n",
              "      <td>106.147677</td>\n",
              "      <td>28.893237</td>\n",
              "      <td>0.048728</td>\n",
              "    </tr>\n",
              "    <tr>\n",
              "      <th>std</th>\n",
              "      <td>21161.721625</td>\n",
              "      <td>22.612647</td>\n",
              "      <td>0.296607</td>\n",
              "      <td>0.226063</td>\n",
              "      <td>45.283560</td>\n",
              "      <td>7.854067</td>\n",
              "      <td>0.215320</td>\n",
              "    </tr>\n",
              "    <tr>\n",
              "      <th>min</th>\n",
              "      <td>67.000000</td>\n",
              "      <td>0.080000</td>\n",
              "      <td>0.000000</td>\n",
              "      <td>0.000000</td>\n",
              "      <td>55.120000</td>\n",
              "      <td>10.300000</td>\n",
              "      <td>0.000000</td>\n",
              "    </tr>\n",
              "    <tr>\n",
              "      <th>25%</th>\n",
              "      <td>17741.250000</td>\n",
              "      <td>25.000000</td>\n",
              "      <td>0.000000</td>\n",
              "      <td>0.000000</td>\n",
              "      <td>77.245000</td>\n",
              "      <td>23.500000</td>\n",
              "      <td>0.000000</td>\n",
              "    </tr>\n",
              "    <tr>\n",
              "      <th>50%</th>\n",
              "      <td>36932.000000</td>\n",
              "      <td>45.000000</td>\n",
              "      <td>0.000000</td>\n",
              "      <td>0.000000</td>\n",
              "      <td>91.885000</td>\n",
              "      <td>28.100000</td>\n",
              "      <td>0.000000</td>\n",
              "    </tr>\n",
              "    <tr>\n",
              "      <th>75%</th>\n",
              "      <td>54682.000000</td>\n",
              "      <td>61.000000</td>\n",
              "      <td>0.000000</td>\n",
              "      <td>0.000000</td>\n",
              "      <td>114.090000</td>\n",
              "      <td>33.100000</td>\n",
              "      <td>0.000000</td>\n",
              "    </tr>\n",
              "    <tr>\n",
              "      <th>max</th>\n",
              "      <td>72940.000000</td>\n",
              "      <td>82.000000</td>\n",
              "      <td>1.000000</td>\n",
              "      <td>1.000000</td>\n",
              "      <td>271.740000</td>\n",
              "      <td>97.600000</td>\n",
              "      <td>1.000000</td>\n",
              "    </tr>\n",
              "  </tbody>\n",
              "</table>\n",
              "</div>\n",
              "      <button class=\"colab-df-convert\" onclick=\"convertToInteractive('df-757ac004-5c80-4942-9f62-9a49d918575b')\"\n",
              "              title=\"Convert this dataframe to an interactive table.\"\n",
              "              style=\"display:none;\">\n",
              "        \n",
              "  <svg xmlns=\"http://www.w3.org/2000/svg\" height=\"24px\"viewBox=\"0 0 24 24\"\n",
              "       width=\"24px\">\n",
              "    <path d=\"M0 0h24v24H0V0z\" fill=\"none\"/>\n",
              "    <path d=\"M18.56 5.44l.94 2.06.94-2.06 2.06-.94-2.06-.94-.94-2.06-.94 2.06-2.06.94zm-11 1L8.5 8.5l.94-2.06 2.06-.94-2.06-.94L8.5 2.5l-.94 2.06-2.06.94zm10 10l.94 2.06.94-2.06 2.06-.94-2.06-.94-.94-2.06-.94 2.06-2.06.94z\"/><path d=\"M17.41 7.96l-1.37-1.37c-.4-.4-.92-.59-1.43-.59-.52 0-1.04.2-1.43.59L10.3 9.45l-7.72 7.72c-.78.78-.78 2.05 0 2.83L4 21.41c.39.39.9.59 1.41.59.51 0 1.02-.2 1.41-.59l7.78-7.78 2.81-2.81c.8-.78.8-2.07 0-2.86zM5.41 20L4 18.59l7.72-7.72 1.47 1.35L5.41 20z\"/>\n",
              "  </svg>\n",
              "      </button>\n",
              "      \n",
              "  <style>\n",
              "    .colab-df-container {\n",
              "      display:flex;\n",
              "      flex-wrap:wrap;\n",
              "      gap: 12px;\n",
              "    }\n",
              "\n",
              "    .colab-df-convert {\n",
              "      background-color: #E8F0FE;\n",
              "      border: none;\n",
              "      border-radius: 50%;\n",
              "      cursor: pointer;\n",
              "      display: none;\n",
              "      fill: #1967D2;\n",
              "      height: 32px;\n",
              "      padding: 0 0 0 0;\n",
              "      width: 32px;\n",
              "    }\n",
              "\n",
              "    .colab-df-convert:hover {\n",
              "      background-color: #E2EBFA;\n",
              "      box-shadow: 0px 1px 2px rgba(60, 64, 67, 0.3), 0px 1px 3px 1px rgba(60, 64, 67, 0.15);\n",
              "      fill: #174EA6;\n",
              "    }\n",
              "\n",
              "    [theme=dark] .colab-df-convert {\n",
              "      background-color: #3B4455;\n",
              "      fill: #D2E3FC;\n",
              "    }\n",
              "\n",
              "    [theme=dark] .colab-df-convert:hover {\n",
              "      background-color: #434B5C;\n",
              "      box-shadow: 0px 1px 3px 1px rgba(0, 0, 0, 0.15);\n",
              "      filter: drop-shadow(0px 1px 2px rgba(0, 0, 0, 0.3));\n",
              "      fill: #FFFFFF;\n",
              "    }\n",
              "  </style>\n",
              "\n",
              "      <script>\n",
              "        const buttonEl =\n",
              "          document.querySelector('#df-757ac004-5c80-4942-9f62-9a49d918575b button.colab-df-convert');\n",
              "        buttonEl.style.display =\n",
              "          google.colab.kernel.accessAllowed ? 'block' : 'none';\n",
              "\n",
              "        async function convertToInteractive(key) {\n",
              "          const element = document.querySelector('#df-757ac004-5c80-4942-9f62-9a49d918575b');\n",
              "          const dataTable =\n",
              "            await google.colab.kernel.invokeFunction('convertToInteractive',\n",
              "                                                     [key], {});\n",
              "          if (!dataTable) return;\n",
              "\n",
              "          const docLinkHtml = 'Like what you see? Visit the ' +\n",
              "            '<a target=\"_blank\" href=https://colab.research.google.com/notebooks/data_table.ipynb>data table notebook</a>'\n",
              "            + ' to learn more about interactive tables.';\n",
              "          element.innerHTML = '';\n",
              "          dataTable['output_type'] = 'display_data';\n",
              "          await google.colab.output.renderOutput(dataTable, element);\n",
              "          const docLink = document.createElement('div');\n",
              "          docLink.innerHTML = docLinkHtml;\n",
              "          element.appendChild(docLink);\n",
              "        }\n",
              "      </script>\n",
              "    </div>\n",
              "  </div>\n",
              "  "
            ]
          },
          "metadata": {},
          "execution_count": 375
        }
      ]
    },
    {
      "cell_type": "markdown",
      "source": [
        "# **Data Exploration**"
      ],
      "metadata": {
        "id": "-lBfToqH2wU6"
      }
    },
    {
      "cell_type": "code",
      "source": [
        "stroke.head(5)"
      ],
      "metadata": {
        "colab": {
          "base_uri": "https://localhost:8080/",
          "height": 206
        },
        "id": "q3YxhUgS4N3s",
        "outputId": "612fd68d-6c05-4680-8e09-7809bf2bba04"
      },
      "execution_count": null,
      "outputs": [
        {
          "output_type": "execute_result",
          "data": {
            "text/plain": [
              "      id  gender   age  hypertension  heart_disease ever_married  \\\n",
              "0   9046    Male  67.0             0              1          Yes   \n",
              "1  51676  Female  61.0             0              0          Yes   \n",
              "2  31112    Male  80.0             0              1          Yes   \n",
              "3  60182  Female  49.0             0              0          Yes   \n",
              "4   1665  Female  79.0             1              0          Yes   \n",
              "\n",
              "       work_type Residence_type  avg_glucose_level   bmi   smoking_status  \\\n",
              "0        Private          Urban             228.69  36.6  formerly smoked   \n",
              "1  Self-employed          Rural             202.21   NaN     never smoked   \n",
              "2        Private          Rural             105.92  32.5     never smoked   \n",
              "3        Private          Urban             171.23  34.4           smokes   \n",
              "4  Self-employed          Rural             174.12  24.0     never smoked   \n",
              "\n",
              "   stroke  \n",
              "0       1  \n",
              "1       1  \n",
              "2       1  \n",
              "3       1  \n",
              "4       1  "
            ],
            "text/html": [
              "\n",
              "  <div id=\"df-ce85110e-cd36-4d1f-92eb-cd38315be2ab\">\n",
              "    <div class=\"colab-df-container\">\n",
              "      <div>\n",
              "<style scoped>\n",
              "    .dataframe tbody tr th:only-of-type {\n",
              "        vertical-align: middle;\n",
              "    }\n",
              "\n",
              "    .dataframe tbody tr th {\n",
              "        vertical-align: top;\n",
              "    }\n",
              "\n",
              "    .dataframe thead th {\n",
              "        text-align: right;\n",
              "    }\n",
              "</style>\n",
              "<table border=\"1\" class=\"dataframe\">\n",
              "  <thead>\n",
              "    <tr style=\"text-align: right;\">\n",
              "      <th></th>\n",
              "      <th>id</th>\n",
              "      <th>gender</th>\n",
              "      <th>age</th>\n",
              "      <th>hypertension</th>\n",
              "      <th>heart_disease</th>\n",
              "      <th>ever_married</th>\n",
              "      <th>work_type</th>\n",
              "      <th>Residence_type</th>\n",
              "      <th>avg_glucose_level</th>\n",
              "      <th>bmi</th>\n",
              "      <th>smoking_status</th>\n",
              "      <th>stroke</th>\n",
              "    </tr>\n",
              "  </thead>\n",
              "  <tbody>\n",
              "    <tr>\n",
              "      <th>0</th>\n",
              "      <td>9046</td>\n",
              "      <td>Male</td>\n",
              "      <td>67.0</td>\n",
              "      <td>0</td>\n",
              "      <td>1</td>\n",
              "      <td>Yes</td>\n",
              "      <td>Private</td>\n",
              "      <td>Urban</td>\n",
              "      <td>228.69</td>\n",
              "      <td>36.6</td>\n",
              "      <td>formerly smoked</td>\n",
              "      <td>1</td>\n",
              "    </tr>\n",
              "    <tr>\n",
              "      <th>1</th>\n",
              "      <td>51676</td>\n",
              "      <td>Female</td>\n",
              "      <td>61.0</td>\n",
              "      <td>0</td>\n",
              "      <td>0</td>\n",
              "      <td>Yes</td>\n",
              "      <td>Self-employed</td>\n",
              "      <td>Rural</td>\n",
              "      <td>202.21</td>\n",
              "      <td>NaN</td>\n",
              "      <td>never smoked</td>\n",
              "      <td>1</td>\n",
              "    </tr>\n",
              "    <tr>\n",
              "      <th>2</th>\n",
              "      <td>31112</td>\n",
              "      <td>Male</td>\n",
              "      <td>80.0</td>\n",
              "      <td>0</td>\n",
              "      <td>1</td>\n",
              "      <td>Yes</td>\n",
              "      <td>Private</td>\n",
              "      <td>Rural</td>\n",
              "      <td>105.92</td>\n",
              "      <td>32.5</td>\n",
              "      <td>never smoked</td>\n",
              "      <td>1</td>\n",
              "    </tr>\n",
              "    <tr>\n",
              "      <th>3</th>\n",
              "      <td>60182</td>\n",
              "      <td>Female</td>\n",
              "      <td>49.0</td>\n",
              "      <td>0</td>\n",
              "      <td>0</td>\n",
              "      <td>Yes</td>\n",
              "      <td>Private</td>\n",
              "      <td>Urban</td>\n",
              "      <td>171.23</td>\n",
              "      <td>34.4</td>\n",
              "      <td>smokes</td>\n",
              "      <td>1</td>\n",
              "    </tr>\n",
              "    <tr>\n",
              "      <th>4</th>\n",
              "      <td>1665</td>\n",
              "      <td>Female</td>\n",
              "      <td>79.0</td>\n",
              "      <td>1</td>\n",
              "      <td>0</td>\n",
              "      <td>Yes</td>\n",
              "      <td>Self-employed</td>\n",
              "      <td>Rural</td>\n",
              "      <td>174.12</td>\n",
              "      <td>24.0</td>\n",
              "      <td>never smoked</td>\n",
              "      <td>1</td>\n",
              "    </tr>\n",
              "  </tbody>\n",
              "</table>\n",
              "</div>\n",
              "      <button class=\"colab-df-convert\" onclick=\"convertToInteractive('df-ce85110e-cd36-4d1f-92eb-cd38315be2ab')\"\n",
              "              title=\"Convert this dataframe to an interactive table.\"\n",
              "              style=\"display:none;\">\n",
              "        \n",
              "  <svg xmlns=\"http://www.w3.org/2000/svg\" height=\"24px\"viewBox=\"0 0 24 24\"\n",
              "       width=\"24px\">\n",
              "    <path d=\"M0 0h24v24H0V0z\" fill=\"none\"/>\n",
              "    <path d=\"M18.56 5.44l.94 2.06.94-2.06 2.06-.94-2.06-.94-.94-2.06-.94 2.06-2.06.94zm-11 1L8.5 8.5l.94-2.06 2.06-.94-2.06-.94L8.5 2.5l-.94 2.06-2.06.94zm10 10l.94 2.06.94-2.06 2.06-.94-2.06-.94-.94-2.06-.94 2.06-2.06.94z\"/><path d=\"M17.41 7.96l-1.37-1.37c-.4-.4-.92-.59-1.43-.59-.52 0-1.04.2-1.43.59L10.3 9.45l-7.72 7.72c-.78.78-.78 2.05 0 2.83L4 21.41c.39.39.9.59 1.41.59.51 0 1.02-.2 1.41-.59l7.78-7.78 2.81-2.81c.8-.78.8-2.07 0-2.86zM5.41 20L4 18.59l7.72-7.72 1.47 1.35L5.41 20z\"/>\n",
              "  </svg>\n",
              "      </button>\n",
              "      \n",
              "  <style>\n",
              "    .colab-df-container {\n",
              "      display:flex;\n",
              "      flex-wrap:wrap;\n",
              "      gap: 12px;\n",
              "    }\n",
              "\n",
              "    .colab-df-convert {\n",
              "      background-color: #E8F0FE;\n",
              "      border: none;\n",
              "      border-radius: 50%;\n",
              "      cursor: pointer;\n",
              "      display: none;\n",
              "      fill: #1967D2;\n",
              "      height: 32px;\n",
              "      padding: 0 0 0 0;\n",
              "      width: 32px;\n",
              "    }\n",
              "\n",
              "    .colab-df-convert:hover {\n",
              "      background-color: #E2EBFA;\n",
              "      box-shadow: 0px 1px 2px rgba(60, 64, 67, 0.3), 0px 1px 3px 1px rgba(60, 64, 67, 0.15);\n",
              "      fill: #174EA6;\n",
              "    }\n",
              "\n",
              "    [theme=dark] .colab-df-convert {\n",
              "      background-color: #3B4455;\n",
              "      fill: #D2E3FC;\n",
              "    }\n",
              "\n",
              "    [theme=dark] .colab-df-convert:hover {\n",
              "      background-color: #434B5C;\n",
              "      box-shadow: 0px 1px 3px 1px rgba(0, 0, 0, 0.15);\n",
              "      filter: drop-shadow(0px 1px 2px rgba(0, 0, 0, 0.3));\n",
              "      fill: #FFFFFF;\n",
              "    }\n",
              "  </style>\n",
              "\n",
              "      <script>\n",
              "        const buttonEl =\n",
              "          document.querySelector('#df-ce85110e-cd36-4d1f-92eb-cd38315be2ab button.colab-df-convert');\n",
              "        buttonEl.style.display =\n",
              "          google.colab.kernel.accessAllowed ? 'block' : 'none';\n",
              "\n",
              "        async function convertToInteractive(key) {\n",
              "          const element = document.querySelector('#df-ce85110e-cd36-4d1f-92eb-cd38315be2ab');\n",
              "          const dataTable =\n",
              "            await google.colab.kernel.invokeFunction('convertToInteractive',\n",
              "                                                     [key], {});\n",
              "          if (!dataTable) return;\n",
              "\n",
              "          const docLinkHtml = 'Like what you see? Visit the ' +\n",
              "            '<a target=\"_blank\" href=https://colab.research.google.com/notebooks/data_table.ipynb>data table notebook</a>'\n",
              "            + ' to learn more about interactive tables.';\n",
              "          element.innerHTML = '';\n",
              "          dataTable['output_type'] = 'display_data';\n",
              "          await google.colab.output.renderOutput(dataTable, element);\n",
              "          const docLink = document.createElement('div');\n",
              "          docLink.innerHTML = docLinkHtml;\n",
              "          element.appendChild(docLink);\n",
              "        }\n",
              "      </script>\n",
              "    </div>\n",
              "  </div>\n",
              "  "
            ]
          },
          "metadata": {},
          "execution_count": 23
        }
      ]
    },
    {
      "cell_type": "code",
      "source": [
        "# number of the people that had stroke(1) or not(0)\n",
        "stroke['stroke'].value_counts()"
      ],
      "metadata": {
        "colab": {
          "base_uri": "https://localhost:8080/"
        },
        "id": "lOv_LQDzFZUn",
        "outputId": "8a8b2d03-5af9-4b41-8d37-ab2a0ea17276"
      },
      "execution_count": null,
      "outputs": [
        {
          "output_type": "execute_result",
          "data": {
            "text/plain": [
              "0    4861\n",
              "1     249\n",
              "Name: stroke, dtype: int64"
            ]
          },
          "metadata": {},
          "execution_count": 24
        }
      ]
    },
    {
      "cell_type": "code",
      "source": [
        "# number of the each type of the gender\n",
        "stroke.gender.value_counts().head()"
      ],
      "metadata": {
        "colab": {
          "base_uri": "https://localhost:8080/"
        },
        "id": "qNyYk0TjG9zd",
        "outputId": "d42e0ec8-14f8-4114-c6a7-dcf9d1eb975c"
      },
      "execution_count": null,
      "outputs": [
        {
          "output_type": "execute_result",
          "data": {
            "text/plain": [
              "Female    2994\n",
              "Male      2115\n",
              "Other        1\n",
              "Name: gender, dtype: int64"
            ]
          },
          "metadata": {},
          "execution_count": 25
        }
      ]
    },
    {
      "cell_type": "code",
      "source": [
        "# number of the each type of the work\n",
        "stroke.work_type.value_counts().head()"
      ],
      "metadata": {
        "colab": {
          "base_uri": "https://localhost:8080/"
        },
        "id": "dkCEVLzkIM77",
        "outputId": "6c2ab3fd-b802-4222-be60-53bce4227740"
      },
      "execution_count": null,
      "outputs": [
        {
          "output_type": "execute_result",
          "data": {
            "text/plain": [
              "Private          2925\n",
              "Self-employed     819\n",
              "children          687\n",
              "Govt_job          657\n",
              "Never_worked       22\n",
              "Name: work_type, dtype: int64"
            ]
          },
          "metadata": {},
          "execution_count": 26
        }
      ]
    },
    {
      "cell_type": "code",
      "source": [
        "# number of the each type of smoking status\n",
        "stroke.smoking_status.value_counts().head()"
      ],
      "metadata": {
        "colab": {
          "base_uri": "https://localhost:8080/"
        },
        "id": "nfmcbjdjIVlZ",
        "outputId": "f649ad79-7d47-4d15-9c8c-c66e1949ad45"
      },
      "execution_count": null,
      "outputs": [
        {
          "output_type": "execute_result",
          "data": {
            "text/plain": [
              "never smoked       1892\n",
              "Unknown            1544\n",
              "formerly smoked     885\n",
              "smokes              789\n",
              "Name: smoking_status, dtype: int64"
            ]
          },
          "metadata": {},
          "execution_count": 27
        }
      ]
    },
    {
      "cell_type": "code",
      "source": [
        "# number of the different type of the gender divided by smoking status\n",
        "pd.crosstab(stroke[\"gender\"] , stroke[\"smoking_status\"])"
      ],
      "metadata": {
        "colab": {
          "base_uri": "https://localhost:8080/",
          "height": 175
        },
        "id": "FuvNb7cd01F9",
        "outputId": "45d6d59d-e8ef-45d6-f48e-653539102e92"
      },
      "execution_count": null,
      "outputs": [
        {
          "output_type": "execute_result",
          "data": {
            "text/plain": [
              "smoking_status  Unknown  formerly smoked  never smoked  smokes\n",
              "gender                                                        \n",
              "Female              836              477          1229     452\n",
              "Male                708              407           663     337\n",
              "Other                 0                1             0       0"
            ],
            "text/html": [
              "\n",
              "  <div id=\"df-03fd4e95-a85b-4567-b0e5-fd316fa5007c\">\n",
              "    <div class=\"colab-df-container\">\n",
              "      <div>\n",
              "<style scoped>\n",
              "    .dataframe tbody tr th:only-of-type {\n",
              "        vertical-align: middle;\n",
              "    }\n",
              "\n",
              "    .dataframe tbody tr th {\n",
              "        vertical-align: top;\n",
              "    }\n",
              "\n",
              "    .dataframe thead th {\n",
              "        text-align: right;\n",
              "    }\n",
              "</style>\n",
              "<table border=\"1\" class=\"dataframe\">\n",
              "  <thead>\n",
              "    <tr style=\"text-align: right;\">\n",
              "      <th>smoking_status</th>\n",
              "      <th>Unknown</th>\n",
              "      <th>formerly smoked</th>\n",
              "      <th>never smoked</th>\n",
              "      <th>smokes</th>\n",
              "    </tr>\n",
              "    <tr>\n",
              "      <th>gender</th>\n",
              "      <th></th>\n",
              "      <th></th>\n",
              "      <th></th>\n",
              "      <th></th>\n",
              "    </tr>\n",
              "  </thead>\n",
              "  <tbody>\n",
              "    <tr>\n",
              "      <th>Female</th>\n",
              "      <td>836</td>\n",
              "      <td>477</td>\n",
              "      <td>1229</td>\n",
              "      <td>452</td>\n",
              "    </tr>\n",
              "    <tr>\n",
              "      <th>Male</th>\n",
              "      <td>708</td>\n",
              "      <td>407</td>\n",
              "      <td>663</td>\n",
              "      <td>337</td>\n",
              "    </tr>\n",
              "    <tr>\n",
              "      <th>Other</th>\n",
              "      <td>0</td>\n",
              "      <td>1</td>\n",
              "      <td>0</td>\n",
              "      <td>0</td>\n",
              "    </tr>\n",
              "  </tbody>\n",
              "</table>\n",
              "</div>\n",
              "      <button class=\"colab-df-convert\" onclick=\"convertToInteractive('df-03fd4e95-a85b-4567-b0e5-fd316fa5007c')\"\n",
              "              title=\"Convert this dataframe to an interactive table.\"\n",
              "              style=\"display:none;\">\n",
              "        \n",
              "  <svg xmlns=\"http://www.w3.org/2000/svg\" height=\"24px\"viewBox=\"0 0 24 24\"\n",
              "       width=\"24px\">\n",
              "    <path d=\"M0 0h24v24H0V0z\" fill=\"none\"/>\n",
              "    <path d=\"M18.56 5.44l.94 2.06.94-2.06 2.06-.94-2.06-.94-.94-2.06-.94 2.06-2.06.94zm-11 1L8.5 8.5l.94-2.06 2.06-.94-2.06-.94L8.5 2.5l-.94 2.06-2.06.94zm10 10l.94 2.06.94-2.06 2.06-.94-2.06-.94-.94-2.06-.94 2.06-2.06.94z\"/><path d=\"M17.41 7.96l-1.37-1.37c-.4-.4-.92-.59-1.43-.59-.52 0-1.04.2-1.43.59L10.3 9.45l-7.72 7.72c-.78.78-.78 2.05 0 2.83L4 21.41c.39.39.9.59 1.41.59.51 0 1.02-.2 1.41-.59l7.78-7.78 2.81-2.81c.8-.78.8-2.07 0-2.86zM5.41 20L4 18.59l7.72-7.72 1.47 1.35L5.41 20z\"/>\n",
              "  </svg>\n",
              "      </button>\n",
              "      \n",
              "  <style>\n",
              "    .colab-df-container {\n",
              "      display:flex;\n",
              "      flex-wrap:wrap;\n",
              "      gap: 12px;\n",
              "    }\n",
              "\n",
              "    .colab-df-convert {\n",
              "      background-color: #E8F0FE;\n",
              "      border: none;\n",
              "      border-radius: 50%;\n",
              "      cursor: pointer;\n",
              "      display: none;\n",
              "      fill: #1967D2;\n",
              "      height: 32px;\n",
              "      padding: 0 0 0 0;\n",
              "      width: 32px;\n",
              "    }\n",
              "\n",
              "    .colab-df-convert:hover {\n",
              "      background-color: #E2EBFA;\n",
              "      box-shadow: 0px 1px 2px rgba(60, 64, 67, 0.3), 0px 1px 3px 1px rgba(60, 64, 67, 0.15);\n",
              "      fill: #174EA6;\n",
              "    }\n",
              "\n",
              "    [theme=dark] .colab-df-convert {\n",
              "      background-color: #3B4455;\n",
              "      fill: #D2E3FC;\n",
              "    }\n",
              "\n",
              "    [theme=dark] .colab-df-convert:hover {\n",
              "      background-color: #434B5C;\n",
              "      box-shadow: 0px 1px 3px 1px rgba(0, 0, 0, 0.15);\n",
              "      filter: drop-shadow(0px 1px 2px rgba(0, 0, 0, 0.3));\n",
              "      fill: #FFFFFF;\n",
              "    }\n",
              "  </style>\n",
              "\n",
              "      <script>\n",
              "        const buttonEl =\n",
              "          document.querySelector('#df-03fd4e95-a85b-4567-b0e5-fd316fa5007c button.colab-df-convert');\n",
              "        buttonEl.style.display =\n",
              "          google.colab.kernel.accessAllowed ? 'block' : 'none';\n",
              "\n",
              "        async function convertToInteractive(key) {\n",
              "          const element = document.querySelector('#df-03fd4e95-a85b-4567-b0e5-fd316fa5007c');\n",
              "          const dataTable =\n",
              "            await google.colab.kernel.invokeFunction('convertToInteractive',\n",
              "                                                     [key], {});\n",
              "          if (!dataTable) return;\n",
              "\n",
              "          const docLinkHtml = 'Like what you see? Visit the ' +\n",
              "            '<a target=\"_blank\" href=https://colab.research.google.com/notebooks/data_table.ipynb>data table notebook</a>'\n",
              "            + ' to learn more about interactive tables.';\n",
              "          element.innerHTML = '';\n",
              "          dataTable['output_type'] = 'display_data';\n",
              "          await google.colab.output.renderOutput(dataTable, element);\n",
              "          const docLink = document.createElement('div');\n",
              "          docLink.innerHTML = docLinkHtml;\n",
              "          element.appendChild(docLink);\n",
              "        }\n",
              "      </script>\n",
              "    </div>\n",
              "  </div>\n",
              "  "
            ]
          },
          "metadata": {},
          "execution_count": 28
        }
      ]
    },
    {
      "cell_type": "code",
      "source": [
        "# number of the different type of the gender divided by work types\n",
        "pd.crosstab(stroke[\"gender\"] , stroke[\"work_type\"])"
      ],
      "metadata": {
        "colab": {
          "base_uri": "https://localhost:8080/",
          "height": 175
        },
        "id": "bUBsi_W81qr8",
        "outputId": "c110da8d-392a-47a6-ce99-8402ad3f3b77"
      },
      "execution_count": null,
      "outputs": [
        {
          "output_type": "execute_result",
          "data": {
            "text/plain": [
              "work_type  Govt_job  Never_worked  Private  Self-employed  children\n",
              "gender                                                             \n",
              "Female          399            11     1754            504       326\n",
              "Male            258            11     1170            315       361\n",
              "Other             0             0        1              0         0"
            ],
            "text/html": [
              "\n",
              "  <div id=\"df-c6e655fe-d6fb-4880-b18a-6eabde3a04ea\">\n",
              "    <div class=\"colab-df-container\">\n",
              "      <div>\n",
              "<style scoped>\n",
              "    .dataframe tbody tr th:only-of-type {\n",
              "        vertical-align: middle;\n",
              "    }\n",
              "\n",
              "    .dataframe tbody tr th {\n",
              "        vertical-align: top;\n",
              "    }\n",
              "\n",
              "    .dataframe thead th {\n",
              "        text-align: right;\n",
              "    }\n",
              "</style>\n",
              "<table border=\"1\" class=\"dataframe\">\n",
              "  <thead>\n",
              "    <tr style=\"text-align: right;\">\n",
              "      <th>work_type</th>\n",
              "      <th>Govt_job</th>\n",
              "      <th>Never_worked</th>\n",
              "      <th>Private</th>\n",
              "      <th>Self-employed</th>\n",
              "      <th>children</th>\n",
              "    </tr>\n",
              "    <tr>\n",
              "      <th>gender</th>\n",
              "      <th></th>\n",
              "      <th></th>\n",
              "      <th></th>\n",
              "      <th></th>\n",
              "      <th></th>\n",
              "    </tr>\n",
              "  </thead>\n",
              "  <tbody>\n",
              "    <tr>\n",
              "      <th>Female</th>\n",
              "      <td>399</td>\n",
              "      <td>11</td>\n",
              "      <td>1754</td>\n",
              "      <td>504</td>\n",
              "      <td>326</td>\n",
              "    </tr>\n",
              "    <tr>\n",
              "      <th>Male</th>\n",
              "      <td>258</td>\n",
              "      <td>11</td>\n",
              "      <td>1170</td>\n",
              "      <td>315</td>\n",
              "      <td>361</td>\n",
              "    </tr>\n",
              "    <tr>\n",
              "      <th>Other</th>\n",
              "      <td>0</td>\n",
              "      <td>0</td>\n",
              "      <td>1</td>\n",
              "      <td>0</td>\n",
              "      <td>0</td>\n",
              "    </tr>\n",
              "  </tbody>\n",
              "</table>\n",
              "</div>\n",
              "      <button class=\"colab-df-convert\" onclick=\"convertToInteractive('df-c6e655fe-d6fb-4880-b18a-6eabde3a04ea')\"\n",
              "              title=\"Convert this dataframe to an interactive table.\"\n",
              "              style=\"display:none;\">\n",
              "        \n",
              "  <svg xmlns=\"http://www.w3.org/2000/svg\" height=\"24px\"viewBox=\"0 0 24 24\"\n",
              "       width=\"24px\">\n",
              "    <path d=\"M0 0h24v24H0V0z\" fill=\"none\"/>\n",
              "    <path d=\"M18.56 5.44l.94 2.06.94-2.06 2.06-.94-2.06-.94-.94-2.06-.94 2.06-2.06.94zm-11 1L8.5 8.5l.94-2.06 2.06-.94-2.06-.94L8.5 2.5l-.94 2.06-2.06.94zm10 10l.94 2.06.94-2.06 2.06-.94-2.06-.94-.94-2.06-.94 2.06-2.06.94z\"/><path d=\"M17.41 7.96l-1.37-1.37c-.4-.4-.92-.59-1.43-.59-.52 0-1.04.2-1.43.59L10.3 9.45l-7.72 7.72c-.78.78-.78 2.05 0 2.83L4 21.41c.39.39.9.59 1.41.59.51 0 1.02-.2 1.41-.59l7.78-7.78 2.81-2.81c.8-.78.8-2.07 0-2.86zM5.41 20L4 18.59l7.72-7.72 1.47 1.35L5.41 20z\"/>\n",
              "  </svg>\n",
              "      </button>\n",
              "      \n",
              "  <style>\n",
              "    .colab-df-container {\n",
              "      display:flex;\n",
              "      flex-wrap:wrap;\n",
              "      gap: 12px;\n",
              "    }\n",
              "\n",
              "    .colab-df-convert {\n",
              "      background-color: #E8F0FE;\n",
              "      border: none;\n",
              "      border-radius: 50%;\n",
              "      cursor: pointer;\n",
              "      display: none;\n",
              "      fill: #1967D2;\n",
              "      height: 32px;\n",
              "      padding: 0 0 0 0;\n",
              "      width: 32px;\n",
              "    }\n",
              "\n",
              "    .colab-df-convert:hover {\n",
              "      background-color: #E2EBFA;\n",
              "      box-shadow: 0px 1px 2px rgba(60, 64, 67, 0.3), 0px 1px 3px 1px rgba(60, 64, 67, 0.15);\n",
              "      fill: #174EA6;\n",
              "    }\n",
              "\n",
              "    [theme=dark] .colab-df-convert {\n",
              "      background-color: #3B4455;\n",
              "      fill: #D2E3FC;\n",
              "    }\n",
              "\n",
              "    [theme=dark] .colab-df-convert:hover {\n",
              "      background-color: #434B5C;\n",
              "      box-shadow: 0px 1px 3px 1px rgba(0, 0, 0, 0.15);\n",
              "      filter: drop-shadow(0px 1px 2px rgba(0, 0, 0, 0.3));\n",
              "      fill: #FFFFFF;\n",
              "    }\n",
              "  </style>\n",
              "\n",
              "      <script>\n",
              "        const buttonEl =\n",
              "          document.querySelector('#df-c6e655fe-d6fb-4880-b18a-6eabde3a04ea button.colab-df-convert');\n",
              "        buttonEl.style.display =\n",
              "          google.colab.kernel.accessAllowed ? 'block' : 'none';\n",
              "\n",
              "        async function convertToInteractive(key) {\n",
              "          const element = document.querySelector('#df-c6e655fe-d6fb-4880-b18a-6eabde3a04ea');\n",
              "          const dataTable =\n",
              "            await google.colab.kernel.invokeFunction('convertToInteractive',\n",
              "                                                     [key], {});\n",
              "          if (!dataTable) return;\n",
              "\n",
              "          const docLinkHtml = 'Like what you see? Visit the ' +\n",
              "            '<a target=\"_blank\" href=https://colab.research.google.com/notebooks/data_table.ipynb>data table notebook</a>'\n",
              "            + ' to learn more about interactive tables.';\n",
              "          element.innerHTML = '';\n",
              "          dataTable['output_type'] = 'display_data';\n",
              "          await google.colab.output.renderOutput(dataTable, element);\n",
              "          const docLink = document.createElement('div');\n",
              "          docLink.innerHTML = docLinkHtml;\n",
              "          element.appendChild(docLink);\n",
              "        }\n",
              "      </script>\n",
              "    </div>\n",
              "  </div>\n",
              "  "
            ]
          },
          "metadata": {},
          "execution_count": 29
        }
      ]
    },
    {
      "cell_type": "code",
      "source": [
        "# number of the different type of the gender divided by resident status\n",
        "pd.crosstab(stroke[\"gender\"] , stroke[\"Residence_type\"])"
      ],
      "metadata": {
        "colab": {
          "base_uri": "https://localhost:8080/",
          "height": 175
        },
        "id": "GuqjypX915ux",
        "outputId": "2b87657e-c90e-49ee-a7d7-5e3dcc1dcef3"
      },
      "execution_count": null,
      "outputs": [
        {
          "output_type": "execute_result",
          "data": {
            "text/plain": [
              "Residence_type  Rural  Urban\n",
              "gender                      \n",
              "Female           1465   1529\n",
              "Male             1048   1067\n",
              "Other               1      0"
            ],
            "text/html": [
              "\n",
              "  <div id=\"df-de17dc4e-f44c-460e-aac1-0df3a5506b6e\">\n",
              "    <div class=\"colab-df-container\">\n",
              "      <div>\n",
              "<style scoped>\n",
              "    .dataframe tbody tr th:only-of-type {\n",
              "        vertical-align: middle;\n",
              "    }\n",
              "\n",
              "    .dataframe tbody tr th {\n",
              "        vertical-align: top;\n",
              "    }\n",
              "\n",
              "    .dataframe thead th {\n",
              "        text-align: right;\n",
              "    }\n",
              "</style>\n",
              "<table border=\"1\" class=\"dataframe\">\n",
              "  <thead>\n",
              "    <tr style=\"text-align: right;\">\n",
              "      <th>Residence_type</th>\n",
              "      <th>Rural</th>\n",
              "      <th>Urban</th>\n",
              "    </tr>\n",
              "    <tr>\n",
              "      <th>gender</th>\n",
              "      <th></th>\n",
              "      <th></th>\n",
              "    </tr>\n",
              "  </thead>\n",
              "  <tbody>\n",
              "    <tr>\n",
              "      <th>Female</th>\n",
              "      <td>1465</td>\n",
              "      <td>1529</td>\n",
              "    </tr>\n",
              "    <tr>\n",
              "      <th>Male</th>\n",
              "      <td>1048</td>\n",
              "      <td>1067</td>\n",
              "    </tr>\n",
              "    <tr>\n",
              "      <th>Other</th>\n",
              "      <td>1</td>\n",
              "      <td>0</td>\n",
              "    </tr>\n",
              "  </tbody>\n",
              "</table>\n",
              "</div>\n",
              "      <button class=\"colab-df-convert\" onclick=\"convertToInteractive('df-de17dc4e-f44c-460e-aac1-0df3a5506b6e')\"\n",
              "              title=\"Convert this dataframe to an interactive table.\"\n",
              "              style=\"display:none;\">\n",
              "        \n",
              "  <svg xmlns=\"http://www.w3.org/2000/svg\" height=\"24px\"viewBox=\"0 0 24 24\"\n",
              "       width=\"24px\">\n",
              "    <path d=\"M0 0h24v24H0V0z\" fill=\"none\"/>\n",
              "    <path d=\"M18.56 5.44l.94 2.06.94-2.06 2.06-.94-2.06-.94-.94-2.06-.94 2.06-2.06.94zm-11 1L8.5 8.5l.94-2.06 2.06-.94-2.06-.94L8.5 2.5l-.94 2.06-2.06.94zm10 10l.94 2.06.94-2.06 2.06-.94-2.06-.94-.94-2.06-.94 2.06-2.06.94z\"/><path d=\"M17.41 7.96l-1.37-1.37c-.4-.4-.92-.59-1.43-.59-.52 0-1.04.2-1.43.59L10.3 9.45l-7.72 7.72c-.78.78-.78 2.05 0 2.83L4 21.41c.39.39.9.59 1.41.59.51 0 1.02-.2 1.41-.59l7.78-7.78 2.81-2.81c.8-.78.8-2.07 0-2.86zM5.41 20L4 18.59l7.72-7.72 1.47 1.35L5.41 20z\"/>\n",
              "  </svg>\n",
              "      </button>\n",
              "      \n",
              "  <style>\n",
              "    .colab-df-container {\n",
              "      display:flex;\n",
              "      flex-wrap:wrap;\n",
              "      gap: 12px;\n",
              "    }\n",
              "\n",
              "    .colab-df-convert {\n",
              "      background-color: #E8F0FE;\n",
              "      border: none;\n",
              "      border-radius: 50%;\n",
              "      cursor: pointer;\n",
              "      display: none;\n",
              "      fill: #1967D2;\n",
              "      height: 32px;\n",
              "      padding: 0 0 0 0;\n",
              "      width: 32px;\n",
              "    }\n",
              "\n",
              "    .colab-df-convert:hover {\n",
              "      background-color: #E2EBFA;\n",
              "      box-shadow: 0px 1px 2px rgba(60, 64, 67, 0.3), 0px 1px 3px 1px rgba(60, 64, 67, 0.15);\n",
              "      fill: #174EA6;\n",
              "    }\n",
              "\n",
              "    [theme=dark] .colab-df-convert {\n",
              "      background-color: #3B4455;\n",
              "      fill: #D2E3FC;\n",
              "    }\n",
              "\n",
              "    [theme=dark] .colab-df-convert:hover {\n",
              "      background-color: #434B5C;\n",
              "      box-shadow: 0px 1px 3px 1px rgba(0, 0, 0, 0.15);\n",
              "      filter: drop-shadow(0px 1px 2px rgba(0, 0, 0, 0.3));\n",
              "      fill: #FFFFFF;\n",
              "    }\n",
              "  </style>\n",
              "\n",
              "      <script>\n",
              "        const buttonEl =\n",
              "          document.querySelector('#df-de17dc4e-f44c-460e-aac1-0df3a5506b6e button.colab-df-convert');\n",
              "        buttonEl.style.display =\n",
              "          google.colab.kernel.accessAllowed ? 'block' : 'none';\n",
              "\n",
              "        async function convertToInteractive(key) {\n",
              "          const element = document.querySelector('#df-de17dc4e-f44c-460e-aac1-0df3a5506b6e');\n",
              "          const dataTable =\n",
              "            await google.colab.kernel.invokeFunction('convertToInteractive',\n",
              "                                                     [key], {});\n",
              "          if (!dataTable) return;\n",
              "\n",
              "          const docLinkHtml = 'Like what you see? Visit the ' +\n",
              "            '<a target=\"_blank\" href=https://colab.research.google.com/notebooks/data_table.ipynb>data table notebook</a>'\n",
              "            + ' to learn more about interactive tables.';\n",
              "          element.innerHTML = '';\n",
              "          dataTable['output_type'] = 'display_data';\n",
              "          await google.colab.output.renderOutput(dataTable, element);\n",
              "          const docLink = document.createElement('div');\n",
              "          docLink.innerHTML = docLinkHtml;\n",
              "          element.appendChild(docLink);\n",
              "        }\n",
              "      </script>\n",
              "    </div>\n",
              "  </div>\n",
              "  "
            ]
          },
          "metadata": {},
          "execution_count": 30
        }
      ]
    },
    {
      "cell_type": "code",
      "source": [
        "# number of the different type of the work types divided by smoking status\n",
        "pd.crosstab(stroke[\"work_type\"] , stroke[\"smoking_status\"])"
      ],
      "metadata": {
        "colab": {
          "base_uri": "https://localhost:8080/",
          "height": 237
        },
        "id": "Ja2P7KtE1c1U",
        "outputId": "1391e504-f540-4ba1-d9d1-2cb18b60d5c5"
      },
      "execution_count": null,
      "outputs": [
        {
          "output_type": "execute_result",
          "data": {
            "text/plain": [
              "smoking_status  Unknown  formerly smoked  never smoked  smokes\n",
              "work_type                                                     \n",
              "Govt_job            122              133           282     120\n",
              "Never_worked          8                0            14       0\n",
              "Private             640              531          1211     543\n",
              "Self-employed       156              208           331     124\n",
              "children            618               13            54       2"
            ],
            "text/html": [
              "\n",
              "  <div id=\"df-cb23b254-4fd9-4424-abe5-3ee8bb209477\">\n",
              "    <div class=\"colab-df-container\">\n",
              "      <div>\n",
              "<style scoped>\n",
              "    .dataframe tbody tr th:only-of-type {\n",
              "        vertical-align: middle;\n",
              "    }\n",
              "\n",
              "    .dataframe tbody tr th {\n",
              "        vertical-align: top;\n",
              "    }\n",
              "\n",
              "    .dataframe thead th {\n",
              "        text-align: right;\n",
              "    }\n",
              "</style>\n",
              "<table border=\"1\" class=\"dataframe\">\n",
              "  <thead>\n",
              "    <tr style=\"text-align: right;\">\n",
              "      <th>smoking_status</th>\n",
              "      <th>Unknown</th>\n",
              "      <th>formerly smoked</th>\n",
              "      <th>never smoked</th>\n",
              "      <th>smokes</th>\n",
              "    </tr>\n",
              "    <tr>\n",
              "      <th>work_type</th>\n",
              "      <th></th>\n",
              "      <th></th>\n",
              "      <th></th>\n",
              "      <th></th>\n",
              "    </tr>\n",
              "  </thead>\n",
              "  <tbody>\n",
              "    <tr>\n",
              "      <th>Govt_job</th>\n",
              "      <td>122</td>\n",
              "      <td>133</td>\n",
              "      <td>282</td>\n",
              "      <td>120</td>\n",
              "    </tr>\n",
              "    <tr>\n",
              "      <th>Never_worked</th>\n",
              "      <td>8</td>\n",
              "      <td>0</td>\n",
              "      <td>14</td>\n",
              "      <td>0</td>\n",
              "    </tr>\n",
              "    <tr>\n",
              "      <th>Private</th>\n",
              "      <td>640</td>\n",
              "      <td>531</td>\n",
              "      <td>1211</td>\n",
              "      <td>543</td>\n",
              "    </tr>\n",
              "    <tr>\n",
              "      <th>Self-employed</th>\n",
              "      <td>156</td>\n",
              "      <td>208</td>\n",
              "      <td>331</td>\n",
              "      <td>124</td>\n",
              "    </tr>\n",
              "    <tr>\n",
              "      <th>children</th>\n",
              "      <td>618</td>\n",
              "      <td>13</td>\n",
              "      <td>54</td>\n",
              "      <td>2</td>\n",
              "    </tr>\n",
              "  </tbody>\n",
              "</table>\n",
              "</div>\n",
              "      <button class=\"colab-df-convert\" onclick=\"convertToInteractive('df-cb23b254-4fd9-4424-abe5-3ee8bb209477')\"\n",
              "              title=\"Convert this dataframe to an interactive table.\"\n",
              "              style=\"display:none;\">\n",
              "        \n",
              "  <svg xmlns=\"http://www.w3.org/2000/svg\" height=\"24px\"viewBox=\"0 0 24 24\"\n",
              "       width=\"24px\">\n",
              "    <path d=\"M0 0h24v24H0V0z\" fill=\"none\"/>\n",
              "    <path d=\"M18.56 5.44l.94 2.06.94-2.06 2.06-.94-2.06-.94-.94-2.06-.94 2.06-2.06.94zm-11 1L8.5 8.5l.94-2.06 2.06-.94-2.06-.94L8.5 2.5l-.94 2.06-2.06.94zm10 10l.94 2.06.94-2.06 2.06-.94-2.06-.94-.94-2.06-.94 2.06-2.06.94z\"/><path d=\"M17.41 7.96l-1.37-1.37c-.4-.4-.92-.59-1.43-.59-.52 0-1.04.2-1.43.59L10.3 9.45l-7.72 7.72c-.78.78-.78 2.05 0 2.83L4 21.41c.39.39.9.59 1.41.59.51 0 1.02-.2 1.41-.59l7.78-7.78 2.81-2.81c.8-.78.8-2.07 0-2.86zM5.41 20L4 18.59l7.72-7.72 1.47 1.35L5.41 20z\"/>\n",
              "  </svg>\n",
              "      </button>\n",
              "      \n",
              "  <style>\n",
              "    .colab-df-container {\n",
              "      display:flex;\n",
              "      flex-wrap:wrap;\n",
              "      gap: 12px;\n",
              "    }\n",
              "\n",
              "    .colab-df-convert {\n",
              "      background-color: #E8F0FE;\n",
              "      border: none;\n",
              "      border-radius: 50%;\n",
              "      cursor: pointer;\n",
              "      display: none;\n",
              "      fill: #1967D2;\n",
              "      height: 32px;\n",
              "      padding: 0 0 0 0;\n",
              "      width: 32px;\n",
              "    }\n",
              "\n",
              "    .colab-df-convert:hover {\n",
              "      background-color: #E2EBFA;\n",
              "      box-shadow: 0px 1px 2px rgba(60, 64, 67, 0.3), 0px 1px 3px 1px rgba(60, 64, 67, 0.15);\n",
              "      fill: #174EA6;\n",
              "    }\n",
              "\n",
              "    [theme=dark] .colab-df-convert {\n",
              "      background-color: #3B4455;\n",
              "      fill: #D2E3FC;\n",
              "    }\n",
              "\n",
              "    [theme=dark] .colab-df-convert:hover {\n",
              "      background-color: #434B5C;\n",
              "      box-shadow: 0px 1px 3px 1px rgba(0, 0, 0, 0.15);\n",
              "      filter: drop-shadow(0px 1px 2px rgba(0, 0, 0, 0.3));\n",
              "      fill: #FFFFFF;\n",
              "    }\n",
              "  </style>\n",
              "\n",
              "      <script>\n",
              "        const buttonEl =\n",
              "          document.querySelector('#df-cb23b254-4fd9-4424-abe5-3ee8bb209477 button.colab-df-convert');\n",
              "        buttonEl.style.display =\n",
              "          google.colab.kernel.accessAllowed ? 'block' : 'none';\n",
              "\n",
              "        async function convertToInteractive(key) {\n",
              "          const element = document.querySelector('#df-cb23b254-4fd9-4424-abe5-3ee8bb209477');\n",
              "          const dataTable =\n",
              "            await google.colab.kernel.invokeFunction('convertToInteractive',\n",
              "                                                     [key], {});\n",
              "          if (!dataTable) return;\n",
              "\n",
              "          const docLinkHtml = 'Like what you see? Visit the ' +\n",
              "            '<a target=\"_blank\" href=https://colab.research.google.com/notebooks/data_table.ipynb>data table notebook</a>'\n",
              "            + ' to learn more about interactive tables.';\n",
              "          element.innerHTML = '';\n",
              "          dataTable['output_type'] = 'display_data';\n",
              "          await google.colab.output.renderOutput(dataTable, element);\n",
              "          const docLink = document.createElement('div');\n",
              "          docLink.innerHTML = docLinkHtml;\n",
              "          element.appendChild(docLink);\n",
              "        }\n",
              "      </script>\n",
              "    </div>\n",
              "  </div>\n",
              "  "
            ]
          },
          "metadata": {},
          "execution_count": 31
        }
      ]
    },
    {
      "cell_type": "code",
      "source": [
        " lab = stroke['smoking_status'].value_counts()\n",
        " labels = lab.index\n",
        " plt.figure(figsize=(6,10))\n",
        " plt.pie(stroke['smoking_status'].value_counts().head(5),labels= labels, autopct='%.2f%%', startangle=90)\n",
        " plt.title('smoking division', fontweight='bold', fontsize=14)\n",
        " plt.legend()\n",
        " plt.legend(loc=\"upper left\")\n",
        " plt.show()"
      ],
      "metadata": {
        "colab": {
          "base_uri": "https://localhost:8080/",
          "height": 383
        },
        "id": "YjCRJgTkIkx9",
        "outputId": "8278065b-de69-42fd-d373-eefd9cfc487b"
      },
      "execution_count": null,
      "outputs": [
        {
          "output_type": "display_data",
          "data": {
            "text/plain": [
              "<Figure size 432x720 with 1 Axes>"
            ],
            "image/png": "[encoded data removed]"
          },
          "metadata": {}
        }
      ]
    },
    {
      "cell_type": "code",
      "source": [
        " lab = stroke['work_type'].value_counts()\n",
        " labels = lab.index\n",
        " plt.figure(figsize=(6,10))\n",
        " plt.pie(stroke['work_type'].value_counts().head(5),labels= labels, autopct='%.2f%%', startangle=90)\n",
        " plt.title('participants by work type', fontweight='bold', fontsize=14)\n",
        " plt.legend()\n",
        " plt.legend(loc=\"upper left\")\n",
        " plt.show()"
      ],
      "metadata": {
        "colab": {
          "base_uri": "https://localhost:8080/",
          "height": 383
        },
        "id": "tSQKahKjJo1U",
        "outputId": "5f92e6f9-9d87-4b4a-ad4b-c57b75a3538b"
      },
      "execution_count": null,
      "outputs": [
        {
          "output_type": "display_data",
          "data": {
            "text/plain": [
              "<Figure size 432x720 with 1 Axes>"
            ],
            "image/png": "[encoded data removed]"
          },
          "metadata": {}
        }
      ]
    },
    {
      "cell_type": "code",
      "source": [
        "plt.figure(figsize=[26,10])\n",
        "plt.subplot(251)\n",
        "stroke['age'].hist(bins=40)\n",
        "plt.subplot(252)\n",
        "sns.countplot( stroke['gender'] , color='pink')\n",
        "plt.subplot(253)\n",
        "sns.countplot( stroke['ever_married'] , color='black')\n",
        "plt.subplot(254)\n",
        "sns.countplot( stroke['work_type'] , color='blue')\n",
        "plt.subplot(255)\n",
        "sns.countplot( stroke['smoking_status'] , color='yellow')\n",
        "plt.show()"
      ],
      "metadata": {
        "colab": {
          "base_uri": "https://localhost:8080/",
          "height": 457
        },
        "id": "conpV_Krv-dB",
        "outputId": "7abadd83-5a9c-44b7-ec48-a7fa0c2b37c6"
      },
      "execution_count": null,
      "outputs": [
        {
          "output_type": "stream",
          "name": "stderr",
          "text": [
            "/usr/local/lib/python3.8/dist-packages/seaborn/_decorators.py:36: FutureWarning: Pass the following variable as a keyword arg: x. From version 0.12, the only valid positional argument will be `data`, and passing other arguments without an explicit keyword will result in an error or misinterpretation.\n",
            "  warnings.warn(\n",
            "/usr/local/lib/python3.8/dist-packages/seaborn/_decorators.py:36: FutureWarning: Pass the following variable as a keyword arg: x. From version 0.12, the only valid positional argument will be `data`, and passing other arguments without an explicit keyword will result in an error or misinterpretation.\n",
            "  warnings.warn(\n",
            "/usr/local/lib/python3.8/dist-packages/seaborn/_decorators.py:36: FutureWarning: Pass the following variable as a keyword arg: x. From version 0.12, the only valid positional argument will be `data`, and passing other arguments without an explicit keyword will result in an error or misinterpretation.\n",
            "  warnings.warn(\n",
            "/usr/local/lib/python3.8/dist-packages/seaborn/_decorators.py:36: FutureWarning: Pass the following variable as a keyword arg: x. From version 0.12, the only valid positional argument will be `data`, and passing other arguments without an explicit keyword will result in an error or misinterpretation.\n",
            "  warnings.warn(\n"
          ]
        },
        {
          "output_type": "display_data",
          "data": {
            "text/plain": [
              "<Figure size 1872x720 with 5 Axes>"
            ],
            "image/png": "[encoded data removed]"
          },
          "metadata": {
            "needs_background": "light"
          }
        }
      ]
    },
    {
      "cell_type": "code",
      "source": [
        "sns.boxplot(x='gender' , y='age' , data=stroke)"
      ],
      "metadata": {
        "colab": {
          "base_uri": "https://localhost:8080/",
          "height": 296
        },
        "id": "O2K-8cBjvF3t",
        "outputId": "d2a9f439-55a7-4566-c635-e0b7c6bf22b5"
      },
      "execution_count": null,
      "outputs": [
        {
          "output_type": "execute_result",
          "data": {
            "text/plain": [
              "<matplotlib.axes._subplots.AxesSubplot at 0x7fcf61a538b0>"
            ]
          },
          "metadata": {},
          "execution_count": 35
        },
        {
          "output_type": "display_data",
          "data": {
            "text/plain": [
              "<Figure size 432x288 with 1 Axes>"
            ],
            "image/png": "[encoded data removed]"
          },
          "metadata": {
            "needs_background": "light"
          }
        }
      ]
    },
    {
      "cell_type": "code",
      "source": [
        "plt.figure(figsize=[22,10])\n",
        "plt.subplot(241)\n",
        "sns.countplot(x='gender' ,hue='stroke', data=stroke , color= 'black')\n",
        "plt.subplot(242)\n",
        "sns.countplot(x='smoking_status' ,hue='stroke', data=stroke ,color='salmon')\n",
        "plt.subplot(243)\n",
        "sns.countplot(x='hypertension' ,hue='stroke', data=stroke ,color='pink')\n",
        "plt.subplot(244)\n",
        "sns.countplot(x='heart_disease' ,hue='stroke', data=stroke , color='blue')\n",
        "plt.show()\n"
      ],
      "metadata": {
        "colab": {
          "base_uri": "https://localhost:8080/",
          "height": 310
        },
        "outputId": "407c7435-3f1a-4e22-d8d7-92accc6186a8",
        "id": "zf-4fQGjlp2Y"
      },
      "execution_count": null,
      "outputs": [
        {
          "output_type": "display_data",
          "data": {
            "text/plain": [
              "<Figure size 1584x720 with 4 Axes>"
            ],
            "image/png": "[encoded data removed]"
          },
          "metadata": {
            "needs_background": "light"
          }
        }
      ]
    },
    {
      "cell_type": "code",
      "source": [
        "plt.figure(figsize=[20,6])\n",
        "plt.subplot(131)\n",
        "sns.countplot(x='work_type' ,hue='stroke', data=stroke , color='black')\n",
        "plt.subplot(132)\n",
        "sns.countplot(x='Residence_type' ,hue='stroke', data=stroke , color='pink')\n",
        "plt.subplot(133)\n",
        "sns.countplot(x='smoking_status' ,hue='stroke', data=stroke , color='blue')\n",
        "plt.show()\n"
      ],
      "metadata": {
        "colab": {
          "base_uri": "https://localhost:8080/",
          "height": 390
        },
        "id": "kkNpf6vbkGTs",
        "outputId": "8ab31b12-7703-46e1-dc51-ee083004d5a6"
      },
      "execution_count": null,
      "outputs": [
        {
          "output_type": "display_data",
          "data": {
            "text/plain": [
              "<Figure size 1440x432 with 3 Axes>"
            ],
            "image/png": "[encoded data removed]"
          },
          "metadata": {
            "needs_background": "light"
          }
        }
      ]
    },
    {
      "cell_type": "code",
      "source": [
        "plt.figure(figsize=[24,6])\n",
        "sns.countplot(x='age' ,hue='stroke', data=stroke)"
      ],
      "metadata": {
        "colab": {
          "base_uri": "https://localhost:8080/",
          "height": 405
        },
        "id": "6lWbEPBm6gDu",
        "outputId": "1259df1e-270a-4f83-f7ce-6876baedbf5f"
      },
      "execution_count": null,
      "outputs": [
        {
          "output_type": "execute_result",
          "data": {
            "text/plain": [
              "<matplotlib.axes._subplots.AxesSubplot at 0x7fcf610051f0>"
            ]
          },
          "metadata": {},
          "execution_count": 38
        },
        {
          "output_type": "display_data",
          "data": {
            "text/plain": [
              "<Figure size 1728x432 with 1 Axes>"
            ],
            "image/png": "[encoded data removed]"
          },
          "metadata": {
            "needs_background": "light"
          }
        }
      ]
    },
    {
      "cell_type": "code",
      "source": [
        "stroke.corr()"
      ],
      "metadata": {
        "id": "jkRrbQ0yCZkE",
        "outputId": "5f7f0575-717a-4481-e47a-275263466909",
        "colab": {
          "base_uri": "https://localhost:8080/",
          "height": 269
        }
      },
      "execution_count": null,
      "outputs": [
        {
          "output_type": "execute_result",
          "data": {
            "text/plain": [
              "                         id       age  hypertension  heart_disease  \\\n",
              "id                 1.000000  0.003538      0.003550      -0.001296   \n",
              "age                0.003538  1.000000      0.276398       0.263796   \n",
              "hypertension       0.003550  0.276398      1.000000       0.108306   \n",
              "heart_disease     -0.001296  0.263796      0.108306       1.000000   \n",
              "avg_glucose_level  0.001092  0.238171      0.174474       0.161857   \n",
              "bmi                0.003084  0.333398      0.167811       0.041357   \n",
              "stroke             0.006388  0.245257      0.127904       0.134914   \n",
              "\n",
              "                   avg_glucose_level       bmi    stroke  \n",
              "id                          0.001092  0.003084  0.006388  \n",
              "age                         0.238171  0.333398  0.245257  \n",
              "hypertension                0.174474  0.167811  0.127904  \n",
              "heart_disease               0.161857  0.041357  0.134914  \n",
              "avg_glucose_level           1.000000  0.175502  0.131945  \n",
              "bmi                         0.175502  1.000000  0.042374  \n",
              "stroke                      0.131945  0.042374  1.000000  "
            ],
            "text/html": [
              "\n",
              "  <div id=\"df-c6ee6c6f-bb71-4fdc-9061-203e98a7361c\">\n",
              "    <div class=\"colab-df-container\">\n",
              "      <div>\n",
              "<style scoped>\n",
              "    .dataframe tbody tr th:only-of-type {\n",
              "        vertical-align: middle;\n",
              "    }\n",
              "\n",
              "    .dataframe tbody tr th {\n",
              "        vertical-align: top;\n",
              "    }\n",
              "\n",
              "    .dataframe thead th {\n",
              "        text-align: right;\n",
              "    }\n",
              "</style>\n",
              "<table border=\"1\" class=\"dataframe\">\n",
              "  <thead>\n",
              "    <tr style=\"text-align: right;\">\n",
              "      <th></th>\n",
              "      <th>id</th>\n",
              "      <th>age</th>\n",
              "      <th>hypertension</th>\n",
              "      <th>heart_disease</th>\n",
              "      <th>avg_glucose_level</th>\n",
              "      <th>bmi</th>\n",
              "      <th>stroke</th>\n",
              "    </tr>\n",
              "  </thead>\n",
              "  <tbody>\n",
              "    <tr>\n",
              "      <th>id</th>\n",
              "      <td>1.000000</td>\n",
              "      <td>0.003538</td>\n",
              "      <td>0.003550</td>\n",
              "      <td>-0.001296</td>\n",
              "      <td>0.001092</td>\n",
              "      <td>0.003084</td>\n",
              "      <td>0.006388</td>\n",
              "    </tr>\n",
              "    <tr>\n",
              "      <th>age</th>\n",
              "      <td>0.003538</td>\n",
              "      <td>1.000000</td>\n",
              "      <td>0.276398</td>\n",
              "      <td>0.263796</td>\n",
              "      <td>0.238171</td>\n",
              "      <td>0.333398</td>\n",
              "      <td>0.245257</td>\n",
              "    </tr>\n",
              "    <tr>\n",
              "      <th>hypertension</th>\n",
              "      <td>0.003550</td>\n",
              "      <td>0.276398</td>\n",
              "      <td>1.000000</td>\n",
              "      <td>0.108306</td>\n",
              "      <td>0.174474</td>\n",
              "      <td>0.167811</td>\n",
              "      <td>0.127904</td>\n",
              "    </tr>\n",
              "    <tr>\n",
              "      <th>heart_disease</th>\n",
              "      <td>-0.001296</td>\n",
              "      <td>0.263796</td>\n",
              "      <td>0.108306</td>\n",
              "      <td>1.000000</td>\n",
              "      <td>0.161857</td>\n",
              "      <td>0.041357</td>\n",
              "      <td>0.134914</td>\n",
              "    </tr>\n",
              "    <tr>\n",
              "      <th>avg_glucose_level</th>\n",
              "      <td>0.001092</td>\n",
              "      <td>0.238171</td>\n",
              "      <td>0.174474</td>\n",
              "      <td>0.161857</td>\n",
              "      <td>1.000000</td>\n",
              "      <td>0.175502</td>\n",
              "      <td>0.131945</td>\n",
              "    </tr>\n",
              "    <tr>\n",
              "      <th>bmi</th>\n",
              "      <td>0.003084</td>\n",
              "      <td>0.333398</td>\n",
              "      <td>0.167811</td>\n",
              "      <td>0.041357</td>\n",
              "      <td>0.175502</td>\n",
              "      <td>1.000000</td>\n",
              "      <td>0.042374</td>\n",
              "    </tr>\n",
              "    <tr>\n",
              "      <th>stroke</th>\n",
              "      <td>0.006388</td>\n",
              "      <td>0.245257</td>\n",
              "      <td>0.127904</td>\n",
              "      <td>0.134914</td>\n",
              "      <td>0.131945</td>\n",
              "      <td>0.042374</td>\n",
              "      <td>1.000000</td>\n",
              "    </tr>\n",
              "  </tbody>\n",
              "</table>\n",
              "</div>\n",
              "      <button class=\"colab-df-convert\" onclick=\"convertToInteractive('df-c6ee6c6f-bb71-4fdc-9061-203e98a7361c')\"\n",
              "              title=\"Convert this dataframe to an interactive table.\"\n",
              "              style=\"display:none;\">\n",
              "        \n",
              "  <svg xmlns=\"http://www.w3.org/2000/svg\" height=\"24px\"viewBox=\"0 0 24 24\"\n",
              "       width=\"24px\">\n",
              "    <path d=\"M0 0h24v24H0V0z\" fill=\"none\"/>\n",
              "    <path d=\"M18.56 5.44l.94 2.06.94-2.06 2.06-.94-2.06-.94-.94-2.06-.94 2.06-2.06.94zm-11 1L8.5 8.5l.94-2.06 2.06-.94-2.06-.94L8.5 2.5l-.94 2.06-2.06.94zm10 10l.94 2.06.94-2.06 2.06-.94-2.06-.94-.94-2.06-.94 2.06-2.06.94z\"/><path d=\"M17.41 7.96l-1.37-1.37c-.4-.4-.92-.59-1.43-.59-.52 0-1.04.2-1.43.59L10.3 9.45l-7.72 7.72c-.78.78-.78 2.05 0 2.83L4 21.41c.39.39.9.59 1.41.59.51 0 1.02-.2 1.41-.59l7.78-7.78 2.81-2.81c.8-.78.8-2.07 0-2.86zM5.41 20L4 18.59l7.72-7.72 1.47 1.35L5.41 20z\"/>\n",
              "  </svg>\n",
              "      </button>\n",
              "      \n",
              "  <style>\n",
              "    .colab-df-container {\n",
              "      display:flex;\n",
              "      flex-wrap:wrap;\n",
              "      gap: 12px;\n",
              "    }\n",
              "\n",
              "    .colab-df-convert {\n",
              "      background-color: #E8F0FE;\n",
              "      border: none;\n",
              "      border-radius: 50%;\n",
              "      cursor: pointer;\n",
              "      display: none;\n",
              "      fill: #1967D2;\n",
              "      height: 32px;\n",
              "      padding: 0 0 0 0;\n",
              "      width: 32px;\n",
              "    }\n",
              "\n",
              "    .colab-df-convert:hover {\n",
              "      background-color: #E2EBFA;\n",
              "      box-shadow: 0px 1px 2px rgba(60, 64, 67, 0.3), 0px 1px 3px 1px rgba(60, 64, 67, 0.15);\n",
              "      fill: #174EA6;\n",
              "    }\n",
              "\n",
              "    [theme=dark] .colab-df-convert {\n",
              "      background-color: #3B4455;\n",
              "      fill: #D2E3FC;\n",
              "    }\n",
              "\n",
              "    [theme=dark] .colab-df-convert:hover {\n",
              "      background-color: #434B5C;\n",
              "      box-shadow: 0px 1px 3px 1px rgba(0, 0, 0, 0.15);\n",
              "      filter: drop-shadow(0px 1px 2px rgba(0, 0, 0, 0.3));\n",
              "      fill: #FFFFFF;\n",
              "    }\n",
              "  </style>\n",
              "\n",
              "      <script>\n",
              "        const buttonEl =\n",
              "          document.querySelector('#df-c6ee6c6f-bb71-4fdc-9061-203e98a7361c button.colab-df-convert');\n",
              "        buttonEl.style.display =\n",
              "          google.colab.kernel.accessAllowed ? 'block' : 'none';\n",
              "\n",
              "        async function convertToInteractive(key) {\n",
              "          const element = document.querySelector('#df-c6ee6c6f-bb71-4fdc-9061-203e98a7361c');\n",
              "          const dataTable =\n",
              "            await google.colab.kernel.invokeFunction('convertToInteractive',\n",
              "                                                     [key], {});\n",
              "          if (!dataTable) return;\n",
              "\n",
              "          const docLinkHtml = 'Like what you see? Visit the ' +\n",
              "            '<a target=\"_blank\" href=https://colab.research.google.com/notebooks/data_table.ipynb>data table notebook</a>'\n",
              "            + ' to learn more about interactive tables.';\n",
              "          element.innerHTML = '';\n",
              "          dataTable['output_type'] = 'display_data';\n",
              "          await google.colab.output.renderOutput(dataTable, element);\n",
              "          const docLink = document.createElement('div');\n",
              "          docLink.innerHTML = docLinkHtml;\n",
              "          element.appendChild(docLink);\n",
              "        }\n",
              "      </script>\n",
              "    </div>\n",
              "  </div>\n",
              "  "
            ]
          },
          "metadata": {},
          "execution_count": 39
        }
      ]
    },
    {
      "cell_type": "code",
      "source": [
        "# showing the corellation amounge items \n",
        "plt.figure(figsize=(12,8))\n",
        "sns.heatmap(stroke.corr(), annot=True)"
      ],
      "metadata": {
        "colab": {
          "base_uri": "https://localhost:8080/",
          "height": 585
        },
        "id": "bGQegLsqlS9y",
        "outputId": "1ee46203-bf5d-45ce-ca38-c25310eca35d"
      },
      "execution_count": null,
      "outputs": [
        {
          "output_type": "execute_result",
          "data": {
            "text/plain": [
              "<matplotlib.axes._subplots.AxesSubplot at 0x7fcf8e1132b0>"
            ]
          },
          "metadata": {},
          "execution_count": 40
        },
        {
          "output_type": "display_data",
          "data": {
            "text/plain": [
              "<Figure size 864x576 with 2 Axes>"
            ],
            "image/png": "[encoded data removed]"
          },
          "metadata": {
            "needs_background": "light"
          }
        }
      ]
    },
    {
      "cell_type": "markdown",
      "source": [
        "# **cleaning data**"
      ],
      "metadata": {
        "id": "d2vWR184FEoO"
      }
    },
    {
      "cell_type": "code",
      "source": [
        "# the count of empty values\n",
        "stroke.isnull().sum()"
      ],
      "metadata": {
        "colab": {
          "base_uri": "https://localhost:8080/"
        },
        "id": "cu0icjgx0EGn",
        "outputId": "cbe25e29-8319-4de4-91ce-d21cf120b1bf"
      },
      "execution_count": null,
      "outputs": [
        {
          "output_type": "execute_result",
          "data": {
            "text/plain": [
              "id                     0\n",
              "gender                 0\n",
              "age                    0\n",
              "hypertension           0\n",
              "heart_disease          0\n",
              "ever_married           0\n",
              "work_type              0\n",
              "Residence_type         0\n",
              "avg_glucose_level      0\n",
              "bmi                  201\n",
              "smoking_status         0\n",
              "stroke                 0\n",
              "dtype: int64"
            ]
          },
          "metadata": {},
          "execution_count": 378
        }
      ]
    },
    {
      "cell_type": "code",
      "source": [
        "# showing the nun values with blue color\n",
        "sns.heatmap(stroke.isnull() , yticklabels=False ,cbar=False ,cmap='Blues')"
      ],
      "metadata": {
        "colab": {
          "base_uri": "https://localhost:8080/"
        },
        "id": "RQs-JJn98kr3",
        "outputId": "821a7645-65ef-485d-8d7e-34f36a947e65"
      },
      "execution_count": null,
      "outputs": [
        {
          "output_type": "execute_result",
          "data": {
            "text/plain": [
              "<matplotlib.axes._subplots.AxesSubplot at 0x7fcf2dbd4b50>"
            ]
          },
          "metadata": {},
          "execution_count": 379
        },
        {
          "output_type": "display_data",
          "data": {
            "text/plain": [
              "<Figure size 432x288 with 1 Axes>"
            ],
            "image/png": "[encoded data removed]"
          },
          "metadata": {
            "needs_background": "light"
          }
        }
      ]
    },
    {
      "cell_type": "code",
      "source": [
        "# counting the number of null values of bmi column\n",
        "stroke['bmi'].isnull().sum()"
      ],
      "metadata": {
        "colab": {
          "base_uri": "https://localhost:8080/"
        },
        "id": "CPDqHd-y92ej",
        "outputId": "d14617cc-0e59-4fff-b71f-a7b7dba16766"
      },
      "execution_count": null,
      "outputs": [
        {
          "output_type": "execute_result",
          "data": {
            "text/plain": [
              "201"
            ]
          },
          "metadata": {},
          "execution_count": 380
        }
      ]
    },
    {
      "cell_type": "code",
      "source": [
        "# removing that values that thay are empty\n",
        "stroke.dropna(subset=['bmi'], inplace=True)"
      ],
      "metadata": {
        "id": "S-igAkZN-Pb-"
      },
      "execution_count": null,
      "outputs": []
    },
    {
      "cell_type": "code",
      "source": [
        "sns.heatmap(stroke.isnull() , yticklabels=False ,cbar=False ,cmap='Blues')"
      ],
      "metadata": {
        "colab": {
          "base_uri": "https://localhost:8080/"
        },
        "id": "tQLWrhmo_nNl",
        "outputId": "6c9dec5f-9476-4d52-edc7-af8aad21d452"
      },
      "execution_count": null,
      "outputs": [
        {
          "output_type": "execute_result",
          "data": {
            "text/plain": [
              "<matplotlib.axes._subplots.AxesSubplot at 0x7fcf2de67d90>"
            ]
          },
          "metadata": {},
          "execution_count": 382
        },
        {
          "output_type": "display_data",
          "data": {
            "text/plain": [
              "<Figure size 432x288 with 1 Axes>"
            ],
            "image/png": "[encoded data removed]"
          },
          "metadata": {
            "needs_background": "light"
          }
        }
      ]
    },
    {
      "cell_type": "code",
      "source": [
        "hadstroke = stroke[stroke['stroke']==1]\n",
        "hadntstroke = stroke[stroke['stroke']==0]"
      ],
      "metadata": {
        "id": "AGAd4RfSjeBQ"
      },
      "execution_count": null,
      "outputs": []
    },
    {
      "cell_type": "code",
      "source": [
        "# the number of total and stroke and not stroke after draping the nun values\n",
        "print('total =' , len(stroke))\n",
        "print('number of people who had stroke  =' ,len(hadstroke) )\n",
        "print('number of people who hadnot stroke =' ,len(hadntstroke) )"
      ],
      "metadata": {
        "colab": {
          "base_uri": "https://localhost:8080/"
        },
        "id": "IcU4n7AUFGNk",
        "outputId": "328947f5-b7e6-49ce-a0d2-60bd95548bb8"
      },
      "execution_count": null,
      "outputs": [
        {
          "output_type": "stream",
          "name": "stdout",
          "text": [
            "total = 4909\n",
            "number of people who had stroke  = 209\n",
            "number of people who hadnot stroke = 4700\n"
          ]
        }
      ]
    },
    {
      "cell_type": "code",
      "source": [
        "# droping the colums that thay are not important for prediction\n",
        "stroke = stroke.drop(['id'] , axis=1)"
      ],
      "metadata": {
        "id": "9FsZbgWYlaGs"
      },
      "execution_count": null,
      "outputs": []
    },
    {
      "cell_type": "markdown",
      "source": [
        "# **More exploration on data**"
      ],
      "metadata": {
        "id": "bvZQwG54EyK2"
      }
    },
    {
      "cell_type": "code",
      "source": [
        "stroke.head(5)"
      ],
      "metadata": {
        "id": "0qUUXKW7lrnF",
        "colab": {
          "base_uri": "https://localhost:8080/",
          "height": 206
        },
        "outputId": "fab2e583-7a60-4183-b6cd-596f54252be5"
      },
      "execution_count": null,
      "outputs": [
        {
          "output_type": "execute_result",
          "data": {
            "text/plain": [
              "   gender   age  hypertension  heart_disease ever_married      work_type  \\\n",
              "0    Male  67.0             0              1          Yes        Private   \n",
              "2    Male  80.0             0              1          Yes        Private   \n",
              "3  Female  49.0             0              0          Yes        Private   \n",
              "4  Female  79.0             1              0          Yes  Self-employed   \n",
              "5    Male  81.0             0              0          Yes        Private   \n",
              "\n",
              "  Residence_type  avg_glucose_level   bmi   smoking_status  stroke  \n",
              "0          Urban             228.69  36.6  formerly smoked       1  \n",
              "2          Rural             105.92  32.5     never smoked       1  \n",
              "3          Urban             171.23  34.4           smokes       1  \n",
              "4          Rural             174.12  24.0     never smoked       1  \n",
              "5          Urban             186.21  29.0  formerly smoked       1  "
            ],
            "text/html": [
              "\n",
              "  <div id=\"df-5090805c-562e-4c1a-9495-959861f7f6e8\">\n",
              "    <div class=\"colab-df-container\">\n",
              "      <div>\n",
              "<style scoped>\n",
              "    .dataframe tbody tr th:only-of-type {\n",
              "        vertical-align: middle;\n",
              "    }\n",
              "\n",
              "    .dataframe tbody tr th {\n",
              "        vertical-align: top;\n",
              "    }\n",
              "\n",
              "    .dataframe thead th {\n",
              "        text-align: right;\n",
              "    }\n",
              "</style>\n",
              "<table border=\"1\" class=\"dataframe\">\n",
              "  <thead>\n",
              "    <tr style=\"text-align: right;\">\n",
              "      <th></th>\n",
              "      <th>gender</th>\n",
              "      <th>age</th>\n",
              "      <th>hypertension</th>\n",
              "      <th>heart_disease</th>\n",
              "      <th>ever_married</th>\n",
              "      <th>work_type</th>\n",
              "      <th>Residence_type</th>\n",
              "      <th>avg_glucose_level</th>\n",
              "      <th>bmi</th>\n",
              "      <th>smoking_status</th>\n",
              "      <th>stroke</th>\n",
              "    </tr>\n",
              "  </thead>\n",
              "  <tbody>\n",
              "    <tr>\n",
              "      <th>0</th>\n",
              "      <td>Male</td>\n",
              "      <td>67.0</td>\n",
              "      <td>0</td>\n",
              "      <td>1</td>\n",
              "      <td>Yes</td>\n",
              "      <td>Private</td>\n",
              "      <td>Urban</td>\n",
              "      <td>228.69</td>\n",
              "      <td>36.6</td>\n",
              "      <td>formerly smoked</td>\n",
              "      <td>1</td>\n",
              "    </tr>\n",
              "    <tr>\n",
              "      <th>2</th>\n",
              "      <td>Male</td>\n",
              "      <td>80.0</td>\n",
              "      <td>0</td>\n",
              "      <td>1</td>\n",
              "      <td>Yes</td>\n",
              "      <td>Private</td>\n",
              "      <td>Rural</td>\n",
              "      <td>105.92</td>\n",
              "      <td>32.5</td>\n",
              "      <td>never smoked</td>\n",
              "      <td>1</td>\n",
              "    </tr>\n",
              "    <tr>\n",
              "      <th>3</th>\n",
              "      <td>Female</td>\n",
              "      <td>49.0</td>\n",
              "      <td>0</td>\n",
              "      <td>0</td>\n",
              "      <td>Yes</td>\n",
              "      <td>Private</td>\n",
              "      <td>Urban</td>\n",
              "      <td>171.23</td>\n",
              "      <td>34.4</td>\n",
              "      <td>smokes</td>\n",
              "      <td>1</td>\n",
              "    </tr>\n",
              "    <tr>\n",
              "      <th>4</th>\n",
              "      <td>Female</td>\n",
              "      <td>79.0</td>\n",
              "      <td>1</td>\n",
              "      <td>0</td>\n",
              "      <td>Yes</td>\n",
              "      <td>Self-employed</td>\n",
              "      <td>Rural</td>\n",
              "      <td>174.12</td>\n",
              "      <td>24.0</td>\n",
              "      <td>never smoked</td>\n",
              "      <td>1</td>\n",
              "    </tr>\n",
              "    <tr>\n",
              "      <th>5</th>\n",
              "      <td>Male</td>\n",
              "      <td>81.0</td>\n",
              "      <td>0</td>\n",
              "      <td>0</td>\n",
              "      <td>Yes</td>\n",
              "      <td>Private</td>\n",
              "      <td>Urban</td>\n",
              "      <td>186.21</td>\n",
              "      <td>29.0</td>\n",
              "      <td>formerly smoked</td>\n",
              "      <td>1</td>\n",
              "    </tr>\n",
              "  </tbody>\n",
              "</table>\n",
              "</div>\n",
              "      <button class=\"colab-df-convert\" onclick=\"convertToInteractive('df-5090805c-562e-4c1a-9495-959861f7f6e8')\"\n",
              "              title=\"Convert this dataframe to an interactive table.\"\n",
              "              style=\"display:none;\">\n",
              "        \n",
              "  <svg xmlns=\"http://www.w3.org/2000/svg\" height=\"24px\"viewBox=\"0 0 24 24\"\n",
              "       width=\"24px\">\n",
              "    <path d=\"M0 0h24v24H0V0z\" fill=\"none\"/>\n",
              "    <path d=\"M18.56 5.44l.94 2.06.94-2.06 2.06-.94-2.06-.94-.94-2.06-.94 2.06-2.06.94zm-11 1L8.5 8.5l.94-2.06 2.06-.94-2.06-.94L8.5 2.5l-.94 2.06-2.06.94zm10 10l.94 2.06.94-2.06 2.06-.94-2.06-.94-.94-2.06-.94 2.06-2.06.94z\"/><path d=\"M17.41 7.96l-1.37-1.37c-.4-.4-.92-.59-1.43-.59-.52 0-1.04.2-1.43.59L10.3 9.45l-7.72 7.72c-.78.78-.78 2.05 0 2.83L4 21.41c.39.39.9.59 1.41.59.51 0 1.02-.2 1.41-.59l7.78-7.78 2.81-2.81c.8-.78.8-2.07 0-2.86zM5.41 20L4 18.59l7.72-7.72 1.47 1.35L5.41 20z\"/>\n",
              "  </svg>\n",
              "      </button>\n",
              "      \n",
              "  <style>\n",
              "    .colab-df-container {\n",
              "      display:flex;\n",
              "      flex-wrap:wrap;\n",
              "      gap: 12px;\n",
              "    }\n",
              "\n",
              "    .colab-df-convert {\n",
              "      background-color: #E8F0FE;\n",
              "      border: none;\n",
              "      border-radius: 50%;\n",
              "      cursor: pointer;\n",
              "      display: none;\n",
              "      fill: #1967D2;\n",
              "      height: 32px;\n",
              "      padding: 0 0 0 0;\n",
              "      width: 32px;\n",
              "    }\n",
              "\n",
              "    .colab-df-convert:hover {\n",
              "      background-color: #E2EBFA;\n",
              "      box-shadow: 0px 1px 2px rgba(60, 64, 67, 0.3), 0px 1px 3px 1px rgba(60, 64, 67, 0.15);\n",
              "      fill: #174EA6;\n",
              "    }\n",
              "\n",
              "    [theme=dark] .colab-df-convert {\n",
              "      background-color: #3B4455;\n",
              "      fill: #D2E3FC;\n",
              "    }\n",
              "\n",
              "    [theme=dark] .colab-df-convert:hover {\n",
              "      background-color: #434B5C;\n",
              "      box-shadow: 0px 1px 3px 1px rgba(0, 0, 0, 0.15);\n",
              "      filter: drop-shadow(0px 1px 2px rgba(0, 0, 0, 0.3));\n",
              "      fill: #FFFFFF;\n",
              "    }\n",
              "  </style>\n",
              "\n",
              "      <script>\n",
              "        const buttonEl =\n",
              "          document.querySelector('#df-5090805c-562e-4c1a-9495-959861f7f6e8 button.colab-df-convert');\n",
              "        buttonEl.style.display =\n",
              "          google.colab.kernel.accessAllowed ? 'block' : 'none';\n",
              "\n",
              "        async function convertToInteractive(key) {\n",
              "          const element = document.querySelector('#df-5090805c-562e-4c1a-9495-959861f7f6e8');\n",
              "          const dataTable =\n",
              "            await google.colab.kernel.invokeFunction('convertToInteractive',\n",
              "                                                     [key], {});\n",
              "          if (!dataTable) return;\n",
              "\n",
              "          const docLinkHtml = 'Like what you see? Visit the ' +\n",
              "            '<a target=\"_blank\" href=https://colab.research.google.com/notebooks/data_table.ipynb>data table notebook</a>'\n",
              "            + ' to learn more about interactive tables.';\n",
              "          element.innerHTML = '';\n",
              "          dataTable['output_type'] = 'display_data';\n",
              "          await google.colab.output.renderOutput(dataTable, element);\n",
              "          const docLink = document.createElement('div');\n",
              "          docLink.innerHTML = docLinkHtml;\n",
              "          element.appendChild(docLink);\n",
              "        }\n",
              "      </script>\n",
              "    </div>\n",
              "  </div>\n",
              "  "
            ]
          },
          "metadata": {},
          "execution_count": 49
        }
      ]
    },
    {
      "cell_type": "code",
      "source": [
        "sns.scatterplot(x= stroke['age'] ,y=stroke['gender'] , hue=stroke['stroke'],color='green')"
      ],
      "metadata": {
        "colab": {
          "base_uri": "https://localhost:8080/",
          "height": 296
        },
        "id": "k20lCUmmx7hR",
        "outputId": "cbe440ce-77f5-4b49-e71e-29be7f92dbc3"
      },
      "execution_count": null,
      "outputs": [
        {
          "output_type": "execute_result",
          "data": {
            "text/plain": [
              "<matplotlib.axes._subplots.AxesSubplot at 0x7fcf426f3a30>"
            ]
          },
          "metadata": {},
          "execution_count": 121
        },
        {
          "output_type": "display_data",
          "data": {
            "text/plain": [
              "<Figure size 432x288 with 1 Axes>"
            ],
            "image/png": "[encoded data removed]"
          },
          "metadata": {
            "needs_background": "light"
          }
        }
      ]
    },
    {
      "cell_type": "code",
      "source": [
        "sns.scatterplot(x= stroke['age'] ,y=stroke['smoking_status'] , hue=stroke['stroke'],color='green')"
      ],
      "metadata": {
        "colab": {
          "base_uri": "https://localhost:8080/",
          "height": 296
        },
        "id": "7jV6aGBrzU_R",
        "outputId": "b726fcb4-0956-4040-b48b-26f270ad443f"
      },
      "execution_count": null,
      "outputs": [
        {
          "output_type": "execute_result",
          "data": {
            "text/plain": [
              "<matplotlib.axes._subplots.AxesSubplot at 0x7fcf426bfbe0>"
            ]
          },
          "metadata": {},
          "execution_count": 122
        },
        {
          "output_type": "display_data",
          "data": {
            "text/plain": [
              "<Figure size 432x288 with 1 Axes>"
            ],
            "image/png": "[encoded data removed]"
          },
          "metadata": {
            "needs_background": "light"
          }
        }
      ]
    },
    {
      "cell_type": "code",
      "source": [
        "# calculating the count of the different type of gender that thay had stroke\n",
        "grouped = stroke.groupby('gender')\n",
        "grouped_sum = grouped['stroke'].sum()\n",
        "print(grouped_sum)\n",
        "print(grouped_sum/209*100)\n",
        "a = grouped_sum[0]\n",
        "b = grouped_sum[1]\n"
      ],
      "metadata": {
        "id": "_mb18svVhvP5",
        "colab": {
          "base_uri": "https://localhost:8080/"
        },
        "outputId": "90b9b5c4-db8f-47e6-f417-45c04d04ac92"
      },
      "execution_count": null,
      "outputs": [
        {
          "output_type": "stream",
          "name": "stdout",
          "text": [
            "gender\n",
            "Female    120\n",
            "Male       89\n",
            "Other       0\n",
            "Name: stroke, dtype: int64\n",
            "gender\n",
            "Female    57.416268\n",
            "Male      42.583732\n",
            "Other      0.000000\n",
            "Name: stroke, dtype: float64\n"
          ]
        }
      ]
    },
    {
      "cell_type": "code",
      "source": [
        "a , b"
      ],
      "metadata": {
        "colab": {
          "base_uri": "https://localhost:8080/"
        },
        "id": "Qjx4_KeZiW9a",
        "outputId": "38cb6b24-b14e-43b5-882e-094bf8e9932a"
      },
      "execution_count": null,
      "outputs": [
        {
          "output_type": "execute_result",
          "data": {
            "text/plain": [
              "(120, 89)"
            ]
          },
          "metadata": {},
          "execution_count": 387
        }
      ]
    },
    {
      "cell_type": "code",
      "source": [
        "def minoo(a,b):\n",
        "  plt.figure(figsize=[4,4])\n",
        "  left=[]\n",
        "  high=[]\n",
        "  for i in range(a):\n",
        "    left.append(i)\n",
        "    for j in range(len(b)):\n",
        "      high.append(j)\n",
        "  return(left,high)       "
      ],
      "metadata": {
        "id": "cMXoEydqoETI"
      },
      "execution_count": null,
      "outputs": []
    },
    {
      "cell_type": "code",
      "source": [
        "minoo(2,['min','mjn'])"
      ],
      "metadata": {
        "colab": {
          "base_uri": "https://localhost:8080/",
          "height": 52
        },
        "id": "MU93zSGvsXlz",
        "outputId": "91f3c04d-d657-46e2-804d-3f203ba504ae"
      },
      "execution_count": null,
      "outputs": [
        {
          "output_type": "execute_result",
          "data": {
            "text/plain": [
              "([0, 1], [0, 1, 0, 1])"
            ]
          },
          "metadata": {},
          "execution_count": 409
        },
        {
          "output_type": "display_data",
          "data": {
            "text/plain": [
              "<Figure size 288x288 with 0 Axes>"
            ]
          },
          "metadata": {}
        }
      ]
    },
    {
      "cell_type": "code",
      "source": [
        "plt.bar(left, high ,tick_label=tic  ,width=0.5 ,color=['yellow' ,'red','black'])"
      ],
      "metadata": {
        "colab": {
          "base_uri": "https://localhost:8080/",
          "height": 282
        },
        "id": "lLABEIMppady",
        "outputId": "bb6c5540-c5e5-4f9b-c7f3-c89a948a60e1"
      },
      "execution_count": null,
      "outputs": [
        {
          "output_type": "execute_result",
          "data": {
            "text/plain": [
              "<BarContainer object of 2 artists>"
            ]
          },
          "metadata": {},
          "execution_count": 398
        },
        {
          "output_type": "display_data",
          "data": {
            "text/plain": [
              "<Figure size 432x288 with 1 Axes>"
            ],
            "image/png": "[encoded data removed]"
          },
          "metadata": {
            "needs_background": "light"
          }
        }
      ]
    },
    {
      "cell_type": "code",
      "source": [
        "# calculating the two range of the age that they had stroke\n",
        "minoo = stroke[(stroke['stroke'] == 1) & (stroke['age'] >50)]\n",
        "arpi = stroke[(stroke['stroke'] == 1) & (stroke['age'] <50)]\n",
        "c=len(minoo)\n",
        "d=len(arpi)"
      ],
      "metadata": {
        "id": "eJiVS3q4gEa3"
      },
      "execution_count": null,
      "outputs": []
    },
    {
      "cell_type": "code",
      "source": [
        "a,b"
      ],
      "metadata": {
        "colab": {
          "base_uri": "https://localhost:8080/"
        },
        "id": "Minamj4BpHuz",
        "outputId": "e6407df0-43fc-45b8-ed69-8118bbd5fee9"
      },
      "execution_count": null,
      "outputs": [
        {
          "output_type": "execute_result",
          "data": {
            "text/plain": [
              "(188, 18)"
            ]
          },
          "metadata": {},
          "execution_count": 390
        }
      ]
    },
    {
      "cell_type": "code",
      "source": [],
      "metadata": {
        "id": "3uGEyVxhpJWd"
      },
      "execution_count": null,
      "outputs": []
    },
    {
      "cell_type": "code",
      "source": [
        "# calculating the count of the different type of hypertension that thay had stroke\n",
        "grouped = stroke.groupby('hypertension')\n",
        "grouped_sum = grouped['stroke'].sum()\n",
        "print(grouped_sum)\n",
        "print(grouped_sum/209*100)\n",
        "b = grouped_sum\n"
      ],
      "metadata": {
        "id": "teCBMlTOkX6N",
        "colab": {
          "base_uri": "https://localhost:8080/"
        },
        "outputId": "9f4acca5-5075-43d7-f29d-fc78fce0b0c0"
      },
      "execution_count": null,
      "outputs": [
        {
          "output_type": "stream",
          "name": "stdout",
          "text": [
            "hypertension\n",
            "0    149\n",
            "1     60\n",
            "Name: stroke, dtype: int64\n",
            "hypertension\n",
            "0    71.291866\n",
            "1    28.708134\n",
            "Name: stroke, dtype: float64\n"
          ]
        }
      ]
    },
    {
      "cell_type": "code",
      "source": [
        "b"
      ],
      "metadata": {
        "colab": {
          "base_uri": "https://localhost:8080/"
        },
        "id": "tE8Wg07yixhy",
        "outputId": "81a0806c-c6cc-45d8-a037-50f04b369382"
      },
      "execution_count": null,
      "outputs": [
        {
          "output_type": "execute_result",
          "data": {
            "text/plain": [
              "hypertension\n",
              "0    149\n",
              "1     60\n",
              "Name: stroke, dtype: int64"
            ]
          },
          "metadata": {},
          "execution_count": 345
        }
      ]
    },
    {
      "cell_type": "code",
      "source": [
        "sns.countplot(  , color='pink')"
      ],
      "metadata": {
        "colab": {
          "base_uri": "https://localhost:8080/",
          "height": 351
        },
        "id": "UgRbc8oMi2XO",
        "outputId": "eaedfd42-8a56-4e82-b64b-ebf24a8d966b"
      },
      "execution_count": null,
      "outputs": [
        {
          "output_type": "stream",
          "name": "stderr",
          "text": [
            "/usr/local/lib/python3.8/dist-packages/seaborn/_decorators.py:36: FutureWarning: Pass the following variable as a keyword arg: x. From version 0.12, the only valid positional argument will be `data`, and passing other arguments without an explicit keyword will result in an error or misinterpretation.\n",
            "  warnings.warn(\n"
          ]
        },
        {
          "output_type": "execute_result",
          "data": {
            "text/plain": [
              "<matplotlib.axes._subplots.AxesSubplot at 0x7fcf3627bc10>"
            ]
          },
          "metadata": {},
          "execution_count": 346
        },
        {
          "output_type": "display_data",
          "data": {
            "text/plain": [
              "<Figure size 432x288 with 1 Axes>"
            ],
            "image/png": "[encoded data removed]"
          },
          "metadata": {
            "needs_background": "light"
          }
        }
      ]
    },
    {
      "cell_type": "code",
      "source": [
        "# calculating the count of the different type of heart disease that thay had stroke\n",
        "grouped = stroke.groupby('heart_disease')\n",
        "grouped_sum = grouped['stroke'].sum()\n",
        "print(grouped_sum)\n",
        "print(grouped_sum/209*100)\n",
        "c = grouped_sum/209*100\n"
      ],
      "metadata": {
        "id": "9id6pl9AkuhS",
        "colab": {
          "base_uri": "https://localhost:8080/"
        },
        "outputId": "b21d4573-6682-45c6-e3e4-cfe290a197f2"
      },
      "execution_count": null,
      "outputs": [
        {
          "output_type": "stream",
          "name": "stdout",
          "text": [
            "heart_disease\n",
            "0    169\n",
            "1     40\n",
            "Name: stroke, dtype: int64\n",
            "heart_disease\n",
            "0    80.861244\n",
            "1    19.138756\n",
            "Name: stroke, dtype: float64\n"
          ]
        }
      ]
    },
    {
      "cell_type": "code",
      "source": [
        "# explane the meaning of heart disease numbers\n",
        "minoo = stroke[(stroke['stroke'] == 0) & (stroke['heart_disease'] ==0 )]\n",
        "arpi = stroke[(stroke['stroke'] == 0) & (stroke['heart_disease'] ==1 )]\n",
        "arpi1 = stroke[(stroke['stroke'] == 1) & (stroke['heart_disease'] ==0 )]\n",
        "arpi2 = stroke[(stroke['stroke'] == 1) & (stroke['heart_disease'] ==1 )]\n",
        "print(len(minoo))\n",
        "print(len(arpi))\n",
        "print(len(arpi1))\n",
        "print(len(arpi2))\n"
      ],
      "metadata": {
        "id": "JVP6wguslUq1",
        "colab": {
          "base_uri": "https://localhost:8080/"
        },
        "outputId": "c5f78698-c7a6-4309-dc5a-52535645f545"
      },
      "execution_count": null,
      "outputs": [
        {
          "output_type": "stream",
          "name": "stdout",
          "text": [
            "4497\n",
            "203\n",
            "169\n",
            "40\n"
          ]
        }
      ]
    },
    {
      "cell_type": "code",
      "source": [
        "# calculating the count of the different type of marrage station that thay had stroke\n",
        "grouped = stroke.groupby('ever_married')\n",
        "grouped_sum = grouped['stroke'].sum()\n",
        "print(grouped_sum)\n",
        "print(grouped_sum/209*100)\n"
      ],
      "metadata": {
        "id": "VOfbnsfUkkmm",
        "colab": {
          "base_uri": "https://localhost:8080/"
        },
        "outputId": "6ee89b05-e055-4dad-8400-46f175085bf1"
      },
      "execution_count": null,
      "outputs": [
        {
          "output_type": "stream",
          "name": "stdout",
          "text": [
            "ever_married\n",
            "No      23\n",
            "Yes    186\n",
            "Name: stroke, dtype: int64\n",
            "ever_married\n",
            "No     11.004785\n",
            "Yes    88.995215\n",
            "Name: stroke, dtype: float64\n"
          ]
        }
      ]
    },
    {
      "cell_type": "code",
      "source": [
        "# calculating the count of the different type of worke that thay had stroke\n",
        "grouped = stroke.groupby('work_type')\n",
        "grouped_sum = grouped['stroke'].sum()\n",
        "print(grouped_sum)\n",
        "print(grouped_sum/209*100)\n"
      ],
      "metadata": {
        "id": "U7WExFtmhpzG",
        "colab": {
          "base_uri": "https://localhost:8080/"
        },
        "outputId": "23e5c4d5-e197-4848-b52e-a926fa13d5fe"
      },
      "execution_count": null,
      "outputs": [
        {
          "output_type": "stream",
          "name": "stdout",
          "text": [
            "work_type\n",
            "Govt_job          28\n",
            "Never_worked       0\n",
            "Private          127\n",
            "Self-employed     53\n",
            "children           1\n",
            "Name: stroke, dtype: int64\n",
            "work_type\n",
            "Govt_job         13.397129\n",
            "Never_worked      0.000000\n",
            "Private          60.765550\n",
            "Self-employed    25.358852\n",
            "children          0.478469\n",
            "Name: stroke, dtype: float64\n"
          ]
        }
      ]
    },
    {
      "cell_type": "code",
      "source": [
        "# calculating the count of the different type of residence that thay had stroke\n",
        "grouped = stroke.groupby('Residence_type')\n",
        "grouped_sum = grouped['stroke'].sum()\n",
        "print(grouped_sum)\n",
        "print(grouped_sum/209*100)\n"
      ],
      "metadata": {
        "id": "Sv4XAhQR5vJi",
        "colab": {
          "base_uri": "https://localhost:8080/"
        },
        "outputId": "42739579-3f35-427b-f2cf-2822ae7773c1"
      },
      "execution_count": null,
      "outputs": [
        {
          "output_type": "stream",
          "name": "stdout",
          "text": [
            "Residence_type\n",
            "Rural    100\n",
            "Urban    109\n",
            "Name: stroke, dtype: int64\n",
            "Residence_type\n",
            "Rural    47.84689\n",
            "Urban    52.15311\n",
            "Name: stroke, dtype: float64\n"
          ]
        }
      ]
    },
    {
      "cell_type": "code",
      "source": [
        "# calculating the count of the different type of smoke status that thay had stroke\n",
        "grouped = stroke.groupby('smoking_status')\n",
        "grouped_sum = grouped['stroke'].sum()\n",
        "print(grouped_sum)\n",
        "print(grouped_sum/209*100)\n"
      ],
      "metadata": {
        "id": "fxC9MPIB55aS",
        "colab": {
          "base_uri": "https://localhost:8080/"
        },
        "outputId": "9851671a-cc0f-4061-e61c-3e1c36ba3e3a"
      },
      "execution_count": null,
      "outputs": [
        {
          "output_type": "stream",
          "name": "stdout",
          "text": [
            "smoking_status\n",
            "Unknown            29\n",
            "formerly smoked    57\n",
            "never smoked       84\n",
            "smokes             39\n",
            "Name: stroke, dtype: int64\n",
            "smoking_status\n",
            "Unknown            13.875598\n",
            "formerly smoked    27.272727\n",
            "never smoked       40.191388\n",
            "smokes             18.660287\n",
            "Name: stroke, dtype: float64\n"
          ]
        }
      ]
    },
    {
      "cell_type": "markdown",
      "source": [
        "# **working on data and prediction**"
      ],
      "metadata": {
        "id": "4vLXyxi7G-zR"
      }
    },
    {
      "cell_type": "code",
      "source": [
        "stroke"
      ],
      "metadata": {
        "colab": {
          "base_uri": "https://localhost:8080/",
          "height": 423
        },
        "id": "cFoc42xlNHY4",
        "outputId": "057d48d9-1e4a-43fd-85a8-fa81ad735a8c"
      },
      "execution_count": null,
      "outputs": [
        {
          "output_type": "execute_result",
          "data": {
            "text/plain": [
              "      gender  age  hypertension  heart_disease  ever_married  work_type  \\\n",
              "0          1   88             0              1             1          2   \n",
              "2          1  101             0              1             1          2   \n",
              "3          0   70             0              0             1          2   \n",
              "4          0  100             1              0             1          3   \n",
              "5          1  102             0              0             1          2   \n",
              "...      ...  ...           ...            ...           ...        ...   \n",
              "5104       0   34             0              0             0          4   \n",
              "5106       0  102             0              0             1          3   \n",
              "5107       0   56             0              0             1          3   \n",
              "5108       1   72             0              0             1          2   \n",
              "5109       0   65             0              0             1          0   \n",
              "\n",
              "      Residence_type  avg_glucose_level  bmi  smoking_status  stroke  \n",
              "0                  1               3734  239               1       1  \n",
              "2                  0               2429  198               2       1  \n",
              "3                  1               3309  217               3       1  \n",
              "4                  0               3318  113               2       1  \n",
              "5                  1               3367  163               1       1  \n",
              "...              ...                ...  ...             ...     ...  \n",
              "5104               0               2324   59               0       0  \n",
              "5106               1               2960  273               2       0  \n",
              "5107               0               1290  179               2       0  \n",
              "5108               0               3289  129               1       0  \n",
              "5109               1               1426  135               0       0  \n",
              "\n",
              "[4909 rows x 11 columns]"
            ],
            "text/html": [
              "\n",
              "  <div id=\"df-f1dbf543-297b-4f83-9e1a-6f4cb2858d22\">\n",
              "    <div class=\"colab-df-container\">\n",
              "      <div>\n",
              "<style scoped>\n",
              "    .dataframe tbody tr th:only-of-type {\n",
              "        vertical-align: middle;\n",
              "    }\n",
              "\n",
              "    .dataframe tbody tr th {\n",
              "        vertical-align: top;\n",
              "    }\n",
              "\n",
              "    .dataframe thead th {\n",
              "        text-align: right;\n",
              "    }\n",
              "</style>\n",
              "<table border=\"1\" class=\"dataframe\">\n",
              "  <thead>\n",
              "    <tr style=\"text-align: right;\">\n",
              "      <th></th>\n",
              "      <th>gender</th>\n",
              "      <th>age</th>\n",
              "      <th>hypertension</th>\n",
              "      <th>heart_disease</th>\n",
              "      <th>ever_married</th>\n",
              "      <th>work_type</th>\n",
              "      <th>Residence_type</th>\n",
              "      <th>avg_glucose_level</th>\n",
              "      <th>bmi</th>\n",
              "      <th>smoking_status</th>\n",
              "      <th>stroke</th>\n",
              "    </tr>\n",
              "  </thead>\n",
              "  <tbody>\n",
              "    <tr>\n",
              "      <th>0</th>\n",
              "      <td>1</td>\n",
              "      <td>88</td>\n",
              "      <td>0</td>\n",
              "      <td>1</td>\n",
              "      <td>1</td>\n",
              "      <td>2</td>\n",
              "      <td>1</td>\n",
              "      <td>3734</td>\n",
              "      <td>239</td>\n",
              "      <td>1</td>\n",
              "      <td>1</td>\n",
              "    </tr>\n",
              "    <tr>\n",
              "      <th>2</th>\n",
              "      <td>1</td>\n",
              "      <td>101</td>\n",
              "      <td>0</td>\n",
              "      <td>1</td>\n",
              "      <td>1</td>\n",
              "      <td>2</td>\n",
              "      <td>0</td>\n",
              "      <td>2429</td>\n",
              "      <td>198</td>\n",
              "      <td>2</td>\n",
              "      <td>1</td>\n",
              "    </tr>\n",
              "    <tr>\n",
              "      <th>3</th>\n",
              "      <td>0</td>\n",
              "      <td>70</td>\n",
              "      <td>0</td>\n",
              "      <td>0</td>\n",
              "      <td>1</td>\n",
              "      <td>2</td>\n",
              "      <td>1</td>\n",
              "      <td>3309</td>\n",
              "      <td>217</td>\n",
              "      <td>3</td>\n",
              "      <td>1</td>\n",
              "    </tr>\n",
              "    <tr>\n",
              "      <th>4</th>\n",
              "      <td>0</td>\n",
              "      <td>100</td>\n",
              "      <td>1</td>\n",
              "      <td>0</td>\n",
              "      <td>1</td>\n",
              "      <td>3</td>\n",
              "      <td>0</td>\n",
              "      <td>3318</td>\n",
              "      <td>113</td>\n",
              "      <td>2</td>\n",
              "      <td>1</td>\n",
              "    </tr>\n",
              "    <tr>\n",
              "      <th>5</th>\n",
              "      <td>1</td>\n",
              "      <td>102</td>\n",
              "      <td>0</td>\n",
              "      <td>0</td>\n",
              "      <td>1</td>\n",
              "      <td>2</td>\n",
              "      <td>1</td>\n",
              "      <td>3367</td>\n",
              "      <td>163</td>\n",
              "      <td>1</td>\n",
              "      <td>1</td>\n",
              "    </tr>\n",
              "    <tr>\n",
              "      <th>...</th>\n",
              "      <td>...</td>\n",
              "      <td>...</td>\n",
              "      <td>...</td>\n",
              "      <td>...</td>\n",
              "      <td>...</td>\n",
              "      <td>...</td>\n",
              "      <td>...</td>\n",
              "      <td>...</td>\n",
              "      <td>...</td>\n",
              "      <td>...</td>\n",
              "      <td>...</td>\n",
              "    </tr>\n",
              "    <tr>\n",
              "      <th>5104</th>\n",
              "      <td>0</td>\n",
              "      <td>34</td>\n",
              "      <td>0</td>\n",
              "      <td>0</td>\n",
              "      <td>0</td>\n",
              "      <td>4</td>\n",
              "      <td>0</td>\n",
              "      <td>2324</td>\n",
              "      <td>59</td>\n",
              "      <td>0</td>\n",
              "      <td>0</td>\n",
              "    </tr>\n",
              "    <tr>\n",
              "      <th>5106</th>\n",
              "      <td>0</td>\n",
              "      <td>102</td>\n",
              "      <td>0</td>\n",
              "      <td>0</td>\n",
              "      <td>1</td>\n",
              "      <td>3</td>\n",
              "      <td>1</td>\n",
              "      <td>2960</td>\n",
              "      <td>273</td>\n",
              "      <td>2</td>\n",
              "      <td>0</td>\n",
              "    </tr>\n",
              "    <tr>\n",
              "      <th>5107</th>\n",
              "      <td>0</td>\n",
              "      <td>56</td>\n",
              "      <td>0</td>\n",
              "      <td>0</td>\n",
              "      <td>1</td>\n",
              "      <td>3</td>\n",
              "      <td>0</td>\n",
              "      <td>1290</td>\n",
              "      <td>179</td>\n",
              "      <td>2</td>\n",
              "      <td>0</td>\n",
              "    </tr>\n",
              "    <tr>\n",
              "      <th>5108</th>\n",
              "      <td>1</td>\n",
              "      <td>72</td>\n",
              "      <td>0</td>\n",
              "      <td>0</td>\n",
              "      <td>1</td>\n",
              "      <td>2</td>\n",
              "      <td>0</td>\n",
              "      <td>3289</td>\n",
              "      <td>129</td>\n",
              "      <td>1</td>\n",
              "      <td>0</td>\n",
              "    </tr>\n",
              "    <tr>\n",
              "      <th>5109</th>\n",
              "      <td>0</td>\n",
              "      <td>65</td>\n",
              "      <td>0</td>\n",
              "      <td>0</td>\n",
              "      <td>1</td>\n",
              "      <td>0</td>\n",
              "      <td>1</td>\n",
              "      <td>1426</td>\n",
              "      <td>135</td>\n",
              "      <td>0</td>\n",
              "      <td>0</td>\n",
              "    </tr>\n",
              "  </tbody>\n",
              "</table>\n",
              "<p>4909 rows × 11 columns</p>\n",
              "</div>\n",
              "      <button class=\"colab-df-convert\" onclick=\"convertToInteractive('df-f1dbf543-297b-4f83-9e1a-6f4cb2858d22')\"\n",
              "              title=\"Convert this dataframe to an interactive table.\"\n",
              "              style=\"display:none;\">\n",
              "        \n",
              "  <svg xmlns=\"http://www.w3.org/2000/svg\" height=\"24px\"viewBox=\"0 0 24 24\"\n",
              "       width=\"24px\">\n",
              "    <path d=\"M0 0h24v24H0V0z\" fill=\"none\"/>\n",
              "    <path d=\"M18.56 5.44l.94 2.06.94-2.06 2.06-.94-2.06-.94-.94-2.06-.94 2.06-2.06.94zm-11 1L8.5 8.5l.94-2.06 2.06-.94-2.06-.94L8.5 2.5l-.94 2.06-2.06.94zm10 10l.94 2.06.94-2.06 2.06-.94-2.06-.94-.94-2.06-.94 2.06-2.06.94z\"/><path d=\"M17.41 7.96l-1.37-1.37c-.4-.4-.92-.59-1.43-.59-.52 0-1.04.2-1.43.59L10.3 9.45l-7.72 7.72c-.78.78-.78 2.05 0 2.83L4 21.41c.39.39.9.59 1.41.59.51 0 1.02-.2 1.41-.59l7.78-7.78 2.81-2.81c.8-.78.8-2.07 0-2.86zM5.41 20L4 18.59l7.72-7.72 1.47 1.35L5.41 20z\"/>\n",
              "  </svg>\n",
              "      </button>\n",
              "      \n",
              "  <style>\n",
              "    .colab-df-container {\n",
              "      display:flex;\n",
              "      flex-wrap:wrap;\n",
              "      gap: 12px;\n",
              "    }\n",
              "\n",
              "    .colab-df-convert {\n",
              "      background-color: #E8F0FE;\n",
              "      border: none;\n",
              "      border-radius: 50%;\n",
              "      cursor: pointer;\n",
              "      display: none;\n",
              "      fill: #1967D2;\n",
              "      height: 32px;\n",
              "      padding: 0 0 0 0;\n",
              "      width: 32px;\n",
              "    }\n",
              "\n",
              "    .colab-df-convert:hover {\n",
              "      background-color: #E2EBFA;\n",
              "      box-shadow: 0px 1px 2px rgba(60, 64, 67, 0.3), 0px 1px 3px 1px rgba(60, 64, 67, 0.15);\n",
              "      fill: #174EA6;\n",
              "    }\n",
              "\n",
              "    [theme=dark] .colab-df-convert {\n",
              "      background-color: #3B4455;\n",
              "      fill: #D2E3FC;\n",
              "    }\n",
              "\n",
              "    [theme=dark] .colab-df-convert:hover {\n",
              "      background-color: #434B5C;\n",
              "      box-shadow: 0px 1px 3px 1px rgba(0, 0, 0, 0.15);\n",
              "      filter: drop-shadow(0px 1px 2px rgba(0, 0, 0, 0.3));\n",
              "      fill: #FFFFFF;\n",
              "    }\n",
              "  </style>\n",
              "\n",
              "      <script>\n",
              "        const buttonEl =\n",
              "          document.querySelector('#df-f1dbf543-297b-4f83-9e1a-6f4cb2858d22 button.colab-df-convert');\n",
              "        buttonEl.style.display =\n",
              "          google.colab.kernel.accessAllowed ? 'block' : 'none';\n",
              "\n",
              "        async function convertToInteractive(key) {\n",
              "          const element = document.querySelector('#df-f1dbf543-297b-4f83-9e1a-6f4cb2858d22');\n",
              "          const dataTable =\n",
              "            await google.colab.kernel.invokeFunction('convertToInteractive',\n",
              "                                                     [key], {});\n",
              "          if (!dataTable) return;\n",
              "\n",
              "          const docLinkHtml = 'Like what you see? Visit the ' +\n",
              "            '<a target=\"_blank\" href=https://colab.research.google.com/notebooks/data_table.ipynb>data table notebook</a>'\n",
              "            + ' to learn more about interactive tables.';\n",
              "          element.innerHTML = '';\n",
              "          dataTable['output_type'] = 'display_data';\n",
              "          await google.colab.output.renderOutput(dataTable, element);\n",
              "          const docLink = document.createElement('div');\n",
              "          docLink.innerHTML = docLinkHtml;\n",
              "          element.appendChild(docLink);\n",
              "        }\n",
              "      </script>\n",
              "    </div>\n",
              "  </div>\n",
              "  "
            ]
          },
          "metadata": {},
          "execution_count": 170
        }
      ]
    },
    {
      "cell_type": "code",
      "source": [
        "# defining function for changing string values to numeric values for better modelling in prediction\n",
        "from sklearn import preprocessing\n",
        "def strtoint(convert):\n",
        "    le = preprocessing.LabelEncoder()\n",
        "    for column in convert.columns:\n",
        "        convert[column] = le.fit_transform(convert[column])\n",
        "    return convert"
      ],
      "metadata": {
        "id": "rDUY-RwzH_nX"
      },
      "execution_count": null,
      "outputs": []
    },
    {
      "cell_type": "code",
      "source": [
        "strtoint(stroke)"
      ],
      "metadata": {
        "id": "Tq8c34KpIHM5",
        "colab": {
          "base_uri": "https://localhost:8080/",
          "height": 423
        },
        "outputId": "bc84db54-d695-4b86-979a-074547c6cd57"
      },
      "execution_count": null,
      "outputs": [
        {
          "output_type": "execute_result",
          "data": {
            "text/plain": [
              "      gender  age  hypertension  heart_disease  ever_married  work_type  \\\n",
              "0          1   88             0              1             1          2   \n",
              "2          1  101             0              1             1          2   \n",
              "3          0   70             0              0             1          2   \n",
              "4          0  100             1              0             1          3   \n",
              "5          1  102             0              0             1          2   \n",
              "...      ...  ...           ...            ...           ...        ...   \n",
              "5104       0   34             0              0             0          4   \n",
              "5106       0  102             0              0             1          3   \n",
              "5107       0   56             0              0             1          3   \n",
              "5108       1   72             0              0             1          2   \n",
              "5109       0   65             0              0             1          0   \n",
              "\n",
              "      Residence_type  avg_glucose_level  bmi  smoking_status  stroke  \n",
              "0                  1               3734  239               1       1  \n",
              "2                  0               2429  198               2       1  \n",
              "3                  1               3309  217               3       1  \n",
              "4                  0               3318  113               2       1  \n",
              "5                  1               3367  163               1       1  \n",
              "...              ...                ...  ...             ...     ...  \n",
              "5104               0               2324   59               0       0  \n",
              "5106               1               2960  273               2       0  \n",
              "5107               0               1290  179               2       0  \n",
              "5108               0               3289  129               1       0  \n",
              "5109               1               1426  135               0       0  \n",
              "\n",
              "[4909 rows x 11 columns]"
            ],
            "text/html": [
              "\n",
              "  <div id=\"df-5e5c9db5-ad70-4400-af24-afed55f1ab9e\">\n",
              "    <div class=\"colab-df-container\">\n",
              "      <div>\n",
              "<style scoped>\n",
              "    .dataframe tbody tr th:only-of-type {\n",
              "        vertical-align: middle;\n",
              "    }\n",
              "\n",
              "    .dataframe tbody tr th {\n",
              "        vertical-align: top;\n",
              "    }\n",
              "\n",
              "    .dataframe thead th {\n",
              "        text-align: right;\n",
              "    }\n",
              "</style>\n",
              "<table border=\"1\" class=\"dataframe\">\n",
              "  <thead>\n",
              "    <tr style=\"text-align: right;\">\n",
              "      <th></th>\n",
              "      <th>gender</th>\n",
              "      <th>age</th>\n",
              "      <th>hypertension</th>\n",
              "      <th>heart_disease</th>\n",
              "      <th>ever_married</th>\n",
              "      <th>work_type</th>\n",
              "      <th>Residence_type</th>\n",
              "      <th>avg_glucose_level</th>\n",
              "      <th>bmi</th>\n",
              "      <th>smoking_status</th>\n",
              "      <th>stroke</th>\n",
              "    </tr>\n",
              "  </thead>\n",
              "  <tbody>\n",
              "    <tr>\n",
              "      <th>0</th>\n",
              "      <td>1</td>\n",
              "      <td>88</td>\n",
              "      <td>0</td>\n",
              "      <td>1</td>\n",
              "      <td>1</td>\n",
              "      <td>2</td>\n",
              "      <td>1</td>\n",
              "      <td>3734</td>\n",
              "      <td>239</td>\n",
              "      <td>1</td>\n",
              "      <td>1</td>\n",
              "    </tr>\n",
              "    <tr>\n",
              "      <th>2</th>\n",
              "      <td>1</td>\n",
              "      <td>101</td>\n",
              "      <td>0</td>\n",
              "      <td>1</td>\n",
              "      <td>1</td>\n",
              "      <td>2</td>\n",
              "      <td>0</td>\n",
              "      <td>2429</td>\n",
              "      <td>198</td>\n",
              "      <td>2</td>\n",
              "      <td>1</td>\n",
              "    </tr>\n",
              "    <tr>\n",
              "      <th>3</th>\n",
              "      <td>0</td>\n",
              "      <td>70</td>\n",
              "      <td>0</td>\n",
              "      <td>0</td>\n",
              "      <td>1</td>\n",
              "      <td>2</td>\n",
              "      <td>1</td>\n",
              "      <td>3309</td>\n",
              "      <td>217</td>\n",
              "      <td>3</td>\n",
              "      <td>1</td>\n",
              "    </tr>\n",
              "    <tr>\n",
              "      <th>4</th>\n",
              "      <td>0</td>\n",
              "      <td>100</td>\n",
              "      <td>1</td>\n",
              "      <td>0</td>\n",
              "      <td>1</td>\n",
              "      <td>3</td>\n",
              "      <td>0</td>\n",
              "      <td>3318</td>\n",
              "      <td>113</td>\n",
              "      <td>2</td>\n",
              "      <td>1</td>\n",
              "    </tr>\n",
              "    <tr>\n",
              "      <th>5</th>\n",
              "      <td>1</td>\n",
              "      <td>102</td>\n",
              "      <td>0</td>\n",
              "      <td>0</td>\n",
              "      <td>1</td>\n",
              "      <td>2</td>\n",
              "      <td>1</td>\n",
              "      <td>3367</td>\n",
              "      <td>163</td>\n",
              "      <td>1</td>\n",
              "      <td>1</td>\n",
              "    </tr>\n",
              "    <tr>\n",
              "      <th>...</th>\n",
              "      <td>...</td>\n",
              "      <td>...</td>\n",
              "      <td>...</td>\n",
              "      <td>...</td>\n",
              "      <td>...</td>\n",
              "      <td>...</td>\n",
              "      <td>...</td>\n",
              "      <td>...</td>\n",
              "      <td>...</td>\n",
              "      <td>...</td>\n",
              "      <td>...</td>\n",
              "    </tr>\n",
              "    <tr>\n",
              "      <th>5104</th>\n",
              "      <td>0</td>\n",
              "      <td>34</td>\n",
              "      <td>0</td>\n",
              "      <td>0</td>\n",
              "      <td>0</td>\n",
              "      <td>4</td>\n",
              "      <td>0</td>\n",
              "      <td>2324</td>\n",
              "      <td>59</td>\n",
              "      <td>0</td>\n",
              "      <td>0</td>\n",
              "    </tr>\n",
              "    <tr>\n",
              "      <th>5106</th>\n",
              "      <td>0</td>\n",
              "      <td>102</td>\n",
              "      <td>0</td>\n",
              "      <td>0</td>\n",
              "      <td>1</td>\n",
              "      <td>3</td>\n",
              "      <td>1</td>\n",
              "      <td>2960</td>\n",
              "      <td>273</td>\n",
              "      <td>2</td>\n",
              "      <td>0</td>\n",
              "    </tr>\n",
              "    <tr>\n",
              "      <th>5107</th>\n",
              "      <td>0</td>\n",
              "      <td>56</td>\n",
              "      <td>0</td>\n",
              "      <td>0</td>\n",
              "      <td>1</td>\n",
              "      <td>3</td>\n",
              "      <td>0</td>\n",
              "      <td>1290</td>\n",
              "      <td>179</td>\n",
              "      <td>2</td>\n",
              "      <td>0</td>\n",
              "    </tr>\n",
              "    <tr>\n",
              "      <th>5108</th>\n",
              "      <td>1</td>\n",
              "      <td>72</td>\n",
              "      <td>0</td>\n",
              "      <td>0</td>\n",
              "      <td>1</td>\n",
              "      <td>2</td>\n",
              "      <td>0</td>\n",
              "      <td>3289</td>\n",
              "      <td>129</td>\n",
              "      <td>1</td>\n",
              "      <td>0</td>\n",
              "    </tr>\n",
              "    <tr>\n",
              "      <th>5109</th>\n",
              "      <td>0</td>\n",
              "      <td>65</td>\n",
              "      <td>0</td>\n",
              "      <td>0</td>\n",
              "      <td>1</td>\n",
              "      <td>0</td>\n",
              "      <td>1</td>\n",
              "      <td>1426</td>\n",
              "      <td>135</td>\n",
              "      <td>0</td>\n",
              "      <td>0</td>\n",
              "    </tr>\n",
              "  </tbody>\n",
              "</table>\n",
              "<p>4909 rows × 11 columns</p>\n",
              "</div>\n",
              "      <button class=\"colab-df-convert\" onclick=\"convertToInteractive('df-5e5c9db5-ad70-4400-af24-afed55f1ab9e')\"\n",
              "              title=\"Convert this dataframe to an interactive table.\"\n",
              "              style=\"display:none;\">\n",
              "        \n",
              "  <svg xmlns=\"http://www.w3.org/2000/svg\" height=\"24px\"viewBox=\"0 0 24 24\"\n",
              "       width=\"24px\">\n",
              "    <path d=\"M0 0h24v24H0V0z\" fill=\"none\"/>\n",
              "    <path d=\"M18.56 5.44l.94 2.06.94-2.06 2.06-.94-2.06-.94-.94-2.06-.94 2.06-2.06.94zm-11 1L8.5 8.5l.94-2.06 2.06-.94-2.06-.94L8.5 2.5l-.94 2.06-2.06.94zm10 10l.94 2.06.94-2.06 2.06-.94-2.06-.94-.94-2.06-.94 2.06-2.06.94z\"/><path d=\"M17.41 7.96l-1.37-1.37c-.4-.4-.92-.59-1.43-.59-.52 0-1.04.2-1.43.59L10.3 9.45l-7.72 7.72c-.78.78-.78 2.05 0 2.83L4 21.41c.39.39.9.59 1.41.59.51 0 1.02-.2 1.41-.59l7.78-7.78 2.81-2.81c.8-.78.8-2.07 0-2.86zM5.41 20L4 18.59l7.72-7.72 1.47 1.35L5.41 20z\"/>\n",
              "  </svg>\n",
              "      </button>\n",
              "      \n",
              "  <style>\n",
              "    .colab-df-container {\n",
              "      display:flex;\n",
              "      flex-wrap:wrap;\n",
              "      gap: 12px;\n",
              "    }\n",
              "\n",
              "    .colab-df-convert {\n",
              "      background-color: #E8F0FE;\n",
              "      border: none;\n",
              "      border-radius: 50%;\n",
              "      cursor: pointer;\n",
              "      display: none;\n",
              "      fill: #1967D2;\n",
              "      height: 32px;\n",
              "      padding: 0 0 0 0;\n",
              "      width: 32px;\n",
              "    }\n",
              "\n",
              "    .colab-df-convert:hover {\n",
              "      background-color: #E2EBFA;\n",
              "      box-shadow: 0px 1px 2px rgba(60, 64, 67, 0.3), 0px 1px 3px 1px rgba(60, 64, 67, 0.15);\n",
              "      fill: #174EA6;\n",
              "    }\n",
              "\n",
              "    [theme=dark] .colab-df-convert {\n",
              "      background-color: #3B4455;\n",
              "      fill: #D2E3FC;\n",
              "    }\n",
              "\n",
              "    [theme=dark] .colab-df-convert:hover {\n",
              "      background-color: #434B5C;\n",
              "      box-shadow: 0px 1px 3px 1px rgba(0, 0, 0, 0.15);\n",
              "      filter: drop-shadow(0px 1px 2px rgba(0, 0, 0, 0.3));\n",
              "      fill: #FFFFFF;\n",
              "    }\n",
              "  </style>\n",
              "\n",
              "      <script>\n",
              "        const buttonEl =\n",
              "          document.querySelector('#df-5e5c9db5-ad70-4400-af24-afed55f1ab9e button.colab-df-convert');\n",
              "        buttonEl.style.display =\n",
              "          google.colab.kernel.accessAllowed ? 'block' : 'none';\n",
              "\n",
              "        async function convertToInteractive(key) {\n",
              "          const element = document.querySelector('#df-5e5c9db5-ad70-4400-af24-afed55f1ab9e');\n",
              "          const dataTable =\n",
              "            await google.colab.kernel.invokeFunction('convertToInteractive',\n",
              "                                                     [key], {});\n",
              "          if (!dataTable) return;\n",
              "\n",
              "          const docLinkHtml = 'Like what you see? Visit the ' +\n",
              "            '<a target=\"_blank\" href=https://colab.research.google.com/notebooks/data_table.ipynb>data table notebook</a>'\n",
              "            + ' to learn more about interactive tables.';\n",
              "          element.innerHTML = '';\n",
              "          dataTable['output_type'] = 'display_data';\n",
              "          await google.colab.output.renderOutput(dataTable, element);\n",
              "          const docLink = document.createElement('div');\n",
              "          docLink.innerHTML = docLinkHtml;\n",
              "          element.appendChild(docLink);\n",
              "        }\n",
              "      </script>\n",
              "    </div>\n",
              "  </div>\n",
              "  "
            ]
          },
          "metadata": {},
          "execution_count": 141
        }
      ]
    },
    {
      "cell_type": "code",
      "source": [
        "x=stroke.drop('stroke' ,axis=1).values\n",
        "y=stroke['stroke'].values"
      ],
      "metadata": {
        "id": "4r41LGZjGHsV"
      },
      "execution_count": null,
      "outputs": []
    },
    {
      "cell_type": "code",
      "source": [
        "from sklearn.model_selection import train_test_split\n",
        "x_train , x_test , y_train , y_test = train_test_split(x,y , test_size=0.2 , random_state=0)"
      ],
      "metadata": {
        "id": "adQsUY-aFZJV"
      },
      "execution_count": null,
      "outputs": []
    },
    {
      "cell_type": "code",
      "source": [
        "unique, counts = np.unique( y_train, return_counts=True)\n",
        "print (np.asarray((unique, counts)).T)\n",
        "unique, counts = np.unique( y_test, return_counts=True)\n",
        "print (np.asarray((unique, counts)).T)"
      ],
      "metadata": {
        "colab": {
          "base_uri": "https://localhost:8080/"
        },
        "id": "AWgIbWgttPZH",
        "outputId": "50d8cb73-df84-4bc2-ec75-8bc4c0659052"
      },
      "execution_count": null,
      "outputs": [
        {
          "output_type": "stream",
          "name": "stdout",
          "text": [
            "[[   0 3761]\n",
            " [   1  166]]\n",
            "[[  0 939]\n",
            " [  1  43]]\n"
          ]
        }
      ]
    },
    {
      "cell_type": "code",
      "source": [
        "from collections import Counter\n",
        "from sklearn.datasets import make_classification\n",
        "from imblearn.over_sampling import SMOTE\n",
        "from matplotlib import pyplot\n",
        "from numpy import where"
      ],
      "metadata": {
        "id": "RyI2uxz5uIDV"
      },
      "execution_count": null,
      "outputs": []
    },
    {
      "cell_type": "code",
      "source": [
        "counter = Counter(y_train)"
      ],
      "metadata": {
        "id": "mWfJ_LWst7Oa"
      },
      "execution_count": null,
      "outputs": []
    },
    {
      "cell_type": "code",
      "source": [
        "for label, _ in counter.items():\n",
        " row_ix = where(y_train == label)[0]\n",
        " pyplot.scatter(x_train[row_ix, 0], x_train[row_ix, 1], label=str(label))\n",
        "pyplot.legend()\n",
        "pyplot.show()"
      ],
      "metadata": {
        "colab": {
          "base_uri": "https://localhost:8080/",
          "height": 265
        },
        "id": "i5E0Zbf8tqUn",
        "outputId": "1720e0db-b4cc-415e-8e90-85cdf295adf7"
      },
      "execution_count": null,
      "outputs": [
        {
          "output_type": "display_data",
          "data": {
            "text/plain": [
              "<Figure size 432x288 with 1 Axes>"
            ],
            "image/png": "[encoded data removed]"
          },
          "metadata": {
            "needs_background": "light"
          }
        }
      ]
    },
    {
      "cell_type": "markdown",
      "source": [
        "our data is not balance so we use SMOTE to balance data.\n",
        "What is SMOTE? https://machinelearningmastery.com/smote-oversampling-for-imbalanced-classification/"
      ],
      "metadata": {
        "id": "_SYshSH4tcxR"
      }
    },
    {
      "cell_type": "code",
      "source": [
        "from imblearn.over_sampling import SMOTE"
      ],
      "metadata": {
        "id": "b7WNHhRgsocz"
      },
      "execution_count": null,
      "outputs": []
    },
    {
      "cell_type": "code",
      "source": [
        "sm=SMOTE(random_state=0)\n",
        "X_res, y_res = sm.fit_resample(x_train,y_train)"
      ],
      "metadata": {
        "id": "jjorj0zGsDQY"
      },
      "execution_count": null,
      "outputs": []
    },
    {
      "cell_type": "code",
      "source": [
        "unique, counts = np.unique( y_res, return_counts=True)\n",
        "print (np.asarray((unique, counts)).T)\n",
        "unique, counts = np.unique( y_test, return_counts=True)\n",
        "print (np.asarray((unique, counts)).T)"
      ],
      "metadata": {
        "colab": {
          "base_uri": "https://localhost:8080/"
        },
        "id": "ZjqTh-QQt4-t",
        "outputId": "636d776d-6b6c-4b19-a678-782df2b2825b"
      },
      "execution_count": null,
      "outputs": [
        {
          "output_type": "stream",
          "name": "stdout",
          "text": [
            "[[   0 3761]\n",
            " [   1 3761]]\n",
            "[[  0 939]\n",
            " [  1  43]]\n"
          ]
        }
      ]
    },
    {
      "cell_type": "code",
      "source": [
        "counter = Counter(y_res)\n",
        "for label, _ in counter.items():\n",
        " row_ix = where(y_res == label)[0]\n",
        " pyplot.scatter(X_res[row_ix, 0], X_res[row_ix, 1], label=str(label))\n",
        "pyplot.legend()\n",
        "pyplot.show()"
      ],
      "metadata": {
        "colab": {
          "base_uri": "https://localhost:8080/",
          "height": 265
        },
        "id": "bB5guQVqurXV",
        "outputId": "fff722d0-6b48-4eb5-eafc-3e85305348eb"
      },
      "execution_count": null,
      "outputs": [
        {
          "output_type": "display_data",
          "data": {
            "text/plain": [
              "<Figure size 432x288 with 1 Axes>"
            ],
            "image/png": "[encoded data removed]"
          },
          "metadata": {
            "needs_background": "light"
          }
        }
      ]
    },
    {
      "cell_type": "markdown",
      "source": [
        "**LogesticRegration Model**"
      ],
      "metadata": {
        "id": "XZ2VzNufrywB"
      }
    },
    {
      "cell_type": "code",
      "source": [
        "# we use this model before balancing ---> the prediction in our stroke = 1 is bad \n",
        "from sklearn.linear_model import LogisticRegression\n",
        "lo= LogisticRegression(random_state=0)\n",
        "lo.fit(x_train, y_train)\n",
        "y_predict = lo.predict(x_test)\n",
        "from sklearn.metrics import classification_report\n",
        "print(classification_report(y_test , y_predict))\n",
        "pd.crosstab(y_test , y_predict)"
      ],
      "metadata": {
        "id": "fo5WMCupNiJJ",
        "colab": {
          "base_uri": "https://localhost:8080/",
          "height": 438
        },
        "outputId": "6d58815b-6653-45e4-c014-b002bc98c361"
      },
      "execution_count": null,
      "outputs": [
        {
          "output_type": "stream",
          "name": "stdout",
          "text": [
            "              precision    recall  f1-score   support\n",
            "\n",
            "           0       0.96      1.00      0.98       939\n",
            "           1       0.20      0.02      0.04        43\n",
            "\n",
            "    accuracy                           0.95       982\n",
            "   macro avg       0.58      0.51      0.51       982\n",
            "weighted avg       0.92      0.95      0.94       982\n",
            "\n"
          ]
        },
        {
          "output_type": "stream",
          "name": "stderr",
          "text": [
            "/usr/local/lib/python3.8/dist-packages/sklearn/linear_model/_logistic.py:814: ConvergenceWarning: lbfgs failed to converge (status=1):\n",
            "STOP: TOTAL NO. of ITERATIONS REACHED LIMIT.\n",
            "\n",
            "Increase the number of iterations (max_iter) or scale the data as shown in:\n",
            "    https://scikit-learn.org/stable/modules/preprocessing.html\n",
            "Please also refer to the documentation for alternative solver options:\n",
            "    https://scikit-learn.org/stable/modules/linear_model.html#logistic-regression\n",
            "  n_iter_i = _check_optimize_result(\n"
          ]
        },
        {
          "output_type": "execute_result",
          "data": {
            "text/plain": [
              "col_0    0  1\n",
              "row_0        \n",
              "0      935  4\n",
              "1       42  1"
            ],
            "text/html": [
              "\n",
              "  <div id=\"df-d2fd8b9b-fb1b-4221-a77f-fedef929b3c1\">\n",
              "    <div class=\"colab-df-container\">\n",
              "      <div>\n",
              "<style scoped>\n",
              "    .dataframe tbody tr th:only-of-type {\n",
              "        vertical-align: middle;\n",
              "    }\n",
              "\n",
              "    .dataframe tbody tr th {\n",
              "        vertical-align: top;\n",
              "    }\n",
              "\n",
              "    .dataframe thead th {\n",
              "        text-align: right;\n",
              "    }\n",
              "</style>\n",
              "<table border=\"1\" class=\"dataframe\">\n",
              "  <thead>\n",
              "    <tr style=\"text-align: right;\">\n",
              "      <th>col_0</th>\n",
              "      <th>0</th>\n",
              "      <th>1</th>\n",
              "    </tr>\n",
              "    <tr>\n",
              "      <th>row_0</th>\n",
              "      <th></th>\n",
              "      <th></th>\n",
              "    </tr>\n",
              "  </thead>\n",
              "  <tbody>\n",
              "    <tr>\n",
              "      <th>0</th>\n",
              "      <td>935</td>\n",
              "      <td>4</td>\n",
              "    </tr>\n",
              "    <tr>\n",
              "      <th>1</th>\n",
              "      <td>42</td>\n",
              "      <td>1</td>\n",
              "    </tr>\n",
              "  </tbody>\n",
              "</table>\n",
              "</div>\n",
              "      <button class=\"colab-df-convert\" onclick=\"convertToInteractive('df-d2fd8b9b-fb1b-4221-a77f-fedef929b3c1')\"\n",
              "              title=\"Convert this dataframe to an interactive table.\"\n",
              "              style=\"display:none;\">\n",
              "        \n",
              "  <svg xmlns=\"http://www.w3.org/2000/svg\" height=\"24px\"viewBox=\"0 0 24 24\"\n",
              "       width=\"24px\">\n",
              "    <path d=\"M0 0h24v24H0V0z\" fill=\"none\"/>\n",
              "    <path d=\"M18.56 5.44l.94 2.06.94-2.06 2.06-.94-2.06-.94-.94-2.06-.94 2.06-2.06.94zm-11 1L8.5 8.5l.94-2.06 2.06-.94-2.06-.94L8.5 2.5l-.94 2.06-2.06.94zm10 10l.94 2.06.94-2.06 2.06-.94-2.06-.94-.94-2.06-.94 2.06-2.06.94z\"/><path d=\"M17.41 7.96l-1.37-1.37c-.4-.4-.92-.59-1.43-.59-.52 0-1.04.2-1.43.59L10.3 9.45l-7.72 7.72c-.78.78-.78 2.05 0 2.83L4 21.41c.39.39.9.59 1.41.59.51 0 1.02-.2 1.41-.59l7.78-7.78 2.81-2.81c.8-.78.8-2.07 0-2.86zM5.41 20L4 18.59l7.72-7.72 1.47 1.35L5.41 20z\"/>\n",
              "  </svg>\n",
              "      </button>\n",
              "      \n",
              "  <style>\n",
              "    .colab-df-container {\n",
              "      display:flex;\n",
              "      flex-wrap:wrap;\n",
              "      gap: 12px;\n",
              "    }\n",
              "\n",
              "    .colab-df-convert {\n",
              "      background-color: #E8F0FE;\n",
              "      border: none;\n",
              "      border-radius: 50%;\n",
              "      cursor: pointer;\n",
              "      display: none;\n",
              "      fill: #1967D2;\n",
              "      height: 32px;\n",
              "      padding: 0 0 0 0;\n",
              "      width: 32px;\n",
              "    }\n",
              "\n",
              "    .colab-df-convert:hover {\n",
              "      background-color: #E2EBFA;\n",
              "      box-shadow: 0px 1px 2px rgba(60, 64, 67, 0.3), 0px 1px 3px 1px rgba(60, 64, 67, 0.15);\n",
              "      fill: #174EA6;\n",
              "    }\n",
              "\n",
              "    [theme=dark] .colab-df-convert {\n",
              "      background-color: #3B4455;\n",
              "      fill: #D2E3FC;\n",
              "    }\n",
              "\n",
              "    [theme=dark] .colab-df-convert:hover {\n",
              "      background-color: #434B5C;\n",
              "      box-shadow: 0px 1px 3px 1px rgba(0, 0, 0, 0.15);\n",
              "      filter: drop-shadow(0px 1px 2px rgba(0, 0, 0, 0.3));\n",
              "      fill: #FFFFFF;\n",
              "    }\n",
              "  </style>\n",
              "\n",
              "      <script>\n",
              "        const buttonEl =\n",
              "          document.querySelector('#df-d2fd8b9b-fb1b-4221-a77f-fedef929b3c1 button.colab-df-convert');\n",
              "        buttonEl.style.display =\n",
              "          google.colab.kernel.accessAllowed ? 'block' : 'none';\n",
              "\n",
              "        async function convertToInteractive(key) {\n",
              "          const element = document.querySelector('#df-d2fd8b9b-fb1b-4221-a77f-fedef929b3c1');\n",
              "          const dataTable =\n",
              "            await google.colab.kernel.invokeFunction('convertToInteractive',\n",
              "                                                     [key], {});\n",
              "          if (!dataTable) return;\n",
              "\n",
              "          const docLinkHtml = 'Like what you see? Visit the ' +\n",
              "            '<a target=\"_blank\" href=https://colab.research.google.com/notebooks/data_table.ipynb>data table notebook</a>'\n",
              "            + ' to learn more about interactive tables.';\n",
              "          element.innerHTML = '';\n",
              "          dataTable['output_type'] = 'display_data';\n",
              "          await google.colab.output.renderOutput(dataTable, element);\n",
              "          const docLink = document.createElement('div');\n",
              "          docLink.innerHTML = docLinkHtml;\n",
              "          element.appendChild(docLink);\n",
              "        }\n",
              "      </script>\n",
              "    </div>\n",
              "  </div>\n",
              "  "
            ]
          },
          "metadata": {},
          "execution_count": 190
        }
      ]
    },
    {
      "cell_type": "code",
      "source": [
        "# after balancing the data ---> our result in prediction is better\n",
        "from sklearn.linear_model import LogisticRegression\n",
        "lo= LogisticRegression(random_state=0)\n",
        "lo.fit(X_res, y_res)\n",
        "y_predict = lo.predict(x_test)\n",
        "from sklearn.metrics import classification_report\n",
        "print(classification_report(y_test , y_predict))\n",
        "pd.crosstab(y_test , y_predict)"
      ],
      "metadata": {
        "colab": {
          "base_uri": "https://localhost:8080/",
          "height": 438
        },
        "id": "O0906ZgPulDn",
        "outputId": "e3372b46-f453-44af-9b61-0b996b8fa756"
      },
      "execution_count": null,
      "outputs": [
        {
          "output_type": "stream",
          "name": "stdout",
          "text": [
            "              precision    recall  f1-score   support\n",
            "\n",
            "           0       0.98      0.73      0.84       939\n",
            "           1       0.09      0.60      0.16        43\n",
            "\n",
            "    accuracy                           0.73       982\n",
            "   macro avg       0.54      0.67      0.50       982\n",
            "weighted avg       0.94      0.73      0.81       982\n",
            "\n"
          ]
        },
        {
          "output_type": "stream",
          "name": "stderr",
          "text": [
            "/usr/local/lib/python3.8/dist-packages/sklearn/linear_model/_logistic.py:814: ConvergenceWarning: lbfgs failed to converge (status=1):\n",
            "STOP: TOTAL NO. of ITERATIONS REACHED LIMIT.\n",
            "\n",
            "Increase the number of iterations (max_iter) or scale the data as shown in:\n",
            "    https://scikit-learn.org/stable/modules/preprocessing.html\n",
            "Please also refer to the documentation for alternative solver options:\n",
            "    https://scikit-learn.org/stable/modules/linear_model.html#logistic-regression\n",
            "  n_iter_i = _check_optimize_result(\n"
          ]
        },
        {
          "output_type": "execute_result",
          "data": {
            "text/plain": [
              "col_0    0    1\n",
              "row_0          \n",
              "0      690  249\n",
              "1       17   26"
            ],
            "text/html": [
              "\n",
              "  <div id=\"df-4850b46e-1dbc-4e2c-bf76-d158b8d4585c\">\n",
              "    <div class=\"colab-df-container\">\n",
              "      <div>\n",
              "<style scoped>\n",
              "    .dataframe tbody tr th:only-of-type {\n",
              "        vertical-align: middle;\n",
              "    }\n",
              "\n",
              "    .dataframe tbody tr th {\n",
              "        vertical-align: top;\n",
              "    }\n",
              "\n",
              "    .dataframe thead th {\n",
              "        text-align: right;\n",
              "    }\n",
              "</style>\n",
              "<table border=\"1\" class=\"dataframe\">\n",
              "  <thead>\n",
              "    <tr style=\"text-align: right;\">\n",
              "      <th>col_0</th>\n",
              "      <th>0</th>\n",
              "      <th>1</th>\n",
              "    </tr>\n",
              "    <tr>\n",
              "      <th>row_0</th>\n",
              "      <th></th>\n",
              "      <th></th>\n",
              "    </tr>\n",
              "  </thead>\n",
              "  <tbody>\n",
              "    <tr>\n",
              "      <th>0</th>\n",
              "      <td>690</td>\n",
              "      <td>249</td>\n",
              "    </tr>\n",
              "    <tr>\n",
              "      <th>1</th>\n",
              "      <td>17</td>\n",
              "      <td>26</td>\n",
              "    </tr>\n",
              "  </tbody>\n",
              "</table>\n",
              "</div>\n",
              "      <button class=\"colab-df-convert\" onclick=\"convertToInteractive('df-4850b46e-1dbc-4e2c-bf76-d158b8d4585c')\"\n",
              "              title=\"Convert this dataframe to an interactive table.\"\n",
              "              style=\"display:none;\">\n",
              "        \n",
              "  <svg xmlns=\"http://www.w3.org/2000/svg\" height=\"24px\"viewBox=\"0 0 24 24\"\n",
              "       width=\"24px\">\n",
              "    <path d=\"M0 0h24v24H0V0z\" fill=\"none\"/>\n",
              "    <path d=\"M18.56 5.44l.94 2.06.94-2.06 2.06-.94-2.06-.94-.94-2.06-.94 2.06-2.06.94zm-11 1L8.5 8.5l.94-2.06 2.06-.94-2.06-.94L8.5 2.5l-.94 2.06-2.06.94zm10 10l.94 2.06.94-2.06 2.06-.94-2.06-.94-.94-2.06-.94 2.06-2.06.94z\"/><path d=\"M17.41 7.96l-1.37-1.37c-.4-.4-.92-.59-1.43-.59-.52 0-1.04.2-1.43.59L10.3 9.45l-7.72 7.72c-.78.78-.78 2.05 0 2.83L4 21.41c.39.39.9.59 1.41.59.51 0 1.02-.2 1.41-.59l7.78-7.78 2.81-2.81c.8-.78.8-2.07 0-2.86zM5.41 20L4 18.59l7.72-7.72 1.47 1.35L5.41 20z\"/>\n",
              "  </svg>\n",
              "      </button>\n",
              "      \n",
              "  <style>\n",
              "    .colab-df-container {\n",
              "      display:flex;\n",
              "      flex-wrap:wrap;\n",
              "      gap: 12px;\n",
              "    }\n",
              "\n",
              "    .colab-df-convert {\n",
              "      background-color: #E8F0FE;\n",
              "      border: none;\n",
              "      border-radius: 50%;\n",
              "      cursor: pointer;\n",
              "      display: none;\n",
              "      fill: #1967D2;\n",
              "      height: 32px;\n",
              "      padding: 0 0 0 0;\n",
              "      width: 32px;\n",
              "    }\n",
              "\n",
              "    .colab-df-convert:hover {\n",
              "      background-color: #E2EBFA;\n",
              "      box-shadow: 0px 1px 2px rgba(60, 64, 67, 0.3), 0px 1px 3px 1px rgba(60, 64, 67, 0.15);\n",
              "      fill: #174EA6;\n",
              "    }\n",
              "\n",
              "    [theme=dark] .colab-df-convert {\n",
              "      background-color: #3B4455;\n",
              "      fill: #D2E3FC;\n",
              "    }\n",
              "\n",
              "    [theme=dark] .colab-df-convert:hover {\n",
              "      background-color: #434B5C;\n",
              "      box-shadow: 0px 1px 3px 1px rgba(0, 0, 0, 0.15);\n",
              "      filter: drop-shadow(0px 1px 2px rgba(0, 0, 0, 0.3));\n",
              "      fill: #FFFFFF;\n",
              "    }\n",
              "  </style>\n",
              "\n",
              "      <script>\n",
              "        const buttonEl =\n",
              "          document.querySelector('#df-4850b46e-1dbc-4e2c-bf76-d158b8d4585c button.colab-df-convert');\n",
              "        buttonEl.style.display =\n",
              "          google.colab.kernel.accessAllowed ? 'block' : 'none';\n",
              "\n",
              "        async function convertToInteractive(key) {\n",
              "          const element = document.querySelector('#df-4850b46e-1dbc-4e2c-bf76-d158b8d4585c');\n",
              "          const dataTable =\n",
              "            await google.colab.kernel.invokeFunction('convertToInteractive',\n",
              "                                                     [key], {});\n",
              "          if (!dataTable) return;\n",
              "\n",
              "          const docLinkHtml = 'Like what you see? Visit the ' +\n",
              "            '<a target=\"_blank\" href=https://colab.research.google.com/notebooks/data_table.ipynb>data table notebook</a>'\n",
              "            + ' to learn more about interactive tables.';\n",
              "          element.innerHTML = '';\n",
              "          dataTable['output_type'] = 'display_data';\n",
              "          await google.colab.output.renderOutput(dataTable, element);\n",
              "          const docLink = document.createElement('div');\n",
              "          docLink.innerHTML = docLinkHtml;\n",
              "          element.appendChild(docLink);\n",
              "        }\n",
              "      </script>\n",
              "    </div>\n",
              "  </div>\n",
              "  "
            ]
          },
          "metadata": {},
          "execution_count": 267
        }
      ]
    },
    {
      "cell_type": "code",
      "source": [
        "from sklearn.metrics import accuracy_score\n",
        "a=accuracy_score(y_test, y_predict)\n",
        "a"
      ],
      "metadata": {
        "colab": {
          "base_uri": "https://localhost:8080/"
        },
        "id": "lH9awf6DxSel",
        "outputId": "d61a88ab-7bac-48a5-b420-20931204b6d9"
      },
      "execution_count": null,
      "outputs": [
        {
          "output_type": "execute_result",
          "data": {
            "text/plain": [
              "0.7291242362525459"
            ]
          },
          "metadata": {},
          "execution_count": 268
        }
      ]
    },
    {
      "cell_type": "code",
      "source": [
        " # ( True Positive , False Negative , True Negative , False Positive )\n",
        " # the def is on minooproject help\n",
        " perf_measure(y_test, y_predict)"
      ],
      "metadata": {
        "colab": {
          "base_uri": "https://localhost:8080/"
        },
        "id": "Nsx_hytuMwXl",
        "outputId": "6724b9e6-ac5a-408e-96a9-0bee1d353e6f"
      },
      "execution_count": null,
      "outputs": [
        {
          "output_type": "execute_result",
          "data": {
            "text/plain": [
              "(26, 249, 690, 17)"
            ]
          },
          "metadata": {},
          "execution_count": 269
        }
      ]
    },
    {
      "cell_type": "code",
      "source": [
        "# true positive\n",
        "# the def is on minooproject help\n",
        "a1 = truepositive(y_test, y_predict)\n",
        "a1"
      ],
      "metadata": {
        "colab": {
          "base_uri": "https://localhost:8080/"
        },
        "id": "EUTUr5YWTqL0",
        "outputId": "546e8232-3a51-4920-ea8f-0fa48eedbba4"
      },
      "execution_count": null,
      "outputs": [
        {
          "output_type": "execute_result",
          "data": {
            "text/plain": [
              "26"
            ]
          },
          "metadata": {},
          "execution_count": 270
        }
      ]
    },
    {
      "cell_type": "code",
      "source": [
        "stackbar(y_test, y_predict)"
      ],
      "metadata": {
        "colab": {
          "base_uri": "https://localhost:8080/",
          "height": 500
        },
        "id": "G49BfrGSbIZu",
        "outputId": "266982f9-2235-48e2-bb97-306763d350d0"
      },
      "execution_count": null,
      "outputs": [
        {
          "output_type": "stream",
          "name": "stderr",
          "text": [
            "WARNING:matplotlib.legend:No handles with labels found to put in legend.\n"
          ]
        },
        {
          "output_type": "display_data",
          "data": {
            "text/plain": [
              "<Figure size 432x576 with 1 Axes>"
            ],
            "image/png": "[encoded data removed]"
          },
          "metadata": {
            "needs_background": "light"
          }
        }
      ]
    },
    {
      "cell_type": "markdown",
      "source": [
        "so we prefer to use SMOTE and balancing our data"
      ],
      "metadata": {
        "id": "OPK7f95AwD5q"
      }
    },
    {
      "cell_type": "markdown",
      "source": [
        "**K_nearestneighbors**"
      ],
      "metadata": {
        "id": "IHNuODAWxWQC"
      }
    },
    {
      "cell_type": "code",
      "source": [
        "from sklearn.neighbors import KNeighborsClassifier\n",
        "classifier= KNeighborsClassifier(n_neighbors = 5 , metric= 'minkowski' , p=2)\n",
        "classifier.fit(X_res, y_res)\n",
        "y_predict = classifier.predict(x_test)\n",
        "from sklearn.metrics import classification_report\n",
        "print(classification_report(y_test , y_predict))\n",
        "pd.crosstab(y_test , y_predict)"
      ],
      "metadata": {
        "colab": {
          "base_uri": "https://localhost:8080/",
          "height": 299
        },
        "id": "aD01Jx1EwCsG",
        "outputId": "99ac963f-9b1a-43be-8c78-d37dfb9eadfd"
      },
      "execution_count": null,
      "outputs": [
        {
          "output_type": "stream",
          "name": "stdout",
          "text": [
            "              precision    recall  f1-score   support\n",
            "\n",
            "           0       0.97      0.75      0.85       939\n",
            "           1       0.09      0.53      0.15        43\n",
            "\n",
            "    accuracy                           0.74       982\n",
            "   macro avg       0.53      0.64      0.50       982\n",
            "weighted avg       0.93      0.74      0.81       982\n",
            "\n"
          ]
        },
        {
          "output_type": "execute_result",
          "data": {
            "text/plain": [
              "col_0    0    1\n",
              "row_0          \n",
              "0      702  237\n",
              "1       20   23"
            ],
            "text/html": [
              "\n",
              "  <div id=\"df-f42d090c-af57-44be-abf5-f8df80872747\">\n",
              "    <div class=\"colab-df-container\">\n",
              "      <div>\n",
              "<style scoped>\n",
              "    .dataframe tbody tr th:only-of-type {\n",
              "        vertical-align: middle;\n",
              "    }\n",
              "\n",
              "    .dataframe tbody tr th {\n",
              "        vertical-align: top;\n",
              "    }\n",
              "\n",
              "    .dataframe thead th {\n",
              "        text-align: right;\n",
              "    }\n",
              "</style>\n",
              "<table border=\"1\" class=\"dataframe\">\n",
              "  <thead>\n",
              "    <tr style=\"text-align: right;\">\n",
              "      <th>col_0</th>\n",
              "      <th>0</th>\n",
              "      <th>1</th>\n",
              "    </tr>\n",
              "    <tr>\n",
              "      <th>row_0</th>\n",
              "      <th></th>\n",
              "      <th></th>\n",
              "    </tr>\n",
              "  </thead>\n",
              "  <tbody>\n",
              "    <tr>\n",
              "      <th>0</th>\n",
              "      <td>702</td>\n",
              "      <td>237</td>\n",
              "    </tr>\n",
              "    <tr>\n",
              "      <th>1</th>\n",
              "      <td>20</td>\n",
              "      <td>23</td>\n",
              "    </tr>\n",
              "  </tbody>\n",
              "</table>\n",
              "</div>\n",
              "      <button class=\"colab-df-convert\" onclick=\"convertToInteractive('df-f42d090c-af57-44be-abf5-f8df80872747')\"\n",
              "              title=\"Convert this dataframe to an interactive table.\"\n",
              "              style=\"display:none;\">\n",
              "        \n",
              "  <svg xmlns=\"http://www.w3.org/2000/svg\" height=\"24px\"viewBox=\"0 0 24 24\"\n",
              "       width=\"24px\">\n",
              "    <path d=\"M0 0h24v24H0V0z\" fill=\"none\"/>\n",
              "    <path d=\"M18.56 5.44l.94 2.06.94-2.06 2.06-.94-2.06-.94-.94-2.06-.94 2.06-2.06.94zm-11 1L8.5 8.5l.94-2.06 2.06-.94-2.06-.94L8.5 2.5l-.94 2.06-2.06.94zm10 10l.94 2.06.94-2.06 2.06-.94-2.06-.94-.94-2.06-.94 2.06-2.06.94z\"/><path d=\"M17.41 7.96l-1.37-1.37c-.4-.4-.92-.59-1.43-.59-.52 0-1.04.2-1.43.59L10.3 9.45l-7.72 7.72c-.78.78-.78 2.05 0 2.83L4 21.41c.39.39.9.59 1.41.59.51 0 1.02-.2 1.41-.59l7.78-7.78 2.81-2.81c.8-.78.8-2.07 0-2.86zM5.41 20L4 18.59l7.72-7.72 1.47 1.35L5.41 20z\"/>\n",
              "  </svg>\n",
              "      </button>\n",
              "      \n",
              "  <style>\n",
              "    .colab-df-container {\n",
              "      display:flex;\n",
              "      flex-wrap:wrap;\n",
              "      gap: 12px;\n",
              "    }\n",
              "\n",
              "    .colab-df-convert {\n",
              "      background-color: #E8F0FE;\n",
              "      border: none;\n",
              "      border-radius: 50%;\n",
              "      cursor: pointer;\n",
              "      display: none;\n",
              "      fill: #1967D2;\n",
              "      height: 32px;\n",
              "      padding: 0 0 0 0;\n",
              "      width: 32px;\n",
              "    }\n",
              "\n",
              "    .colab-df-convert:hover {\n",
              "      background-color: #E2EBFA;\n",
              "      box-shadow: 0px 1px 2px rgba(60, 64, 67, 0.3), 0px 1px 3px 1px rgba(60, 64, 67, 0.15);\n",
              "      fill: #174EA6;\n",
              "    }\n",
              "\n",
              "    [theme=dark] .colab-df-convert {\n",
              "      background-color: #3B4455;\n",
              "      fill: #D2E3FC;\n",
              "    }\n",
              "\n",
              "    [theme=dark] .colab-df-convert:hover {\n",
              "      background-color: #434B5C;\n",
              "      box-shadow: 0px 1px 3px 1px rgba(0, 0, 0, 0.15);\n",
              "      filter: drop-shadow(0px 1px 2px rgba(0, 0, 0, 0.3));\n",
              "      fill: #FFFFFF;\n",
              "    }\n",
              "  </style>\n",
              "\n",
              "      <script>\n",
              "        const buttonEl =\n",
              "          document.querySelector('#df-f42d090c-af57-44be-abf5-f8df80872747 button.colab-df-convert');\n",
              "        buttonEl.style.display =\n",
              "          google.colab.kernel.accessAllowed ? 'block' : 'none';\n",
              "\n",
              "        async function convertToInteractive(key) {\n",
              "          const element = document.querySelector('#df-f42d090c-af57-44be-abf5-f8df80872747');\n",
              "          const dataTable =\n",
              "            await google.colab.kernel.invokeFunction('convertToInteractive',\n",
              "                                                     [key], {});\n",
              "          if (!dataTable) return;\n",
              "\n",
              "          const docLinkHtml = 'Like what you see? Visit the ' +\n",
              "            '<a target=\"_blank\" href=https://colab.research.google.com/notebooks/data_table.ipynb>data table notebook</a>'\n",
              "            + ' to learn more about interactive tables.';\n",
              "          element.innerHTML = '';\n",
              "          dataTable['output_type'] = 'display_data';\n",
              "          await google.colab.output.renderOutput(dataTable, element);\n",
              "          const docLink = document.createElement('div');\n",
              "          docLink.innerHTML = docLinkHtml;\n",
              "          element.appendChild(docLink);\n",
              "        }\n",
              "      </script>\n",
              "    </div>\n",
              "  </div>\n",
              "  "
            ]
          },
          "metadata": {},
          "execution_count": 319
        }
      ]
    },
    {
      "cell_type": "code",
      "source": [
        "from sklearn.metrics import accuracy_score\n",
        "b=accuracy_score(y_test, y_predict)\n",
        "b"
      ],
      "metadata": {
        "colab": {
          "base_uri": "https://localhost:8080/"
        },
        "id": "sYIN_JcPxojY",
        "outputId": "cd6f82b7-904d-47c8-fd7c-cfa9ba6e9c3a"
      },
      "execution_count": null,
      "outputs": [
        {
          "output_type": "execute_result",
          "data": {
            "text/plain": [
              "0.7382892057026477"
            ]
          },
          "metadata": {},
          "execution_count": 321
        }
      ]
    },
    {
      "cell_type": "code",
      "source": [
        " perf_measure(y_test, y_predict)"
      ],
      "metadata": {
        "colab": {
          "base_uri": "https://localhost:8080/"
        },
        "outputId": "8093aef4-1be9-4720-a9d1-e6e72aee6080",
        "id": "t1HMFOG6QvQo"
      },
      "execution_count": null,
      "outputs": [
        {
          "output_type": "execute_result",
          "data": {
            "text/plain": [
              "(23, 237, 702, 20)"
            ]
          },
          "metadata": {},
          "execution_count": 322
        }
      ]
    },
    {
      "cell_type": "code",
      "source": [
        "b1 = truepositive(y_test, y_predict)\n",
        "b1"
      ],
      "metadata": {
        "colab": {
          "base_uri": "https://localhost:8080/"
        },
        "id": "k2zOi0EgQukO",
        "outputId": "e58f26dc-07ec-4210-f3e0-a20e309969b3"
      },
      "execution_count": null,
      "outputs": [
        {
          "output_type": "execute_result",
          "data": {
            "text/plain": [
              "23"
            ]
          },
          "metadata": {},
          "execution_count": 323
        }
      ]
    },
    {
      "cell_type": "code",
      "source": [
        "stackbar(y_test, y_predict)"
      ],
      "metadata": {
        "colab": {
          "base_uri": "https://localhost:8080/",
          "height": 500
        },
        "id": "KQMXGuthdsmE",
        "outputId": "33152ecd-0d4b-4110-bb27-4d83e48e613f"
      },
      "execution_count": null,
      "outputs": [
        {
          "output_type": "stream",
          "name": "stderr",
          "text": [
            "WARNING:matplotlib.legend:No handles with labels found to put in legend.\n"
          ]
        },
        {
          "output_type": "display_data",
          "data": {
            "text/plain": [
              "<Figure size 432x576 with 1 Axes>"
            ],
            "image/png": "[encoded data removed]"
          },
          "metadata": {
            "needs_background": "light"
          }
        }
      ]
    },
    {
      "cell_type": "markdown",
      "source": [
        "**Decision Trees and random forest**"
      ],
      "metadata": {
        "id": "lZRRCFiJxzYa"
      }
    },
    {
      "cell_type": "code",
      "source": [
        "from sklearn.ensemble import RandomForestClassifier\n",
        "random = RandomForestClassifier(n_estimators=100 , criterion='entropy')\n",
        "random.fit(X_res, y_res)\n",
        "y_predict= random.predict(x_test)\n",
        "from sklearn.metrics import classification_report\n",
        "print(classification_report(y_test , y_predict))\n",
        "pd.crosstab(y_test , y_predict)"
      ],
      "metadata": {
        "colab": {
          "base_uri": "https://localhost:8080/",
          "height": 299
        },
        "id": "AbD0Cuk4xwJU",
        "outputId": "8b2681cc-01f4-4dc8-b52e-09e46395d555"
      },
      "execution_count": null,
      "outputs": [
        {
          "output_type": "stream",
          "name": "stdout",
          "text": [
            "              precision    recall  f1-score   support\n",
            "\n",
            "           0       0.97      0.92      0.94       939\n",
            "           1       0.14      0.28      0.19        43\n",
            "\n",
            "    accuracy                           0.90       982\n",
            "   macro avg       0.56      0.60      0.57       982\n",
            "weighted avg       0.93      0.90      0.91       982\n",
            "\n"
          ]
        },
        {
          "output_type": "execute_result",
          "data": {
            "text/plain": [
              "col_0    0   1\n",
              "row_0         \n",
              "0      868  71\n",
              "1       31  12"
            ],
            "text/html": [
              "\n",
              "  <div id=\"df-5b206e1f-0e10-4ccd-9734-754b4a83efc5\">\n",
              "    <div class=\"colab-df-container\">\n",
              "      <div>\n",
              "<style scoped>\n",
              "    .dataframe tbody tr th:only-of-type {\n",
              "        vertical-align: middle;\n",
              "    }\n",
              "\n",
              "    .dataframe tbody tr th {\n",
              "        vertical-align: top;\n",
              "    }\n",
              "\n",
              "    .dataframe thead th {\n",
              "        text-align: right;\n",
              "    }\n",
              "</style>\n",
              "<table border=\"1\" class=\"dataframe\">\n",
              "  <thead>\n",
              "    <tr style=\"text-align: right;\">\n",
              "      <th>col_0</th>\n",
              "      <th>0</th>\n",
              "      <th>1</th>\n",
              "    </tr>\n",
              "    <tr>\n",
              "      <th>row_0</th>\n",
              "      <th></th>\n",
              "      <th></th>\n",
              "    </tr>\n",
              "  </thead>\n",
              "  <tbody>\n",
              "    <tr>\n",
              "      <th>0</th>\n",
              "      <td>868</td>\n",
              "      <td>71</td>\n",
              "    </tr>\n",
              "    <tr>\n",
              "      <th>1</th>\n",
              "      <td>31</td>\n",
              "      <td>12</td>\n",
              "    </tr>\n",
              "  </tbody>\n",
              "</table>\n",
              "</div>\n",
              "      <button class=\"colab-df-convert\" onclick=\"convertToInteractive('df-5b206e1f-0e10-4ccd-9734-754b4a83efc5')\"\n",
              "              title=\"Convert this dataframe to an interactive table.\"\n",
              "              style=\"display:none;\">\n",
              "        \n",
              "  <svg xmlns=\"http://www.w3.org/2000/svg\" height=\"24px\"viewBox=\"0 0 24 24\"\n",
              "       width=\"24px\">\n",
              "    <path d=\"M0 0h24v24H0V0z\" fill=\"none\"/>\n",
              "    <path d=\"M18.56 5.44l.94 2.06.94-2.06 2.06-.94-2.06-.94-.94-2.06-.94 2.06-2.06.94zm-11 1L8.5 8.5l.94-2.06 2.06-.94-2.06-.94L8.5 2.5l-.94 2.06-2.06.94zm10 10l.94 2.06.94-2.06 2.06-.94-2.06-.94-.94-2.06-.94 2.06-2.06.94z\"/><path d=\"M17.41 7.96l-1.37-1.37c-.4-.4-.92-.59-1.43-.59-.52 0-1.04.2-1.43.59L10.3 9.45l-7.72 7.72c-.78.78-.78 2.05 0 2.83L4 21.41c.39.39.9.59 1.41.59.51 0 1.02-.2 1.41-.59l7.78-7.78 2.81-2.81c.8-.78.8-2.07 0-2.86zM5.41 20L4 18.59l7.72-7.72 1.47 1.35L5.41 20z\"/>\n",
              "  </svg>\n",
              "      </button>\n",
              "      \n",
              "  <style>\n",
              "    .colab-df-container {\n",
              "      display:flex;\n",
              "      flex-wrap:wrap;\n",
              "      gap: 12px;\n",
              "    }\n",
              "\n",
              "    .colab-df-convert {\n",
              "      background-color: #E8F0FE;\n",
              "      border: none;\n",
              "      border-radius: 50%;\n",
              "      cursor: pointer;\n",
              "      display: none;\n",
              "      fill: #1967D2;\n",
              "      height: 32px;\n",
              "      padding: 0 0 0 0;\n",
              "      width: 32px;\n",
              "    }\n",
              "\n",
              "    .colab-df-convert:hover {\n",
              "      background-color: #E2EBFA;\n",
              "      box-shadow: 0px 1px 2px rgba(60, 64, 67, 0.3), 0px 1px 3px 1px rgba(60, 64, 67, 0.15);\n",
              "      fill: #174EA6;\n",
              "    }\n",
              "\n",
              "    [theme=dark] .colab-df-convert {\n",
              "      background-color: #3B4455;\n",
              "      fill: #D2E3FC;\n",
              "    }\n",
              "\n",
              "    [theme=dark] .colab-df-convert:hover {\n",
              "      background-color: #434B5C;\n",
              "      box-shadow: 0px 1px 3px 1px rgba(0, 0, 0, 0.15);\n",
              "      filter: drop-shadow(0px 1px 2px rgba(0, 0, 0, 0.3));\n",
              "      fill: #FFFFFF;\n",
              "    }\n",
              "  </style>\n",
              "\n",
              "      <script>\n",
              "        const buttonEl =\n",
              "          document.querySelector('#df-5b206e1f-0e10-4ccd-9734-754b4a83efc5 button.colab-df-convert');\n",
              "        buttonEl.style.display =\n",
              "          google.colab.kernel.accessAllowed ? 'block' : 'none';\n",
              "\n",
              "        async function convertToInteractive(key) {\n",
              "          const element = document.querySelector('#df-5b206e1f-0e10-4ccd-9734-754b4a83efc5');\n",
              "          const dataTable =\n",
              "            await google.colab.kernel.invokeFunction('convertToInteractive',\n",
              "                                                     [key], {});\n",
              "          if (!dataTable) return;\n",
              "\n",
              "          const docLinkHtml = 'Like what you see? Visit the ' +\n",
              "            '<a target=\"_blank\" href=https://colab.research.google.com/notebooks/data_table.ipynb>data table notebook</a>'\n",
              "            + ' to learn more about interactive tables.';\n",
              "          element.innerHTML = '';\n",
              "          dataTable['output_type'] = 'display_data';\n",
              "          await google.colab.output.renderOutput(dataTable, element);\n",
              "          const docLink = document.createElement('div');\n",
              "          docLink.innerHTML = docLinkHtml;\n",
              "          element.appendChild(docLink);\n",
              "        }\n",
              "      </script>\n",
              "    </div>\n",
              "  </div>\n",
              "  "
            ]
          },
          "metadata": {},
          "execution_count": 325
        }
      ]
    },
    {
      "cell_type": "code",
      "source": [
        "from sklearn.metrics import accuracy_score\n",
        "c=accuracy_score(y_test, y_predict)\n",
        "c"
      ],
      "metadata": {
        "colab": {
          "base_uri": "https://localhost:8080/"
        },
        "id": "SKx2eRuKyNQo",
        "outputId": "86296179-9213-42e6-f16a-8afa8c835a6f"
      },
      "execution_count": null,
      "outputs": [
        {
          "output_type": "execute_result",
          "data": {
            "text/plain": [
              "0.8961303462321792"
            ]
          },
          "metadata": {},
          "execution_count": 326
        }
      ]
    },
    {
      "cell_type": "code",
      "source": [
        " perf_measure(y_test, y_predict)"
      ],
      "metadata": {
        "colab": {
          "base_uri": "https://localhost:8080/"
        },
        "outputId": "5978b28d-37e8-4dd0-d2c4-aa52d8531a43",
        "id": "J7np71YlUdev"
      },
      "execution_count": null,
      "outputs": [
        {
          "output_type": "execute_result",
          "data": {
            "text/plain": [
              "(12, 71, 868, 31)"
            ]
          },
          "metadata": {},
          "execution_count": 327
        }
      ]
    },
    {
      "cell_type": "code",
      "source": [
        "c1 = truepositive(y_test, y_predict)\n",
        "c1"
      ],
      "metadata": {
        "colab": {
          "base_uri": "https://localhost:8080/"
        },
        "outputId": "4dbd38f4-f008-4e01-8e01-9a2bddcc17a1",
        "id": "VHhuoAewUhlN"
      },
      "execution_count": null,
      "outputs": [
        {
          "output_type": "execute_result",
          "data": {
            "text/plain": [
              "12"
            ]
          },
          "metadata": {},
          "execution_count": 328
        }
      ]
    },
    {
      "cell_type": "code",
      "source": [
        "stackbar(y_test, y_predict)"
      ],
      "metadata": {
        "colab": {
          "base_uri": "https://localhost:8080/",
          "height": 500
        },
        "id": "76PiSBUkd067",
        "outputId": "3aa86d98-986f-4439-d14f-2c649e467091"
      },
      "execution_count": null,
      "outputs": [
        {
          "output_type": "stream",
          "name": "stderr",
          "text": [
            "WARNING:matplotlib.legend:No handles with labels found to put in legend.\n"
          ]
        },
        {
          "output_type": "display_data",
          "data": {
            "text/plain": [
              "<Figure size 432x576 with 1 Axes>"
            ],
            "image/png": "[encoded data removed]"
          },
          "metadata": {
            "needs_background": "light"
          }
        }
      ]
    },
    {
      "cell_type": "markdown",
      "source": [
        "**Naive bayes classification**"
      ],
      "metadata": {
        "id": "gukU5M2GyvHR"
      }
    },
    {
      "cell_type": "code",
      "source": [
        "from sklearn.naive_bayes import MultinomialNB\n",
        "classifier=MultinomialNB()\n",
        "classifier.fit(X_res, y_res)\n",
        "y_predict=classifier.predict(x_test)\n",
        "from sklearn.metrics import classification_report ,confusion_matrix\n",
        "cm=confusion_matrix(y_test , y_predict)\n",
        "sns.heatmap(cm, annot=True )"
      ],
      "metadata": {
        "colab": {
          "base_uri": "https://localhost:8080/",
          "height": 282
        },
        "id": "yKc3ozAzyWi2",
        "outputId": "f4df2991-370d-4eb4-ae30-5230701a2a1e"
      },
      "execution_count": null,
      "outputs": [
        {
          "output_type": "execute_result",
          "data": {
            "text/plain": [
              "<matplotlib.axes._subplots.AxesSubplot at 0x7fcf5d7a3e50>"
            ]
          },
          "metadata": {},
          "execution_count": 278
        },
        {
          "output_type": "display_data",
          "data": {
            "text/plain": [
              "<Figure size 432x288 with 2 Axes>"
            ],
            "image/png": "[encoded data removed]"
          },
          "metadata": {
            "needs_background": "light"
          }
        }
      ]
    },
    {
      "cell_type": "code",
      "source": [
        "from sklearn.metrics import classification_report\n",
        "print(classification_report(y_test , y_predict))\n",
        "pd.crosstab(y_test , y_predict)"
      ],
      "metadata": {
        "colab": {
          "base_uri": "https://localhost:8080/",
          "height": 299
        },
        "id": "310ZYG1e4u0U",
        "outputId": "186beeb4-a30b-45b4-9db0-23570c39bb78"
      },
      "execution_count": null,
      "outputs": [
        {
          "output_type": "stream",
          "name": "stdout",
          "text": [
            "              precision    recall  f1-score   support\n",
            "\n",
            "           0       0.97      0.55      0.70       939\n",
            "           1       0.06      0.63      0.11        43\n",
            "\n",
            "    accuracy                           0.55       982\n",
            "   macro avg       0.51      0.59      0.40       982\n",
            "weighted avg       0.93      0.55      0.67       982\n",
            "\n"
          ]
        },
        {
          "output_type": "execute_result",
          "data": {
            "text/plain": [
              "col_0    0    1\n",
              "row_0          \n",
              "0      512  427\n",
              "1       16   27"
            ],
            "text/html": [
              "\n",
              "  <div id=\"df-1dd10490-f8ef-440c-9ce6-446b4a852ee2\">\n",
              "    <div class=\"colab-df-container\">\n",
              "      <div>\n",
              "<style scoped>\n",
              "    .dataframe tbody tr th:only-of-type {\n",
              "        vertical-align: middle;\n",
              "    }\n",
              "\n",
              "    .dataframe tbody tr th {\n",
              "        vertical-align: top;\n",
              "    }\n",
              "\n",
              "    .dataframe thead th {\n",
              "        text-align: right;\n",
              "    }\n",
              "</style>\n",
              "<table border=\"1\" class=\"dataframe\">\n",
              "  <thead>\n",
              "    <tr style=\"text-align: right;\">\n",
              "      <th>col_0</th>\n",
              "      <th>0</th>\n",
              "      <th>1</th>\n",
              "    </tr>\n",
              "    <tr>\n",
              "      <th>row_0</th>\n",
              "      <th></th>\n",
              "      <th></th>\n",
              "    </tr>\n",
              "  </thead>\n",
              "  <tbody>\n",
              "    <tr>\n",
              "      <th>0</th>\n",
              "      <td>512</td>\n",
              "      <td>427</td>\n",
              "    </tr>\n",
              "    <tr>\n",
              "      <th>1</th>\n",
              "      <td>16</td>\n",
              "      <td>27</td>\n",
              "    </tr>\n",
              "  </tbody>\n",
              "</table>\n",
              "</div>\n",
              "      <button class=\"colab-df-convert\" onclick=\"convertToInteractive('df-1dd10490-f8ef-440c-9ce6-446b4a852ee2')\"\n",
              "              title=\"Convert this dataframe to an interactive table.\"\n",
              "              style=\"display:none;\">\n",
              "        \n",
              "  <svg xmlns=\"http://www.w3.org/2000/svg\" height=\"24px\"viewBox=\"0 0 24 24\"\n",
              "       width=\"24px\">\n",
              "    <path d=\"M0 0h24v24H0V0z\" fill=\"none\"/>\n",
              "    <path d=\"M18.56 5.44l.94 2.06.94-2.06 2.06-.94-2.06-.94-.94-2.06-.94 2.06-2.06.94zm-11 1L8.5 8.5l.94-2.06 2.06-.94-2.06-.94L8.5 2.5l-.94 2.06-2.06.94zm10 10l.94 2.06.94-2.06 2.06-.94-2.06-.94-.94-2.06-.94 2.06-2.06.94z\"/><path d=\"M17.41 7.96l-1.37-1.37c-.4-.4-.92-.59-1.43-.59-.52 0-1.04.2-1.43.59L10.3 9.45l-7.72 7.72c-.78.78-.78 2.05 0 2.83L4 21.41c.39.39.9.59 1.41.59.51 0 1.02-.2 1.41-.59l7.78-7.78 2.81-2.81c.8-.78.8-2.07 0-2.86zM5.41 20L4 18.59l7.72-7.72 1.47 1.35L5.41 20z\"/>\n",
              "  </svg>\n",
              "      </button>\n",
              "      \n",
              "  <style>\n",
              "    .colab-df-container {\n",
              "      display:flex;\n",
              "      flex-wrap:wrap;\n",
              "      gap: 12px;\n",
              "    }\n",
              "\n",
              "    .colab-df-convert {\n",
              "      background-color: #E8F0FE;\n",
              "      border: none;\n",
              "      border-radius: 50%;\n",
              "      cursor: pointer;\n",
              "      display: none;\n",
              "      fill: #1967D2;\n",
              "      height: 32px;\n",
              "      padding: 0 0 0 0;\n",
              "      width: 32px;\n",
              "    }\n",
              "\n",
              "    .colab-df-convert:hover {\n",
              "      background-color: #E2EBFA;\n",
              "      box-shadow: 0px 1px 2px rgba(60, 64, 67, 0.3), 0px 1px 3px 1px rgba(60, 64, 67, 0.15);\n",
              "      fill: #174EA6;\n",
              "    }\n",
              "\n",
              "    [theme=dark] .colab-df-convert {\n",
              "      background-color: #3B4455;\n",
              "      fill: #D2E3FC;\n",
              "    }\n",
              "\n",
              "    [theme=dark] .colab-df-convert:hover {\n",
              "      background-color: #434B5C;\n",
              "      box-shadow: 0px 1px 3px 1px rgba(0, 0, 0, 0.15);\n",
              "      filter: drop-shadow(0px 1px 2px rgba(0, 0, 0, 0.3));\n",
              "      fill: #FFFFFF;\n",
              "    }\n",
              "  </style>\n",
              "\n",
              "      <script>\n",
              "        const buttonEl =\n",
              "          document.querySelector('#df-1dd10490-f8ef-440c-9ce6-446b4a852ee2 button.colab-df-convert');\n",
              "        buttonEl.style.display =\n",
              "          google.colab.kernel.accessAllowed ? 'block' : 'none';\n",
              "\n",
              "        async function convertToInteractive(key) {\n",
              "          const element = document.querySelector('#df-1dd10490-f8ef-440c-9ce6-446b4a852ee2');\n",
              "          const dataTable =\n",
              "            await google.colab.kernel.invokeFunction('convertToInteractive',\n",
              "                                                     [key], {});\n",
              "          if (!dataTable) return;\n",
              "\n",
              "          const docLinkHtml = 'Like what you see? Visit the ' +\n",
              "            '<a target=\"_blank\" href=https://colab.research.google.com/notebooks/data_table.ipynb>data table notebook</a>'\n",
              "            + ' to learn more about interactive tables.';\n",
              "          element.innerHTML = '';\n",
              "          dataTable['output_type'] = 'display_data';\n",
              "          await google.colab.output.renderOutput(dataTable, element);\n",
              "          const docLink = document.createElement('div');\n",
              "          docLink.innerHTML = docLinkHtml;\n",
              "          element.appendChild(docLink);\n",
              "        }\n",
              "      </script>\n",
              "    </div>\n",
              "  </div>\n",
              "  "
            ]
          },
          "metadata": {},
          "execution_count": 76
        }
      ]
    },
    {
      "cell_type": "code",
      "source": [
        "from sklearn.metrics import accuracy_score\n",
        "d=accuracy_score(y_test, y_predict)\n",
        "d"
      ],
      "metadata": {
        "colab": {
          "base_uri": "https://localhost:8080/"
        },
        "id": "yLEOnbtVy19Y",
        "outputId": "faa114a3-f6a4-4963-bf3c-f1098268cad5"
      },
      "execution_count": null,
      "outputs": [
        {
          "output_type": "execute_result",
          "data": {
            "text/plain": [
              "0.5488798370672098"
            ]
          },
          "metadata": {},
          "execution_count": 77
        }
      ]
    },
    {
      "cell_type": "code",
      "source": [
        "perf_measure(y_test, y_predict)"
      ],
      "metadata": {
        "colab": {
          "base_uri": "https://localhost:8080/"
        },
        "id": "DDAWFx56CIVY",
        "outputId": "a583d21d-b845-464d-a172-3ea212691099"
      },
      "execution_count": null,
      "outputs": [
        {
          "output_type": "execute_result",
          "data": {
            "text/plain": [
              "(27, 427, 512, 16)"
            ]
          },
          "metadata": {},
          "execution_count": 279
        }
      ]
    },
    {
      "cell_type": "code",
      "source": [
        "d1 = truepositive(y_test, y_predict)\n",
        "d1"
      ],
      "metadata": {
        "colab": {
          "base_uri": "https://localhost:8080/"
        },
        "outputId": "0932bb3d-62f6-442b-9657-3ab9794c6425",
        "id": "HRCeN54SVEdq"
      },
      "execution_count": null,
      "outputs": [
        {
          "output_type": "execute_result",
          "data": {
            "text/plain": [
              "27"
            ]
          },
          "metadata": {},
          "execution_count": 280
        }
      ]
    },
    {
      "cell_type": "markdown",
      "source": [
        "**xgboost**"
      ],
      "metadata": {
        "id": "Cob1QyvEzFW0"
      }
    },
    {
      "cell_type": "code",
      "source": [
        "from xgboost import XGBClassifier\n",
        "model = XGBClassifier()\n",
        "model.fit(X_res, y_res)\n",
        "y_predict=model.predict(x_test)\n",
        "from sklearn.metrics import classification_report ,confusion_matrix\n",
        "cm=confusion_matrix(y_test , y_predict)\n",
        "sns.heatmap(cm, annot=True )"
      ],
      "metadata": {
        "colab": {
          "base_uri": "https://localhost:8080/",
          "height": 282
        },
        "id": "dJGD1AjTzDWI",
        "outputId": "cc5da8b0-7e99-4cc7-ba40-054b354d0dbf"
      },
      "execution_count": null,
      "outputs": [
        {
          "output_type": "execute_result",
          "data": {
            "text/plain": [
              "<matplotlib.axes._subplots.AxesSubplot at 0x7fcf40b18520>"
            ]
          },
          "metadata": {},
          "execution_count": 281
        },
        {
          "output_type": "display_data",
          "data": {
            "text/plain": [
              "<Figure size 432x288 with 2 Axes>"
            ],
            "image/png": "[encoded data removed]"
          },
          "metadata": {
            "needs_background": "light"
          }
        }
      ]
    },
    {
      "cell_type": "code",
      "source": [
        "from sklearn.metrics import classification_report\n",
        "print(classification_report(y_test , y_predict))\n",
        "pd.crosstab(y_test , y_predict)"
      ],
      "metadata": {
        "colab": {
          "base_uri": "https://localhost:8080/",
          "height": 299
        },
        "id": "qPpowIh15JAj",
        "outputId": "b13d774c-e94c-41c7-bfc9-79920a64e3c7"
      },
      "execution_count": null,
      "outputs": [
        {
          "output_type": "stream",
          "name": "stdout",
          "text": [
            "              precision    recall  f1-score   support\n",
            "\n",
            "           0       0.97      0.82      0.89       939\n",
            "           1       0.11      0.51      0.19        43\n",
            "\n",
            "    accuracy                           0.80       982\n",
            "   macro avg       0.54      0.66      0.54       982\n",
            "weighted avg       0.94      0.80      0.86       982\n",
            "\n"
          ]
        },
        {
          "output_type": "execute_result",
          "data": {
            "text/plain": [
              "col_0    0    1\n",
              "row_0          \n",
              "0      768  171\n",
              "1       21   22"
            ],
            "text/html": [
              "\n",
              "  <div id=\"df-e8d3ce95-6f91-40aa-978a-45629ec00a37\">\n",
              "    <div class=\"colab-df-container\">\n",
              "      <div>\n",
              "<style scoped>\n",
              "    .dataframe tbody tr th:only-of-type {\n",
              "        vertical-align: middle;\n",
              "    }\n",
              "\n",
              "    .dataframe tbody tr th {\n",
              "        vertical-align: top;\n",
              "    }\n",
              "\n",
              "    .dataframe thead th {\n",
              "        text-align: right;\n",
              "    }\n",
              "</style>\n",
              "<table border=\"1\" class=\"dataframe\">\n",
              "  <thead>\n",
              "    <tr style=\"text-align: right;\">\n",
              "      <th>col_0</th>\n",
              "      <th>0</th>\n",
              "      <th>1</th>\n",
              "    </tr>\n",
              "    <tr>\n",
              "      <th>row_0</th>\n",
              "      <th></th>\n",
              "      <th></th>\n",
              "    </tr>\n",
              "  </thead>\n",
              "  <tbody>\n",
              "    <tr>\n",
              "      <th>0</th>\n",
              "      <td>768</td>\n",
              "      <td>171</td>\n",
              "    </tr>\n",
              "    <tr>\n",
              "      <th>1</th>\n",
              "      <td>21</td>\n",
              "      <td>22</td>\n",
              "    </tr>\n",
              "  </tbody>\n",
              "</table>\n",
              "</div>\n",
              "      <button class=\"colab-df-convert\" onclick=\"convertToInteractive('df-e8d3ce95-6f91-40aa-978a-45629ec00a37')\"\n",
              "              title=\"Convert this dataframe to an interactive table.\"\n",
              "              style=\"display:none;\">\n",
              "        \n",
              "  <svg xmlns=\"http://www.w3.org/2000/svg\" height=\"24px\"viewBox=\"0 0 24 24\"\n",
              "       width=\"24px\">\n",
              "    <path d=\"M0 0h24v24H0V0z\" fill=\"none\"/>\n",
              "    <path d=\"M18.56 5.44l.94 2.06.94-2.06 2.06-.94-2.06-.94-.94-2.06-.94 2.06-2.06.94zm-11 1L8.5 8.5l.94-2.06 2.06-.94-2.06-.94L8.5 2.5l-.94 2.06-2.06.94zm10 10l.94 2.06.94-2.06 2.06-.94-2.06-.94-.94-2.06-.94 2.06-2.06.94z\"/><path d=\"M17.41 7.96l-1.37-1.37c-.4-.4-.92-.59-1.43-.59-.52 0-1.04.2-1.43.59L10.3 9.45l-7.72 7.72c-.78.78-.78 2.05 0 2.83L4 21.41c.39.39.9.59 1.41.59.51 0 1.02-.2 1.41-.59l7.78-7.78 2.81-2.81c.8-.78.8-2.07 0-2.86zM5.41 20L4 18.59l7.72-7.72 1.47 1.35L5.41 20z\"/>\n",
              "  </svg>\n",
              "      </button>\n",
              "      \n",
              "  <style>\n",
              "    .colab-df-container {\n",
              "      display:flex;\n",
              "      flex-wrap:wrap;\n",
              "      gap: 12px;\n",
              "    }\n",
              "\n",
              "    .colab-df-convert {\n",
              "      background-color: #E8F0FE;\n",
              "      border: none;\n",
              "      border-radius: 50%;\n",
              "      cursor: pointer;\n",
              "      display: none;\n",
              "      fill: #1967D2;\n",
              "      height: 32px;\n",
              "      padding: 0 0 0 0;\n",
              "      width: 32px;\n",
              "    }\n",
              "\n",
              "    .colab-df-convert:hover {\n",
              "      background-color: #E2EBFA;\n",
              "      box-shadow: 0px 1px 2px rgba(60, 64, 67, 0.3), 0px 1px 3px 1px rgba(60, 64, 67, 0.15);\n",
              "      fill: #174EA6;\n",
              "    }\n",
              "\n",
              "    [theme=dark] .colab-df-convert {\n",
              "      background-color: #3B4455;\n",
              "      fill: #D2E3FC;\n",
              "    }\n",
              "\n",
              "    [theme=dark] .colab-df-convert:hover {\n",
              "      background-color: #434B5C;\n",
              "      box-shadow: 0px 1px 3px 1px rgba(0, 0, 0, 0.15);\n",
              "      filter: drop-shadow(0px 1px 2px rgba(0, 0, 0, 0.3));\n",
              "      fill: #FFFFFF;\n",
              "    }\n",
              "  </style>\n",
              "\n",
              "      <script>\n",
              "        const buttonEl =\n",
              "          document.querySelector('#df-e8d3ce95-6f91-40aa-978a-45629ec00a37 button.colab-df-convert');\n",
              "        buttonEl.style.display =\n",
              "          google.colab.kernel.accessAllowed ? 'block' : 'none';\n",
              "\n",
              "        async function convertToInteractive(key) {\n",
              "          const element = document.querySelector('#df-e8d3ce95-6f91-40aa-978a-45629ec00a37');\n",
              "          const dataTable =\n",
              "            await google.colab.kernel.invokeFunction('convertToInteractive',\n",
              "                                                     [key], {});\n",
              "          if (!dataTable) return;\n",
              "\n",
              "          const docLinkHtml = 'Like what you see? Visit the ' +\n",
              "            '<a target=\"_blank\" href=https://colab.research.google.com/notebooks/data_table.ipynb>data table notebook</a>'\n",
              "            + ' to learn more about interactive tables.';\n",
              "          element.innerHTML = '';\n",
              "          dataTable['output_type'] = 'display_data';\n",
              "          await google.colab.output.renderOutput(dataTable, element);\n",
              "          const docLink = document.createElement('div');\n",
              "          docLink.innerHTML = docLinkHtml;\n",
              "          element.appendChild(docLink);\n",
              "        }\n",
              "      </script>\n",
              "    </div>\n",
              "  </div>\n",
              "  "
            ]
          },
          "metadata": {},
          "execution_count": 79
        }
      ]
    },
    {
      "cell_type": "code",
      "source": [
        "from sklearn.metrics import accuracy_score\n",
        "e=accuracy_score(y_test, y_predict)\n",
        "e"
      ],
      "metadata": {
        "colab": {
          "base_uri": "https://localhost:8080/"
        },
        "id": "J_1_rBXzzLlH",
        "outputId": "82cd28c6-eccf-458f-d9b4-ba30cc8111a0"
      },
      "execution_count": null,
      "outputs": [
        {
          "output_type": "execute_result",
          "data": {
            "text/plain": [
              "0.8044806517311609"
            ]
          },
          "metadata": {},
          "execution_count": 80
        }
      ]
    },
    {
      "cell_type": "code",
      "source": [
        "perf_measure(y_test, y_predict)"
      ],
      "metadata": {
        "colab": {
          "base_uri": "https://localhost:8080/"
        },
        "outputId": "a5d81b34-d8e2-4ead-969c-e452c5511163",
        "id": "yEiJ4A0WVTSv"
      },
      "execution_count": null,
      "outputs": [
        {
          "output_type": "execute_result",
          "data": {
            "text/plain": [
              "(22, 171, 768, 21)"
            ]
          },
          "metadata": {},
          "execution_count": 283
        }
      ]
    },
    {
      "cell_type": "code",
      "source": [
        "e1 = truepositive(y_test, y_predict)\n",
        "e1"
      ],
      "metadata": {
        "colab": {
          "base_uri": "https://localhost:8080/"
        },
        "outputId": "59d716d0-2b12-4dcd-c7ac-5ef9910c4873",
        "id": "um7F9_LRVLHV"
      },
      "execution_count": null,
      "outputs": [
        {
          "output_type": "execute_result",
          "data": {
            "text/plain": [
              "22"
            ]
          },
          "metadata": {},
          "execution_count": 282
        }
      ]
    },
    {
      "cell_type": "markdown",
      "source": [
        "**catboost**"
      ],
      "metadata": {
        "id": "OzRpR4Ie-CFz"
      }
    },
    {
      "cell_type": "code",
      "source": [
        "!pip install catboost"
      ],
      "metadata": {
        "colab": {
          "base_uri": "https://localhost:8080/"
        },
        "id": "TDNtcTOdqy7k",
        "outputId": "59e60ba7-3c0f-42de-c723-f2ca9ed3a7af"
      },
      "execution_count": null,
      "outputs": [
        {
          "output_type": "stream",
          "name": "stdout",
          "text": [
            "Looking in indexes: https://pypi.org/simple, https://us-python.pkg.dev/colab-wheels/public/simple/\n",
            "Requirement already satisfied: catboost in /usr/local/lib/python3.8/dist-packages (1.1.1)\n",
            "Requirement already satisfied: plotly in /usr/local/lib/python3.8/dist-packages (from catboost) (5.5.0)\n",
            "Requirement already satisfied: six in /usr/local/lib/python3.8/dist-packages (from catboost) (1.15.0)\n",
            "Requirement already satisfied: numpy>=1.16.0 in /usr/local/lib/python3.8/dist-packages (from catboost) (1.21.6)\n",
            "Requirement already satisfied: graphviz in /usr/local/lib/python3.8/dist-packages (from catboost) (0.10.1)\n",
            "Requirement already satisfied: pandas>=0.24.0 in /usr/local/lib/python3.8/dist-packages (from catboost) (1.3.5)\n",
            "Requirement already satisfied: scipy in /usr/local/lib/python3.8/dist-packages (from catboost) (1.7.3)\n",
            "Requirement already satisfied: matplotlib in /usr/local/lib/python3.8/dist-packages (from catboost) (3.2.2)\n",
            "Requirement already satisfied: pytz>=2017.3 in /usr/local/lib/python3.8/dist-packages (from pandas>=0.24.0->catboost) (2022.7.1)\n",
            "Requirement already satisfied: python-dateutil>=2.7.3 in /usr/local/lib/python3.8/dist-packages (from pandas>=0.24.0->catboost) (2.8.2)\n",
            "Requirement already satisfied: pyparsing!=2.0.4,!=2.1.2,!=2.1.6,>=2.0.1 in /usr/local/lib/python3.8/dist-packages (from matplotlib->catboost) (3.0.9)\n",
            "Requirement already satisfied: kiwisolver>=1.0.1 in /usr/local/lib/python3.8/dist-packages (from matplotlib->catboost) (1.4.4)\n",
            "Requirement already satisfied: cycler>=0.10 in /usr/local/lib/python3.8/dist-packages (from matplotlib->catboost) (0.11.0)\n",
            "Requirement already satisfied: tenacity>=6.2.0 in /usr/local/lib/python3.8/dist-packages (from plotly->catboost) (8.2.1)\n"
          ]
        }
      ]
    },
    {
      "cell_type": "code",
      "source": [
        "from catboost import CatBoostClassifier\n",
        "cat=CatBoostClassifier()\n",
        "cat.fit(X_res,y_res)\n",
        "y_predict=model.predict(x_test)\n",
        "from sklearn.metrics import classification_report ,confusion_matrix\n",
        "cm=confusion_matrix(y_test , y_predict)\n",
        "sns.heatmap(cm, annot=True )"
      ],
      "metadata": {
        "colab": {
          "base_uri": "https://localhost:8080/",
          "height": 1000
        },
        "id": "W_u0wqw39-xP",
        "outputId": "f74a4fd6-0506-4825-fd44-b877e332e840"
      },
      "execution_count": null,
      "outputs": [
        {
          "output_type": "stream",
          "name": "stdout",
          "text": [
            "Learning rate set to 0.024385\n",
            "0:\tlearn: 0.6746014\ttotal: 5.04ms\tremaining: 5.04s\n",
            "1:\tlearn: 0.6593627\ttotal: 8.93ms\tremaining: 4.46s\n",
            "2:\tlearn: 0.6438644\ttotal: 12.8ms\tremaining: 4.27s\n",
            "3:\tlearn: 0.6295818\ttotal: 16.8ms\tremaining: 4.19s\n",
            "4:\tlearn: 0.6158568\ttotal: 20.1ms\tremaining: 3.99s\n",
            "5:\tlearn: 0.6021575\ttotal: 23.3ms\tremaining: 3.86s\n",
            "6:\tlearn: 0.5902740\ttotal: 26.6ms\tremaining: 3.77s\n",
            "7:\tlearn: 0.5770570\ttotal: 30ms\tremaining: 3.72s\n",
            "8:\tlearn: 0.5663763\ttotal: 33.4ms\tremaining: 3.67s\n",
            "9:\tlearn: 0.5543209\ttotal: 36.5ms\tremaining: 3.61s\n",
            "10:\tlearn: 0.5461117\ttotal: 40ms\tremaining: 3.6s\n",
            "11:\tlearn: 0.5385341\ttotal: 43.3ms\tremaining: 3.56s\n",
            "12:\tlearn: 0.5294256\ttotal: 46.6ms\tremaining: 3.54s\n",
            "13:\tlearn: 0.5221924\ttotal: 49.7ms\tremaining: 3.5s\n",
            "14:\tlearn: 0.5141617\ttotal: 53.1ms\tremaining: 3.49s\n",
            "15:\tlearn: 0.5060374\ttotal: 56.2ms\tremaining: 3.46s\n",
            "16:\tlearn: 0.4994192\ttotal: 59.6ms\tremaining: 3.45s\n",
            "17:\tlearn: 0.4928460\ttotal: 62.9ms\tremaining: 3.43s\n",
            "18:\tlearn: 0.4871909\ttotal: 66.4ms\tremaining: 3.43s\n",
            "19:\tlearn: 0.4798570\ttotal: 69.7ms\tremaining: 3.42s\n",
            "20:\tlearn: 0.4742380\ttotal: 73.3ms\tremaining: 3.42s\n",
            "21:\tlearn: 0.4698403\ttotal: 85.5ms\tremaining: 3.8s\n",
            "22:\tlearn: 0.4637827\ttotal: 89.2ms\tremaining: 3.79s\n",
            "23:\tlearn: 0.4593627\ttotal: 93.1ms\tremaining: 3.79s\n",
            "24:\tlearn: 0.4547062\ttotal: 96.9ms\tremaining: 3.78s\n",
            "25:\tlearn: 0.4501697\ttotal: 101ms\tremaining: 3.77s\n",
            "26:\tlearn: 0.4462322\ttotal: 110ms\tremaining: 3.98s\n",
            "27:\tlearn: 0.4418587\ttotal: 121ms\tremaining: 4.2s\n",
            "28:\tlearn: 0.4382687\ttotal: 131ms\tremaining: 4.37s\n",
            "29:\tlearn: 0.4349762\ttotal: 135ms\tremaining: 4.37s\n",
            "30:\tlearn: 0.4314175\ttotal: 148ms\tremaining: 4.62s\n",
            "31:\tlearn: 0.4284834\ttotal: 158ms\tremaining: 4.79s\n",
            "32:\tlearn: 0.4255450\ttotal: 164ms\tremaining: 4.79s\n",
            "33:\tlearn: 0.4230271\ttotal: 175ms\tremaining: 4.98s\n",
            "34:\tlearn: 0.4188323\ttotal: 182ms\tremaining: 5.01s\n",
            "35:\tlearn: 0.4151911\ttotal: 192ms\tremaining: 5.13s\n",
            "36:\tlearn: 0.4110835\ttotal: 204ms\tremaining: 5.3s\n",
            "37:\tlearn: 0.4081347\ttotal: 213ms\tremaining: 5.39s\n",
            "38:\tlearn: 0.4058481\ttotal: 221ms\tremaining: 5.43s\n",
            "39:\tlearn: 0.4032021\ttotal: 228ms\tremaining: 5.47s\n",
            "40:\tlearn: 0.4010294\ttotal: 240ms\tremaining: 5.62s\n",
            "41:\tlearn: 0.3982783\ttotal: 250ms\tremaining: 5.69s\n",
            "42:\tlearn: 0.3964240\ttotal: 259ms\tremaining: 5.76s\n",
            "43:\tlearn: 0.3946623\ttotal: 268ms\tremaining: 5.81s\n",
            "44:\tlearn: 0.3925456\ttotal: 272ms\tremaining: 5.77s\n",
            "45:\tlearn: 0.3905247\ttotal: 285ms\tremaining: 5.92s\n",
            "46:\tlearn: 0.3884403\ttotal: 293ms\tremaining: 5.94s\n",
            "47:\tlearn: 0.3867373\ttotal: 301ms\tremaining: 5.98s\n",
            "48:\tlearn: 0.3846974\ttotal: 307ms\tremaining: 5.96s\n",
            "49:\tlearn: 0.3829172\ttotal: 311ms\tremaining: 5.91s\n",
            "50:\tlearn: 0.3809848\ttotal: 315ms\tremaining: 5.86s\n",
            "51:\tlearn: 0.3795682\ttotal: 318ms\tremaining: 5.8s\n",
            "52:\tlearn: 0.3773564\ttotal: 322ms\tremaining: 5.76s\n",
            "53:\tlearn: 0.3753552\ttotal: 326ms\tremaining: 5.71s\n",
            "54:\tlearn: 0.3737756\ttotal: 329ms\tremaining: 5.66s\n",
            "55:\tlearn: 0.3719393\ttotal: 333ms\tremaining: 5.62s\n",
            "56:\tlearn: 0.3703287\ttotal: 336ms\tremaining: 5.57s\n",
            "57:\tlearn: 0.3690248\ttotal: 340ms\tremaining: 5.52s\n",
            "58:\tlearn: 0.3674958\ttotal: 344ms\tremaining: 5.48s\n",
            "59:\tlearn: 0.3656574\ttotal: 347ms\tremaining: 5.44s\n",
            "60:\tlearn: 0.3643004\ttotal: 350ms\tremaining: 5.39s\n",
            "61:\tlearn: 0.3623981\ttotal: 355ms\tremaining: 5.37s\n",
            "62:\tlearn: 0.3606070\ttotal: 358ms\tremaining: 5.33s\n",
            "63:\tlearn: 0.3591960\ttotal: 362ms\tremaining: 5.29s\n",
            "64:\tlearn: 0.3576200\ttotal: 366ms\tremaining: 5.27s\n",
            "65:\tlearn: 0.3558933\ttotal: 372ms\tremaining: 5.27s\n",
            "66:\tlearn: 0.3548142\ttotal: 376ms\tremaining: 5.24s\n",
            "67:\tlearn: 0.3534401\ttotal: 380ms\tremaining: 5.21s\n",
            "68:\tlearn: 0.3518433\ttotal: 383ms\tremaining: 5.17s\n",
            "69:\tlearn: 0.3508688\ttotal: 387ms\tremaining: 5.14s\n",
            "70:\tlearn: 0.3498112\ttotal: 391ms\tremaining: 5.12s\n",
            "71:\tlearn: 0.3483194\ttotal: 395ms\tremaining: 5.08s\n",
            "72:\tlearn: 0.3473386\ttotal: 398ms\tremaining: 5.05s\n",
            "73:\tlearn: 0.3460358\ttotal: 403ms\tremaining: 5.04s\n",
            "74:\tlearn: 0.3449009\ttotal: 406ms\tremaining: 5.01s\n",
            "75:\tlearn: 0.3436940\ttotal: 410ms\tremaining: 4.98s\n",
            "76:\tlearn: 0.3428445\ttotal: 414ms\tremaining: 4.96s\n",
            "77:\tlearn: 0.3415443\ttotal: 417ms\tremaining: 4.93s\n",
            "78:\tlearn: 0.3406578\ttotal: 422ms\tremaining: 4.92s\n",
            "79:\tlearn: 0.3396452\ttotal: 425ms\tremaining: 4.89s\n",
            "80:\tlearn: 0.3386714\ttotal: 429ms\tremaining: 4.87s\n",
            "81:\tlearn: 0.3378015\ttotal: 433ms\tremaining: 4.85s\n",
            "82:\tlearn: 0.3371589\ttotal: 436ms\tremaining: 4.82s\n",
            "83:\tlearn: 0.3362241\ttotal: 440ms\tremaining: 4.79s\n",
            "84:\tlearn: 0.3351714\ttotal: 444ms\tremaining: 4.78s\n",
            "85:\tlearn: 0.3343616\ttotal: 447ms\tremaining: 4.75s\n",
            "86:\tlearn: 0.3335663\ttotal: 451ms\tremaining: 4.73s\n",
            "87:\tlearn: 0.3324942\ttotal: 455ms\tremaining: 4.72s\n",
            "88:\tlearn: 0.3315058\ttotal: 458ms\tremaining: 4.69s\n",
            "89:\tlearn: 0.3303708\ttotal: 462ms\tremaining: 4.67s\n",
            "90:\tlearn: 0.3294525\ttotal: 466ms\tremaining: 4.65s\n",
            "91:\tlearn: 0.3288405\ttotal: 469ms\tremaining: 4.63s\n",
            "92:\tlearn: 0.3280426\ttotal: 473ms\tremaining: 4.61s\n",
            "93:\tlearn: 0.3274023\ttotal: 477ms\tremaining: 4.6s\n",
            "94:\tlearn: 0.3264211\ttotal: 483ms\tremaining: 4.6s\n",
            "95:\tlearn: 0.3258618\ttotal: 486ms\tremaining: 4.58s\n",
            "96:\tlearn: 0.3240566\ttotal: 490ms\tremaining: 4.56s\n",
            "97:\tlearn: 0.3234463\ttotal: 494ms\tremaining: 4.54s\n",
            "98:\tlearn: 0.3221552\ttotal: 497ms\tremaining: 4.52s\n",
            "99:\tlearn: 0.3213441\ttotal: 501ms\tremaining: 4.51s\n",
            "100:\tlearn: 0.3205916\ttotal: 504ms\tremaining: 4.49s\n",
            "101:\tlearn: 0.3198480\ttotal: 507ms\tremaining: 4.46s\n",
            "102:\tlearn: 0.3189198\ttotal: 511ms\tremaining: 4.45s\n",
            "103:\tlearn: 0.3183726\ttotal: 515ms\tremaining: 4.43s\n",
            "104:\tlearn: 0.3176359\ttotal: 518ms\tremaining: 4.42s\n",
            "105:\tlearn: 0.3169217\ttotal: 521ms\tremaining: 4.4s\n",
            "106:\tlearn: 0.3156537\ttotal: 525ms\tremaining: 4.38s\n",
            "107:\tlearn: 0.3150081\ttotal: 529ms\tremaining: 4.37s\n",
            "108:\tlearn: 0.3142341\ttotal: 533ms\tremaining: 4.36s\n",
            "109:\tlearn: 0.3132925\ttotal: 536ms\tremaining: 4.34s\n",
            "110:\tlearn: 0.3125350\ttotal: 540ms\tremaining: 4.32s\n",
            "111:\tlearn: 0.3115040\ttotal: 549ms\tremaining: 4.35s\n",
            "112:\tlearn: 0.3103355\ttotal: 553ms\tremaining: 4.34s\n",
            "113:\tlearn: 0.3097897\ttotal: 556ms\tremaining: 4.32s\n",
            "114:\tlearn: 0.3090357\ttotal: 559ms\tremaining: 4.3s\n",
            "115:\tlearn: 0.3085911\ttotal: 562ms\tremaining: 4.29s\n",
            "116:\tlearn: 0.3076345\ttotal: 566ms\tremaining: 4.27s\n",
            "117:\tlearn: 0.3067956\ttotal: 569ms\tremaining: 4.26s\n",
            "118:\tlearn: 0.3060510\ttotal: 573ms\tremaining: 4.24s\n",
            "119:\tlearn: 0.3053071\ttotal: 576ms\tremaining: 4.22s\n",
            "120:\tlearn: 0.3044034\ttotal: 579ms\tremaining: 4.21s\n",
            "121:\tlearn: 0.3036697\ttotal: 583ms\tremaining: 4.2s\n",
            "122:\tlearn: 0.3030183\ttotal: 586ms\tremaining: 4.18s\n",
            "123:\tlearn: 0.3023789\ttotal: 590ms\tremaining: 4.17s\n",
            "124:\tlearn: 0.3019958\ttotal: 593ms\tremaining: 4.15s\n",
            "125:\tlearn: 0.3014035\ttotal: 596ms\tremaining: 4.13s\n",
            "126:\tlearn: 0.3008656\ttotal: 600ms\tremaining: 4.13s\n",
            "127:\tlearn: 0.3001720\ttotal: 603ms\tremaining: 4.11s\n",
            "128:\tlearn: 0.2994190\ttotal: 607ms\tremaining: 4.1s\n",
            "129:\tlearn: 0.2989820\ttotal: 611ms\tremaining: 4.08s\n",
            "130:\tlearn: 0.2984394\ttotal: 614ms\tremaining: 4.07s\n",
            "131:\tlearn: 0.2978397\ttotal: 617ms\tremaining: 4.06s\n",
            "132:\tlearn: 0.2973544\ttotal: 621ms\tremaining: 4.04s\n",
            "133:\tlearn: 0.2966914\ttotal: 624ms\tremaining: 4.03s\n",
            "134:\tlearn: 0.2957905\ttotal: 628ms\tremaining: 4.03s\n",
            "135:\tlearn: 0.2952331\ttotal: 633ms\tremaining: 4.02s\n",
            "136:\tlearn: 0.2945573\ttotal: 642ms\tremaining: 4.04s\n",
            "137:\tlearn: 0.2935721\ttotal: 646ms\tremaining: 4.04s\n",
            "138:\tlearn: 0.2928789\ttotal: 650ms\tremaining: 4.03s\n",
            "139:\tlearn: 0.2921652\ttotal: 654ms\tremaining: 4.02s\n",
            "140:\tlearn: 0.2915983\ttotal: 657ms\tremaining: 4s\n",
            "141:\tlearn: 0.2909970\ttotal: 660ms\tremaining: 3.99s\n",
            "142:\tlearn: 0.2905804\ttotal: 664ms\tremaining: 3.98s\n",
            "143:\tlearn: 0.2899665\ttotal: 667ms\tremaining: 3.96s\n",
            "144:\tlearn: 0.2894699\ttotal: 670ms\tremaining: 3.95s\n",
            "145:\tlearn: 0.2889061\ttotal: 673ms\tremaining: 3.94s\n",
            "146:\tlearn: 0.2882533\ttotal: 677ms\tremaining: 3.93s\n",
            "147:\tlearn: 0.2876951\ttotal: 680ms\tremaining: 3.92s\n",
            "148:\tlearn: 0.2871466\ttotal: 683ms\tremaining: 3.9s\n",
            "149:\tlearn: 0.2866978\ttotal: 687ms\tremaining: 3.89s\n",
            "150:\tlearn: 0.2860945\ttotal: 690ms\tremaining: 3.88s\n",
            "151:\tlearn: 0.2857953\ttotal: 693ms\tremaining: 3.87s\n",
            "152:\tlearn: 0.2853056\ttotal: 696ms\tremaining: 3.85s\n",
            "153:\tlearn: 0.2845707\ttotal: 702ms\tremaining: 3.85s\n",
            "154:\tlearn: 0.2840348\ttotal: 707ms\tremaining: 3.85s\n",
            "155:\tlearn: 0.2831355\ttotal: 716ms\tremaining: 3.88s\n",
            "156:\tlearn: 0.2825506\ttotal: 720ms\tremaining: 3.87s\n",
            "157:\tlearn: 0.2820630\ttotal: 724ms\tremaining: 3.86s\n",
            "158:\tlearn: 0.2816742\ttotal: 728ms\tremaining: 3.85s\n",
            "159:\tlearn: 0.2812124\ttotal: 731ms\tremaining: 3.84s\n",
            "160:\tlearn: 0.2808182\ttotal: 735ms\tremaining: 3.83s\n",
            "161:\tlearn: 0.2799832\ttotal: 744ms\tremaining: 3.85s\n",
            "162:\tlearn: 0.2794527\ttotal: 748ms\tremaining: 3.84s\n",
            "163:\tlearn: 0.2789966\ttotal: 765ms\tremaining: 3.9s\n",
            "164:\tlearn: 0.2785628\ttotal: 772ms\tremaining: 3.91s\n",
            "165:\tlearn: 0.2781464\ttotal: 775ms\tremaining: 3.9s\n",
            "166:\tlearn: 0.2775098\ttotal: 779ms\tremaining: 3.88s\n",
            "167:\tlearn: 0.2770946\ttotal: 782ms\tremaining: 3.87s\n",
            "168:\tlearn: 0.2763807\ttotal: 786ms\tremaining: 3.86s\n",
            "169:\tlearn: 0.2759787\ttotal: 789ms\tremaining: 3.85s\n",
            "170:\tlearn: 0.2755527\ttotal: 795ms\tremaining: 3.85s\n",
            "171:\tlearn: 0.2752096\ttotal: 799ms\tremaining: 3.84s\n",
            "172:\tlearn: 0.2748439\ttotal: 802ms\tremaining: 3.83s\n",
            "173:\tlearn: 0.2742556\ttotal: 805ms\tremaining: 3.82s\n",
            "174:\tlearn: 0.2739034\ttotal: 808ms\tremaining: 3.81s\n",
            "175:\tlearn: 0.2733404\ttotal: 812ms\tremaining: 3.8s\n",
            "176:\tlearn: 0.2729487\ttotal: 815ms\tremaining: 3.79s\n",
            "177:\tlearn: 0.2726393\ttotal: 821ms\tremaining: 3.79s\n",
            "178:\tlearn: 0.2720540\ttotal: 825ms\tremaining: 3.78s\n",
            "179:\tlearn: 0.2712916\ttotal: 829ms\tremaining: 3.77s\n",
            "180:\tlearn: 0.2708255\ttotal: 832ms\tremaining: 3.77s\n",
            "181:\tlearn: 0.2703174\ttotal: 836ms\tremaining: 3.76s\n",
            "182:\tlearn: 0.2699314\ttotal: 840ms\tremaining: 3.75s\n",
            "183:\tlearn: 0.2694867\ttotal: 844ms\tremaining: 3.74s\n",
            "184:\tlearn: 0.2691967\ttotal: 848ms\tremaining: 3.74s\n",
            "185:\tlearn: 0.2685723\ttotal: 857ms\tremaining: 3.75s\n",
            "186:\tlearn: 0.2681938\ttotal: 862ms\tremaining: 3.75s\n",
            "187:\tlearn: 0.2676516\ttotal: 868ms\tremaining: 3.75s\n",
            "188:\tlearn: 0.2670395\ttotal: 883ms\tremaining: 3.79s\n",
            "189:\tlearn: 0.2664828\ttotal: 892ms\tremaining: 3.8s\n",
            "190:\tlearn: 0.2660787\ttotal: 904ms\tremaining: 3.83s\n",
            "191:\tlearn: 0.2652063\ttotal: 912ms\tremaining: 3.83s\n",
            "192:\tlearn: 0.2649396\ttotal: 918ms\tremaining: 3.84s\n",
            "193:\tlearn: 0.2643218\ttotal: 922ms\tremaining: 3.83s\n",
            "194:\tlearn: 0.2640050\ttotal: 926ms\tremaining: 3.82s\n",
            "195:\tlearn: 0.2633090\ttotal: 930ms\tremaining: 3.81s\n",
            "196:\tlearn: 0.2629520\ttotal: 939ms\tremaining: 3.83s\n",
            "197:\tlearn: 0.2626002\ttotal: 945ms\tremaining: 3.83s\n",
            "198:\tlearn: 0.2621539\ttotal: 948ms\tremaining: 3.82s\n",
            "199:\tlearn: 0.2618948\ttotal: 952ms\tremaining: 3.81s\n",
            "200:\tlearn: 0.2613393\ttotal: 955ms\tremaining: 3.8s\n",
            "201:\tlearn: 0.2609907\ttotal: 959ms\tremaining: 3.79s\n",
            "202:\tlearn: 0.2607328\ttotal: 963ms\tremaining: 3.78s\n",
            "203:\tlearn: 0.2604948\ttotal: 967ms\tremaining: 3.77s\n",
            "204:\tlearn: 0.2600014\ttotal: 970ms\tremaining: 3.76s\n",
            "205:\tlearn: 0.2597316\ttotal: 973ms\tremaining: 3.75s\n",
            "206:\tlearn: 0.2591932\ttotal: 978ms\tremaining: 3.75s\n",
            "207:\tlearn: 0.2587548\ttotal: 982ms\tremaining: 3.74s\n",
            "208:\tlearn: 0.2584725\ttotal: 985ms\tremaining: 3.73s\n",
            "209:\tlearn: 0.2580971\ttotal: 988ms\tremaining: 3.72s\n",
            "210:\tlearn: 0.2576400\ttotal: 991ms\tremaining: 3.71s\n",
            "211:\tlearn: 0.2570242\ttotal: 995ms\tremaining: 3.7s\n",
            "212:\tlearn: 0.2567413\ttotal: 998ms\tremaining: 3.69s\n",
            "213:\tlearn: 0.2564182\ttotal: 1s\tremaining: 3.68s\n",
            "214:\tlearn: 0.2561159\ttotal: 1s\tremaining: 3.67s\n",
            "215:\tlearn: 0.2555717\ttotal: 1.01s\tremaining: 3.66s\n",
            "216:\tlearn: 0.2553265\ttotal: 1.01s\tremaining: 3.65s\n",
            "217:\tlearn: 0.2549824\ttotal: 1.01s\tremaining: 3.64s\n",
            "218:\tlearn: 0.2547096\ttotal: 1.02s\tremaining: 3.63s\n",
            "219:\tlearn: 0.2543128\ttotal: 1.02s\tremaining: 3.62s\n",
            "220:\tlearn: 0.2538482\ttotal: 1.02s\tremaining: 3.62s\n",
            "221:\tlearn: 0.2535509\ttotal: 1.03s\tremaining: 3.61s\n",
            "222:\tlearn: 0.2531652\ttotal: 1.03s\tremaining: 3.6s\n",
            "223:\tlearn: 0.2529411\ttotal: 1.03s\tremaining: 3.59s\n",
            "224:\tlearn: 0.2524920\ttotal: 1.04s\tremaining: 3.58s\n",
            "225:\tlearn: 0.2521186\ttotal: 1.04s\tremaining: 3.57s\n",
            "226:\tlearn: 0.2516857\ttotal: 1.04s\tremaining: 3.56s\n",
            "227:\tlearn: 0.2512482\ttotal: 1.05s\tremaining: 3.55s\n",
            "228:\tlearn: 0.2509831\ttotal: 1.05s\tremaining: 3.54s\n",
            "229:\tlearn: 0.2507359\ttotal: 1.05s\tremaining: 3.53s\n",
            "230:\tlearn: 0.2502879\ttotal: 1.06s\tremaining: 3.53s\n",
            "231:\tlearn: 0.2498860\ttotal: 1.06s\tremaining: 3.52s\n",
            "232:\tlearn: 0.2493870\ttotal: 1.06s\tremaining: 3.51s\n",
            "233:\tlearn: 0.2488617\ttotal: 1.07s\tremaining: 3.5s\n",
            "234:\tlearn: 0.2483881\ttotal: 1.07s\tremaining: 3.49s\n",
            "235:\tlearn: 0.2480888\ttotal: 1.07s\tremaining: 3.48s\n",
            "236:\tlearn: 0.2476464\ttotal: 1.08s\tremaining: 3.47s\n",
            "237:\tlearn: 0.2473905\ttotal: 1.08s\tremaining: 3.46s\n",
            "238:\tlearn: 0.2469654\ttotal: 1.08s\tremaining: 3.45s\n",
            "239:\tlearn: 0.2466032\ttotal: 1.09s\tremaining: 3.45s\n",
            "240:\tlearn: 0.2462426\ttotal: 1.09s\tremaining: 3.44s\n",
            "241:\tlearn: 0.2460156\ttotal: 1.09s\tremaining: 3.43s\n",
            "242:\tlearn: 0.2458341\ttotal: 1.1s\tremaining: 3.44s\n",
            "243:\tlearn: 0.2455845\ttotal: 1.11s\tremaining: 3.43s\n",
            "244:\tlearn: 0.2451007\ttotal: 1.11s\tremaining: 3.42s\n",
            "245:\tlearn: 0.2445712\ttotal: 1.11s\tremaining: 3.41s\n",
            "246:\tlearn: 0.2442395\ttotal: 1.12s\tremaining: 3.4s\n",
            "247:\tlearn: 0.2439007\ttotal: 1.12s\tremaining: 3.39s\n",
            "248:\tlearn: 0.2436024\ttotal: 1.13s\tremaining: 3.4s\n",
            "249:\tlearn: 0.2429075\ttotal: 1.13s\tremaining: 3.4s\n",
            "250:\tlearn: 0.2424498\ttotal: 1.14s\tremaining: 3.42s\n",
            "251:\tlearn: 0.2421069\ttotal: 1.15s\tremaining: 3.41s\n",
            "252:\tlearn: 0.2415736\ttotal: 1.15s\tremaining: 3.4s\n",
            "253:\tlearn: 0.2413209\ttotal: 1.16s\tremaining: 3.4s\n",
            "254:\tlearn: 0.2411130\ttotal: 1.16s\tremaining: 3.39s\n",
            "255:\tlearn: 0.2407019\ttotal: 1.16s\tremaining: 3.38s\n",
            "256:\tlearn: 0.2404545\ttotal: 1.17s\tremaining: 3.37s\n",
            "257:\tlearn: 0.2400631\ttotal: 1.17s\tremaining: 3.36s\n",
            "258:\tlearn: 0.2397547\ttotal: 1.17s\tremaining: 3.36s\n",
            "259:\tlearn: 0.2394537\ttotal: 1.18s\tremaining: 3.35s\n",
            "260:\tlearn: 0.2390679\ttotal: 1.18s\tremaining: 3.34s\n",
            "261:\tlearn: 0.2387180\ttotal: 1.19s\tremaining: 3.34s\n",
            "262:\tlearn: 0.2384260\ttotal: 1.19s\tremaining: 3.33s\n",
            "263:\tlearn: 0.2379739\ttotal: 1.19s\tremaining: 3.32s\n",
            "264:\tlearn: 0.2376212\ttotal: 1.2s\tremaining: 3.31s\n",
            "265:\tlearn: 0.2373858\ttotal: 1.2s\tremaining: 3.31s\n",
            "266:\tlearn: 0.2371411\ttotal: 1.2s\tremaining: 3.3s\n",
            "267:\tlearn: 0.2366348\ttotal: 1.21s\tremaining: 3.29s\n",
            "268:\tlearn: 0.2362887\ttotal: 1.21s\tremaining: 3.28s\n",
            "269:\tlearn: 0.2358005\ttotal: 1.21s\tremaining: 3.27s\n",
            "270:\tlearn: 0.2353558\ttotal: 1.22s\tremaining: 3.27s\n",
            "271:\tlearn: 0.2350197\ttotal: 1.22s\tremaining: 3.26s\n",
            "272:\tlearn: 0.2347463\ttotal: 1.22s\tremaining: 3.25s\n",
            "273:\tlearn: 0.2341804\ttotal: 1.23s\tremaining: 3.25s\n",
            "274:\tlearn: 0.2339414\ttotal: 1.23s\tremaining: 3.24s\n",
            "275:\tlearn: 0.2336949\ttotal: 1.23s\tremaining: 3.23s\n",
            "276:\tlearn: 0.2334401\ttotal: 1.24s\tremaining: 3.23s\n",
            "277:\tlearn: 0.2332778\ttotal: 1.24s\tremaining: 3.22s\n",
            "278:\tlearn: 0.2330069\ttotal: 1.24s\tremaining: 3.21s\n",
            "279:\tlearn: 0.2326264\ttotal: 1.25s\tremaining: 3.21s\n",
            "280:\tlearn: 0.2322255\ttotal: 1.25s\tremaining: 3.2s\n",
            "281:\tlearn: 0.2319748\ttotal: 1.25s\tremaining: 3.19s\n",
            "282:\tlearn: 0.2317733\ttotal: 1.26s\tremaining: 3.19s\n",
            "283:\tlearn: 0.2314353\ttotal: 1.26s\tremaining: 3.18s\n",
            "284:\tlearn: 0.2311054\ttotal: 1.26s\tremaining: 3.18s\n",
            "285:\tlearn: 0.2308400\ttotal: 1.27s\tremaining: 3.17s\n",
            "286:\tlearn: 0.2304586\ttotal: 1.27s\tremaining: 3.16s\n",
            "287:\tlearn: 0.2301873\ttotal: 1.28s\tremaining: 3.15s\n",
            "288:\tlearn: 0.2301021\ttotal: 1.28s\tremaining: 3.15s\n",
            "289:\tlearn: 0.2298330\ttotal: 1.28s\tremaining: 3.14s\n",
            "290:\tlearn: 0.2295858\ttotal: 1.29s\tremaining: 3.13s\n",
            "291:\tlearn: 0.2293644\ttotal: 1.29s\tremaining: 3.13s\n",
            "292:\tlearn: 0.2290259\ttotal: 1.29s\tremaining: 3.12s\n",
            "293:\tlearn: 0.2287526\ttotal: 1.3s\tremaining: 3.12s\n",
            "294:\tlearn: 0.2282232\ttotal: 1.3s\tremaining: 3.11s\n",
            "295:\tlearn: 0.2280547\ttotal: 1.3s\tremaining: 3.1s\n",
            "296:\tlearn: 0.2275835\ttotal: 1.31s\tremaining: 3.1s\n",
            "297:\tlearn: 0.2271234\ttotal: 1.31s\tremaining: 3.09s\n",
            "298:\tlearn: 0.2269131\ttotal: 1.32s\tremaining: 3.08s\n",
            "299:\tlearn: 0.2265208\ttotal: 1.32s\tremaining: 3.08s\n",
            "300:\tlearn: 0.2263372\ttotal: 1.33s\tremaining: 3.08s\n",
            "301:\tlearn: 0.2261193\ttotal: 1.33s\tremaining: 3.08s\n",
            "302:\tlearn: 0.2259047\ttotal: 1.34s\tremaining: 3.08s\n",
            "303:\tlearn: 0.2257083\ttotal: 1.34s\tremaining: 3.08s\n",
            "304:\tlearn: 0.2255522\ttotal: 1.35s\tremaining: 3.07s\n",
            "305:\tlearn: 0.2253039\ttotal: 1.35s\tremaining: 3.06s\n",
            "306:\tlearn: 0.2249005\ttotal: 1.35s\tremaining: 3.06s\n",
            "307:\tlearn: 0.2246212\ttotal: 1.36s\tremaining: 3.05s\n",
            "308:\tlearn: 0.2242355\ttotal: 1.36s\tremaining: 3.04s\n",
            "309:\tlearn: 0.2239812\ttotal: 1.36s\tremaining: 3.04s\n",
            "310:\tlearn: 0.2237092\ttotal: 1.37s\tremaining: 3.03s\n",
            "311:\tlearn: 0.2234646\ttotal: 1.37s\tremaining: 3.02s\n",
            "312:\tlearn: 0.2232762\ttotal: 1.37s\tremaining: 3.02s\n",
            "313:\tlearn: 0.2230045\ttotal: 1.38s\tremaining: 3.01s\n",
            "314:\tlearn: 0.2227982\ttotal: 1.38s\tremaining: 3s\n",
            "315:\tlearn: 0.2225312\ttotal: 1.38s\tremaining: 3s\n",
            "316:\tlearn: 0.2222468\ttotal: 1.39s\tremaining: 2.99s\n",
            "317:\tlearn: 0.2219036\ttotal: 1.39s\tremaining: 2.98s\n",
            "318:\tlearn: 0.2217700\ttotal: 1.39s\tremaining: 2.98s\n",
            "319:\tlearn: 0.2214272\ttotal: 1.4s\tremaining: 2.97s\n",
            "320:\tlearn: 0.2212904\ttotal: 1.4s\tremaining: 2.96s\n",
            "321:\tlearn: 0.2210898\ttotal: 1.4s\tremaining: 2.96s\n",
            "322:\tlearn: 0.2208175\ttotal: 1.41s\tremaining: 2.95s\n",
            "323:\tlearn: 0.2206158\ttotal: 1.41s\tremaining: 2.94s\n",
            "324:\tlearn: 0.2200190\ttotal: 1.41s\tremaining: 2.94s\n",
            "325:\tlearn: 0.2197555\ttotal: 1.42s\tremaining: 2.93s\n",
            "326:\tlearn: 0.2195717\ttotal: 1.42s\tremaining: 2.92s\n",
            "327:\tlearn: 0.2193770\ttotal: 1.42s\tremaining: 2.92s\n",
            "328:\tlearn: 0.2192414\ttotal: 1.43s\tremaining: 2.91s\n",
            "329:\tlearn: 0.2190298\ttotal: 1.43s\tremaining: 2.9s\n",
            "330:\tlearn: 0.2187446\ttotal: 1.43s\tremaining: 2.9s\n",
            "331:\tlearn: 0.2183402\ttotal: 1.44s\tremaining: 2.89s\n",
            "332:\tlearn: 0.2179928\ttotal: 1.44s\tremaining: 2.88s\n",
            "333:\tlearn: 0.2176812\ttotal: 1.44s\tremaining: 2.88s\n",
            "334:\tlearn: 0.2173949\ttotal: 1.45s\tremaining: 2.87s\n",
            "335:\tlearn: 0.2169656\ttotal: 1.45s\tremaining: 2.86s\n",
            "336:\tlearn: 0.2167798\ttotal: 1.45s\tremaining: 2.86s\n",
            "337:\tlearn: 0.2165488\ttotal: 1.46s\tremaining: 2.85s\n",
            "338:\tlearn: 0.2162472\ttotal: 1.46s\tremaining: 2.85s\n",
            "339:\tlearn: 0.2158941\ttotal: 1.46s\tremaining: 2.84s\n",
            "340:\tlearn: 0.2155852\ttotal: 1.47s\tremaining: 2.83s\n",
            "341:\tlearn: 0.2153047\ttotal: 1.47s\tremaining: 2.83s\n",
            "342:\tlearn: 0.2150297\ttotal: 1.47s\tremaining: 2.82s\n",
            "343:\tlearn: 0.2147416\ttotal: 1.48s\tremaining: 2.81s\n",
            "344:\tlearn: 0.2145352\ttotal: 1.48s\tremaining: 2.81s\n",
            "345:\tlearn: 0.2143369\ttotal: 1.48s\tremaining: 2.8s\n",
            "346:\tlearn: 0.2141846\ttotal: 1.49s\tremaining: 2.8s\n",
            "347:\tlearn: 0.2138998\ttotal: 1.49s\tremaining: 2.79s\n",
            "348:\tlearn: 0.2136592\ttotal: 1.49s\tremaining: 2.78s\n",
            "349:\tlearn: 0.2133852\ttotal: 1.5s\tremaining: 2.78s\n",
            "350:\tlearn: 0.2130636\ttotal: 1.5s\tremaining: 2.77s\n",
            "351:\tlearn: 0.2128273\ttotal: 1.5s\tremaining: 2.77s\n",
            "352:\tlearn: 0.2125594\ttotal: 1.51s\tremaining: 2.76s\n",
            "353:\tlearn: 0.2124136\ttotal: 1.51s\tremaining: 2.75s\n",
            "354:\tlearn: 0.2122072\ttotal: 1.51s\tremaining: 2.75s\n",
            "355:\tlearn: 0.2119613\ttotal: 1.52s\tremaining: 2.74s\n",
            "356:\tlearn: 0.2115653\ttotal: 1.52s\tremaining: 2.74s\n",
            "357:\tlearn: 0.2113895\ttotal: 1.52s\tremaining: 2.73s\n",
            "358:\tlearn: 0.2109039\ttotal: 1.53s\tremaining: 2.73s\n",
            "359:\tlearn: 0.2107266\ttotal: 1.53s\tremaining: 2.72s\n",
            "360:\tlearn: 0.2104039\ttotal: 1.54s\tremaining: 2.72s\n",
            "361:\tlearn: 0.2102535\ttotal: 1.54s\tremaining: 2.72s\n",
            "362:\tlearn: 0.2100442\ttotal: 1.54s\tremaining: 2.71s\n",
            "363:\tlearn: 0.2098550\ttotal: 1.55s\tremaining: 2.7s\n",
            "364:\tlearn: 0.2096354\ttotal: 1.55s\tremaining: 2.7s\n",
            "365:\tlearn: 0.2093950\ttotal: 1.55s\tremaining: 2.69s\n",
            "366:\tlearn: 0.2092230\ttotal: 1.56s\tremaining: 2.69s\n",
            "367:\tlearn: 0.2088733\ttotal: 1.56s\tremaining: 2.68s\n",
            "368:\tlearn: 0.2086848\ttotal: 1.56s\tremaining: 2.67s\n",
            "369:\tlearn: 0.2084182\ttotal: 1.57s\tremaining: 2.67s\n",
            "370:\tlearn: 0.2081484\ttotal: 1.57s\tremaining: 2.66s\n",
            "371:\tlearn: 0.2078586\ttotal: 1.58s\tremaining: 2.66s\n",
            "372:\tlearn: 0.2076680\ttotal: 1.58s\tremaining: 2.66s\n",
            "373:\tlearn: 0.2074105\ttotal: 1.6s\tremaining: 2.67s\n",
            "374:\tlearn: 0.2072533\ttotal: 1.6s\tremaining: 2.67s\n",
            "375:\tlearn: 0.2070111\ttotal: 1.61s\tremaining: 2.67s\n",
            "376:\tlearn: 0.2067481\ttotal: 1.61s\tremaining: 2.66s\n",
            "377:\tlearn: 0.2063842\ttotal: 1.61s\tremaining: 2.66s\n",
            "378:\tlearn: 0.2062637\ttotal: 1.62s\tremaining: 2.65s\n",
            "379:\tlearn: 0.2060581\ttotal: 1.62s\tremaining: 2.65s\n",
            "380:\tlearn: 0.2057856\ttotal: 1.62s\tremaining: 2.64s\n",
            "381:\tlearn: 0.2056021\ttotal: 1.63s\tremaining: 2.63s\n",
            "382:\tlearn: 0.2054217\ttotal: 1.63s\tremaining: 2.63s\n",
            "383:\tlearn: 0.2052322\ttotal: 1.63s\tremaining: 2.62s\n",
            "384:\tlearn: 0.2050503\ttotal: 1.64s\tremaining: 2.62s\n",
            "385:\tlearn: 0.2048578\ttotal: 1.64s\tremaining: 2.61s\n",
            "386:\tlearn: 0.2046895\ttotal: 1.64s\tremaining: 2.6s\n",
            "387:\tlearn: 0.2043554\ttotal: 1.65s\tremaining: 2.6s\n",
            "388:\tlearn: 0.2040346\ttotal: 1.65s\tremaining: 2.59s\n",
            "389:\tlearn: 0.2037694\ttotal: 1.65s\tremaining: 2.59s\n",
            "390:\tlearn: 0.2036223\ttotal: 1.66s\tremaining: 2.58s\n",
            "391:\tlearn: 0.2034170\ttotal: 1.66s\tremaining: 2.58s\n",
            "392:\tlearn: 0.2031204\ttotal: 1.66s\tremaining: 2.57s\n",
            "393:\tlearn: 0.2030056\ttotal: 1.67s\tremaining: 2.56s\n",
            "394:\tlearn: 0.2028451\ttotal: 1.67s\tremaining: 2.56s\n",
            "395:\tlearn: 0.2025876\ttotal: 1.67s\tremaining: 2.55s\n",
            "396:\tlearn: 0.2024551\ttotal: 1.68s\tremaining: 2.55s\n",
            "397:\tlearn: 0.2022641\ttotal: 1.68s\tremaining: 2.54s\n",
            "398:\tlearn: 0.2021046\ttotal: 1.68s\tremaining: 2.54s\n",
            "399:\tlearn: 0.2019188\ttotal: 1.69s\tremaining: 2.53s\n",
            "400:\tlearn: 0.2016473\ttotal: 1.69s\tremaining: 2.52s\n",
            "401:\tlearn: 0.2015109\ttotal: 1.69s\tremaining: 2.52s\n",
            "402:\tlearn: 0.2013365\ttotal: 1.7s\tremaining: 2.51s\n",
            "403:\tlearn: 0.2011733\ttotal: 1.7s\tremaining: 2.51s\n",
            "404:\tlearn: 0.2009090\ttotal: 1.7s\tremaining: 2.5s\n",
            "405:\tlearn: 0.2006308\ttotal: 1.71s\tremaining: 2.5s\n",
            "406:\tlearn: 0.2003334\ttotal: 1.71s\tremaining: 2.49s\n",
            "407:\tlearn: 0.2002202\ttotal: 1.71s\tremaining: 2.49s\n",
            "408:\tlearn: 0.2000164\ttotal: 1.72s\tremaining: 2.48s\n",
            "409:\tlearn: 0.1997568\ttotal: 1.72s\tremaining: 2.48s\n",
            "410:\tlearn: 0.1995444\ttotal: 1.72s\tremaining: 2.47s\n",
            "411:\tlearn: 0.1994152\ttotal: 1.73s\tremaining: 2.47s\n",
            "412:\tlearn: 0.1992141\ttotal: 1.74s\tremaining: 2.47s\n",
            "413:\tlearn: 0.1989840\ttotal: 1.74s\tremaining: 2.46s\n",
            "414:\tlearn: 0.1988091\ttotal: 1.75s\tremaining: 2.46s\n",
            "415:\tlearn: 0.1985339\ttotal: 1.75s\tremaining: 2.45s\n",
            "416:\tlearn: 0.1982024\ttotal: 1.75s\tremaining: 2.45s\n",
            "417:\tlearn: 0.1980353\ttotal: 1.75s\tremaining: 2.44s\n",
            "418:\tlearn: 0.1978959\ttotal: 1.76s\tremaining: 2.44s\n",
            "419:\tlearn: 0.1977067\ttotal: 1.76s\tremaining: 2.44s\n",
            "420:\tlearn: 0.1975103\ttotal: 1.77s\tremaining: 2.43s\n",
            "421:\tlearn: 0.1972899\ttotal: 1.77s\tremaining: 2.42s\n",
            "422:\tlearn: 0.1971499\ttotal: 1.77s\tremaining: 2.42s\n",
            "423:\tlearn: 0.1969936\ttotal: 1.78s\tremaining: 2.41s\n",
            "424:\tlearn: 0.1967836\ttotal: 1.78s\tremaining: 2.41s\n",
            "425:\tlearn: 0.1965553\ttotal: 1.78s\tremaining: 2.4s\n",
            "426:\tlearn: 0.1963808\ttotal: 1.79s\tremaining: 2.4s\n",
            "427:\tlearn: 0.1961375\ttotal: 1.79s\tremaining: 2.39s\n",
            "428:\tlearn: 0.1959756\ttotal: 1.79s\tremaining: 2.39s\n",
            "429:\tlearn: 0.1957266\ttotal: 1.8s\tremaining: 2.38s\n",
            "430:\tlearn: 0.1954724\ttotal: 1.8s\tremaining: 2.38s\n",
            "431:\tlearn: 0.1953558\ttotal: 1.8s\tremaining: 2.37s\n",
            "432:\tlearn: 0.1952535\ttotal: 1.81s\tremaining: 2.37s\n",
            "433:\tlearn: 0.1949458\ttotal: 1.81s\tremaining: 2.36s\n",
            "434:\tlearn: 0.1946669\ttotal: 1.81s\tremaining: 2.35s\n",
            "435:\tlearn: 0.1944845\ttotal: 1.82s\tremaining: 2.35s\n",
            "436:\tlearn: 0.1943564\ttotal: 1.82s\tremaining: 2.34s\n",
            "437:\tlearn: 0.1941881\ttotal: 1.82s\tremaining: 2.34s\n",
            "438:\tlearn: 0.1939565\ttotal: 1.82s\tremaining: 2.33s\n",
            "439:\tlearn: 0.1936811\ttotal: 1.83s\tremaining: 2.33s\n",
            "440:\tlearn: 0.1935320\ttotal: 1.83s\tremaining: 2.32s\n",
            "441:\tlearn: 0.1932841\ttotal: 1.83s\tremaining: 2.32s\n",
            "442:\tlearn: 0.1931535\ttotal: 1.84s\tremaining: 2.31s\n",
            "443:\tlearn: 0.1929324\ttotal: 1.84s\tremaining: 2.31s\n",
            "444:\tlearn: 0.1927663\ttotal: 1.85s\tremaining: 2.3s\n",
            "445:\tlearn: 0.1925383\ttotal: 1.86s\tremaining: 2.31s\n",
            "446:\tlearn: 0.1922784\ttotal: 1.87s\tremaining: 2.31s\n",
            "447:\tlearn: 0.1919811\ttotal: 1.88s\tremaining: 2.31s\n",
            "448:\tlearn: 0.1917645\ttotal: 1.88s\tremaining: 2.31s\n",
            "449:\tlearn: 0.1915775\ttotal: 1.88s\tremaining: 2.3s\n",
            "450:\tlearn: 0.1913879\ttotal: 1.89s\tremaining: 2.3s\n",
            "451:\tlearn: 0.1910919\ttotal: 1.89s\tremaining: 2.29s\n",
            "452:\tlearn: 0.1908565\ttotal: 1.89s\tremaining: 2.29s\n",
            "453:\tlearn: 0.1906354\ttotal: 1.9s\tremaining: 2.28s\n",
            "454:\tlearn: 0.1904746\ttotal: 1.9s\tremaining: 2.28s\n",
            "455:\tlearn: 0.1902280\ttotal: 1.9s\tremaining: 2.27s\n",
            "456:\tlearn: 0.1900170\ttotal: 1.91s\tremaining: 2.27s\n",
            "457:\tlearn: 0.1899101\ttotal: 1.91s\tremaining: 2.26s\n",
            "458:\tlearn: 0.1897521\ttotal: 1.92s\tremaining: 2.26s\n",
            "459:\tlearn: 0.1894141\ttotal: 1.92s\tremaining: 2.25s\n",
            "460:\tlearn: 0.1891671\ttotal: 1.92s\tremaining: 2.25s\n",
            "461:\tlearn: 0.1889431\ttotal: 1.93s\tremaining: 2.25s\n",
            "462:\tlearn: 0.1887774\ttotal: 1.93s\tremaining: 2.24s\n",
            "463:\tlearn: 0.1886318\ttotal: 1.93s\tremaining: 2.23s\n",
            "464:\tlearn: 0.1884805\ttotal: 1.94s\tremaining: 2.23s\n",
            "465:\tlearn: 0.1883576\ttotal: 1.94s\tremaining: 2.22s\n",
            "466:\tlearn: 0.1882141\ttotal: 1.94s\tremaining: 2.22s\n",
            "467:\tlearn: 0.1879489\ttotal: 1.95s\tremaining: 2.21s\n",
            "468:\tlearn: 0.1877098\ttotal: 1.95s\tremaining: 2.21s\n",
            "469:\tlearn: 0.1875202\ttotal: 1.95s\tremaining: 2.2s\n",
            "470:\tlearn: 0.1873404\ttotal: 1.96s\tremaining: 2.2s\n",
            "471:\tlearn: 0.1871264\ttotal: 1.96s\tremaining: 2.19s\n",
            "472:\tlearn: 0.1867999\ttotal: 1.96s\tremaining: 2.19s\n",
            "473:\tlearn: 0.1865847\ttotal: 1.97s\tremaining: 2.18s\n",
            "474:\tlearn: 0.1863626\ttotal: 1.97s\tremaining: 2.18s\n",
            "475:\tlearn: 0.1861082\ttotal: 1.97s\tremaining: 2.17s\n",
            "476:\tlearn: 0.1859873\ttotal: 1.98s\tremaining: 2.17s\n",
            "477:\tlearn: 0.1858346\ttotal: 1.98s\tremaining: 2.16s\n",
            "478:\tlearn: 0.1856349\ttotal: 1.98s\tremaining: 2.16s\n",
            "479:\tlearn: 0.1853977\ttotal: 1.99s\tremaining: 2.15s\n",
            "480:\tlearn: 0.1852099\ttotal: 1.99s\tremaining: 2.15s\n",
            "481:\tlearn: 0.1849766\ttotal: 1.99s\tremaining: 2.14s\n",
            "482:\tlearn: 0.1846498\ttotal: 2s\tremaining: 2.14s\n",
            "483:\tlearn: 0.1844989\ttotal: 2s\tremaining: 2.13s\n",
            "484:\tlearn: 0.1844162\ttotal: 2s\tremaining: 2.13s\n",
            "485:\tlearn: 0.1842233\ttotal: 2.01s\tremaining: 2.12s\n",
            "486:\tlearn: 0.1840009\ttotal: 2.01s\tremaining: 2.12s\n",
            "487:\tlearn: 0.1838481\ttotal: 2.02s\tremaining: 2.11s\n",
            "488:\tlearn: 0.1836834\ttotal: 2.02s\tremaining: 2.11s\n",
            "489:\tlearn: 0.1835038\ttotal: 2.03s\tremaining: 2.11s\n",
            "490:\tlearn: 0.1834216\ttotal: 2.03s\tremaining: 2.11s\n",
            "491:\tlearn: 0.1831112\ttotal: 2.04s\tremaining: 2.1s\n",
            "492:\tlearn: 0.1830296\ttotal: 2.04s\tremaining: 2.1s\n",
            "493:\tlearn: 0.1828990\ttotal: 2.04s\tremaining: 2.09s\n",
            "494:\tlearn: 0.1826704\ttotal: 2.05s\tremaining: 2.09s\n",
            "495:\tlearn: 0.1824459\ttotal: 2.05s\tremaining: 2.08s\n",
            "496:\tlearn: 0.1822572\ttotal: 2.05s\tremaining: 2.08s\n",
            "497:\tlearn: 0.1820887\ttotal: 2.06s\tremaining: 2.07s\n",
            "498:\tlearn: 0.1818105\ttotal: 2.06s\tremaining: 2.07s\n",
            "499:\tlearn: 0.1815507\ttotal: 2.06s\tremaining: 2.06s\n",
            "500:\tlearn: 0.1813432\ttotal: 2.07s\tremaining: 2.06s\n",
            "501:\tlearn: 0.1811187\ttotal: 2.07s\tremaining: 2.06s\n",
            "502:\tlearn: 0.1809791\ttotal: 2.08s\tremaining: 2.05s\n",
            "503:\tlearn: 0.1807559\ttotal: 2.08s\tremaining: 2.04s\n",
            "504:\tlearn: 0.1805962\ttotal: 2.08s\tremaining: 2.04s\n",
            "505:\tlearn: 0.1804350\ttotal: 2.08s\tremaining: 2.04s\n",
            "506:\tlearn: 0.1802947\ttotal: 2.09s\tremaining: 2.03s\n",
            "507:\tlearn: 0.1801458\ttotal: 2.09s\tremaining: 2.02s\n",
            "508:\tlearn: 0.1799179\ttotal: 2.1s\tremaining: 2.02s\n",
            "509:\tlearn: 0.1796683\ttotal: 2.1s\tremaining: 2.02s\n",
            "510:\tlearn: 0.1794806\ttotal: 2.1s\tremaining: 2.01s\n",
            "511:\tlearn: 0.1792796\ttotal: 2.1s\tremaining: 2.01s\n",
            "512:\tlearn: 0.1791539\ttotal: 2.11s\tremaining: 2s\n",
            "513:\tlearn: 0.1789482\ttotal: 2.12s\tremaining: 2s\n",
            "514:\tlearn: 0.1788777\ttotal: 2.12s\tremaining: 2s\n",
            "515:\tlearn: 0.1787808\ttotal: 2.12s\tremaining: 1.99s\n",
            "516:\tlearn: 0.1785967\ttotal: 2.12s\tremaining: 1.99s\n",
            "517:\tlearn: 0.1783648\ttotal: 2.13s\tremaining: 1.98s\n",
            "518:\tlearn: 0.1781588\ttotal: 2.13s\tremaining: 1.98s\n",
            "519:\tlearn: 0.1779841\ttotal: 2.13s\tremaining: 1.97s\n",
            "520:\tlearn: 0.1778231\ttotal: 2.14s\tremaining: 1.97s\n",
            "521:\tlearn: 0.1775760\ttotal: 2.14s\tremaining: 1.96s\n",
            "522:\tlearn: 0.1774460\ttotal: 2.15s\tremaining: 1.96s\n",
            "523:\tlearn: 0.1772060\ttotal: 2.16s\tremaining: 1.96s\n",
            "524:\tlearn: 0.1770113\ttotal: 2.17s\tremaining: 1.96s\n",
            "525:\tlearn: 0.1768002\ttotal: 2.17s\tremaining: 1.96s\n",
            "526:\tlearn: 0.1766468\ttotal: 2.18s\tremaining: 1.95s\n",
            "527:\tlearn: 0.1765844\ttotal: 2.18s\tremaining: 1.95s\n",
            "528:\tlearn: 0.1764007\ttotal: 2.18s\tremaining: 1.95s\n",
            "529:\tlearn: 0.1762426\ttotal: 2.19s\tremaining: 1.94s\n",
            "530:\tlearn: 0.1760646\ttotal: 2.19s\tremaining: 1.94s\n",
            "531:\tlearn: 0.1758121\ttotal: 2.19s\tremaining: 1.93s\n",
            "532:\tlearn: 0.1756829\ttotal: 2.2s\tremaining: 1.93s\n",
            "533:\tlearn: 0.1755383\ttotal: 2.2s\tremaining: 1.92s\n",
            "534:\tlearn: 0.1752735\ttotal: 2.21s\tremaining: 1.92s\n",
            "535:\tlearn: 0.1750945\ttotal: 2.21s\tremaining: 1.91s\n",
            "536:\tlearn: 0.1748762\ttotal: 2.21s\tremaining: 1.91s\n",
            "537:\tlearn: 0.1747486\ttotal: 2.21s\tremaining: 1.9s\n",
            "538:\tlearn: 0.1745863\ttotal: 2.22s\tremaining: 1.9s\n",
            "539:\tlearn: 0.1744574\ttotal: 2.22s\tremaining: 1.89s\n",
            "540:\tlearn: 0.1743073\ttotal: 2.23s\tremaining: 1.89s\n",
            "541:\tlearn: 0.1741274\ttotal: 2.23s\tremaining: 1.88s\n",
            "542:\tlearn: 0.1740094\ttotal: 2.23s\tremaining: 1.88s\n",
            "543:\tlearn: 0.1738564\ttotal: 2.23s\tremaining: 1.87s\n",
            "544:\tlearn: 0.1737328\ttotal: 2.24s\tremaining: 1.87s\n",
            "545:\tlearn: 0.1735014\ttotal: 2.24s\tremaining: 1.86s\n",
            "546:\tlearn: 0.1733653\ttotal: 2.25s\tremaining: 1.86s\n",
            "547:\tlearn: 0.1731006\ttotal: 2.25s\tremaining: 1.85s\n",
            "548:\tlearn: 0.1729068\ttotal: 2.25s\tremaining: 1.85s\n",
            "549:\tlearn: 0.1727232\ttotal: 2.25s\tremaining: 1.84s\n",
            "550:\tlearn: 0.1725456\ttotal: 2.26s\tremaining: 1.84s\n",
            "551:\tlearn: 0.1723188\ttotal: 2.26s\tremaining: 1.83s\n",
            "552:\tlearn: 0.1721301\ttotal: 2.27s\tremaining: 1.83s\n",
            "553:\tlearn: 0.1718860\ttotal: 2.27s\tremaining: 1.83s\n",
            "554:\tlearn: 0.1717365\ttotal: 2.27s\tremaining: 1.82s\n",
            "555:\tlearn: 0.1716259\ttotal: 2.27s\tremaining: 1.82s\n",
            "556:\tlearn: 0.1714599\ttotal: 2.28s\tremaining: 1.81s\n",
            "557:\tlearn: 0.1712197\ttotal: 2.28s\tremaining: 1.81s\n",
            "558:\tlearn: 0.1710770\ttotal: 2.29s\tremaining: 1.8s\n",
            "559:\tlearn: 0.1709128\ttotal: 2.29s\tremaining: 1.8s\n",
            "560:\tlearn: 0.1707776\ttotal: 2.29s\tremaining: 1.79s\n",
            "561:\tlearn: 0.1706301\ttotal: 2.3s\tremaining: 1.79s\n",
            "562:\tlearn: 0.1704766\ttotal: 2.3s\tremaining: 1.79s\n",
            "563:\tlearn: 0.1702742\ttotal: 2.31s\tremaining: 1.78s\n",
            "564:\tlearn: 0.1701323\ttotal: 2.31s\tremaining: 1.78s\n",
            "565:\tlearn: 0.1699420\ttotal: 2.32s\tremaining: 1.78s\n",
            "566:\tlearn: 0.1698053\ttotal: 2.33s\tremaining: 1.78s\n",
            "567:\tlearn: 0.1696926\ttotal: 2.34s\tremaining: 1.78s\n",
            "568:\tlearn: 0.1695924\ttotal: 2.35s\tremaining: 1.78s\n",
            "569:\tlearn: 0.1694760\ttotal: 2.35s\tremaining: 1.78s\n",
            "570:\tlearn: 0.1692263\ttotal: 2.36s\tremaining: 1.77s\n",
            "571:\tlearn: 0.1691086\ttotal: 2.38s\tremaining: 1.78s\n",
            "572:\tlearn: 0.1689614\ttotal: 2.38s\tremaining: 1.78s\n",
            "573:\tlearn: 0.1687863\ttotal: 2.39s\tremaining: 1.78s\n",
            "574:\tlearn: 0.1686248\ttotal: 2.4s\tremaining: 1.78s\n",
            "575:\tlearn: 0.1684870\ttotal: 2.42s\tremaining: 1.78s\n",
            "576:\tlearn: 0.1683516\ttotal: 2.43s\tremaining: 1.78s\n",
            "577:\tlearn: 0.1681526\ttotal: 2.46s\tremaining: 1.8s\n",
            "578:\tlearn: 0.1680596\ttotal: 2.47s\tremaining: 1.79s\n",
            "579:\tlearn: 0.1679032\ttotal: 2.48s\tremaining: 1.8s\n",
            "580:\tlearn: 0.1676819\ttotal: 2.49s\tremaining: 1.79s\n",
            "581:\tlearn: 0.1674769\ttotal: 2.5s\tremaining: 1.79s\n",
            "582:\tlearn: 0.1672971\ttotal: 2.51s\tremaining: 1.79s\n",
            "583:\tlearn: 0.1670367\ttotal: 2.52s\tremaining: 1.79s\n",
            "584:\tlearn: 0.1669282\ttotal: 2.53s\tremaining: 1.79s\n",
            "585:\tlearn: 0.1667727\ttotal: 2.55s\tremaining: 1.8s\n",
            "586:\tlearn: 0.1666315\ttotal: 2.56s\tremaining: 1.8s\n",
            "587:\tlearn: 0.1664350\ttotal: 2.57s\tremaining: 1.8s\n",
            "588:\tlearn: 0.1663282\ttotal: 2.58s\tremaining: 1.8s\n",
            "589:\tlearn: 0.1661498\ttotal: 2.59s\tremaining: 1.8s\n",
            "590:\tlearn: 0.1660313\ttotal: 2.61s\tremaining: 1.8s\n",
            "591:\tlearn: 0.1658567\ttotal: 2.61s\tremaining: 1.8s\n",
            "592:\tlearn: 0.1657753\ttotal: 2.62s\tremaining: 1.79s\n",
            "593:\tlearn: 0.1655540\ttotal: 2.62s\tremaining: 1.79s\n",
            "594:\tlearn: 0.1653320\ttotal: 2.62s\tremaining: 1.79s\n",
            "595:\tlearn: 0.1651229\ttotal: 2.63s\tremaining: 1.78s\n",
            "596:\tlearn: 0.1649752\ttotal: 2.63s\tremaining: 1.77s\n",
            "597:\tlearn: 0.1648831\ttotal: 2.63s\tremaining: 1.77s\n",
            "598:\tlearn: 0.1647373\ttotal: 2.64s\tremaining: 1.76s\n",
            "599:\tlearn: 0.1646301\ttotal: 2.64s\tremaining: 1.76s\n",
            "600:\tlearn: 0.1645259\ttotal: 2.65s\tremaining: 1.76s\n",
            "601:\tlearn: 0.1642978\ttotal: 2.65s\tremaining: 1.75s\n",
            "602:\tlearn: 0.1640921\ttotal: 2.65s\tremaining: 1.75s\n",
            "603:\tlearn: 0.1639211\ttotal: 2.66s\tremaining: 1.74s\n",
            "604:\tlearn: 0.1637480\ttotal: 2.66s\tremaining: 1.74s\n",
            "605:\tlearn: 0.1636662\ttotal: 2.67s\tremaining: 1.73s\n",
            "606:\tlearn: 0.1635131\ttotal: 2.67s\tremaining: 1.73s\n",
            "607:\tlearn: 0.1632839\ttotal: 2.68s\tremaining: 1.73s\n",
            "608:\tlearn: 0.1631467\ttotal: 2.68s\tremaining: 1.72s\n",
            "609:\tlearn: 0.1630156\ttotal: 2.69s\tremaining: 1.72s\n",
            "610:\tlearn: 0.1628963\ttotal: 2.69s\tremaining: 1.71s\n",
            "611:\tlearn: 0.1628052\ttotal: 2.69s\tremaining: 1.71s\n",
            "612:\tlearn: 0.1626199\ttotal: 2.7s\tremaining: 1.7s\n",
            "613:\tlearn: 0.1624878\ttotal: 2.7s\tremaining: 1.7s\n",
            "614:\tlearn: 0.1622590\ttotal: 2.71s\tremaining: 1.69s\n",
            "615:\tlearn: 0.1620765\ttotal: 2.71s\tremaining: 1.69s\n",
            "616:\tlearn: 0.1619147\ttotal: 2.71s\tremaining: 1.68s\n",
            "617:\tlearn: 0.1617604\ttotal: 2.72s\tremaining: 1.68s\n",
            "618:\tlearn: 0.1616577\ttotal: 2.72s\tremaining: 1.67s\n",
            "619:\tlearn: 0.1614615\ttotal: 2.72s\tremaining: 1.67s\n",
            "620:\tlearn: 0.1613444\ttotal: 2.73s\tremaining: 1.66s\n",
            "621:\tlearn: 0.1612430\ttotal: 2.73s\tremaining: 1.66s\n",
            "622:\tlearn: 0.1610032\ttotal: 2.73s\tremaining: 1.65s\n",
            "623:\tlearn: 0.1608407\ttotal: 2.74s\tremaining: 1.65s\n",
            "624:\tlearn: 0.1606120\ttotal: 2.74s\tremaining: 1.65s\n",
            "625:\tlearn: 0.1605167\ttotal: 2.75s\tremaining: 1.64s\n",
            "626:\tlearn: 0.1603380\ttotal: 2.75s\tremaining: 1.64s\n",
            "627:\tlearn: 0.1602563\ttotal: 2.75s\tremaining: 1.63s\n",
            "628:\tlearn: 0.1601585\ttotal: 2.76s\tremaining: 1.63s\n",
            "629:\tlearn: 0.1601004\ttotal: 2.76s\tremaining: 1.62s\n",
            "630:\tlearn: 0.1599692\ttotal: 2.77s\tremaining: 1.62s\n",
            "631:\tlearn: 0.1598258\ttotal: 2.78s\tremaining: 1.62s\n",
            "632:\tlearn: 0.1597438\ttotal: 2.8s\tremaining: 1.62s\n",
            "633:\tlearn: 0.1596394\ttotal: 2.81s\tremaining: 1.62s\n",
            "634:\tlearn: 0.1595327\ttotal: 2.82s\tremaining: 1.62s\n",
            "635:\tlearn: 0.1593393\ttotal: 2.83s\tremaining: 1.62s\n",
            "636:\tlearn: 0.1591871\ttotal: 2.83s\tremaining: 1.62s\n",
            "637:\tlearn: 0.1590941\ttotal: 2.84s\tremaining: 1.61s\n",
            "638:\tlearn: 0.1590243\ttotal: 2.84s\tremaining: 1.61s\n",
            "639:\tlearn: 0.1588367\ttotal: 2.85s\tremaining: 1.6s\n",
            "640:\tlearn: 0.1586863\ttotal: 2.85s\tremaining: 1.6s\n",
            "641:\tlearn: 0.1584919\ttotal: 2.85s\tremaining: 1.59s\n",
            "642:\tlearn: 0.1583116\ttotal: 2.86s\tremaining: 1.59s\n",
            "643:\tlearn: 0.1580947\ttotal: 2.86s\tremaining: 1.58s\n",
            "644:\tlearn: 0.1580104\ttotal: 2.87s\tremaining: 1.58s\n",
            "645:\tlearn: 0.1578707\ttotal: 2.87s\tremaining: 1.57s\n",
            "646:\tlearn: 0.1577441\ttotal: 2.87s\tremaining: 1.57s\n",
            "647:\tlearn: 0.1575720\ttotal: 2.88s\tremaining: 1.56s\n",
            "648:\tlearn: 0.1574629\ttotal: 2.88s\tremaining: 1.56s\n",
            "649:\tlearn: 0.1572749\ttotal: 2.88s\tremaining: 1.55s\n",
            "650:\tlearn: 0.1571200\ttotal: 2.89s\tremaining: 1.55s\n",
            "651:\tlearn: 0.1569883\ttotal: 2.89s\tremaining: 1.54s\n",
            "652:\tlearn: 0.1568835\ttotal: 2.9s\tremaining: 1.54s\n",
            "653:\tlearn: 0.1567149\ttotal: 2.9s\tremaining: 1.53s\n",
            "654:\tlearn: 0.1565087\ttotal: 2.91s\tremaining: 1.53s\n",
            "655:\tlearn: 0.1563570\ttotal: 2.92s\tremaining: 1.53s\n",
            "656:\tlearn: 0.1561353\ttotal: 2.93s\tremaining: 1.53s\n",
            "657:\tlearn: 0.1560208\ttotal: 2.94s\tremaining: 1.53s\n",
            "658:\tlearn: 0.1558435\ttotal: 2.95s\tremaining: 1.53s\n",
            "659:\tlearn: 0.1557424\ttotal: 2.95s\tremaining: 1.52s\n",
            "660:\tlearn: 0.1555866\ttotal: 2.96s\tremaining: 1.52s\n",
            "661:\tlearn: 0.1554802\ttotal: 2.96s\tremaining: 1.51s\n",
            "662:\tlearn: 0.1552599\ttotal: 2.96s\tremaining: 1.51s\n",
            "663:\tlearn: 0.1551098\ttotal: 2.97s\tremaining: 1.5s\n",
            "664:\tlearn: 0.1550011\ttotal: 2.98s\tremaining: 1.5s\n",
            "665:\tlearn: 0.1548824\ttotal: 2.98s\tremaining: 1.49s\n",
            "666:\tlearn: 0.1547086\ttotal: 2.98s\tremaining: 1.49s\n",
            "667:\tlearn: 0.1545817\ttotal: 3s\tremaining: 1.49s\n",
            "668:\tlearn: 0.1544029\ttotal: 3.04s\tremaining: 1.5s\n",
            "669:\tlearn: 0.1542115\ttotal: 3.04s\tremaining: 1.5s\n",
            "670:\tlearn: 0.1541253\ttotal: 3.05s\tremaining: 1.5s\n",
            "671:\tlearn: 0.1539277\ttotal: 3.05s\tremaining: 1.49s\n",
            "672:\tlearn: 0.1537771\ttotal: 3.06s\tremaining: 1.49s\n",
            "673:\tlearn: 0.1536687\ttotal: 3.06s\tremaining: 1.48s\n",
            "674:\tlearn: 0.1535371\ttotal: 3.06s\tremaining: 1.48s\n",
            "675:\tlearn: 0.1534020\ttotal: 3.07s\tremaining: 1.47s\n",
            "676:\tlearn: 0.1532516\ttotal: 3.08s\tremaining: 1.47s\n",
            "677:\tlearn: 0.1530628\ttotal: 3.08s\tremaining: 1.46s\n",
            "678:\tlearn: 0.1529263\ttotal: 3.12s\tremaining: 1.47s\n",
            "679:\tlearn: 0.1527953\ttotal: 3.12s\tremaining: 1.47s\n",
            "680:\tlearn: 0.1526800\ttotal: 3.13s\tremaining: 1.46s\n",
            "681:\tlearn: 0.1525155\ttotal: 3.13s\tremaining: 1.46s\n",
            "682:\tlearn: 0.1523693\ttotal: 3.14s\tremaining: 1.46s\n",
            "683:\tlearn: 0.1522403\ttotal: 3.14s\tremaining: 1.45s\n",
            "684:\tlearn: 0.1521409\ttotal: 3.14s\tremaining: 1.45s\n",
            "685:\tlearn: 0.1519753\ttotal: 3.15s\tremaining: 1.44s\n",
            "686:\tlearn: 0.1518183\ttotal: 3.15s\tremaining: 1.44s\n",
            "687:\tlearn: 0.1516988\ttotal: 3.16s\tremaining: 1.43s\n",
            "688:\tlearn: 0.1515500\ttotal: 3.18s\tremaining: 1.44s\n",
            "689:\tlearn: 0.1514532\ttotal: 3.18s\tremaining: 1.43s\n",
            "690:\tlearn: 0.1513503\ttotal: 3.19s\tremaining: 1.43s\n",
            "691:\tlearn: 0.1512083\ttotal: 3.19s\tremaining: 1.42s\n",
            "692:\tlearn: 0.1510779\ttotal: 3.2s\tremaining: 1.42s\n",
            "693:\tlearn: 0.1508907\ttotal: 3.2s\tremaining: 1.41s\n",
            "694:\tlearn: 0.1507854\ttotal: 3.2s\tremaining: 1.41s\n",
            "695:\tlearn: 0.1506780\ttotal: 3.21s\tremaining: 1.4s\n",
            "696:\tlearn: 0.1505243\ttotal: 3.21s\tremaining: 1.4s\n",
            "697:\tlearn: 0.1503526\ttotal: 3.22s\tremaining: 1.39s\n",
            "698:\tlearn: 0.1502260\ttotal: 3.23s\tremaining: 1.39s\n",
            "699:\tlearn: 0.1501139\ttotal: 3.23s\tremaining: 1.38s\n",
            "700:\tlearn: 0.1500165\ttotal: 3.23s\tremaining: 1.38s\n",
            "701:\tlearn: 0.1498533\ttotal: 3.24s\tremaining: 1.37s\n",
            "702:\tlearn: 0.1497014\ttotal: 3.24s\tremaining: 1.37s\n",
            "703:\tlearn: 0.1496068\ttotal: 3.25s\tremaining: 1.37s\n",
            "704:\tlearn: 0.1494573\ttotal: 3.26s\tremaining: 1.36s\n",
            "705:\tlearn: 0.1493468\ttotal: 3.31s\tremaining: 1.38s\n",
            "706:\tlearn: 0.1491984\ttotal: 3.34s\tremaining: 1.38s\n",
            "707:\tlearn: 0.1490661\ttotal: 3.36s\tremaining: 1.39s\n",
            "708:\tlearn: 0.1489823\ttotal: 3.36s\tremaining: 1.38s\n",
            "709:\tlearn: 0.1488621\ttotal: 3.37s\tremaining: 1.38s\n",
            "710:\tlearn: 0.1487301\ttotal: 3.38s\tremaining: 1.37s\n",
            "711:\tlearn: 0.1485833\ttotal: 3.38s\tremaining: 1.37s\n",
            "712:\tlearn: 0.1484938\ttotal: 3.38s\tremaining: 1.36s\n",
            "713:\tlearn: 0.1484235\ttotal: 3.39s\tremaining: 1.36s\n",
            "714:\tlearn: 0.1482502\ttotal: 3.39s\tremaining: 1.35s\n",
            "715:\tlearn: 0.1481144\ttotal: 3.39s\tremaining: 1.35s\n",
            "716:\tlearn: 0.1480238\ttotal: 3.4s\tremaining: 1.34s\n",
            "717:\tlearn: 0.1478726\ttotal: 3.4s\tremaining: 1.34s\n",
            "718:\tlearn: 0.1477534\ttotal: 3.4s\tremaining: 1.33s\n",
            "719:\tlearn: 0.1476255\ttotal: 3.42s\tremaining: 1.33s\n",
            "720:\tlearn: 0.1474942\ttotal: 3.43s\tremaining: 1.33s\n",
            "721:\tlearn: 0.1473782\ttotal: 3.43s\tremaining: 1.32s\n",
            "722:\tlearn: 0.1472697\ttotal: 3.44s\tremaining: 1.32s\n",
            "723:\tlearn: 0.1470905\ttotal: 3.44s\tremaining: 1.31s\n",
            "724:\tlearn: 0.1469047\ttotal: 3.44s\tremaining: 1.31s\n",
            "725:\tlearn: 0.1467846\ttotal: 3.45s\tremaining: 1.3s\n",
            "726:\tlearn: 0.1465885\ttotal: 3.45s\tremaining: 1.29s\n",
            "727:\tlearn: 0.1464813\ttotal: 3.45s\tremaining: 1.29s\n",
            "728:\tlearn: 0.1463388\ttotal: 3.46s\tremaining: 1.28s\n",
            "729:\tlearn: 0.1462445\ttotal: 3.46s\tremaining: 1.28s\n",
            "730:\tlearn: 0.1461052\ttotal: 3.46s\tremaining: 1.27s\n",
            "731:\tlearn: 0.1460173\ttotal: 3.47s\tremaining: 1.27s\n",
            "732:\tlearn: 0.1458833\ttotal: 3.47s\tremaining: 1.26s\n",
            "733:\tlearn: 0.1458255\ttotal: 3.48s\tremaining: 1.26s\n",
            "734:\tlearn: 0.1457040\ttotal: 3.48s\tremaining: 1.25s\n",
            "735:\tlearn: 0.1456277\ttotal: 3.48s\tremaining: 1.25s\n",
            "736:\tlearn: 0.1455127\ttotal: 3.49s\tremaining: 1.24s\n",
            "737:\tlearn: 0.1453639\ttotal: 3.49s\tremaining: 1.24s\n",
            "738:\tlearn: 0.1452646\ttotal: 3.49s\tremaining: 1.23s\n",
            "739:\tlearn: 0.1451751\ttotal: 3.5s\tremaining: 1.23s\n",
            "740:\tlearn: 0.1450877\ttotal: 3.5s\tremaining: 1.22s\n",
            "741:\tlearn: 0.1450329\ttotal: 3.5s\tremaining: 1.22s\n",
            "742:\tlearn: 0.1449317\ttotal: 3.51s\tremaining: 1.21s\n",
            "743:\tlearn: 0.1448223\ttotal: 3.51s\tremaining: 1.21s\n",
            "744:\tlearn: 0.1446982\ttotal: 3.52s\tremaining: 1.2s\n",
            "745:\tlearn: 0.1446067\ttotal: 3.52s\tremaining: 1.2s\n",
            "746:\tlearn: 0.1445056\ttotal: 3.53s\tremaining: 1.19s\n",
            "747:\tlearn: 0.1443665\ttotal: 3.53s\tremaining: 1.19s\n",
            "748:\tlearn: 0.1442977\ttotal: 3.53s\tremaining: 1.18s\n",
            "749:\tlearn: 0.1442233\ttotal: 3.54s\tremaining: 1.18s\n",
            "750:\tlearn: 0.1440306\ttotal: 3.56s\tremaining: 1.18s\n",
            "751:\tlearn: 0.1439110\ttotal: 3.56s\tremaining: 1.18s\n",
            "752:\tlearn: 0.1438622\ttotal: 3.57s\tremaining: 1.17s\n",
            "753:\tlearn: 0.1436760\ttotal: 3.6s\tremaining: 1.17s\n",
            "754:\tlearn: 0.1435832\ttotal: 3.6s\tremaining: 1.17s\n",
            "755:\tlearn: 0.1434817\ttotal: 3.62s\tremaining: 1.17s\n",
            "756:\tlearn: 0.1433039\ttotal: 3.63s\tremaining: 1.17s\n",
            "757:\tlearn: 0.1431384\ttotal: 3.65s\tremaining: 1.17s\n",
            "758:\tlearn: 0.1430762\ttotal: 3.66s\tremaining: 1.16s\n",
            "759:\tlearn: 0.1429841\ttotal: 3.69s\tremaining: 1.17s\n",
            "760:\tlearn: 0.1428634\ttotal: 3.71s\tremaining: 1.17s\n",
            "761:\tlearn: 0.1427810\ttotal: 3.74s\tremaining: 1.17s\n",
            "762:\tlearn: 0.1426580\ttotal: 3.75s\tremaining: 1.17s\n",
            "763:\tlearn: 0.1425440\ttotal: 3.76s\tremaining: 1.16s\n",
            "764:\tlearn: 0.1423865\ttotal: 3.77s\tremaining: 1.16s\n",
            "765:\tlearn: 0.1422666\ttotal: 3.78s\tremaining: 1.16s\n",
            "766:\tlearn: 0.1421624\ttotal: 3.79s\tremaining: 1.15s\n",
            "767:\tlearn: 0.1420511\ttotal: 3.79s\tremaining: 1.14s\n",
            "768:\tlearn: 0.1419071\ttotal: 3.79s\tremaining: 1.14s\n",
            "769:\tlearn: 0.1417735\ttotal: 3.8s\tremaining: 1.13s\n",
            "770:\tlearn: 0.1416720\ttotal: 3.8s\tremaining: 1.13s\n",
            "771:\tlearn: 0.1415249\ttotal: 3.81s\tremaining: 1.12s\n",
            "772:\tlearn: 0.1414226\ttotal: 3.81s\tremaining: 1.12s\n",
            "773:\tlearn: 0.1412492\ttotal: 3.81s\tremaining: 1.11s\n",
            "774:\tlearn: 0.1411292\ttotal: 3.83s\tremaining: 1.11s\n",
            "775:\tlearn: 0.1410057\ttotal: 3.83s\tremaining: 1.11s\n",
            "776:\tlearn: 0.1408733\ttotal: 3.85s\tremaining: 1.1s\n",
            "777:\tlearn: 0.1408010\ttotal: 3.86s\tremaining: 1.1s\n",
            "778:\tlearn: 0.1407265\ttotal: 3.86s\tremaining: 1.09s\n",
            "779:\tlearn: 0.1405699\ttotal: 3.87s\tremaining: 1.09s\n",
            "780:\tlearn: 0.1404551\ttotal: 3.88s\tremaining: 1.09s\n",
            "781:\tlearn: 0.1403414\ttotal: 3.89s\tremaining: 1.08s\n",
            "782:\tlearn: 0.1403012\ttotal: 3.9s\tremaining: 1.08s\n",
            "783:\tlearn: 0.1401894\ttotal: 3.91s\tremaining: 1.08s\n",
            "784:\tlearn: 0.1401281\ttotal: 3.92s\tremaining: 1.07s\n",
            "785:\tlearn: 0.1399770\ttotal: 3.93s\tremaining: 1.07s\n",
            "786:\tlearn: 0.1398187\ttotal: 3.94s\tremaining: 1.07s\n",
            "787:\tlearn: 0.1396721\ttotal: 3.96s\tremaining: 1.06s\n",
            "788:\tlearn: 0.1395510\ttotal: 3.96s\tremaining: 1.06s\n",
            "789:\tlearn: 0.1394244\ttotal: 3.99s\tremaining: 1.06s\n",
            "790:\tlearn: 0.1393294\ttotal: 3.99s\tremaining: 1.05s\n",
            "791:\tlearn: 0.1392450\ttotal: 4.01s\tremaining: 1.05s\n",
            "792:\tlearn: 0.1390804\ttotal: 4.02s\tremaining: 1.05s\n",
            "793:\tlearn: 0.1389534\ttotal: 4.03s\tremaining: 1.04s\n",
            "794:\tlearn: 0.1388178\ttotal: 4.04s\tremaining: 1.04s\n",
            "795:\tlearn: 0.1386650\ttotal: 4.05s\tremaining: 1.04s\n",
            "796:\tlearn: 0.1385601\ttotal: 4.06s\tremaining: 1.03s\n",
            "797:\tlearn: 0.1384353\ttotal: 4.07s\tremaining: 1.03s\n",
            "798:\tlearn: 0.1383387\ttotal: 4.08s\tremaining: 1.03s\n",
            "799:\tlearn: 0.1382764\ttotal: 4.09s\tremaining: 1.02s\n",
            "800:\tlearn: 0.1381777\ttotal: 4.1s\tremaining: 1.02s\n",
            "801:\tlearn: 0.1380859\ttotal: 4.11s\tremaining: 1.01s\n",
            "802:\tlearn: 0.1379600\ttotal: 4.12s\tremaining: 1.01s\n",
            "803:\tlearn: 0.1378655\ttotal: 4.13s\tremaining: 1s\n",
            "804:\tlearn: 0.1377190\ttotal: 4.14s\tremaining: 1s\n",
            "805:\tlearn: 0.1375924\ttotal: 4.15s\tremaining: 999ms\n",
            "806:\tlearn: 0.1374565\ttotal: 4.16s\tremaining: 995ms\n",
            "807:\tlearn: 0.1373252\ttotal: 4.17s\tremaining: 992ms\n",
            "808:\tlearn: 0.1372337\ttotal: 4.18s\tremaining: 987ms\n",
            "809:\tlearn: 0.1371034\ttotal: 4.19s\tremaining: 983ms\n",
            "810:\tlearn: 0.1370117\ttotal: 4.2s\tremaining: 979ms\n",
            "811:\tlearn: 0.1369693\ttotal: 4.2s\tremaining: 974ms\n",
            "812:\tlearn: 0.1368822\ttotal: 4.21s\tremaining: 969ms\n",
            "813:\tlearn: 0.1366922\ttotal: 4.22s\tremaining: 965ms\n",
            "814:\tlearn: 0.1365647\ttotal: 4.24s\tremaining: 962ms\n",
            "815:\tlearn: 0.1364431\ttotal: 4.24s\tremaining: 957ms\n",
            "816:\tlearn: 0.1363584\ttotal: 4.25s\tremaining: 951ms\n",
            "817:\tlearn: 0.1362122\ttotal: 4.25s\tremaining: 945ms\n",
            "818:\tlearn: 0.1360399\ttotal: 4.25s\tremaining: 940ms\n",
            "819:\tlearn: 0.1359408\ttotal: 4.26s\tremaining: 935ms\n",
            "820:\tlearn: 0.1357845\ttotal: 4.26s\tremaining: 929ms\n",
            "821:\tlearn: 0.1356605\ttotal: 4.26s\tremaining: 923ms\n",
            "822:\tlearn: 0.1355804\ttotal: 4.27s\tremaining: 918ms\n",
            "823:\tlearn: 0.1354036\ttotal: 4.28s\tremaining: 915ms\n",
            "824:\tlearn: 0.1352450\ttotal: 4.29s\tremaining: 909ms\n",
            "825:\tlearn: 0.1351222\ttotal: 4.29s\tremaining: 904ms\n",
            "826:\tlearn: 0.1350189\ttotal: 4.29s\tremaining: 898ms\n",
            "827:\tlearn: 0.1348962\ttotal: 4.3s\tremaining: 893ms\n",
            "828:\tlearn: 0.1348244\ttotal: 4.3s\tremaining: 887ms\n",
            "829:\tlearn: 0.1346650\ttotal: 4.3s\tremaining: 882ms\n",
            "830:\tlearn: 0.1345240\ttotal: 4.31s\tremaining: 876ms\n",
            "831:\tlearn: 0.1344427\ttotal: 4.31s\tremaining: 871ms\n",
            "832:\tlearn: 0.1342742\ttotal: 4.33s\tremaining: 868ms\n",
            "833:\tlearn: 0.1341979\ttotal: 4.36s\tremaining: 868ms\n",
            "834:\tlearn: 0.1340212\ttotal: 4.36s\tremaining: 862ms\n",
            "835:\tlearn: 0.1339477\ttotal: 4.37s\tremaining: 857ms\n",
            "836:\tlearn: 0.1338090\ttotal: 4.37s\tremaining: 851ms\n",
            "837:\tlearn: 0.1337597\ttotal: 4.37s\tremaining: 846ms\n",
            "838:\tlearn: 0.1337030\ttotal: 4.38s\tremaining: 840ms\n",
            "839:\tlearn: 0.1336144\ttotal: 4.38s\tremaining: 835ms\n",
            "840:\tlearn: 0.1334276\ttotal: 4.39s\tremaining: 829ms\n",
            "841:\tlearn: 0.1333704\ttotal: 4.4s\tremaining: 825ms\n",
            "842:\tlearn: 0.1333194\ttotal: 4.41s\tremaining: 821ms\n",
            "843:\tlearn: 0.1332297\ttotal: 4.42s\tremaining: 816ms\n",
            "844:\tlearn: 0.1331484\ttotal: 4.42s\tremaining: 811ms\n",
            "845:\tlearn: 0.1330400\ttotal: 4.42s\tremaining: 806ms\n",
            "846:\tlearn: 0.1329249\ttotal: 4.43s\tremaining: 800ms\n",
            "847:\tlearn: 0.1328303\ttotal: 4.43s\tremaining: 795ms\n",
            "848:\tlearn: 0.1327490\ttotal: 4.44s\tremaining: 789ms\n",
            "849:\tlearn: 0.1326906\ttotal: 4.44s\tremaining: 784ms\n",
            "850:\tlearn: 0.1326205\ttotal: 4.45s\tremaining: 778ms\n",
            "851:\tlearn: 0.1325607\ttotal: 4.45s\tremaining: 773ms\n",
            "852:\tlearn: 0.1324068\ttotal: 4.45s\tremaining: 768ms\n",
            "853:\tlearn: 0.1322341\ttotal: 4.46s\tremaining: 762ms\n",
            "854:\tlearn: 0.1320625\ttotal: 4.46s\tremaining: 757ms\n",
            "855:\tlearn: 0.1318999\ttotal: 4.46s\tremaining: 751ms\n",
            "856:\tlearn: 0.1318555\ttotal: 4.47s\tremaining: 746ms\n",
            "857:\tlearn: 0.1317270\ttotal: 4.47s\tremaining: 740ms\n",
            "858:\tlearn: 0.1316300\ttotal: 4.47s\tremaining: 735ms\n",
            "859:\tlearn: 0.1316068\ttotal: 4.48s\tremaining: 729ms\n",
            "860:\tlearn: 0.1315307\ttotal: 4.48s\tremaining: 724ms\n",
            "861:\tlearn: 0.1314138\ttotal: 4.49s\tremaining: 718ms\n",
            "862:\tlearn: 0.1313022\ttotal: 4.49s\tremaining: 713ms\n",
            "863:\tlearn: 0.1311964\ttotal: 4.51s\tremaining: 709ms\n",
            "864:\tlearn: 0.1311274\ttotal: 4.51s\tremaining: 704ms\n",
            "865:\tlearn: 0.1310299\ttotal: 4.52s\tremaining: 700ms\n",
            "866:\tlearn: 0.1308739\ttotal: 4.53s\tremaining: 696ms\n",
            "867:\tlearn: 0.1308000\ttotal: 4.55s\tremaining: 692ms\n",
            "868:\tlearn: 0.1306915\ttotal: 4.56s\tremaining: 687ms\n",
            "869:\tlearn: 0.1305710\ttotal: 4.57s\tremaining: 682ms\n",
            "870:\tlearn: 0.1304551\ttotal: 4.59s\tremaining: 679ms\n",
            "871:\tlearn: 0.1303518\ttotal: 4.59s\tremaining: 674ms\n",
            "872:\tlearn: 0.1302854\ttotal: 4.61s\tremaining: 671ms\n",
            "873:\tlearn: 0.1301112\ttotal: 4.64s\tremaining: 669ms\n",
            "874:\tlearn: 0.1300095\ttotal: 4.66s\tremaining: 665ms\n",
            "875:\tlearn: 0.1299064\ttotal: 4.68s\tremaining: 663ms\n",
            "876:\tlearn: 0.1297691\ttotal: 4.7s\tremaining: 660ms\n",
            "877:\tlearn: 0.1296711\ttotal: 4.74s\tremaining: 659ms\n",
            "878:\tlearn: 0.1295704\ttotal: 4.76s\tremaining: 655ms\n",
            "879:\tlearn: 0.1294720\ttotal: 4.81s\tremaining: 656ms\n",
            "880:\tlearn: 0.1293482\ttotal: 4.82s\tremaining: 651ms\n",
            "881:\tlearn: 0.1292574\ttotal: 4.83s\tremaining: 647ms\n",
            "882:\tlearn: 0.1291495\ttotal: 4.84s\tremaining: 642ms\n",
            "883:\tlearn: 0.1290348\ttotal: 4.85s\tremaining: 636ms\n",
            "884:\tlearn: 0.1289465\ttotal: 4.86s\tremaining: 632ms\n",
            "885:\tlearn: 0.1288595\ttotal: 4.87s\tremaining: 626ms\n",
            "886:\tlearn: 0.1288224\ttotal: 4.87s\tremaining: 621ms\n",
            "887:\tlearn: 0.1287011\ttotal: 4.88s\tremaining: 616ms\n",
            "888:\tlearn: 0.1286328\ttotal: 4.89s\tremaining: 611ms\n",
            "889:\tlearn: 0.1286129\ttotal: 4.9s\tremaining: 606ms\n",
            "890:\tlearn: 0.1284873\ttotal: 4.91s\tremaining: 600ms\n",
            "891:\tlearn: 0.1284262\ttotal: 4.92s\tremaining: 596ms\n",
            "892:\tlearn: 0.1282559\ttotal: 4.96s\tremaining: 595ms\n",
            "893:\tlearn: 0.1281896\ttotal: 4.98s\tremaining: 591ms\n",
            "894:\tlearn: 0.1280844\ttotal: 4.99s\tremaining: 585ms\n",
            "895:\tlearn: 0.1280046\ttotal: 5s\tremaining: 581ms\n",
            "896:\tlearn: 0.1279456\ttotal: 5.01s\tremaining: 576ms\n",
            "897:\tlearn: 0.1278260\ttotal: 5.02s\tremaining: 570ms\n",
            "898:\tlearn: 0.1277240\ttotal: 5.04s\tremaining: 566ms\n",
            "899:\tlearn: 0.1276019\ttotal: 5.04s\tremaining: 560ms\n",
            "900:\tlearn: 0.1274875\ttotal: 5.05s\tremaining: 555ms\n",
            "901:\tlearn: 0.1273587\ttotal: 5.06s\tremaining: 550ms\n",
            "902:\tlearn: 0.1272942\ttotal: 5.07s\tremaining: 544ms\n",
            "903:\tlearn: 0.1272378\ttotal: 5.07s\tremaining: 539ms\n",
            "904:\tlearn: 0.1271420\ttotal: 5.09s\tremaining: 534ms\n",
            "905:\tlearn: 0.1270100\ttotal: 5.1s\tremaining: 529ms\n",
            "906:\tlearn: 0.1269320\ttotal: 5.11s\tremaining: 524ms\n",
            "907:\tlearn: 0.1268776\ttotal: 5.13s\tremaining: 519ms\n",
            "908:\tlearn: 0.1267968\ttotal: 5.14s\tremaining: 515ms\n",
            "909:\tlearn: 0.1266772\ttotal: 5.15s\tremaining: 510ms\n",
            "910:\tlearn: 0.1265847\ttotal: 5.18s\tremaining: 506ms\n",
            "911:\tlearn: 0.1264963\ttotal: 5.19s\tremaining: 501ms\n",
            "912:\tlearn: 0.1264525\ttotal: 5.2s\tremaining: 496ms\n",
            "913:\tlearn: 0.1263737\ttotal: 5.23s\tremaining: 492ms\n",
            "914:\tlearn: 0.1262919\ttotal: 5.24s\tremaining: 487ms\n",
            "915:\tlearn: 0.1262377\ttotal: 5.26s\tremaining: 482ms\n",
            "916:\tlearn: 0.1261387\ttotal: 5.27s\tremaining: 477ms\n",
            "917:\tlearn: 0.1260732\ttotal: 5.28s\tremaining: 472ms\n",
            "918:\tlearn: 0.1259693\ttotal: 5.29s\tremaining: 466ms\n",
            "919:\tlearn: 0.1258850\ttotal: 5.3s\tremaining: 461ms\n",
            "920:\tlearn: 0.1258174\ttotal: 5.32s\tremaining: 457ms\n",
            "921:\tlearn: 0.1257277\ttotal: 5.35s\tremaining: 452ms\n",
            "922:\tlearn: 0.1256516\ttotal: 5.36s\tremaining: 447ms\n",
            "923:\tlearn: 0.1255392\ttotal: 5.39s\tremaining: 443ms\n",
            "924:\tlearn: 0.1254410\ttotal: 5.41s\tremaining: 438ms\n",
            "925:\tlearn: 0.1253369\ttotal: 5.41s\tremaining: 433ms\n",
            "926:\tlearn: 0.1252516\ttotal: 5.42s\tremaining: 427ms\n",
            "927:\tlearn: 0.1250863\ttotal: 5.44s\tremaining: 422ms\n",
            "928:\tlearn: 0.1249798\ttotal: 5.45s\tremaining: 417ms\n",
            "929:\tlearn: 0.1248849\ttotal: 5.47s\tremaining: 412ms\n",
            "930:\tlearn: 0.1248313\ttotal: 5.49s\tremaining: 407ms\n",
            "931:\tlearn: 0.1247469\ttotal: 5.51s\tremaining: 402ms\n",
            "932:\tlearn: 0.1246646\ttotal: 5.52s\tremaining: 396ms\n",
            "933:\tlearn: 0.1245545\ttotal: 5.54s\tremaining: 392ms\n",
            "934:\tlearn: 0.1244642\ttotal: 5.55s\tremaining: 386ms\n",
            "935:\tlearn: 0.1243928\ttotal: 5.56s\tremaining: 380ms\n",
            "936:\tlearn: 0.1242937\ttotal: 5.57s\tremaining: 374ms\n",
            "937:\tlearn: 0.1242518\ttotal: 5.58s\tremaining: 369ms\n",
            "938:\tlearn: 0.1241845\ttotal: 5.61s\tremaining: 364ms\n",
            "939:\tlearn: 0.1240396\ttotal: 5.63s\tremaining: 359ms\n",
            "940:\tlearn: 0.1239501\ttotal: 5.64s\tremaining: 353ms\n",
            "941:\tlearn: 0.1238383\ttotal: 5.66s\tremaining: 348ms\n",
            "942:\tlearn: 0.1236480\ttotal: 5.67s\tremaining: 343ms\n",
            "943:\tlearn: 0.1235759\ttotal: 5.69s\tremaining: 337ms\n",
            "944:\tlearn: 0.1234921\ttotal: 5.7s\tremaining: 332ms\n",
            "945:\tlearn: 0.1233874\ttotal: 5.71s\tremaining: 326ms\n",
            "946:\tlearn: 0.1233303\ttotal: 5.72s\tremaining: 320ms\n",
            "947:\tlearn: 0.1232739\ttotal: 5.74s\tremaining: 315ms\n",
            "948:\tlearn: 0.1231364\ttotal: 5.75s\tremaining: 309ms\n",
            "949:\tlearn: 0.1230011\ttotal: 5.77s\tremaining: 304ms\n",
            "950:\tlearn: 0.1229432\ttotal: 5.78s\tremaining: 298ms\n",
            "951:\tlearn: 0.1228629\ttotal: 5.8s\tremaining: 293ms\n",
            "952:\tlearn: 0.1227933\ttotal: 5.82s\tremaining: 287ms\n",
            "953:\tlearn: 0.1227637\ttotal: 5.85s\tremaining: 282ms\n",
            "954:\tlearn: 0.1226157\ttotal: 5.87s\tremaining: 276ms\n",
            "955:\tlearn: 0.1224964\ttotal: 5.88s\tremaining: 270ms\n",
            "956:\tlearn: 0.1224221\ttotal: 5.88s\tremaining: 264ms\n",
            "957:\tlearn: 0.1222472\ttotal: 5.9s\tremaining: 259ms\n",
            "958:\tlearn: 0.1221832\ttotal: 5.91s\tremaining: 253ms\n",
            "959:\tlearn: 0.1221303\ttotal: 5.94s\tremaining: 247ms\n",
            "960:\tlearn: 0.1220792\ttotal: 5.95s\tremaining: 241ms\n",
            "961:\tlearn: 0.1219736\ttotal: 5.96s\tremaining: 235ms\n",
            "962:\tlearn: 0.1218857\ttotal: 5.97s\tremaining: 229ms\n",
            "963:\tlearn: 0.1217755\ttotal: 5.98s\tremaining: 223ms\n",
            "964:\tlearn: 0.1217282\ttotal: 5.99s\tremaining: 217ms\n",
            "965:\tlearn: 0.1216549\ttotal: 6.01s\tremaining: 212ms\n",
            "966:\tlearn: 0.1215173\ttotal: 6.02s\tremaining: 206ms\n",
            "967:\tlearn: 0.1214632\ttotal: 6.06s\tremaining: 200ms\n",
            "968:\tlearn: 0.1213470\ttotal: 6.08s\tremaining: 195ms\n",
            "969:\tlearn: 0.1212513\ttotal: 6.09s\tremaining: 188ms\n",
            "970:\tlearn: 0.1212281\ttotal: 6.1s\tremaining: 182ms\n",
            "971:\tlearn: 0.1211567\ttotal: 6.12s\tremaining: 176ms\n",
            "972:\tlearn: 0.1210811\ttotal: 6.13s\tremaining: 170ms\n",
            "973:\tlearn: 0.1209909\ttotal: 6.14s\tremaining: 164ms\n",
            "974:\tlearn: 0.1209378\ttotal: 6.16s\tremaining: 158ms\n",
            "975:\tlearn: 0.1208638\ttotal: 6.17s\tremaining: 152ms\n",
            "976:\tlearn: 0.1208001\ttotal: 6.18s\tremaining: 145ms\n",
            "977:\tlearn: 0.1207078\ttotal: 6.2s\tremaining: 139ms\n",
            "978:\tlearn: 0.1206113\ttotal: 6.21s\tremaining: 133ms\n",
            "979:\tlearn: 0.1205045\ttotal: 6.22s\tremaining: 127ms\n",
            "980:\tlearn: 0.1204103\ttotal: 6.24s\tremaining: 121ms\n",
            "981:\tlearn: 0.1203373\ttotal: 6.25s\tremaining: 115ms\n",
            "982:\tlearn: 0.1202431\ttotal: 6.27s\tremaining: 108ms\n",
            "983:\tlearn: 0.1201669\ttotal: 6.29s\tremaining: 102ms\n",
            "984:\tlearn: 0.1200625\ttotal: 6.3s\tremaining: 96ms\n",
            "985:\tlearn: 0.1200113\ttotal: 6.31s\tremaining: 89.6ms\n",
            "986:\tlearn: 0.1199498\ttotal: 6.32s\tremaining: 83.3ms\n",
            "987:\tlearn: 0.1198618\ttotal: 6.34s\tremaining: 77ms\n",
            "988:\tlearn: 0.1196395\ttotal: 6.35s\tremaining: 70.7ms\n",
            "989:\tlearn: 0.1195516\ttotal: 6.37s\tremaining: 64.4ms\n",
            "990:\tlearn: 0.1194745\ttotal: 6.39s\tremaining: 58ms\n",
            "991:\tlearn: 0.1193945\ttotal: 6.4s\tremaining: 51.6ms\n",
            "992:\tlearn: 0.1192613\ttotal: 6.4s\tremaining: 45.1ms\n",
            "993:\tlearn: 0.1192175\ttotal: 6.44s\tremaining: 38.9ms\n",
            "994:\tlearn: 0.1191280\ttotal: 6.44s\tremaining: 32.4ms\n",
            "995:\tlearn: 0.1190266\ttotal: 6.47s\tremaining: 26ms\n",
            "996:\tlearn: 0.1188952\ttotal: 6.5s\tremaining: 19.5ms\n",
            "997:\tlearn: 0.1188127\ttotal: 6.51s\tremaining: 13ms\n",
            "998:\tlearn: 0.1187051\ttotal: 6.52s\tremaining: 6.53ms\n",
            "999:\tlearn: 0.1186326\ttotal: 6.55s\tremaining: 0us\n"
          ]
        },
        {
          "output_type": "execute_result",
          "data": {
            "text/plain": [
              "<matplotlib.axes._subplots.AxesSubplot at 0x7fcf40abdf70>"
            ]
          },
          "metadata": {},
          "execution_count": 285
        },
        {
          "output_type": "display_data",
          "data": {
            "text/plain": [
              "<Figure size 432x288 with 2 Axes>"
            ],
            "image/png": "[encoded data removed]"
          },
          "metadata": {
            "needs_background": "light"
          }
        }
      ]
    },
    {
      "cell_type": "code",
      "source": [
        "from sklearn.metrics import classification_report\n",
        "print(classification_report(y_test , y_predict))\n",
        "pd.crosstab(y_test , y_predict)"
      ],
      "metadata": {
        "colab": {
          "base_uri": "https://localhost:8080/",
          "height": 299
        },
        "id": "Ujjaqik_0bV2",
        "outputId": "069ccc7b-4623-46cc-eb29-031720f592b3"
      },
      "execution_count": null,
      "outputs": [
        {
          "output_type": "stream",
          "name": "stdout",
          "text": [
            "              precision    recall  f1-score   support\n",
            "\n",
            "           0       0.97      0.82      0.89       939\n",
            "           1       0.11      0.51      0.19        43\n",
            "\n",
            "    accuracy                           0.80       982\n",
            "   macro avg       0.54      0.66      0.54       982\n",
            "weighted avg       0.94      0.80      0.86       982\n",
            "\n"
          ]
        },
        {
          "output_type": "execute_result",
          "data": {
            "text/plain": [
              "col_0    0    1\n",
              "row_0          \n",
              "0      768  171\n",
              "1       21   22"
            ],
            "text/html": [
              "\n",
              "  <div id=\"df-1c93e71f-54e3-431a-ad7d-6781109ae075\">\n",
              "    <div class=\"colab-df-container\">\n",
              "      <div>\n",
              "<style scoped>\n",
              "    .dataframe tbody tr th:only-of-type {\n",
              "        vertical-align: middle;\n",
              "    }\n",
              "\n",
              "    .dataframe tbody tr th {\n",
              "        vertical-align: top;\n",
              "    }\n",
              "\n",
              "    .dataframe thead th {\n",
              "        text-align: right;\n",
              "    }\n",
              "</style>\n",
              "<table border=\"1\" class=\"dataframe\">\n",
              "  <thead>\n",
              "    <tr style=\"text-align: right;\">\n",
              "      <th>col_0</th>\n",
              "      <th>0</th>\n",
              "      <th>1</th>\n",
              "    </tr>\n",
              "    <tr>\n",
              "      <th>row_0</th>\n",
              "      <th></th>\n",
              "      <th></th>\n",
              "    </tr>\n",
              "  </thead>\n",
              "  <tbody>\n",
              "    <tr>\n",
              "      <th>0</th>\n",
              "      <td>768</td>\n",
              "      <td>171</td>\n",
              "    </tr>\n",
              "    <tr>\n",
              "      <th>1</th>\n",
              "      <td>21</td>\n",
              "      <td>22</td>\n",
              "    </tr>\n",
              "  </tbody>\n",
              "</table>\n",
              "</div>\n",
              "      <button class=\"colab-df-convert\" onclick=\"convertToInteractive('df-1c93e71f-54e3-431a-ad7d-6781109ae075')\"\n",
              "              title=\"Convert this dataframe to an interactive table.\"\n",
              "              style=\"display:none;\">\n",
              "        \n",
              "  <svg xmlns=\"http://www.w3.org/2000/svg\" height=\"24px\"viewBox=\"0 0 24 24\"\n",
              "       width=\"24px\">\n",
              "    <path d=\"M0 0h24v24H0V0z\" fill=\"none\"/>\n",
              "    <path d=\"M18.56 5.44l.94 2.06.94-2.06 2.06-.94-2.06-.94-.94-2.06-.94 2.06-2.06.94zm-11 1L8.5 8.5l.94-2.06 2.06-.94-2.06-.94L8.5 2.5l-.94 2.06-2.06.94zm10 10l.94 2.06.94-2.06 2.06-.94-2.06-.94-.94-2.06-.94 2.06-2.06.94z\"/><path d=\"M17.41 7.96l-1.37-1.37c-.4-.4-.92-.59-1.43-.59-.52 0-1.04.2-1.43.59L10.3 9.45l-7.72 7.72c-.78.78-.78 2.05 0 2.83L4 21.41c.39.39.9.59 1.41.59.51 0 1.02-.2 1.41-.59l7.78-7.78 2.81-2.81c.8-.78.8-2.07 0-2.86zM5.41 20L4 18.59l7.72-7.72 1.47 1.35L5.41 20z\"/>\n",
              "  </svg>\n",
              "      </button>\n",
              "      \n",
              "  <style>\n",
              "    .colab-df-container {\n",
              "      display:flex;\n",
              "      flex-wrap:wrap;\n",
              "      gap: 12px;\n",
              "    }\n",
              "\n",
              "    .colab-df-convert {\n",
              "      background-color: #E8F0FE;\n",
              "      border: none;\n",
              "      border-radius: 50%;\n",
              "      cursor: pointer;\n",
              "      display: none;\n",
              "      fill: #1967D2;\n",
              "      height: 32px;\n",
              "      padding: 0 0 0 0;\n",
              "      width: 32px;\n",
              "    }\n",
              "\n",
              "    .colab-df-convert:hover {\n",
              "      background-color: #E2EBFA;\n",
              "      box-shadow: 0px 1px 2px rgba(60, 64, 67, 0.3), 0px 1px 3px 1px rgba(60, 64, 67, 0.15);\n",
              "      fill: #174EA6;\n",
              "    }\n",
              "\n",
              "    [theme=dark] .colab-df-convert {\n",
              "      background-color: #3B4455;\n",
              "      fill: #D2E3FC;\n",
              "    }\n",
              "\n",
              "    [theme=dark] .colab-df-convert:hover {\n",
              "      background-color: #434B5C;\n",
              "      box-shadow: 0px 1px 3px 1px rgba(0, 0, 0, 0.15);\n",
              "      filter: drop-shadow(0px 1px 2px rgba(0, 0, 0, 0.3));\n",
              "      fill: #FFFFFF;\n",
              "    }\n",
              "  </style>\n",
              "\n",
              "      <script>\n",
              "        const buttonEl =\n",
              "          document.querySelector('#df-1c93e71f-54e3-431a-ad7d-6781109ae075 button.colab-df-convert');\n",
              "        buttonEl.style.display =\n",
              "          google.colab.kernel.accessAllowed ? 'block' : 'none';\n",
              "\n",
              "        async function convertToInteractive(key) {\n",
              "          const element = document.querySelector('#df-1c93e71f-54e3-431a-ad7d-6781109ae075');\n",
              "          const dataTable =\n",
              "            await google.colab.kernel.invokeFunction('convertToInteractive',\n",
              "                                                     [key], {});\n",
              "          if (!dataTable) return;\n",
              "\n",
              "          const docLinkHtml = 'Like what you see? Visit the ' +\n",
              "            '<a target=\"_blank\" href=https://colab.research.google.com/notebooks/data_table.ipynb>data table notebook</a>'\n",
              "            + ' to learn more about interactive tables.';\n",
              "          element.innerHTML = '';\n",
              "          dataTable['output_type'] = 'display_data';\n",
              "          await google.colab.output.renderOutput(dataTable, element);\n",
              "          const docLink = document.createElement('div');\n",
              "          docLink.innerHTML = docLinkHtml;\n",
              "          element.appendChild(docLink);\n",
              "        }\n",
              "      </script>\n",
              "    </div>\n",
              "  </div>\n",
              "  "
            ]
          },
          "metadata": {},
          "execution_count": 84
        }
      ]
    },
    {
      "cell_type": "code",
      "source": [
        "from sklearn.metrics import accuracy_score\n",
        "f=accuracy_score(y_test, y_predict)\n",
        "f"
      ],
      "metadata": {
        "colab": {
          "base_uri": "https://localhost:8080/"
        },
        "id": "2hX46Xb6_oEY",
        "outputId": "c608eff6-3ea0-47c3-baa0-2b8c2ea6ac6b"
      },
      "execution_count": null,
      "outputs": [
        {
          "output_type": "execute_result",
          "data": {
            "text/plain": [
              "0.8044806517311609"
            ]
          },
          "metadata": {},
          "execution_count": 85
        }
      ]
    },
    {
      "cell_type": "code",
      "source": [
        "perf_measure(y_test, y_predict)"
      ],
      "metadata": {
        "colab": {
          "base_uri": "https://localhost:8080/"
        },
        "outputId": "fd1f48e4-43e5-4f8d-abb4-a9b4f294f9fd",
        "id": "Gu3hvs9wVeH-"
      },
      "execution_count": null,
      "outputs": [
        {
          "output_type": "execute_result",
          "data": {
            "text/plain": [
              "(22, 171, 768, 21)"
            ]
          },
          "metadata": {},
          "execution_count": 286
        }
      ]
    },
    {
      "cell_type": "code",
      "source": [
        "f1 = truepositive(y_test, y_predict)\n",
        "f1"
      ],
      "metadata": {
        "colab": {
          "base_uri": "https://localhost:8080/"
        },
        "outputId": "e0c6ff37-c8a0-4080-b511-9d866ece4a07",
        "id": "MT1qr6aCVlPF"
      },
      "execution_count": null,
      "outputs": [
        {
          "output_type": "execute_result",
          "data": {
            "text/plain": [
              "22"
            ]
          },
          "metadata": {},
          "execution_count": 287
        }
      ]
    },
    {
      "cell_type": "markdown",
      "source": [
        "# **Result of our prediction**"
      ],
      "metadata": {
        "id": "PJOslRwwAMdq"
      }
    },
    {
      "cell_type": "code",
      "source": [
        "# totall accuracy \n",
        "plt.figure(figsize=[10,6])\n",
        "left=[1,2,3,4,5,6]\n",
        "high=[a,b,c,d,e,f]\n",
        "tic=['regression' , 'k_nearest' , 'decission trees' , 'naive bayes', 'xgboost' , 'catboost']\n",
        "plt.bar(left, high ,tick_label=tic  ,width=0.5 ,color=['green' , 'blue' ,'yellow' ,'red','black','pink'])\n",
        "plt.show()"
      ],
      "metadata": {
        "colab": {
          "base_uri": "https://localhost:8080/",
          "height": 375
        },
        "id": "KlTMXr9E_xqB",
        "outputId": "b8cd6110-30e2-4544-fd56-21e1ec5ef197"
      },
      "execution_count": null,
      "outputs": [
        {
          "output_type": "display_data",
          "data": {
            "text/plain": [
              "<Figure size 720x432 with 1 Axes>"
            ],
            "image/png": "[encoded data removed]"
          },
          "metadata": {
            "needs_background": "light"
          }
        }
      ]
    },
    {
      "cell_type": "code",
      "source": [
        "# class 1\n",
        "plt.figure(figsize=[10,6])\n",
        "left=[1,2,3,4,5,6]\n",
        "high=[a1,b1,c1,d1,e1,f1]\n",
        "tic=['regression' , 'k_nearest' , 'decission trees' ,'naive bayes', 'xgboost' , 'catboost']\n",
        "plt.bar(left, high ,tick_label=tic  ,width=0.5 ,color=['green' , 'blue' ,'yellow' ,'red','black'])"
      ],
      "metadata": {
        "colab": {
          "base_uri": "https://localhost:8080/",
          "height": 392
        },
        "id": "2Bt0FfASVp5P",
        "outputId": "57f2e699-478e-4cca-9c95-a7c26af87842"
      },
      "execution_count": null,
      "outputs": [
        {
          "output_type": "execute_result",
          "data": {
            "text/plain": [
              "<BarContainer object of 6 artists>"
            ]
          },
          "metadata": {},
          "execution_count": 297
        },
        {
          "output_type": "display_data",
          "data": {
            "text/plain": [
              "<Figure size 720x432 with 1 Axes>"
            ],
            "image/png": "[encoded data removed]"
          },
          "metadata": {
            "needs_background": "light"
          }
        }
      ]
    },
    {
      "cell_type": "markdown",
      "source": [
        "Best Model for our data is decission trees but Naive bayes classification is the best model for predict our lowes class(class 1)."
      ],
      "metadata": {
        "id": "oJoKBT6DBWe3"
      }
    },
    {
      "cell_type": "code",
      "source": [
        "from sklearn import datasets\n",
        "from sklearn.metrics import roc_curve, roc_auc_score"
      ],
      "metadata": {
        "id": "GS8wq1GwRsAd"
      },
      "execution_count": null,
      "outputs": []
    },
    {
      "cell_type": "code",
      "source": [
        "rf_predict=lo.predict(x_test)\n",
        "nb_predict=classifier.predict(x_test)\n",
        "lg_predict=random.predict(x_test)\n",
        "kn_predict=classifier.predict(x_test)\n",
        "xg_predict=model.predict(x_test)\n",
        "ca_predict=cat.predict(x_test)"
      ],
      "metadata": {
        "id": "RkwNEYftRvBz"
      },
      "execution_count": null,
      "outputs": []
    },
    {
      "cell_type": "code",
      "source": [
        "rf_auc=roc_auc_score(y_test,rf_predict)\n",
        "nb_auc=roc_auc_score(y_test,nb_predict)\n",
        "lg_auc=roc_auc_score(y_test,lg_predict)\n",
        "kn_auc=roc_auc_score(y_test,kn_predict)\n",
        "xg_auc=roc_auc_score(y_test,xg_predict)\n",
        "ca_auc=roc_auc_score(y_test,ca_predict)"
      ],
      "metadata": {
        "id": "1MjrvJvURuZ0"
      },
      "execution_count": null,
      "outputs": []
    },
    {
      "cell_type": "code",
      "source": [
        "rf_fpr,rf_tpr,_ =roc_curve(y_test,rf_predict)\n",
        "nb_fpr,nb_tpr,_ =roc_curve(y_test,nb_predict)\n",
        "lg_fpr,lg_tpr,_ =roc_curve(y_test,lg_predict)\n",
        "kn_fpr,kn_tpr,_ =roc_curve(y_test,kn_predict)\n",
        "xg_fpr,xg_tpr,_ =roc_curve(y_test,xg_predict)\n",
        "ca_fpr,ca_tpr,_ =roc_curve(y_test,ca_predict)"
      ],
      "metadata": {
        "id": "9qKW_bRGScHZ"
      },
      "execution_count": null,
      "outputs": []
    },
    {
      "cell_type": "code",
      "source": [
        "plt.subplots(1, figsize=(10,10))\n",
        "r=[0,0.5,1]\n",
        "p=r\n",
        "plt.plot(r,p , linestyle='-', label='base')\n",
        "plt.plot(rf_fpr,rf_tpr , linestyle='--' , label='random forest')\n",
        "plt.plot(nb_fpr,nb_tpr , linestyle='--' , label='naive bayes')\n",
        "plt.plot(lg_fpr,lg_tpr , linestyle='--' , label='regression')\n",
        "plt.plot(kn_fpr,kn_tpr , linestyle='--' , label='k_nearest')\n",
        "plt.plot(xg_fpr,xg_tpr , linestyle='--' , label='xgboost')\n",
        "plt.plot(ca_fpr,ca_tpr , linestyle='--' , label='catboost')\n",
        "\n",
        "\n",
        "\n",
        "plt.title('ROC curve_gain chart')\n",
        "plt.ylabel('True Positive Rate')\n",
        "plt.xlabel('False Positive Rate')\n",
        "plt.legend()\n",
        "plt.show()"
      ],
      "metadata": {
        "colab": {
          "base_uri": "https://localhost:8080/",
          "height": 621
        },
        "id": "Ik3Oy7BpSgHV",
        "outputId": "d295f48b-fa3e-4c5d-bdaa-6d735164ed38"
      },
      "execution_count": null,
      "outputs": [
        {
          "output_type": "display_data",
          "data": {
            "text/plain": [
              "<Figure size 720x720 with 1 Axes>"
            ],
            "image/png": "[encoded data removed]"
          },
          "metadata": {
            "needs_background": "light"
          }
        }
      ]
    }
  ]
}
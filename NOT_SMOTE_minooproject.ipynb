{
  "nbformat": 4,
  "nbformat_minor": 0,
  "metadata": {
    "colab": {
      "provenance": [],
      "collapsed_sections": [
        "pd2di4SZ3jzZ",
        "4vLXyxi7G-zR",
        "PJOslRwwAMdq",
        "JULzPXflrObM"
      ]
    },
    "kernelspec": {
      "name": "python3",
      "display_name": "Python 3"
    },
    "language_info": {
      "name": "python"
    }
  },
  "cells": [
    {
      "cell_type": "markdown",
      "source": [
        "** PREDICTION WITHOUT USING SMOTE(BALANCING)**"
      ],
      "metadata": {
        "id": "pR0zewFIfWfj"
      }
    },
    {
      "cell_type": "code",
      "execution_count": null,
      "metadata": {
        "id": "eNCuH64VYAgd"
      },
      "outputs": [],
      "source": [
        "import pandas as pd\n",
        "import numpy as np\n",
        "import seaborn as sns\n",
        "import matplotlib.pyplot as plt \n"
      ]
    },
    {
      "cell_type": "markdown",
      "source": [
        "# **INTRODUCING THE DATA**"
      ],
      "metadata": {
        "id": "pd2di4SZ3jzZ"
      }
    },
    {
      "cell_type": "code",
      "source": [
        "stroke = pd.read_csv('/content/healthcare-dataset-stroke-data.csv')"
      ],
      "metadata": {
        "id": "zeK77PMLa9ai"
      },
      "execution_count": null,
      "outputs": []
    },
    {
      "cell_type": "code",
      "source": [
        "stroke.head()"
      ],
      "metadata": {
        "id": "txWJw3DabKAQ",
        "colab": {
          "base_uri": "https://localhost:8080/"
        },
        "outputId": "289fc6ce-5fcf-499b-8f05-5c4fdcae0850"
      },
      "execution_count": null,
      "outputs": [
        {
          "output_type": "execute_result",
          "data": {
            "text/plain": [
              "      id  gender   age  hypertension  heart_disease ever_married  \\\n",
              "0   9046    Male  67.0             0              1          Yes   \n",
              "1  51676  Female  61.0             0              0          Yes   \n",
              "2  31112    Male  80.0             0              1          Yes   \n",
              "3  60182  Female  49.0             0              0          Yes   \n",
              "4   1665  Female  79.0             1              0          Yes   \n",
              "\n",
              "       work_type Residence_type  avg_glucose_level   bmi   smoking_status  \\\n",
              "0        Private          Urban             228.69  36.6  formerly smoked   \n",
              "1  Self-employed          Rural             202.21   NaN     never smoked   \n",
              "2        Private          Rural             105.92  32.5     never smoked   \n",
              "3        Private          Urban             171.23  34.4           smokes   \n",
              "4  Self-employed          Rural             174.12  24.0     never smoked   \n",
              "\n",
              "   stroke  \n",
              "0       1  \n",
              "1       1  \n",
              "2       1  \n",
              "3       1  \n",
              "4       1  "
            ],
            "text/html": [
              "\n",
              "  <div id=\"df-faba2dcc-2133-4f1d-bf3a-fcd821201eea\">\n",
              "    <div class=\"colab-df-container\">\n",
              "      <div>\n",
              "<style scoped>\n",
              "    .dataframe tbody tr th:only-of-type {\n",
              "        vertical-align: middle;\n",
              "    }\n",
              "\n",
              "    .dataframe tbody tr th {\n",
              "        vertical-align: top;\n",
              "    }\n",
              "\n",
              "    .dataframe thead th {\n",
              "        text-align: right;\n",
              "    }\n",
              "</style>\n",
              "<table border=\"1\" class=\"dataframe\">\n",
              "  <thead>\n",
              "    <tr style=\"text-align: right;\">\n",
              "      <th></th>\n",
              "      <th>id</th>\n",
              "      <th>gender</th>\n",
              "      <th>age</th>\n",
              "      <th>hypertension</th>\n",
              "      <th>heart_disease</th>\n",
              "      <th>ever_married</th>\n",
              "      <th>work_type</th>\n",
              "      <th>Residence_type</th>\n",
              "      <th>avg_glucose_level</th>\n",
              "      <th>bmi</th>\n",
              "      <th>smoking_status</th>\n",
              "      <th>stroke</th>\n",
              "    </tr>\n",
              "  </thead>\n",
              "  <tbody>\n",
              "    <tr>\n",
              "      <th>0</th>\n",
              "      <td>9046</td>\n",
              "      <td>Male</td>\n",
              "      <td>67.0</td>\n",
              "      <td>0</td>\n",
              "      <td>1</td>\n",
              "      <td>Yes</td>\n",
              "      <td>Private</td>\n",
              "      <td>Urban</td>\n",
              "      <td>228.69</td>\n",
              "      <td>36.6</td>\n",
              "      <td>formerly smoked</td>\n",
              "      <td>1</td>\n",
              "    </tr>\n",
              "    <tr>\n",
              "      <th>1</th>\n",
              "      <td>51676</td>\n",
              "      <td>Female</td>\n",
              "      <td>61.0</td>\n",
              "      <td>0</td>\n",
              "      <td>0</td>\n",
              "      <td>Yes</td>\n",
              "      <td>Self-employed</td>\n",
              "      <td>Rural</td>\n",
              "      <td>202.21</td>\n",
              "      <td>NaN</td>\n",
              "      <td>never smoked</td>\n",
              "      <td>1</td>\n",
              "    </tr>\n",
              "    <tr>\n",
              "      <th>2</th>\n",
              "      <td>31112</td>\n",
              "      <td>Male</td>\n",
              "      <td>80.0</td>\n",
              "      <td>0</td>\n",
              "      <td>1</td>\n",
              "      <td>Yes</td>\n",
              "      <td>Private</td>\n",
              "      <td>Rural</td>\n",
              "      <td>105.92</td>\n",
              "      <td>32.5</td>\n",
              "      <td>never smoked</td>\n",
              "      <td>1</td>\n",
              "    </tr>\n",
              "    <tr>\n",
              "      <th>3</th>\n",
              "      <td>60182</td>\n",
              "      <td>Female</td>\n",
              "      <td>49.0</td>\n",
              "      <td>0</td>\n",
              "      <td>0</td>\n",
              "      <td>Yes</td>\n",
              "      <td>Private</td>\n",
              "      <td>Urban</td>\n",
              "      <td>171.23</td>\n",
              "      <td>34.4</td>\n",
              "      <td>smokes</td>\n",
              "      <td>1</td>\n",
              "    </tr>\n",
              "    <tr>\n",
              "      <th>4</th>\n",
              "      <td>1665</td>\n",
              "      <td>Female</td>\n",
              "      <td>79.0</td>\n",
              "      <td>1</td>\n",
              "      <td>0</td>\n",
              "      <td>Yes</td>\n",
              "      <td>Self-employed</td>\n",
              "      <td>Rural</td>\n",
              "      <td>174.12</td>\n",
              "      <td>24.0</td>\n",
              "      <td>never smoked</td>\n",
              "      <td>1</td>\n",
              "    </tr>\n",
              "  </tbody>\n",
              "</table>\n",
              "</div>\n",
              "      <button class=\"colab-df-convert\" onclick=\"convertToInteractive('df-faba2dcc-2133-4f1d-bf3a-fcd821201eea')\"\n",
              "              title=\"Convert this dataframe to an interactive table.\"\n",
              "              style=\"display:none;\">\n",
              "        \n",
              "  <svg xmlns=\"http://www.w3.org/2000/svg\" height=\"24px\"viewBox=\"0 0 24 24\"\n",
              "       width=\"24px\">\n",
              "    <path d=\"M0 0h24v24H0V0z\" fill=\"none\"/>\n",
              "    <path d=\"M18.56 5.44l.94 2.06.94-2.06 2.06-.94-2.06-.94-.94-2.06-.94 2.06-2.06.94zm-11 1L8.5 8.5l.94-2.06 2.06-.94-2.06-.94L8.5 2.5l-.94 2.06-2.06.94zm10 10l.94 2.06.94-2.06 2.06-.94-2.06-.94-.94-2.06-.94 2.06-2.06.94z\"/><path d=\"M17.41 7.96l-1.37-1.37c-.4-.4-.92-.59-1.43-.59-.52 0-1.04.2-1.43.59L10.3 9.45l-7.72 7.72c-.78.78-.78 2.05 0 2.83L4 21.41c.39.39.9.59 1.41.59.51 0 1.02-.2 1.41-.59l7.78-7.78 2.81-2.81c.8-.78.8-2.07 0-2.86zM5.41 20L4 18.59l7.72-7.72 1.47 1.35L5.41 20z\"/>\n",
              "  </svg>\n",
              "      </button>\n",
              "      \n",
              "  <style>\n",
              "    .colab-df-container {\n",
              "      display:flex;\n",
              "      flex-wrap:wrap;\n",
              "      gap: 12px;\n",
              "    }\n",
              "\n",
              "    .colab-df-convert {\n",
              "      background-color: #E8F0FE;\n",
              "      border: none;\n",
              "      border-radius: 50%;\n",
              "      cursor: pointer;\n",
              "      display: none;\n",
              "      fill: #1967D2;\n",
              "      height: 32px;\n",
              "      padding: 0 0 0 0;\n",
              "      width: 32px;\n",
              "    }\n",
              "\n",
              "    .colab-df-convert:hover {\n",
              "      background-color: #E2EBFA;\n",
              "      box-shadow: 0px 1px 2px rgba(60, 64, 67, 0.3), 0px 1px 3px 1px rgba(60, 64, 67, 0.15);\n",
              "      fill: #174EA6;\n",
              "    }\n",
              "\n",
              "    [theme=dark] .colab-df-convert {\n",
              "      background-color: #3B4455;\n",
              "      fill: #D2E3FC;\n",
              "    }\n",
              "\n",
              "    [theme=dark] .colab-df-convert:hover {\n",
              "      background-color: #434B5C;\n",
              "      box-shadow: 0px 1px 3px 1px rgba(0, 0, 0, 0.15);\n",
              "      filter: drop-shadow(0px 1px 2px rgba(0, 0, 0, 0.3));\n",
              "      fill: #FFFFFF;\n",
              "    }\n",
              "  </style>\n",
              "\n",
              "      <script>\n",
              "        const buttonEl =\n",
              "          document.querySelector('#df-faba2dcc-2133-4f1d-bf3a-fcd821201eea button.colab-df-convert');\n",
              "        buttonEl.style.display =\n",
              "          google.colab.kernel.accessAllowed ? 'block' : 'none';\n",
              "\n",
              "        async function convertToInteractive(key) {\n",
              "          const element = document.querySelector('#df-faba2dcc-2133-4f1d-bf3a-fcd821201eea');\n",
              "          const dataTable =\n",
              "            await google.colab.kernel.invokeFunction('convertToInteractive',\n",
              "                                                     [key], {});\n",
              "          if (!dataTable) return;\n",
              "\n",
              "          const docLinkHtml = 'Like what you see? Visit the ' +\n",
              "            '<a target=\"_blank\" href=https://colab.research.google.com/notebooks/data_table.ipynb>data table notebook</a>'\n",
              "            + ' to learn more about interactive tables.';\n",
              "          element.innerHTML = '';\n",
              "          dataTable['output_type'] = 'display_data';\n",
              "          await google.colab.output.renderOutput(dataTable, element);\n",
              "          const docLink = document.createElement('div');\n",
              "          docLink.innerHTML = docLinkHtml;\n",
              "          element.appendChild(docLink);\n",
              "        }\n",
              "      </script>\n",
              "    </div>\n",
              "  </div>\n",
              "  "
            ]
          },
          "metadata": {},
          "execution_count": 88
        }
      ]
    },
    {
      "cell_type": "code",
      "source": [
        "stroke.shape"
      ],
      "metadata": {
        "id": "8XrmA9nUbWbq",
        "colab": {
          "base_uri": "https://localhost:8080/"
        },
        "outputId": "53d85a8a-d649-4084-8b6e-a5b341a457f8"
      },
      "execution_count": null,
      "outputs": [
        {
          "output_type": "execute_result",
          "data": {
            "text/plain": [
              "(5110, 12)"
            ]
          },
          "metadata": {},
          "execution_count": 89
        }
      ]
    },
    {
      "cell_type": "code",
      "source": [
        "# removing that values that thay are empty\n",
        "stroke.dropna(subset=['bmi'], inplace=True)"
      ],
      "metadata": {
        "id": "S-igAkZN-Pb-"
      },
      "execution_count": null,
      "outputs": []
    },
    {
      "cell_type": "code",
      "source": [
        "# droping the colums that thay are not important for prediction\n",
        "stroke = stroke.drop(['id'] , axis=1)"
      ],
      "metadata": {
        "id": "9FsZbgWYlaGs"
      },
      "execution_count": null,
      "outputs": []
    },
    {
      "cell_type": "code",
      "source": [
        "stroke.shape"
      ],
      "metadata": {
        "colab": {
          "base_uri": "https://localhost:8080/"
        },
        "id": "Gr5GQwa-b0P0",
        "outputId": "894b88b5-97cc-4350-a63e-f1abc32de965"
      },
      "execution_count": null,
      "outputs": [
        {
          "output_type": "execute_result",
          "data": {
            "text/plain": [
              "(4909, 11)"
            ]
          },
          "metadata": {},
          "execution_count": 92
        }
      ]
    },
    {
      "cell_type": "markdown",
      "source": [
        "# **working on data and prediction**"
      ],
      "metadata": {
        "id": "4vLXyxi7G-zR"
      }
    },
    {
      "cell_type": "code",
      "source": [
        "stroke"
      ],
      "metadata": {
        "colab": {
          "base_uri": "https://localhost:8080/"
        },
        "id": "cFoc42xlNHY4",
        "outputId": "613dc91e-5580-4a1e-d076-57beb0471170"
      },
      "execution_count": null,
      "outputs": [
        {
          "output_type": "execute_result",
          "data": {
            "text/plain": [
              "      gender   age  hypertension  heart_disease ever_married      work_type  \\\n",
              "0       Male  67.0             0              1          Yes        Private   \n",
              "2       Male  80.0             0              1          Yes        Private   \n",
              "3     Female  49.0             0              0          Yes        Private   \n",
              "4     Female  79.0             1              0          Yes  Self-employed   \n",
              "5       Male  81.0             0              0          Yes        Private   \n",
              "...      ...   ...           ...            ...          ...            ...   \n",
              "5104  Female  13.0             0              0           No       children   \n",
              "5106  Female  81.0             0              0          Yes  Self-employed   \n",
              "5107  Female  35.0             0              0          Yes  Self-employed   \n",
              "5108    Male  51.0             0              0          Yes        Private   \n",
              "5109  Female  44.0             0              0          Yes       Govt_job   \n",
              "\n",
              "     Residence_type  avg_glucose_level   bmi   smoking_status  stroke  \n",
              "0             Urban             228.69  36.6  formerly smoked       1  \n",
              "2             Rural             105.92  32.5     never smoked       1  \n",
              "3             Urban             171.23  34.4           smokes       1  \n",
              "4             Rural             174.12  24.0     never smoked       1  \n",
              "5             Urban             186.21  29.0  formerly smoked       1  \n",
              "...             ...                ...   ...              ...     ...  \n",
              "5104          Rural             103.08  18.6          Unknown       0  \n",
              "5106          Urban             125.20  40.0     never smoked       0  \n",
              "5107          Rural              82.99  30.6     never smoked       0  \n",
              "5108          Rural             166.29  25.6  formerly smoked       0  \n",
              "5109          Urban              85.28  26.2          Unknown       0  \n",
              "\n",
              "[4909 rows x 11 columns]"
            ],
            "text/html": [
              "\n",
              "  <div id=\"df-5adbf3e9-3a30-41f0-8bc0-58ecd54df0f7\">\n",
              "    <div class=\"colab-df-container\">\n",
              "      <div>\n",
              "<style scoped>\n",
              "    .dataframe tbody tr th:only-of-type {\n",
              "        vertical-align: middle;\n",
              "    }\n",
              "\n",
              "    .dataframe tbody tr th {\n",
              "        vertical-align: top;\n",
              "    }\n",
              "\n",
              "    .dataframe thead th {\n",
              "        text-align: right;\n",
              "    }\n",
              "</style>\n",
              "<table border=\"1\" class=\"dataframe\">\n",
              "  <thead>\n",
              "    <tr style=\"text-align: right;\">\n",
              "      <th></th>\n",
              "      <th>gender</th>\n",
              "      <th>age</th>\n",
              "      <th>hypertension</th>\n",
              "      <th>heart_disease</th>\n",
              "      <th>ever_married</th>\n",
              "      <th>work_type</th>\n",
              "      <th>Residence_type</th>\n",
              "      <th>avg_glucose_level</th>\n",
              "      <th>bmi</th>\n",
              "      <th>smoking_status</th>\n",
              "      <th>stroke</th>\n",
              "    </tr>\n",
              "  </thead>\n",
              "  <tbody>\n",
              "    <tr>\n",
              "      <th>0</th>\n",
              "      <td>Male</td>\n",
              "      <td>67.0</td>\n",
              "      <td>0</td>\n",
              "      <td>1</td>\n",
              "      <td>Yes</td>\n",
              "      <td>Private</td>\n",
              "      <td>Urban</td>\n",
              "      <td>228.69</td>\n",
              "      <td>36.6</td>\n",
              "      <td>formerly smoked</td>\n",
              "      <td>1</td>\n",
              "    </tr>\n",
              "    <tr>\n",
              "      <th>2</th>\n",
              "      <td>Male</td>\n",
              "      <td>80.0</td>\n",
              "      <td>0</td>\n",
              "      <td>1</td>\n",
              "      <td>Yes</td>\n",
              "      <td>Private</td>\n",
              "      <td>Rural</td>\n",
              "      <td>105.92</td>\n",
              "      <td>32.5</td>\n",
              "      <td>never smoked</td>\n",
              "      <td>1</td>\n",
              "    </tr>\n",
              "    <tr>\n",
              "      <th>3</th>\n",
              "      <td>Female</td>\n",
              "      <td>49.0</td>\n",
              "      <td>0</td>\n",
              "      <td>0</td>\n",
              "      <td>Yes</td>\n",
              "      <td>Private</td>\n",
              "      <td>Urban</td>\n",
              "      <td>171.23</td>\n",
              "      <td>34.4</td>\n",
              "      <td>smokes</td>\n",
              "      <td>1</td>\n",
              "    </tr>\n",
              "    <tr>\n",
              "      <th>4</th>\n",
              "      <td>Female</td>\n",
              "      <td>79.0</td>\n",
              "      <td>1</td>\n",
              "      <td>0</td>\n",
              "      <td>Yes</td>\n",
              "      <td>Self-employed</td>\n",
              "      <td>Rural</td>\n",
              "      <td>174.12</td>\n",
              "      <td>24.0</td>\n",
              "      <td>never smoked</td>\n",
              "      <td>1</td>\n",
              "    </tr>\n",
              "    <tr>\n",
              "      <th>5</th>\n",
              "      <td>Male</td>\n",
              "      <td>81.0</td>\n",
              "      <td>0</td>\n",
              "      <td>0</td>\n",
              "      <td>Yes</td>\n",
              "      <td>Private</td>\n",
              "      <td>Urban</td>\n",
              "      <td>186.21</td>\n",
              "      <td>29.0</td>\n",
              "      <td>formerly smoked</td>\n",
              "      <td>1</td>\n",
              "    </tr>\n",
              "    <tr>\n",
              "      <th>...</th>\n",
              "      <td>...</td>\n",
              "      <td>...</td>\n",
              "      <td>...</td>\n",
              "      <td>...</td>\n",
              "      <td>...</td>\n",
              "      <td>...</td>\n",
              "      <td>...</td>\n",
              "      <td>...</td>\n",
              "      <td>...</td>\n",
              "      <td>...</td>\n",
              "      <td>...</td>\n",
              "    </tr>\n",
              "    <tr>\n",
              "      <th>5104</th>\n",
              "      <td>Female</td>\n",
              "      <td>13.0</td>\n",
              "      <td>0</td>\n",
              "      <td>0</td>\n",
              "      <td>No</td>\n",
              "      <td>children</td>\n",
              "      <td>Rural</td>\n",
              "      <td>103.08</td>\n",
              "      <td>18.6</td>\n",
              "      <td>Unknown</td>\n",
              "      <td>0</td>\n",
              "    </tr>\n",
              "    <tr>\n",
              "      <th>5106</th>\n",
              "      <td>Female</td>\n",
              "      <td>81.0</td>\n",
              "      <td>0</td>\n",
              "      <td>0</td>\n",
              "      <td>Yes</td>\n",
              "      <td>Self-employed</td>\n",
              "      <td>Urban</td>\n",
              "      <td>125.20</td>\n",
              "      <td>40.0</td>\n",
              "      <td>never smoked</td>\n",
              "      <td>0</td>\n",
              "    </tr>\n",
              "    <tr>\n",
              "      <th>5107</th>\n",
              "      <td>Female</td>\n",
              "      <td>35.0</td>\n",
              "      <td>0</td>\n",
              "      <td>0</td>\n",
              "      <td>Yes</td>\n",
              "      <td>Self-employed</td>\n",
              "      <td>Rural</td>\n",
              "      <td>82.99</td>\n",
              "      <td>30.6</td>\n",
              "      <td>never smoked</td>\n",
              "      <td>0</td>\n",
              "    </tr>\n",
              "    <tr>\n",
              "      <th>5108</th>\n",
              "      <td>Male</td>\n",
              "      <td>51.0</td>\n",
              "      <td>0</td>\n",
              "      <td>0</td>\n",
              "      <td>Yes</td>\n",
              "      <td>Private</td>\n",
              "      <td>Rural</td>\n",
              "      <td>166.29</td>\n",
              "      <td>25.6</td>\n",
              "      <td>formerly smoked</td>\n",
              "      <td>0</td>\n",
              "    </tr>\n",
              "    <tr>\n",
              "      <th>5109</th>\n",
              "      <td>Female</td>\n",
              "      <td>44.0</td>\n",
              "      <td>0</td>\n",
              "      <td>0</td>\n",
              "      <td>Yes</td>\n",
              "      <td>Govt_job</td>\n",
              "      <td>Urban</td>\n",
              "      <td>85.28</td>\n",
              "      <td>26.2</td>\n",
              "      <td>Unknown</td>\n",
              "      <td>0</td>\n",
              "    </tr>\n",
              "  </tbody>\n",
              "</table>\n",
              "<p>4909 rows × 11 columns</p>\n",
              "</div>\n",
              "      <button class=\"colab-df-convert\" onclick=\"convertToInteractive('df-5adbf3e9-3a30-41f0-8bc0-58ecd54df0f7')\"\n",
              "              title=\"Convert this dataframe to an interactive table.\"\n",
              "              style=\"display:none;\">\n",
              "        \n",
              "  <svg xmlns=\"http://www.w3.org/2000/svg\" height=\"24px\"viewBox=\"0 0 24 24\"\n",
              "       width=\"24px\">\n",
              "    <path d=\"M0 0h24v24H0V0z\" fill=\"none\"/>\n",
              "    <path d=\"M18.56 5.44l.94 2.06.94-2.06 2.06-.94-2.06-.94-.94-2.06-.94 2.06-2.06.94zm-11 1L8.5 8.5l.94-2.06 2.06-.94-2.06-.94L8.5 2.5l-.94 2.06-2.06.94zm10 10l.94 2.06.94-2.06 2.06-.94-2.06-.94-.94-2.06-.94 2.06-2.06.94z\"/><path d=\"M17.41 7.96l-1.37-1.37c-.4-.4-.92-.59-1.43-.59-.52 0-1.04.2-1.43.59L10.3 9.45l-7.72 7.72c-.78.78-.78 2.05 0 2.83L4 21.41c.39.39.9.59 1.41.59.51 0 1.02-.2 1.41-.59l7.78-7.78 2.81-2.81c.8-.78.8-2.07 0-2.86zM5.41 20L4 18.59l7.72-7.72 1.47 1.35L5.41 20z\"/>\n",
              "  </svg>\n",
              "      </button>\n",
              "      \n",
              "  <style>\n",
              "    .colab-df-container {\n",
              "      display:flex;\n",
              "      flex-wrap:wrap;\n",
              "      gap: 12px;\n",
              "    }\n",
              "\n",
              "    .colab-df-convert {\n",
              "      background-color: #E8F0FE;\n",
              "      border: none;\n",
              "      border-radius: 50%;\n",
              "      cursor: pointer;\n",
              "      display: none;\n",
              "      fill: #1967D2;\n",
              "      height: 32px;\n",
              "      padding: 0 0 0 0;\n",
              "      width: 32px;\n",
              "    }\n",
              "\n",
              "    .colab-df-convert:hover {\n",
              "      background-color: #E2EBFA;\n",
              "      box-shadow: 0px 1px 2px rgba(60, 64, 67, 0.3), 0px 1px 3px 1px rgba(60, 64, 67, 0.15);\n",
              "      fill: #174EA6;\n",
              "    }\n",
              "\n",
              "    [theme=dark] .colab-df-convert {\n",
              "      background-color: #3B4455;\n",
              "      fill: #D2E3FC;\n",
              "    }\n",
              "\n",
              "    [theme=dark] .colab-df-convert:hover {\n",
              "      background-color: #434B5C;\n",
              "      box-shadow: 0px 1px 3px 1px rgba(0, 0, 0, 0.15);\n",
              "      filter: drop-shadow(0px 1px 2px rgba(0, 0, 0, 0.3));\n",
              "      fill: #FFFFFF;\n",
              "    }\n",
              "  </style>\n",
              "\n",
              "      <script>\n",
              "        const buttonEl =\n",
              "          document.querySelector('#df-5adbf3e9-3a30-41f0-8bc0-58ecd54df0f7 button.colab-df-convert');\n",
              "        buttonEl.style.display =\n",
              "          google.colab.kernel.accessAllowed ? 'block' : 'none';\n",
              "\n",
              "        async function convertToInteractive(key) {\n",
              "          const element = document.querySelector('#df-5adbf3e9-3a30-41f0-8bc0-58ecd54df0f7');\n",
              "          const dataTable =\n",
              "            await google.colab.kernel.invokeFunction('convertToInteractive',\n",
              "                                                     [key], {});\n",
              "          if (!dataTable) return;\n",
              "\n",
              "          const docLinkHtml = 'Like what you see? Visit the ' +\n",
              "            '<a target=\"_blank\" href=https://colab.research.google.com/notebooks/data_table.ipynb>data table notebook</a>'\n",
              "            + ' to learn more about interactive tables.';\n",
              "          element.innerHTML = '';\n",
              "          dataTable['output_type'] = 'display_data';\n",
              "          await google.colab.output.renderOutput(dataTable, element);\n",
              "          const docLink = document.createElement('div');\n",
              "          docLink.innerHTML = docLinkHtml;\n",
              "          element.appendChild(docLink);\n",
              "        }\n",
              "      </script>\n",
              "    </div>\n",
              "  </div>\n",
              "  "
            ]
          },
          "metadata": {},
          "execution_count": 93
        }
      ]
    },
    {
      "cell_type": "code",
      "source": [
        "# converting the string in columns to integer\n",
        "from sklearn import preprocessing\n",
        "le = preprocessing.LabelEncoder()\n",
        "for col in stroke.columns:\n",
        "     stroke[col] = le.fit_transform(stroke[col])"
      ],
      "metadata": {
        "id": "E8ArcL9Lla0v"
      },
      "execution_count": null,
      "outputs": []
    },
    {
      "cell_type": "code",
      "source": [
        "stroke"
      ],
      "metadata": {
        "colab": {
          "base_uri": "https://localhost:8080/"
        },
        "id": "kzg7GEFIl6sZ",
        "outputId": "27c8d176-8055-4407-d78b-c29139c3e6bf"
      },
      "execution_count": null,
      "outputs": [
        {
          "output_type": "execute_result",
          "data": {
            "text/plain": [
              "      gender  age  hypertension  heart_disease  ever_married  work_type  \\\n",
              "0          1   88             0              1             1          2   \n",
              "2          1  101             0              1             1          2   \n",
              "3          0   70             0              0             1          2   \n",
              "4          0  100             1              0             1          3   \n",
              "5          1  102             0              0             1          2   \n",
              "...      ...  ...           ...            ...           ...        ...   \n",
              "5104       0   34             0              0             0          4   \n",
              "5106       0  102             0              0             1          3   \n",
              "5107       0   56             0              0             1          3   \n",
              "5108       1   72             0              0             1          2   \n",
              "5109       0   65             0              0             1          0   \n",
              "\n",
              "      Residence_type  avg_glucose_level  bmi  smoking_status  stroke  \n",
              "0                  1               3734  239               1       1  \n",
              "2                  0               2429  198               2       1  \n",
              "3                  1               3309  217               3       1  \n",
              "4                  0               3318  113               2       1  \n",
              "5                  1               3367  163               1       1  \n",
              "...              ...                ...  ...             ...     ...  \n",
              "5104               0               2324   59               0       0  \n",
              "5106               1               2960  273               2       0  \n",
              "5107               0               1290  179               2       0  \n",
              "5108               0               3289  129               1       0  \n",
              "5109               1               1426  135               0       0  \n",
              "\n",
              "[4909 rows x 11 columns]"
            ],
            "text/html": [
              "\n",
              "  <div id=\"df-416f7d3f-a9e8-424a-b0fb-a17c500f6002\">\n",
              "    <div class=\"colab-df-container\">\n",
              "      <div>\n",
              "<style scoped>\n",
              "    .dataframe tbody tr th:only-of-type {\n",
              "        vertical-align: middle;\n",
              "    }\n",
              "\n",
              "    .dataframe tbody tr th {\n",
              "        vertical-align: top;\n",
              "    }\n",
              "\n",
              "    .dataframe thead th {\n",
              "        text-align: right;\n",
              "    }\n",
              "</style>\n",
              "<table border=\"1\" class=\"dataframe\">\n",
              "  <thead>\n",
              "    <tr style=\"text-align: right;\">\n",
              "      <th></th>\n",
              "      <th>gender</th>\n",
              "      <th>age</th>\n",
              "      <th>hypertension</th>\n",
              "      <th>heart_disease</th>\n",
              "      <th>ever_married</th>\n",
              "      <th>work_type</th>\n",
              "      <th>Residence_type</th>\n",
              "      <th>avg_glucose_level</th>\n",
              "      <th>bmi</th>\n",
              "      <th>smoking_status</th>\n",
              "      <th>stroke</th>\n",
              "    </tr>\n",
              "  </thead>\n",
              "  <tbody>\n",
              "    <tr>\n",
              "      <th>0</th>\n",
              "      <td>1</td>\n",
              "      <td>88</td>\n",
              "      <td>0</td>\n",
              "      <td>1</td>\n",
              "      <td>1</td>\n",
              "      <td>2</td>\n",
              "      <td>1</td>\n",
              "      <td>3734</td>\n",
              "      <td>239</td>\n",
              "      <td>1</td>\n",
              "      <td>1</td>\n",
              "    </tr>\n",
              "    <tr>\n",
              "      <th>2</th>\n",
              "      <td>1</td>\n",
              "      <td>101</td>\n",
              "      <td>0</td>\n",
              "      <td>1</td>\n",
              "      <td>1</td>\n",
              "      <td>2</td>\n",
              "      <td>0</td>\n",
              "      <td>2429</td>\n",
              "      <td>198</td>\n",
              "      <td>2</td>\n",
              "      <td>1</td>\n",
              "    </tr>\n",
              "    <tr>\n",
              "      <th>3</th>\n",
              "      <td>0</td>\n",
              "      <td>70</td>\n",
              "      <td>0</td>\n",
              "      <td>0</td>\n",
              "      <td>1</td>\n",
              "      <td>2</td>\n",
              "      <td>1</td>\n",
              "      <td>3309</td>\n",
              "      <td>217</td>\n",
              "      <td>3</td>\n",
              "      <td>1</td>\n",
              "    </tr>\n",
              "    <tr>\n",
              "      <th>4</th>\n",
              "      <td>0</td>\n",
              "      <td>100</td>\n",
              "      <td>1</td>\n",
              "      <td>0</td>\n",
              "      <td>1</td>\n",
              "      <td>3</td>\n",
              "      <td>0</td>\n",
              "      <td>3318</td>\n",
              "      <td>113</td>\n",
              "      <td>2</td>\n",
              "      <td>1</td>\n",
              "    </tr>\n",
              "    <tr>\n",
              "      <th>5</th>\n",
              "      <td>1</td>\n",
              "      <td>102</td>\n",
              "      <td>0</td>\n",
              "      <td>0</td>\n",
              "      <td>1</td>\n",
              "      <td>2</td>\n",
              "      <td>1</td>\n",
              "      <td>3367</td>\n",
              "      <td>163</td>\n",
              "      <td>1</td>\n",
              "      <td>1</td>\n",
              "    </tr>\n",
              "    <tr>\n",
              "      <th>...</th>\n",
              "      <td>...</td>\n",
              "      <td>...</td>\n",
              "      <td>...</td>\n",
              "      <td>...</td>\n",
              "      <td>...</td>\n",
              "      <td>...</td>\n",
              "      <td>...</td>\n",
              "      <td>...</td>\n",
              "      <td>...</td>\n",
              "      <td>...</td>\n",
              "      <td>...</td>\n",
              "    </tr>\n",
              "    <tr>\n",
              "      <th>5104</th>\n",
              "      <td>0</td>\n",
              "      <td>34</td>\n",
              "      <td>0</td>\n",
              "      <td>0</td>\n",
              "      <td>0</td>\n",
              "      <td>4</td>\n",
              "      <td>0</td>\n",
              "      <td>2324</td>\n",
              "      <td>59</td>\n",
              "      <td>0</td>\n",
              "      <td>0</td>\n",
              "    </tr>\n",
              "    <tr>\n",
              "      <th>5106</th>\n",
              "      <td>0</td>\n",
              "      <td>102</td>\n",
              "      <td>0</td>\n",
              "      <td>0</td>\n",
              "      <td>1</td>\n",
              "      <td>3</td>\n",
              "      <td>1</td>\n",
              "      <td>2960</td>\n",
              "      <td>273</td>\n",
              "      <td>2</td>\n",
              "      <td>0</td>\n",
              "    </tr>\n",
              "    <tr>\n",
              "      <th>5107</th>\n",
              "      <td>0</td>\n",
              "      <td>56</td>\n",
              "      <td>0</td>\n",
              "      <td>0</td>\n",
              "      <td>1</td>\n",
              "      <td>3</td>\n",
              "      <td>0</td>\n",
              "      <td>1290</td>\n",
              "      <td>179</td>\n",
              "      <td>2</td>\n",
              "      <td>0</td>\n",
              "    </tr>\n",
              "    <tr>\n",
              "      <th>5108</th>\n",
              "      <td>1</td>\n",
              "      <td>72</td>\n",
              "      <td>0</td>\n",
              "      <td>0</td>\n",
              "      <td>1</td>\n",
              "      <td>2</td>\n",
              "      <td>0</td>\n",
              "      <td>3289</td>\n",
              "      <td>129</td>\n",
              "      <td>1</td>\n",
              "      <td>0</td>\n",
              "    </tr>\n",
              "    <tr>\n",
              "      <th>5109</th>\n",
              "      <td>0</td>\n",
              "      <td>65</td>\n",
              "      <td>0</td>\n",
              "      <td>0</td>\n",
              "      <td>1</td>\n",
              "      <td>0</td>\n",
              "      <td>1</td>\n",
              "      <td>1426</td>\n",
              "      <td>135</td>\n",
              "      <td>0</td>\n",
              "      <td>0</td>\n",
              "    </tr>\n",
              "  </tbody>\n",
              "</table>\n",
              "<p>4909 rows × 11 columns</p>\n",
              "</div>\n",
              "      <button class=\"colab-df-convert\" onclick=\"convertToInteractive('df-416f7d3f-a9e8-424a-b0fb-a17c500f6002')\"\n",
              "              title=\"Convert this dataframe to an interactive table.\"\n",
              "              style=\"display:none;\">\n",
              "        \n",
              "  <svg xmlns=\"http://www.w3.org/2000/svg\" height=\"24px\"viewBox=\"0 0 24 24\"\n",
              "       width=\"24px\">\n",
              "    <path d=\"M0 0h24v24H0V0z\" fill=\"none\"/>\n",
              "    <path d=\"M18.56 5.44l.94 2.06.94-2.06 2.06-.94-2.06-.94-.94-2.06-.94 2.06-2.06.94zm-11 1L8.5 8.5l.94-2.06 2.06-.94-2.06-.94L8.5 2.5l-.94 2.06-2.06.94zm10 10l.94 2.06.94-2.06 2.06-.94-2.06-.94-.94-2.06-.94 2.06-2.06.94z\"/><path d=\"M17.41 7.96l-1.37-1.37c-.4-.4-.92-.59-1.43-.59-.52 0-1.04.2-1.43.59L10.3 9.45l-7.72 7.72c-.78.78-.78 2.05 0 2.83L4 21.41c.39.39.9.59 1.41.59.51 0 1.02-.2 1.41-.59l7.78-7.78 2.81-2.81c.8-.78.8-2.07 0-2.86zM5.41 20L4 18.59l7.72-7.72 1.47 1.35L5.41 20z\"/>\n",
              "  </svg>\n",
              "      </button>\n",
              "      \n",
              "  <style>\n",
              "    .colab-df-container {\n",
              "      display:flex;\n",
              "      flex-wrap:wrap;\n",
              "      gap: 12px;\n",
              "    }\n",
              "\n",
              "    .colab-df-convert {\n",
              "      background-color: #E8F0FE;\n",
              "      border: none;\n",
              "      border-radius: 50%;\n",
              "      cursor: pointer;\n",
              "      display: none;\n",
              "      fill: #1967D2;\n",
              "      height: 32px;\n",
              "      padding: 0 0 0 0;\n",
              "      width: 32px;\n",
              "    }\n",
              "\n",
              "    .colab-df-convert:hover {\n",
              "      background-color: #E2EBFA;\n",
              "      box-shadow: 0px 1px 2px rgba(60, 64, 67, 0.3), 0px 1px 3px 1px rgba(60, 64, 67, 0.15);\n",
              "      fill: #174EA6;\n",
              "    }\n",
              "\n",
              "    [theme=dark] .colab-df-convert {\n",
              "      background-color: #3B4455;\n",
              "      fill: #D2E3FC;\n",
              "    }\n",
              "\n",
              "    [theme=dark] .colab-df-convert:hover {\n",
              "      background-color: #434B5C;\n",
              "      box-shadow: 0px 1px 3px 1px rgba(0, 0, 0, 0.15);\n",
              "      filter: drop-shadow(0px 1px 2px rgba(0, 0, 0, 0.3));\n",
              "      fill: #FFFFFF;\n",
              "    }\n",
              "  </style>\n",
              "\n",
              "      <script>\n",
              "        const buttonEl =\n",
              "          document.querySelector('#df-416f7d3f-a9e8-424a-b0fb-a17c500f6002 button.colab-df-convert');\n",
              "        buttonEl.style.display =\n",
              "          google.colab.kernel.accessAllowed ? 'block' : 'none';\n",
              "\n",
              "        async function convertToInteractive(key) {\n",
              "          const element = document.querySelector('#df-416f7d3f-a9e8-424a-b0fb-a17c500f6002');\n",
              "          const dataTable =\n",
              "            await google.colab.kernel.invokeFunction('convertToInteractive',\n",
              "                                                     [key], {});\n",
              "          if (!dataTable) return;\n",
              "\n",
              "          const docLinkHtml = 'Like what you see? Visit the ' +\n",
              "            '<a target=\"_blank\" href=https://colab.research.google.com/notebooks/data_table.ipynb>data table notebook</a>'\n",
              "            + ' to learn more about interactive tables.';\n",
              "          element.innerHTML = '';\n",
              "          dataTable['output_type'] = 'display_data';\n",
              "          await google.colab.output.renderOutput(dataTable, element);\n",
              "          const docLink = document.createElement('div');\n",
              "          docLink.innerHTML = docLinkHtml;\n",
              "          element.appendChild(docLink);\n",
              "        }\n",
              "      </script>\n",
              "    </div>\n",
              "  </div>\n",
              "  "
            ]
          },
          "metadata": {},
          "execution_count": 95
        }
      ]
    },
    {
      "cell_type": "code",
      "source": [
        "x=stroke.drop('stroke' ,axis=1).values\n",
        "y=stroke['stroke'].values"
      ],
      "metadata": {
        "id": "4r41LGZjGHsV"
      },
      "execution_count": null,
      "outputs": []
    },
    {
      "cell_type": "code",
      "source": [
        "from sklearn.model_selection import train_test_split\n",
        "x_train , x_test , y_train , y_test = train_test_split(x,y , test_size=0.2 , random_state=0)"
      ],
      "metadata": {
        "id": "adQsUY-aFZJV"
      },
      "execution_count": null,
      "outputs": []
    },
    {
      "cell_type": "markdown",
      "source": [
        "**LogesticRegration Model**"
      ],
      "metadata": {
        "id": "XZ2VzNufrywB"
      }
    },
    {
      "cell_type": "code",
      "source": [
        "from sklearn.linear_model import LogisticRegression\n",
        "lo= LogisticRegression(random_state=0)\n",
        "lo.fit(x_train, y_train)\n",
        "y_predict = lo.predict(x_test)\n",
        "from sklearn.metrics import classification_report\n",
        "print(classification_report(y_test , y_predict))\n",
        "pd.crosstab(y_test , y_predict)"
      ],
      "metadata": {
        "id": "fo5WMCupNiJJ",
        "colab": {
          "base_uri": "https://localhost:8080/"
        },
        "outputId": "852313b0-34f8-45d0-aef1-8d3d14fde3a0"
      },
      "execution_count": null,
      "outputs": [
        {
          "output_type": "stream",
          "name": "stdout",
          "text": [
            "              precision    recall  f1-score   support\n",
            "\n",
            "           0       0.96      1.00      0.98       939\n",
            "           1       0.20      0.02      0.04        43\n",
            "\n",
            "    accuracy                           0.95       982\n",
            "   macro avg       0.58      0.51      0.51       982\n",
            "weighted avg       0.92      0.95      0.94       982\n",
            "\n"
          ]
        },
        {
          "output_type": "stream",
          "name": "stderr",
          "text": [
            "/usr/local/lib/python3.8/dist-packages/sklearn/linear_model/_logistic.py:814: ConvergenceWarning: lbfgs failed to converge (status=1):\n",
            "STOP: TOTAL NO. of ITERATIONS REACHED LIMIT.\n",
            "\n",
            "Increase the number of iterations (max_iter) or scale the data as shown in:\n",
            "    https://scikit-learn.org/stable/modules/preprocessing.html\n",
            "Please also refer to the documentation for alternative solver options:\n",
            "    https://scikit-learn.org/stable/modules/linear_model.html#logistic-regression\n",
            "  n_iter_i = _check_optimize_result(\n"
          ]
        },
        {
          "output_type": "execute_result",
          "data": {
            "text/plain": [
              "col_0    0  1\n",
              "row_0        \n",
              "0      935  4\n",
              "1       42  1"
            ],
            "text/html": [
              "\n",
              "  <div id=\"df-d180e0bb-34de-4610-bbb8-5d85e396dc7f\">\n",
              "    <div class=\"colab-df-container\">\n",
              "      <div>\n",
              "<style scoped>\n",
              "    .dataframe tbody tr th:only-of-type {\n",
              "        vertical-align: middle;\n",
              "    }\n",
              "\n",
              "    .dataframe tbody tr th {\n",
              "        vertical-align: top;\n",
              "    }\n",
              "\n",
              "    .dataframe thead th {\n",
              "        text-align: right;\n",
              "    }\n",
              "</style>\n",
              "<table border=\"1\" class=\"dataframe\">\n",
              "  <thead>\n",
              "    <tr style=\"text-align: right;\">\n",
              "      <th>col_0</th>\n",
              "      <th>0</th>\n",
              "      <th>1</th>\n",
              "    </tr>\n",
              "    <tr>\n",
              "      <th>row_0</th>\n",
              "      <th></th>\n",
              "      <th></th>\n",
              "    </tr>\n",
              "  </thead>\n",
              "  <tbody>\n",
              "    <tr>\n",
              "      <th>0</th>\n",
              "      <td>935</td>\n",
              "      <td>4</td>\n",
              "    </tr>\n",
              "    <tr>\n",
              "      <th>1</th>\n",
              "      <td>42</td>\n",
              "      <td>1</td>\n",
              "    </tr>\n",
              "  </tbody>\n",
              "</table>\n",
              "</div>\n",
              "      <button class=\"colab-df-convert\" onclick=\"convertToInteractive('df-d180e0bb-34de-4610-bbb8-5d85e396dc7f')\"\n",
              "              title=\"Convert this dataframe to an interactive table.\"\n",
              "              style=\"display:none;\">\n",
              "        \n",
              "  <svg xmlns=\"http://www.w3.org/2000/svg\" height=\"24px\"viewBox=\"0 0 24 24\"\n",
              "       width=\"24px\">\n",
              "    <path d=\"M0 0h24v24H0V0z\" fill=\"none\"/>\n",
              "    <path d=\"M18.56 5.44l.94 2.06.94-2.06 2.06-.94-2.06-.94-.94-2.06-.94 2.06-2.06.94zm-11 1L8.5 8.5l.94-2.06 2.06-.94-2.06-.94L8.5 2.5l-.94 2.06-2.06.94zm10 10l.94 2.06.94-2.06 2.06-.94-2.06-.94-.94-2.06-.94 2.06-2.06.94z\"/><path d=\"M17.41 7.96l-1.37-1.37c-.4-.4-.92-.59-1.43-.59-.52 0-1.04.2-1.43.59L10.3 9.45l-7.72 7.72c-.78.78-.78 2.05 0 2.83L4 21.41c.39.39.9.59 1.41.59.51 0 1.02-.2 1.41-.59l7.78-7.78 2.81-2.81c.8-.78.8-2.07 0-2.86zM5.41 20L4 18.59l7.72-7.72 1.47 1.35L5.41 20z\"/>\n",
              "  </svg>\n",
              "      </button>\n",
              "      \n",
              "  <style>\n",
              "    .colab-df-container {\n",
              "      display:flex;\n",
              "      flex-wrap:wrap;\n",
              "      gap: 12px;\n",
              "    }\n",
              "\n",
              "    .colab-df-convert {\n",
              "      background-color: #E8F0FE;\n",
              "      border: none;\n",
              "      border-radius: 50%;\n",
              "      cursor: pointer;\n",
              "      display: none;\n",
              "      fill: #1967D2;\n",
              "      height: 32px;\n",
              "      padding: 0 0 0 0;\n",
              "      width: 32px;\n",
              "    }\n",
              "\n",
              "    .colab-df-convert:hover {\n",
              "      background-color: #E2EBFA;\n",
              "      box-shadow: 0px 1px 2px rgba(60, 64, 67, 0.3), 0px 1px 3px 1px rgba(60, 64, 67, 0.15);\n",
              "      fill: #174EA6;\n",
              "    }\n",
              "\n",
              "    [theme=dark] .colab-df-convert {\n",
              "      background-color: #3B4455;\n",
              "      fill: #D2E3FC;\n",
              "    }\n",
              "\n",
              "    [theme=dark] .colab-df-convert:hover {\n",
              "      background-color: #434B5C;\n",
              "      box-shadow: 0px 1px 3px 1px rgba(0, 0, 0, 0.15);\n",
              "      filter: drop-shadow(0px 1px 2px rgba(0, 0, 0, 0.3));\n",
              "      fill: #FFFFFF;\n",
              "    }\n",
              "  </style>\n",
              "\n",
              "      <script>\n",
              "        const buttonEl =\n",
              "          document.querySelector('#df-d180e0bb-34de-4610-bbb8-5d85e396dc7f button.colab-df-convert');\n",
              "        buttonEl.style.display =\n",
              "          google.colab.kernel.accessAllowed ? 'block' : 'none';\n",
              "\n",
              "        async function convertToInteractive(key) {\n",
              "          const element = document.querySelector('#df-d180e0bb-34de-4610-bbb8-5d85e396dc7f');\n",
              "          const dataTable =\n",
              "            await google.colab.kernel.invokeFunction('convertToInteractive',\n",
              "                                                     [key], {});\n",
              "          if (!dataTable) return;\n",
              "\n",
              "          const docLinkHtml = 'Like what you see? Visit the ' +\n",
              "            '<a target=\"_blank\" href=https://colab.research.google.com/notebooks/data_table.ipynb>data table notebook</a>'\n",
              "            + ' to learn more about interactive tables.';\n",
              "          element.innerHTML = '';\n",
              "          dataTable['output_type'] = 'display_data';\n",
              "          await google.colab.output.renderOutput(dataTable, element);\n",
              "          const docLink = document.createElement('div');\n",
              "          docLink.innerHTML = docLinkHtml;\n",
              "          element.appendChild(docLink);\n",
              "        }\n",
              "      </script>\n",
              "    </div>\n",
              "  </div>\n",
              "  "
            ]
          },
          "metadata": {},
          "execution_count": 98
        }
      ]
    },
    {
      "cell_type": "code",
      "source": [
        "from sklearn.metrics import accuracy_score\n",
        "a=accuracy_score(y_test, y_predict)\n",
        "a"
      ],
      "metadata": {
        "colab": {
          "base_uri": "https://localhost:8080/"
        },
        "id": "lH9awf6DxSel",
        "outputId": "72981bea-d0d1-4588-d48d-c0bbb1ed1280"
      },
      "execution_count": null,
      "outputs": [
        {
          "output_type": "execute_result",
          "data": {
            "text/plain": [
              "0.9531568228105907"
            ]
          },
          "metadata": {},
          "execution_count": 99
        }
      ]
    },
    {
      "cell_type": "code",
      "source": [
        " # ( True Positive , False Negative , True Negative , False Positive )\n",
        " perf_measure(y_test, y_predict)"
      ],
      "metadata": {
        "colab": {
          "base_uri": "https://localhost:8080/"
        },
        "id": "Nsx_hytuMwXl",
        "outputId": "b2ccf032-c010-467f-81c8-85f164769df0"
      },
      "execution_count": null,
      "outputs": [
        {
          "output_type": "execute_result",
          "data": {
            "text/plain": [
              "(1, 4, 935, 42)"
            ]
          },
          "metadata": {},
          "execution_count": 100
        }
      ]
    },
    {
      "cell_type": "code",
      "source": [
        "# true positive\n",
        "a1 = truepositive(y_test, y_predict)\n",
        "a1"
      ],
      "metadata": {
        "colab": {
          "base_uri": "https://localhost:8080/"
        },
        "id": "EUTUr5YWTqL0",
        "outputId": "343202c0-50b6-4dca-a477-9049545c2e79"
      },
      "execution_count": null,
      "outputs": [
        {
          "output_type": "execute_result",
          "data": {
            "text/plain": [
              "1"
            ]
          },
          "metadata": {},
          "execution_count": 101
        }
      ]
    },
    {
      "cell_type": "markdown",
      "source": [
        "**K_nearestneighbors**"
      ],
      "metadata": {
        "id": "IHNuODAWxWQC"
      }
    },
    {
      "cell_type": "code",
      "source": [
        "from sklearn.neighbors import KNeighborsClassifier\n",
        "classifier= KNeighborsClassifier(n_neighbors = 5 , metric= 'minkowski' , p=2)\n",
        "classifier.fit(x_train, y_train)\n",
        "y_predict = classifier.predict(x_test)\n",
        "from sklearn.metrics import classification_report\n",
        "print(classification_report(y_test , y_predict))\n",
        "pd.crosstab(y_test , y_predict)"
      ],
      "metadata": {
        "colab": {
          "base_uri": "https://localhost:8080/"
        },
        "id": "aD01Jx1EwCsG",
        "outputId": "2243c382-0268-4b89-cfb0-63e7b8e43512"
      },
      "execution_count": null,
      "outputs": [
        {
          "output_type": "stream",
          "name": "stdout",
          "text": [
            "              precision    recall  f1-score   support\n",
            "\n",
            "           0       0.96      1.00      0.98       939\n",
            "           1       0.00      0.00      0.00        43\n",
            "\n",
            "    accuracy                           0.95       982\n",
            "   macro avg       0.48      0.50      0.49       982\n",
            "weighted avg       0.91      0.95      0.93       982\n",
            "\n"
          ]
        },
        {
          "output_type": "execute_result",
          "data": {
            "text/plain": [
              "col_0    0  1\n",
              "row_0        \n",
              "0      935  4\n",
              "1       43  0"
            ],
            "text/html": [
              "\n",
              "  <div id=\"df-e540a3bf-97d4-4daf-9505-7c5fd6fef8a4\">\n",
              "    <div class=\"colab-df-container\">\n",
              "      <div>\n",
              "<style scoped>\n",
              "    .dataframe tbody tr th:only-of-type {\n",
              "        vertical-align: middle;\n",
              "    }\n",
              "\n",
              "    .dataframe tbody tr th {\n",
              "        vertical-align: top;\n",
              "    }\n",
              "\n",
              "    .dataframe thead th {\n",
              "        text-align: right;\n",
              "    }\n",
              "</style>\n",
              "<table border=\"1\" class=\"dataframe\">\n",
              "  <thead>\n",
              "    <tr style=\"text-align: right;\">\n",
              "      <th>col_0</th>\n",
              "      <th>0</th>\n",
              "      <th>1</th>\n",
              "    </tr>\n",
              "    <tr>\n",
              "      <th>row_0</th>\n",
              "      <th></th>\n",
              "      <th></th>\n",
              "    </tr>\n",
              "  </thead>\n",
              "  <tbody>\n",
              "    <tr>\n",
              "      <th>0</th>\n",
              "      <td>935</td>\n",
              "      <td>4</td>\n",
              "    </tr>\n",
              "    <tr>\n",
              "      <th>1</th>\n",
              "      <td>43</td>\n",
              "      <td>0</td>\n",
              "    </tr>\n",
              "  </tbody>\n",
              "</table>\n",
              "</div>\n",
              "      <button class=\"colab-df-convert\" onclick=\"convertToInteractive('df-e540a3bf-97d4-4daf-9505-7c5fd6fef8a4')\"\n",
              "              title=\"Convert this dataframe to an interactive table.\"\n",
              "              style=\"display:none;\">\n",
              "        \n",
              "  <svg xmlns=\"http://www.w3.org/2000/svg\" height=\"24px\"viewBox=\"0 0 24 24\"\n",
              "       width=\"24px\">\n",
              "    <path d=\"M0 0h24v24H0V0z\" fill=\"none\"/>\n",
              "    <path d=\"M18.56 5.44l.94 2.06.94-2.06 2.06-.94-2.06-.94-.94-2.06-.94 2.06-2.06.94zm-11 1L8.5 8.5l.94-2.06 2.06-.94-2.06-.94L8.5 2.5l-.94 2.06-2.06.94zm10 10l.94 2.06.94-2.06 2.06-.94-2.06-.94-.94-2.06-.94 2.06-2.06.94z\"/><path d=\"M17.41 7.96l-1.37-1.37c-.4-.4-.92-.59-1.43-.59-.52 0-1.04.2-1.43.59L10.3 9.45l-7.72 7.72c-.78.78-.78 2.05 0 2.83L4 21.41c.39.39.9.59 1.41.59.51 0 1.02-.2 1.41-.59l7.78-7.78 2.81-2.81c.8-.78.8-2.07 0-2.86zM5.41 20L4 18.59l7.72-7.72 1.47 1.35L5.41 20z\"/>\n",
              "  </svg>\n",
              "      </button>\n",
              "      \n",
              "  <style>\n",
              "    .colab-df-container {\n",
              "      display:flex;\n",
              "      flex-wrap:wrap;\n",
              "      gap: 12px;\n",
              "    }\n",
              "\n",
              "    .colab-df-convert {\n",
              "      background-color: #E8F0FE;\n",
              "      border: none;\n",
              "      border-radius: 50%;\n",
              "      cursor: pointer;\n",
              "      display: none;\n",
              "      fill: #1967D2;\n",
              "      height: 32px;\n",
              "      padding: 0 0 0 0;\n",
              "      width: 32px;\n",
              "    }\n",
              "\n",
              "    .colab-df-convert:hover {\n",
              "      background-color: #E2EBFA;\n",
              "      box-shadow: 0px 1px 2px rgba(60, 64, 67, 0.3), 0px 1px 3px 1px rgba(60, 64, 67, 0.15);\n",
              "      fill: #174EA6;\n",
              "    }\n",
              "\n",
              "    [theme=dark] .colab-df-convert {\n",
              "      background-color: #3B4455;\n",
              "      fill: #D2E3FC;\n",
              "    }\n",
              "\n",
              "    [theme=dark] .colab-df-convert:hover {\n",
              "      background-color: #434B5C;\n",
              "      box-shadow: 0px 1px 3px 1px rgba(0, 0, 0, 0.15);\n",
              "      filter: drop-shadow(0px 1px 2px rgba(0, 0, 0, 0.3));\n",
              "      fill: #FFFFFF;\n",
              "    }\n",
              "  </style>\n",
              "\n",
              "      <script>\n",
              "        const buttonEl =\n",
              "          document.querySelector('#df-e540a3bf-97d4-4daf-9505-7c5fd6fef8a4 button.colab-df-convert');\n",
              "        buttonEl.style.display =\n",
              "          google.colab.kernel.accessAllowed ? 'block' : 'none';\n",
              "\n",
              "        async function convertToInteractive(key) {\n",
              "          const element = document.querySelector('#df-e540a3bf-97d4-4daf-9505-7c5fd6fef8a4');\n",
              "          const dataTable =\n",
              "            await google.colab.kernel.invokeFunction('convertToInteractive',\n",
              "                                                     [key], {});\n",
              "          if (!dataTable) return;\n",
              "\n",
              "          const docLinkHtml = 'Like what you see? Visit the ' +\n",
              "            '<a target=\"_blank\" href=https://colab.research.google.com/notebooks/data_table.ipynb>data table notebook</a>'\n",
              "            + ' to learn more about interactive tables.';\n",
              "          element.innerHTML = '';\n",
              "          dataTable['output_type'] = 'display_data';\n",
              "          await google.colab.output.renderOutput(dataTable, element);\n",
              "          const docLink = document.createElement('div');\n",
              "          docLink.innerHTML = docLinkHtml;\n",
              "          element.appendChild(docLink);\n",
              "        }\n",
              "      </script>\n",
              "    </div>\n",
              "  </div>\n",
              "  "
            ]
          },
          "metadata": {},
          "execution_count": 102
        }
      ]
    },
    {
      "cell_type": "code",
      "source": [
        "from sklearn.metrics import accuracy_score\n",
        "b=accuracy_score(y_test, y_predict)\n",
        "b"
      ],
      "metadata": {
        "colab": {
          "base_uri": "https://localhost:8080/"
        },
        "id": "sYIN_JcPxojY",
        "outputId": "ef94fcfe-313d-4fab-b711-ef4fb8f447f1"
      },
      "execution_count": null,
      "outputs": [
        {
          "output_type": "execute_result",
          "data": {
            "text/plain": [
              "0.9521384928716904"
            ]
          },
          "metadata": {},
          "execution_count": 103
        }
      ]
    },
    {
      "cell_type": "code",
      "source": [
        " perf_measure(y_test, y_predict)"
      ],
      "metadata": {
        "colab": {
          "base_uri": "https://localhost:8080/"
        },
        "outputId": "96b5df80-999d-4691-b290-6da15309d7fa",
        "id": "t1HMFOG6QvQo"
      },
      "execution_count": null,
      "outputs": [
        {
          "output_type": "execute_result",
          "data": {
            "text/plain": [
              "(0, 4, 935, 43)"
            ]
          },
          "metadata": {},
          "execution_count": 104
        }
      ]
    },
    {
      "cell_type": "code",
      "source": [
        "b1 = truepositive(y_test, y_predict)\n",
        "b1"
      ],
      "metadata": {
        "colab": {
          "base_uri": "https://localhost:8080/"
        },
        "id": "k2zOi0EgQukO",
        "outputId": "f6731562-8db9-492d-bb13-30637ad5ca62"
      },
      "execution_count": null,
      "outputs": [
        {
          "output_type": "execute_result",
          "data": {
            "text/plain": [
              "0"
            ]
          },
          "metadata": {},
          "execution_count": 105
        }
      ]
    },
    {
      "cell_type": "markdown",
      "source": [
        "**Decision Trees and random forest**"
      ],
      "metadata": {
        "id": "lZRRCFiJxzYa"
      }
    },
    {
      "cell_type": "code",
      "source": [
        "from sklearn.ensemble import RandomForestClassifier\n",
        "random = RandomForestClassifier(n_estimators=100 , criterion='entropy')\n",
        "random.fit(x_train, y_train)\n",
        "y_predict= random.predict(x_test)\n",
        "from sklearn.metrics import classification_report\n",
        "print(classification_report(y_test , y_predict))\n",
        "pd.crosstab(y_test , y_predict)"
      ],
      "metadata": {
        "colab": {
          "base_uri": "https://localhost:8080/"
        },
        "id": "AbD0Cuk4xwJU",
        "outputId": "5249d4f8-5568-4313-864c-8ef102252547"
      },
      "execution_count": null,
      "outputs": [
        {
          "output_type": "stream",
          "name": "stdout",
          "text": [
            "              precision    recall  f1-score   support\n",
            "\n",
            "           0       0.96      1.00      0.98       939\n",
            "           1       0.00      0.00      0.00        43\n",
            "\n",
            "    accuracy                           0.96       982\n",
            "   macro avg       0.48      0.50      0.49       982\n",
            "weighted avg       0.91      0.96      0.93       982\n",
            "\n"
          ]
        },
        {
          "output_type": "stream",
          "name": "stderr",
          "text": [
            "/usr/local/lib/python3.8/dist-packages/sklearn/metrics/_classification.py:1318: UndefinedMetricWarning: Precision and F-score are ill-defined and being set to 0.0 in labels with no predicted samples. Use `zero_division` parameter to control this behavior.\n",
            "  _warn_prf(average, modifier, msg_start, len(result))\n",
            "/usr/local/lib/python3.8/dist-packages/sklearn/metrics/_classification.py:1318: UndefinedMetricWarning: Precision and F-score are ill-defined and being set to 0.0 in labels with no predicted samples. Use `zero_division` parameter to control this behavior.\n",
            "  _warn_prf(average, modifier, msg_start, len(result))\n",
            "/usr/local/lib/python3.8/dist-packages/sklearn/metrics/_classification.py:1318: UndefinedMetricWarning: Precision and F-score are ill-defined and being set to 0.0 in labels with no predicted samples. Use `zero_division` parameter to control this behavior.\n",
            "  _warn_prf(average, modifier, msg_start, len(result))\n"
          ]
        },
        {
          "output_type": "execute_result",
          "data": {
            "text/plain": [
              "col_0    0\n",
              "row_0     \n",
              "0      939\n",
              "1       43"
            ],
            "text/html": [
              "\n",
              "  <div id=\"df-fad90f0b-6b8a-4b83-8d86-ac174be8ab09\">\n",
              "    <div class=\"colab-df-container\">\n",
              "      <div>\n",
              "<style scoped>\n",
              "    .dataframe tbody tr th:only-of-type {\n",
              "        vertical-align: middle;\n",
              "    }\n",
              "\n",
              "    .dataframe tbody tr th {\n",
              "        vertical-align: top;\n",
              "    }\n",
              "\n",
              "    .dataframe thead th {\n",
              "        text-align: right;\n",
              "    }\n",
              "</style>\n",
              "<table border=\"1\" class=\"dataframe\">\n",
              "  <thead>\n",
              "    <tr style=\"text-align: right;\">\n",
              "      <th>col_0</th>\n",
              "      <th>0</th>\n",
              "    </tr>\n",
              "    <tr>\n",
              "      <th>row_0</th>\n",
              "      <th></th>\n",
              "    </tr>\n",
              "  </thead>\n",
              "  <tbody>\n",
              "    <tr>\n",
              "      <th>0</th>\n",
              "      <td>939</td>\n",
              "    </tr>\n",
              "    <tr>\n",
              "      <th>1</th>\n",
              "      <td>43</td>\n",
              "    </tr>\n",
              "  </tbody>\n",
              "</table>\n",
              "</div>\n",
              "      <button class=\"colab-df-convert\" onclick=\"convertToInteractive('df-fad90f0b-6b8a-4b83-8d86-ac174be8ab09')\"\n",
              "              title=\"Convert this dataframe to an interactive table.\"\n",
              "              style=\"display:none;\">\n",
              "        \n",
              "  <svg xmlns=\"http://www.w3.org/2000/svg\" height=\"24px\"viewBox=\"0 0 24 24\"\n",
              "       width=\"24px\">\n",
              "    <path d=\"M0 0h24v24H0V0z\" fill=\"none\"/>\n",
              "    <path d=\"M18.56 5.44l.94 2.06.94-2.06 2.06-.94-2.06-.94-.94-2.06-.94 2.06-2.06.94zm-11 1L8.5 8.5l.94-2.06 2.06-.94-2.06-.94L8.5 2.5l-.94 2.06-2.06.94zm10 10l.94 2.06.94-2.06 2.06-.94-2.06-.94-.94-2.06-.94 2.06-2.06.94z\"/><path d=\"M17.41 7.96l-1.37-1.37c-.4-.4-.92-.59-1.43-.59-.52 0-1.04.2-1.43.59L10.3 9.45l-7.72 7.72c-.78.78-.78 2.05 0 2.83L4 21.41c.39.39.9.59 1.41.59.51 0 1.02-.2 1.41-.59l7.78-7.78 2.81-2.81c.8-.78.8-2.07 0-2.86zM5.41 20L4 18.59l7.72-7.72 1.47 1.35L5.41 20z\"/>\n",
              "  </svg>\n",
              "      </button>\n",
              "      \n",
              "  <style>\n",
              "    .colab-df-container {\n",
              "      display:flex;\n",
              "      flex-wrap:wrap;\n",
              "      gap: 12px;\n",
              "    }\n",
              "\n",
              "    .colab-df-convert {\n",
              "      background-color: #E8F0FE;\n",
              "      border: none;\n",
              "      border-radius: 50%;\n",
              "      cursor: pointer;\n",
              "      display: none;\n",
              "      fill: #1967D2;\n",
              "      height: 32px;\n",
              "      padding: 0 0 0 0;\n",
              "      width: 32px;\n",
              "    }\n",
              "\n",
              "    .colab-df-convert:hover {\n",
              "      background-color: #E2EBFA;\n",
              "      box-shadow: 0px 1px 2px rgba(60, 64, 67, 0.3), 0px 1px 3px 1px rgba(60, 64, 67, 0.15);\n",
              "      fill: #174EA6;\n",
              "    }\n",
              "\n",
              "    [theme=dark] .colab-df-convert {\n",
              "      background-color: #3B4455;\n",
              "      fill: #D2E3FC;\n",
              "    }\n",
              "\n",
              "    [theme=dark] .colab-df-convert:hover {\n",
              "      background-color: #434B5C;\n",
              "      box-shadow: 0px 1px 3px 1px rgba(0, 0, 0, 0.15);\n",
              "      filter: drop-shadow(0px 1px 2px rgba(0, 0, 0, 0.3));\n",
              "      fill: #FFFFFF;\n",
              "    }\n",
              "  </style>\n",
              "\n",
              "      <script>\n",
              "        const buttonEl =\n",
              "          document.querySelector('#df-fad90f0b-6b8a-4b83-8d86-ac174be8ab09 button.colab-df-convert');\n",
              "        buttonEl.style.display =\n",
              "          google.colab.kernel.accessAllowed ? 'block' : 'none';\n",
              "\n",
              "        async function convertToInteractive(key) {\n",
              "          const element = document.querySelector('#df-fad90f0b-6b8a-4b83-8d86-ac174be8ab09');\n",
              "          const dataTable =\n",
              "            await google.colab.kernel.invokeFunction('convertToInteractive',\n",
              "                                                     [key], {});\n",
              "          if (!dataTable) return;\n",
              "\n",
              "          const docLinkHtml = 'Like what you see? Visit the ' +\n",
              "            '<a target=\"_blank\" href=https://colab.research.google.com/notebooks/data_table.ipynb>data table notebook</a>'\n",
              "            + ' to learn more about interactive tables.';\n",
              "          element.innerHTML = '';\n",
              "          dataTable['output_type'] = 'display_data';\n",
              "          await google.colab.output.renderOutput(dataTable, element);\n",
              "          const docLink = document.createElement('div');\n",
              "          docLink.innerHTML = docLinkHtml;\n",
              "          element.appendChild(docLink);\n",
              "        }\n",
              "      </script>\n",
              "    </div>\n",
              "  </div>\n",
              "  "
            ]
          },
          "metadata": {},
          "execution_count": 106
        }
      ]
    },
    {
      "cell_type": "code",
      "source": [
        "from sklearn.metrics import accuracy_score\n",
        "c=accuracy_score(y_test, y_predict)\n",
        "c"
      ],
      "metadata": {
        "colab": {
          "base_uri": "https://localhost:8080/"
        },
        "id": "SKx2eRuKyNQo",
        "outputId": "2d12916f-4ffa-4de6-a5b9-08be99740fc6"
      },
      "execution_count": null,
      "outputs": [
        {
          "output_type": "execute_result",
          "data": {
            "text/plain": [
              "0.9562118126272913"
            ]
          },
          "metadata": {},
          "execution_count": 107
        }
      ]
    },
    {
      "cell_type": "code",
      "source": [
        " perf_measure(y_test, y_predict)"
      ],
      "metadata": {
        "colab": {
          "base_uri": "https://localhost:8080/"
        },
        "outputId": "03ad8fed-9a2c-4a6b-a842-bfffdf78f174",
        "id": "J7np71YlUdev"
      },
      "execution_count": null,
      "outputs": [
        {
          "output_type": "execute_result",
          "data": {
            "text/plain": [
              "(0, 0, 939, 43)"
            ]
          },
          "metadata": {},
          "execution_count": 108
        }
      ]
    },
    {
      "cell_type": "code",
      "source": [
        "c1 = truepositive(y_test, y_predict)\n",
        "c1"
      ],
      "metadata": {
        "colab": {
          "base_uri": "https://localhost:8080/"
        },
        "outputId": "ce7a7d09-bcb9-4e9d-88e6-42260b77bbfc",
        "id": "VHhuoAewUhlN"
      },
      "execution_count": null,
      "outputs": [
        {
          "output_type": "execute_result",
          "data": {
            "text/plain": [
              "0"
            ]
          },
          "metadata": {},
          "execution_count": 109
        }
      ]
    },
    {
      "cell_type": "markdown",
      "source": [
        "**Naive bayes classification**"
      ],
      "metadata": {
        "id": "gukU5M2GyvHR"
      }
    },
    {
      "cell_type": "code",
      "source": [
        "from sklearn.naive_bayes import MultinomialNB\n",
        "classifier=MultinomialNB()\n",
        "classifier.fit(x_train, y_train)\n",
        "y_predict=classifier.predict(x_test)\n",
        "from sklearn.metrics import classification_report ,confusion_matrix\n",
        "cm=confusion_matrix(y_test , y_predict)\n",
        "sns.heatmap(cm, annot=True )"
      ],
      "metadata": {
        "colab": {
          "base_uri": "https://localhost:8080/"
        },
        "id": "yKc3ozAzyWi2",
        "outputId": "e790d5e5-6cf2-4b91-c4c5-d5ddd2e9257c"
      },
      "execution_count": null,
      "outputs": [
        {
          "output_type": "execute_result",
          "data": {
            "text/plain": [
              "<matplotlib.axes._subplots.AxesSubplot at 0x7f40101d9d60>"
            ]
          },
          "metadata": {},
          "execution_count": 110
        },
        {
          "output_type": "display_data",
          "data": {
            "text/plain": [
              "<Figure size 432x288 with 2 Axes>"
            ],
            "image/png": "[encoded data removed]"
          },
          "metadata": {
            "needs_background": "light"
          }
        }
      ]
    },
    {
      "cell_type": "code",
      "source": [
        "from sklearn.metrics import classification_report\n",
        "print(classification_report(y_test , y_predict))\n",
        "pd.crosstab(y_test , y_predict)"
      ],
      "metadata": {
        "colab": {
          "base_uri": "https://localhost:8080/"
        },
        "id": "310ZYG1e4u0U",
        "outputId": "9724ee76-341c-465e-de12-810cb99eae4a"
      },
      "execution_count": null,
      "outputs": [
        {
          "output_type": "stream",
          "name": "stdout",
          "text": [
            "              precision    recall  f1-score   support\n",
            "\n",
            "           0       0.96      0.62      0.76       939\n",
            "           1       0.06      0.49      0.10        43\n",
            "\n",
            "    accuracy                           0.62       982\n",
            "   macro avg       0.51      0.56      0.43       982\n",
            "weighted avg       0.92      0.62      0.73       982\n",
            "\n"
          ]
        },
        {
          "output_type": "execute_result",
          "data": {
            "text/plain": [
              "col_0    0    1\n",
              "row_0          \n",
              "0      586  353\n",
              "1       22   21"
            ],
            "text/html": [
              "\n",
              "  <div id=\"df-e2cfbbb7-5e12-485f-8ef0-08a6bd2db886\">\n",
              "    <div class=\"colab-df-container\">\n",
              "      <div>\n",
              "<style scoped>\n",
              "    .dataframe tbody tr th:only-of-type {\n",
              "        vertical-align: middle;\n",
              "    }\n",
              "\n",
              "    .dataframe tbody tr th {\n",
              "        vertical-align: top;\n",
              "    }\n",
              "\n",
              "    .dataframe thead th {\n",
              "        text-align: right;\n",
              "    }\n",
              "</style>\n",
              "<table border=\"1\" class=\"dataframe\">\n",
              "  <thead>\n",
              "    <tr style=\"text-align: right;\">\n",
              "      <th>col_0</th>\n",
              "      <th>0</th>\n",
              "      <th>1</th>\n",
              "    </tr>\n",
              "    <tr>\n",
              "      <th>row_0</th>\n",
              "      <th></th>\n",
              "      <th></th>\n",
              "    </tr>\n",
              "  </thead>\n",
              "  <tbody>\n",
              "    <tr>\n",
              "      <th>0</th>\n",
              "      <td>586</td>\n",
              "      <td>353</td>\n",
              "    </tr>\n",
              "    <tr>\n",
              "      <th>1</th>\n",
              "      <td>22</td>\n",
              "      <td>21</td>\n",
              "    </tr>\n",
              "  </tbody>\n",
              "</table>\n",
              "</div>\n",
              "      <button class=\"colab-df-convert\" onclick=\"convertToInteractive('df-e2cfbbb7-5e12-485f-8ef0-08a6bd2db886')\"\n",
              "              title=\"Convert this dataframe to an interactive table.\"\n",
              "              style=\"display:none;\">\n",
              "        \n",
              "  <svg xmlns=\"http://www.w3.org/2000/svg\" height=\"24px\"viewBox=\"0 0 24 24\"\n",
              "       width=\"24px\">\n",
              "    <path d=\"M0 0h24v24H0V0z\" fill=\"none\"/>\n",
              "    <path d=\"M18.56 5.44l.94 2.06.94-2.06 2.06-.94-2.06-.94-.94-2.06-.94 2.06-2.06.94zm-11 1L8.5 8.5l.94-2.06 2.06-.94-2.06-.94L8.5 2.5l-.94 2.06-2.06.94zm10 10l.94 2.06.94-2.06 2.06-.94-2.06-.94-.94-2.06-.94 2.06-2.06.94z\"/><path d=\"M17.41 7.96l-1.37-1.37c-.4-.4-.92-.59-1.43-.59-.52 0-1.04.2-1.43.59L10.3 9.45l-7.72 7.72c-.78.78-.78 2.05 0 2.83L4 21.41c.39.39.9.59 1.41.59.51 0 1.02-.2 1.41-.59l7.78-7.78 2.81-2.81c.8-.78.8-2.07 0-2.86zM5.41 20L4 18.59l7.72-7.72 1.47 1.35L5.41 20z\"/>\n",
              "  </svg>\n",
              "      </button>\n",
              "      \n",
              "  <style>\n",
              "    .colab-df-container {\n",
              "      display:flex;\n",
              "      flex-wrap:wrap;\n",
              "      gap: 12px;\n",
              "    }\n",
              "\n",
              "    .colab-df-convert {\n",
              "      background-color: #E8F0FE;\n",
              "      border: none;\n",
              "      border-radius: 50%;\n",
              "      cursor: pointer;\n",
              "      display: none;\n",
              "      fill: #1967D2;\n",
              "      height: 32px;\n",
              "      padding: 0 0 0 0;\n",
              "      width: 32px;\n",
              "    }\n",
              "\n",
              "    .colab-df-convert:hover {\n",
              "      background-color: #E2EBFA;\n",
              "      box-shadow: 0px 1px 2px rgba(60, 64, 67, 0.3), 0px 1px 3px 1px rgba(60, 64, 67, 0.15);\n",
              "      fill: #174EA6;\n",
              "    }\n",
              "\n",
              "    [theme=dark] .colab-df-convert {\n",
              "      background-color: #3B4455;\n",
              "      fill: #D2E3FC;\n",
              "    }\n",
              "\n",
              "    [theme=dark] .colab-df-convert:hover {\n",
              "      background-color: #434B5C;\n",
              "      box-shadow: 0px 1px 3px 1px rgba(0, 0, 0, 0.15);\n",
              "      filter: drop-shadow(0px 1px 2px rgba(0, 0, 0, 0.3));\n",
              "      fill: #FFFFFF;\n",
              "    }\n",
              "  </style>\n",
              "\n",
              "      <script>\n",
              "        const buttonEl =\n",
              "          document.querySelector('#df-e2cfbbb7-5e12-485f-8ef0-08a6bd2db886 button.colab-df-convert');\n",
              "        buttonEl.style.display =\n",
              "          google.colab.kernel.accessAllowed ? 'block' : 'none';\n",
              "\n",
              "        async function convertToInteractive(key) {\n",
              "          const element = document.querySelector('#df-e2cfbbb7-5e12-485f-8ef0-08a6bd2db886');\n",
              "          const dataTable =\n",
              "            await google.colab.kernel.invokeFunction('convertToInteractive',\n",
              "                                                     [key], {});\n",
              "          if (!dataTable) return;\n",
              "\n",
              "          const docLinkHtml = 'Like what you see? Visit the ' +\n",
              "            '<a target=\"_blank\" href=https://colab.research.google.com/notebooks/data_table.ipynb>data table notebook</a>'\n",
              "            + ' to learn more about interactive tables.';\n",
              "          element.innerHTML = '';\n",
              "          dataTable['output_type'] = 'display_data';\n",
              "          await google.colab.output.renderOutput(dataTable, element);\n",
              "          const docLink = document.createElement('div');\n",
              "          docLink.innerHTML = docLinkHtml;\n",
              "          element.appendChild(docLink);\n",
              "        }\n",
              "      </script>\n",
              "    </div>\n",
              "  </div>\n",
              "  "
            ]
          },
          "metadata": {},
          "execution_count": 111
        }
      ]
    },
    {
      "cell_type": "code",
      "source": [
        "from sklearn.metrics import accuracy_score\n",
        "d=accuracy_score(y_test, y_predict)\n",
        "d"
      ],
      "metadata": {
        "colab": {
          "base_uri": "https://localhost:8080/"
        },
        "id": "yLEOnbtVy19Y",
        "outputId": "97c96a86-4628-454c-b649-d90785abd4cd"
      },
      "execution_count": null,
      "outputs": [
        {
          "output_type": "execute_result",
          "data": {
            "text/plain": [
              "0.6181262729124236"
            ]
          },
          "metadata": {},
          "execution_count": 112
        }
      ]
    },
    {
      "cell_type": "code",
      "source": [
        "perf_measure(y_test, y_predict)"
      ],
      "metadata": {
        "colab": {
          "base_uri": "https://localhost:8080/"
        },
        "id": "DDAWFx56CIVY",
        "outputId": "b0f3d6fb-2a30-4436-c44b-cc33e2b5f458"
      },
      "execution_count": null,
      "outputs": [
        {
          "output_type": "execute_result",
          "data": {
            "text/plain": [
              "(21, 353, 586, 22)"
            ]
          },
          "metadata": {},
          "execution_count": 113
        }
      ]
    },
    {
      "cell_type": "code",
      "source": [
        "d1 = truepositive(y_test, y_predict)\n",
        "d1"
      ],
      "metadata": {
        "colab": {
          "base_uri": "https://localhost:8080/"
        },
        "outputId": "ef264ed5-5215-4ea4-d648-c7d51dd467a0",
        "id": "HRCeN54SVEdq"
      },
      "execution_count": null,
      "outputs": [
        {
          "output_type": "execute_result",
          "data": {
            "text/plain": [
              "21"
            ]
          },
          "metadata": {},
          "execution_count": 114
        }
      ]
    },
    {
      "cell_type": "markdown",
      "source": [
        "**xgboost**"
      ],
      "metadata": {
        "id": "Cob1QyvEzFW0"
      }
    },
    {
      "cell_type": "code",
      "source": [
        "from xgboost import XGBClassifier\n",
        "model = XGBClassifier()\n",
        "model.fit(x_train, y_train)\n",
        "y_predict=model.predict(x_test)\n",
        "from sklearn.metrics import classification_report ,confusion_matrix\n",
        "cm=confusion_matrix(y_test , y_predict)\n",
        "sns.heatmap(cm, annot=True )"
      ],
      "metadata": {
        "colab": {
          "base_uri": "https://localhost:8080/"
        },
        "id": "dJGD1AjTzDWI",
        "outputId": "7a7457c0-1966-435d-dad8-f0e3fe7cdcc6"
      },
      "execution_count": null,
      "outputs": [
        {
          "output_type": "execute_result",
          "data": {
            "text/plain": [
              "<matplotlib.axes._subplots.AxesSubplot at 0x7f400afe87c0>"
            ]
          },
          "metadata": {},
          "execution_count": 115
        },
        {
          "output_type": "display_data",
          "data": {
            "text/plain": [
              "<Figure size 432x288 with 2 Axes>"
            ],
            "image/png": "[encoded data removed]"
          },
          "metadata": {
            "needs_background": "light"
          }
        }
      ]
    },
    {
      "cell_type": "code",
      "source": [
        "from sklearn.metrics import classification_report\n",
        "print(classification_report(y_test , y_predict))\n",
        "pd.crosstab(y_test , y_predict)"
      ],
      "metadata": {
        "colab": {
          "base_uri": "https://localhost:8080/"
        },
        "id": "qPpowIh15JAj",
        "outputId": "46facc9a-19fd-4530-fc28-ba506b91fc18"
      },
      "execution_count": null,
      "outputs": [
        {
          "output_type": "stream",
          "name": "stdout",
          "text": [
            "              precision    recall  f1-score   support\n",
            "\n",
            "           0       0.96      1.00      0.98       939\n",
            "           1       0.00      0.00      0.00        43\n",
            "\n",
            "    accuracy                           0.96       982\n",
            "   macro avg       0.48      0.50      0.49       982\n",
            "weighted avg       0.91      0.96      0.93       982\n",
            "\n"
          ]
        },
        {
          "output_type": "stream",
          "name": "stderr",
          "text": [
            "/usr/local/lib/python3.8/dist-packages/sklearn/metrics/_classification.py:1318: UndefinedMetricWarning: Precision and F-score are ill-defined and being set to 0.0 in labels with no predicted samples. Use `zero_division` parameter to control this behavior.\n",
            "  _warn_prf(average, modifier, msg_start, len(result))\n",
            "/usr/local/lib/python3.8/dist-packages/sklearn/metrics/_classification.py:1318: UndefinedMetricWarning: Precision and F-score are ill-defined and being set to 0.0 in labels with no predicted samples. Use `zero_division` parameter to control this behavior.\n",
            "  _warn_prf(average, modifier, msg_start, len(result))\n",
            "/usr/local/lib/python3.8/dist-packages/sklearn/metrics/_classification.py:1318: UndefinedMetricWarning: Precision and F-score are ill-defined and being set to 0.0 in labels with no predicted samples. Use `zero_division` parameter to control this behavior.\n",
            "  _warn_prf(average, modifier, msg_start, len(result))\n"
          ]
        },
        {
          "output_type": "execute_result",
          "data": {
            "text/plain": [
              "col_0    0\n",
              "row_0     \n",
              "0      939\n",
              "1       43"
            ],
            "text/html": [
              "\n",
              "  <div id=\"df-39c936ad-00ef-468f-884a-3618c7d9a036\">\n",
              "    <div class=\"colab-df-container\">\n",
              "      <div>\n",
              "<style scoped>\n",
              "    .dataframe tbody tr th:only-of-type {\n",
              "        vertical-align: middle;\n",
              "    }\n",
              "\n",
              "    .dataframe tbody tr th {\n",
              "        vertical-align: top;\n",
              "    }\n",
              "\n",
              "    .dataframe thead th {\n",
              "        text-align: right;\n",
              "    }\n",
              "</style>\n",
              "<table border=\"1\" class=\"dataframe\">\n",
              "  <thead>\n",
              "    <tr style=\"text-align: right;\">\n",
              "      <th>col_0</th>\n",
              "      <th>0</th>\n",
              "    </tr>\n",
              "    <tr>\n",
              "      <th>row_0</th>\n",
              "      <th></th>\n",
              "    </tr>\n",
              "  </thead>\n",
              "  <tbody>\n",
              "    <tr>\n",
              "      <th>0</th>\n",
              "      <td>939</td>\n",
              "    </tr>\n",
              "    <tr>\n",
              "      <th>1</th>\n",
              "      <td>43</td>\n",
              "    </tr>\n",
              "  </tbody>\n",
              "</table>\n",
              "</div>\n",
              "      <button class=\"colab-df-convert\" onclick=\"convertToInteractive('df-39c936ad-00ef-468f-884a-3618c7d9a036')\"\n",
              "              title=\"Convert this dataframe to an interactive table.\"\n",
              "              style=\"display:none;\">\n",
              "        \n",
              "  <svg xmlns=\"http://www.w3.org/2000/svg\" height=\"24px\"viewBox=\"0 0 24 24\"\n",
              "       width=\"24px\">\n",
              "    <path d=\"M0 0h24v24H0V0z\" fill=\"none\"/>\n",
              "    <path d=\"M18.56 5.44l.94 2.06.94-2.06 2.06-.94-2.06-.94-.94-2.06-.94 2.06-2.06.94zm-11 1L8.5 8.5l.94-2.06 2.06-.94-2.06-.94L8.5 2.5l-.94 2.06-2.06.94zm10 10l.94 2.06.94-2.06 2.06-.94-2.06-.94-.94-2.06-.94 2.06-2.06.94z\"/><path d=\"M17.41 7.96l-1.37-1.37c-.4-.4-.92-.59-1.43-.59-.52 0-1.04.2-1.43.59L10.3 9.45l-7.72 7.72c-.78.78-.78 2.05 0 2.83L4 21.41c.39.39.9.59 1.41.59.51 0 1.02-.2 1.41-.59l7.78-7.78 2.81-2.81c.8-.78.8-2.07 0-2.86zM5.41 20L4 18.59l7.72-7.72 1.47 1.35L5.41 20z\"/>\n",
              "  </svg>\n",
              "      </button>\n",
              "      \n",
              "  <style>\n",
              "    .colab-df-container {\n",
              "      display:flex;\n",
              "      flex-wrap:wrap;\n",
              "      gap: 12px;\n",
              "    }\n",
              "\n",
              "    .colab-df-convert {\n",
              "      background-color: #E8F0FE;\n",
              "      border: none;\n",
              "      border-radius: 50%;\n",
              "      cursor: pointer;\n",
              "      display: none;\n",
              "      fill: #1967D2;\n",
              "      height: 32px;\n",
              "      padding: 0 0 0 0;\n",
              "      width: 32px;\n",
              "    }\n",
              "\n",
              "    .colab-df-convert:hover {\n",
              "      background-color: #E2EBFA;\n",
              "      box-shadow: 0px 1px 2px rgba(60, 64, 67, 0.3), 0px 1px 3px 1px rgba(60, 64, 67, 0.15);\n",
              "      fill: #174EA6;\n",
              "    }\n",
              "\n",
              "    [theme=dark] .colab-df-convert {\n",
              "      background-color: #3B4455;\n",
              "      fill: #D2E3FC;\n",
              "    }\n",
              "\n",
              "    [theme=dark] .colab-df-convert:hover {\n",
              "      background-color: #434B5C;\n",
              "      box-shadow: 0px 1px 3px 1px rgba(0, 0, 0, 0.15);\n",
              "      filter: drop-shadow(0px 1px 2px rgba(0, 0, 0, 0.3));\n",
              "      fill: #FFFFFF;\n",
              "    }\n",
              "  </style>\n",
              "\n",
              "      <script>\n",
              "        const buttonEl =\n",
              "          document.querySelector('#df-39c936ad-00ef-468f-884a-3618c7d9a036 button.colab-df-convert');\n",
              "        buttonEl.style.display =\n",
              "          google.colab.kernel.accessAllowed ? 'block' : 'none';\n",
              "\n",
              "        async function convertToInteractive(key) {\n",
              "          const element = document.querySelector('#df-39c936ad-00ef-468f-884a-3618c7d9a036');\n",
              "          const dataTable =\n",
              "            await google.colab.kernel.invokeFunction('convertToInteractive',\n",
              "                                                     [key], {});\n",
              "          if (!dataTable) return;\n",
              "\n",
              "          const docLinkHtml = 'Like what you see? Visit the ' +\n",
              "            '<a target=\"_blank\" href=https://colab.research.google.com/notebooks/data_table.ipynb>data table notebook</a>'\n",
              "            + ' to learn more about interactive tables.';\n",
              "          element.innerHTML = '';\n",
              "          dataTable['output_type'] = 'display_data';\n",
              "          await google.colab.output.renderOutput(dataTable, element);\n",
              "          const docLink = document.createElement('div');\n",
              "          docLink.innerHTML = docLinkHtml;\n",
              "          element.appendChild(docLink);\n",
              "        }\n",
              "      </script>\n",
              "    </div>\n",
              "  </div>\n",
              "  "
            ]
          },
          "metadata": {},
          "execution_count": 116
        }
      ]
    },
    {
      "cell_type": "code",
      "source": [
        "from sklearn.metrics import accuracy_score\n",
        "e=accuracy_score(y_test, y_predict)\n",
        "e"
      ],
      "metadata": {
        "colab": {
          "base_uri": "https://localhost:8080/"
        },
        "id": "J_1_rBXzzLlH",
        "outputId": "fdcd8d45-7c9a-488c-f85f-3399e8b955e9"
      },
      "execution_count": null,
      "outputs": [
        {
          "output_type": "execute_result",
          "data": {
            "text/plain": [
              "0.9562118126272913"
            ]
          },
          "metadata": {},
          "execution_count": 117
        }
      ]
    },
    {
      "cell_type": "code",
      "source": [
        "perf_measure(y_test, y_predict)"
      ],
      "metadata": {
        "colab": {
          "base_uri": "https://localhost:8080/"
        },
        "outputId": "95682ccc-121b-4ced-efbd-c7bb1b46fc24",
        "id": "yEiJ4A0WVTSv"
      },
      "execution_count": null,
      "outputs": [
        {
          "output_type": "execute_result",
          "data": {
            "text/plain": [
              "(0, 0, 939, 43)"
            ]
          },
          "metadata": {},
          "execution_count": 118
        }
      ]
    },
    {
      "cell_type": "code",
      "source": [
        "e1 = truepositive(y_test, y_predict)\n",
        "e1"
      ],
      "metadata": {
        "colab": {
          "base_uri": "https://localhost:8080/"
        },
        "outputId": "986b2fab-73ee-4cf8-b5fe-9a4e6fcfaf4e",
        "id": "um7F9_LRVLHV"
      },
      "execution_count": null,
      "outputs": [
        {
          "output_type": "execute_result",
          "data": {
            "text/plain": [
              "0"
            ]
          },
          "metadata": {},
          "execution_count": 119
        }
      ]
    },
    {
      "cell_type": "markdown",
      "source": [
        "**catboost**"
      ],
      "metadata": {
        "id": "OzRpR4Ie-CFz"
      }
    },
    {
      "cell_type": "code",
      "source": [
        "!pip install catboost"
      ],
      "metadata": {
        "colab": {
          "base_uri": "https://localhost:8080/"
        },
        "id": "TDNtcTOdqy7k",
        "outputId": "05b0d88f-fb2a-48b4-e17c-230814fdb19a"
      },
      "execution_count": null,
      "outputs": [
        {
          "output_type": "stream",
          "name": "stdout",
          "text": [
            "Looking in indexes: https://pypi.org/simple, https://us-python.pkg.dev/colab-wheels/public/simple/\n",
            "Requirement already satisfied: catboost in /usr/local/lib/python3.8/dist-packages (1.1.1)\n",
            "Requirement already satisfied: numpy>=1.16.0 in /usr/local/lib/python3.8/dist-packages (from catboost) (1.21.6)\n",
            "Requirement already satisfied: pandas>=0.24.0 in /usr/local/lib/python3.8/dist-packages (from catboost) (1.3.5)\n",
            "Requirement already satisfied: matplotlib in /usr/local/lib/python3.8/dist-packages (from catboost) (3.2.2)\n",
            "Requirement already satisfied: scipy in /usr/local/lib/python3.8/dist-packages (from catboost) (1.7.3)\n",
            "Requirement already satisfied: graphviz in /usr/local/lib/python3.8/dist-packages (from catboost) (0.10.1)\n",
            "Requirement already satisfied: plotly in /usr/local/lib/python3.8/dist-packages (from catboost) (5.5.0)\n",
            "Requirement already satisfied: six in /usr/local/lib/python3.8/dist-packages (from catboost) (1.15.0)\n",
            "Requirement already satisfied: pytz>=2017.3 in /usr/local/lib/python3.8/dist-packages (from pandas>=0.24.0->catboost) (2022.7.1)\n",
            "Requirement already satisfied: python-dateutil>=2.7.3 in /usr/local/lib/python3.8/dist-packages (from pandas>=0.24.0->catboost) (2.8.2)\n",
            "Requirement already satisfied: cycler>=0.10 in /usr/local/lib/python3.8/dist-packages (from matplotlib->catboost) (0.11.0)\n",
            "Requirement already satisfied: kiwisolver>=1.0.1 in /usr/local/lib/python3.8/dist-packages (from matplotlib->catboost) (1.4.4)\n",
            "Requirement already satisfied: pyparsing!=2.0.4,!=2.1.2,!=2.1.6,>=2.0.1 in /usr/local/lib/python3.8/dist-packages (from matplotlib->catboost) (3.0.9)\n",
            "Requirement already satisfied: tenacity>=6.2.0 in /usr/local/lib/python3.8/dist-packages (from plotly->catboost) (8.2.1)\n"
          ]
        }
      ]
    },
    {
      "cell_type": "code",
      "source": [
        "from catboost import CatBoostClassifier\n",
        "cat=CatBoostClassifier()\n",
        "cat.fit(x_train, y_train)\n",
        "y_predict=model.predict(x_test)\n",
        "from sklearn.metrics import classification_report ,confusion_matrix\n",
        "cm=confusion_matrix(y_test , y_predict)\n",
        "sns.heatmap(cm, annot=True )"
      ],
      "metadata": {
        "colab": {
          "base_uri": "https://localhost:8080/"
        },
        "id": "W_u0wqw39-xP",
        "outputId": "673dc52c-20af-4f06-8e5e-fffb089ae921"
      },
      "execution_count": null,
      "outputs": [
        {
          "output_type": "stream",
          "name": "stdout",
          "text": [
            "Learning rate set to 0.018476\n",
            "0:\tlearn: 0.6643141\ttotal: 2.24ms\tremaining: 2.24s\n",
            "1:\tlearn: 0.6331317\ttotal: 3.87ms\tremaining: 1.93s\n",
            "2:\tlearn: 0.6063427\ttotal: 5.55ms\tremaining: 1.84s\n",
            "3:\tlearn: 0.5774412\ttotal: 7.32ms\tremaining: 1.82s\n",
            "4:\tlearn: 0.5550620\ttotal: 9.07ms\tremaining: 1.8s\n",
            "5:\tlearn: 0.5291436\ttotal: 10.9ms\tremaining: 1.81s\n",
            "6:\tlearn: 0.5104032\ttotal: 12.8ms\tremaining: 1.81s\n",
            "7:\tlearn: 0.4933973\ttotal: 14ms\tremaining: 1.73s\n",
            "8:\tlearn: 0.4755863\ttotal: 15.8ms\tremaining: 1.74s\n",
            "9:\tlearn: 0.4588544\ttotal: 17.5ms\tremaining: 1.74s\n",
            "10:\tlearn: 0.4408748\ttotal: 19.3ms\tremaining: 1.73s\n",
            "11:\tlearn: 0.4268759\ttotal: 21.1ms\tremaining: 1.73s\n",
            "12:\tlearn: 0.4122038\ttotal: 22.6ms\tremaining: 1.71s\n",
            "13:\tlearn: 0.3968467\ttotal: 24.4ms\tremaining: 1.72s\n",
            "14:\tlearn: 0.3810464\ttotal: 26.1ms\tremaining: 1.71s\n",
            "15:\tlearn: 0.3678285\ttotal: 27.9ms\tremaining: 1.71s\n",
            "16:\tlearn: 0.3555762\ttotal: 29.6ms\tremaining: 1.71s\n",
            "17:\tlearn: 0.3438138\ttotal: 31.4ms\tremaining: 1.71s\n",
            "18:\tlearn: 0.3339879\ttotal: 33.2ms\tremaining: 1.71s\n",
            "19:\tlearn: 0.3232391\ttotal: 35ms\tremaining: 1.71s\n",
            "20:\tlearn: 0.3124697\ttotal: 36.8ms\tremaining: 1.71s\n",
            "21:\tlearn: 0.3033981\ttotal: 38.6ms\tremaining: 1.72s\n",
            "22:\tlearn: 0.2960361\ttotal: 40.4ms\tremaining: 1.71s\n",
            "23:\tlearn: 0.2871261\ttotal: 41.8ms\tremaining: 1.7s\n",
            "24:\tlearn: 0.2782215\ttotal: 44.9ms\tremaining: 1.75s\n",
            "25:\tlearn: 0.2708060\ttotal: 47.4ms\tremaining: 1.78s\n",
            "26:\tlearn: 0.2652058\ttotal: 48.7ms\tremaining: 1.75s\n",
            "27:\tlearn: 0.2582668\ttotal: 50.5ms\tremaining: 1.75s\n",
            "28:\tlearn: 0.2534536\ttotal: 52.4ms\tremaining: 1.75s\n",
            "29:\tlearn: 0.2486566\ttotal: 54ms\tremaining: 1.75s\n",
            "30:\tlearn: 0.2426681\ttotal: 55.7ms\tremaining: 1.74s\n",
            "31:\tlearn: 0.2377155\ttotal: 57.8ms\tremaining: 1.75s\n",
            "32:\tlearn: 0.2328291\ttotal: 59.8ms\tremaining: 1.75s\n",
            "33:\tlearn: 0.2285438\ttotal: 61.7ms\tremaining: 1.75s\n",
            "34:\tlearn: 0.2243402\ttotal: 63.7ms\tremaining: 1.75s\n",
            "35:\tlearn: 0.2207236\ttotal: 65.6ms\tremaining: 1.76s\n",
            "36:\tlearn: 0.2164713\ttotal: 68.9ms\tremaining: 1.79s\n",
            "37:\tlearn: 0.2130245\ttotal: 70.7ms\tremaining: 1.79s\n",
            "38:\tlearn: 0.2094105\ttotal: 72.4ms\tremaining: 1.78s\n",
            "39:\tlearn: 0.2067319\ttotal: 74.3ms\tremaining: 1.78s\n",
            "40:\tlearn: 0.2038994\ttotal: 76.1ms\tremaining: 1.78s\n",
            "41:\tlearn: 0.2007490\ttotal: 78ms\tremaining: 1.78s\n",
            "42:\tlearn: 0.1983514\ttotal: 80.4ms\tremaining: 1.79s\n",
            "43:\tlearn: 0.1959476\ttotal: 82.5ms\tremaining: 1.79s\n",
            "44:\tlearn: 0.1938585\ttotal: 84.3ms\tremaining: 1.79s\n",
            "45:\tlearn: 0.1909524\ttotal: 86.3ms\tremaining: 1.79s\n",
            "46:\tlearn: 0.1891173\ttotal: 87.8ms\tremaining: 1.78s\n",
            "47:\tlearn: 0.1867602\ttotal: 89.9ms\tremaining: 1.78s\n",
            "48:\tlearn: 0.1843935\ttotal: 92.2ms\tremaining: 1.79s\n",
            "49:\tlearn: 0.1818225\ttotal: 94.2ms\tremaining: 1.79s\n",
            "50:\tlearn: 0.1800492\ttotal: 96ms\tremaining: 1.79s\n",
            "51:\tlearn: 0.1783921\ttotal: 97.5ms\tremaining: 1.78s\n",
            "52:\tlearn: 0.1762946\ttotal: 99.4ms\tremaining: 1.78s\n",
            "53:\tlearn: 0.1739045\ttotal: 101ms\tremaining: 1.78s\n",
            "54:\tlearn: 0.1721804\ttotal: 103ms\tremaining: 1.78s\n",
            "55:\tlearn: 0.1703981\ttotal: 105ms\tremaining: 1.78s\n",
            "56:\tlearn: 0.1687711\ttotal: 107ms\tremaining: 1.77s\n",
            "57:\tlearn: 0.1678456\ttotal: 109ms\tremaining: 1.76s\n",
            "58:\tlearn: 0.1663436\ttotal: 111ms\tremaining: 1.76s\n",
            "59:\tlearn: 0.1650248\ttotal: 112ms\tremaining: 1.76s\n",
            "60:\tlearn: 0.1640159\ttotal: 114ms\tremaining: 1.76s\n",
            "61:\tlearn: 0.1624498\ttotal: 116ms\tremaining: 1.75s\n",
            "62:\tlearn: 0.1613322\ttotal: 118ms\tremaining: 1.75s\n",
            "63:\tlearn: 0.1605805\ttotal: 120ms\tremaining: 1.75s\n",
            "64:\tlearn: 0.1594952\ttotal: 121ms\tremaining: 1.75s\n",
            "65:\tlearn: 0.1584067\ttotal: 123ms\tremaining: 1.75s\n",
            "66:\tlearn: 0.1573169\ttotal: 125ms\tremaining: 1.75s\n",
            "67:\tlearn: 0.1561650\ttotal: 127ms\tremaining: 1.74s\n",
            "68:\tlearn: 0.1554535\ttotal: 129ms\tremaining: 1.74s\n",
            "69:\tlearn: 0.1549547\ttotal: 131ms\tremaining: 1.73s\n",
            "70:\tlearn: 0.1540168\ttotal: 132ms\tremaining: 1.73s\n",
            "71:\tlearn: 0.1528960\ttotal: 134ms\tremaining: 1.73s\n",
            "72:\tlearn: 0.1518333\ttotal: 136ms\tremaining: 1.73s\n",
            "73:\tlearn: 0.1510507\ttotal: 138ms\tremaining: 1.73s\n",
            "74:\tlearn: 0.1502172\ttotal: 140ms\tremaining: 1.73s\n",
            "75:\tlearn: 0.1490816\ttotal: 142ms\tremaining: 1.72s\n",
            "76:\tlearn: 0.1481953\ttotal: 144ms\tremaining: 1.72s\n",
            "77:\tlearn: 0.1474624\ttotal: 146ms\tremaining: 1.72s\n",
            "78:\tlearn: 0.1470115\ttotal: 148ms\tremaining: 1.72s\n",
            "79:\tlearn: 0.1461335\ttotal: 149ms\tremaining: 1.72s\n",
            "80:\tlearn: 0.1454131\ttotal: 151ms\tremaining: 1.72s\n",
            "81:\tlearn: 0.1448247\ttotal: 153ms\tremaining: 1.71s\n",
            "82:\tlearn: 0.1442980\ttotal: 155ms\tremaining: 1.71s\n",
            "83:\tlearn: 0.1435276\ttotal: 157ms\tremaining: 1.71s\n",
            "84:\tlearn: 0.1430899\ttotal: 159ms\tremaining: 1.71s\n",
            "85:\tlearn: 0.1427629\ttotal: 161ms\tremaining: 1.71s\n",
            "86:\tlearn: 0.1422487\ttotal: 163ms\tremaining: 1.71s\n",
            "87:\tlearn: 0.1416149\ttotal: 165ms\tremaining: 1.7s\n",
            "88:\tlearn: 0.1412811\ttotal: 167ms\tremaining: 1.7s\n",
            "89:\tlearn: 0.1410295\ttotal: 168ms\tremaining: 1.7s\n",
            "90:\tlearn: 0.1405006\ttotal: 170ms\tremaining: 1.7s\n",
            "91:\tlearn: 0.1400087\ttotal: 172ms\tremaining: 1.69s\n",
            "92:\tlearn: 0.1395058\ttotal: 174ms\tremaining: 1.69s\n",
            "93:\tlearn: 0.1389648\ttotal: 176ms\tremaining: 1.69s\n",
            "94:\tlearn: 0.1384514\ttotal: 178ms\tremaining: 1.69s\n",
            "95:\tlearn: 0.1381220\ttotal: 179ms\tremaining: 1.69s\n",
            "96:\tlearn: 0.1378202\ttotal: 181ms\tremaining: 1.69s\n",
            "97:\tlearn: 0.1373229\ttotal: 183ms\tremaining: 1.69s\n",
            "98:\tlearn: 0.1369610\ttotal: 185ms\tremaining: 1.68s\n",
            "99:\tlearn: 0.1367166\ttotal: 188ms\tremaining: 1.69s\n",
            "100:\tlearn: 0.1366305\ttotal: 189ms\tremaining: 1.68s\n",
            "101:\tlearn: 0.1361697\ttotal: 193ms\tremaining: 1.7s\n",
            "102:\tlearn: 0.1358706\ttotal: 194ms\tremaining: 1.69s\n",
            "103:\tlearn: 0.1354807\ttotal: 196ms\tremaining: 1.69s\n",
            "104:\tlearn: 0.1351760\ttotal: 198ms\tremaining: 1.69s\n",
            "105:\tlearn: 0.1347370\ttotal: 200ms\tremaining: 1.69s\n",
            "106:\tlearn: 0.1344514\ttotal: 202ms\tremaining: 1.69s\n",
            "107:\tlearn: 0.1341849\ttotal: 204ms\tremaining: 1.68s\n",
            "108:\tlearn: 0.1338870\ttotal: 206ms\tremaining: 1.68s\n",
            "109:\tlearn: 0.1336344\ttotal: 208ms\tremaining: 1.68s\n",
            "110:\tlearn: 0.1332475\ttotal: 210ms\tremaining: 1.68s\n",
            "111:\tlearn: 0.1330138\ttotal: 212ms\tremaining: 1.68s\n",
            "112:\tlearn: 0.1326838\ttotal: 214ms\tremaining: 1.68s\n",
            "113:\tlearn: 0.1323465\ttotal: 216ms\tremaining: 1.68s\n",
            "114:\tlearn: 0.1319884\ttotal: 218ms\tremaining: 1.67s\n",
            "115:\tlearn: 0.1316675\ttotal: 219ms\tremaining: 1.67s\n",
            "116:\tlearn: 0.1314122\ttotal: 221ms\tremaining: 1.67s\n",
            "117:\tlearn: 0.1311769\ttotal: 223ms\tremaining: 1.67s\n",
            "118:\tlearn: 0.1309376\ttotal: 225ms\tremaining: 1.67s\n",
            "119:\tlearn: 0.1305854\ttotal: 227ms\tremaining: 1.66s\n",
            "120:\tlearn: 0.1302997\ttotal: 229ms\tremaining: 1.66s\n",
            "121:\tlearn: 0.1299794\ttotal: 231ms\tremaining: 1.66s\n",
            "122:\tlearn: 0.1297421\ttotal: 233ms\tremaining: 1.66s\n",
            "123:\tlearn: 0.1295812\ttotal: 234ms\tremaining: 1.66s\n",
            "124:\tlearn: 0.1293692\ttotal: 236ms\tremaining: 1.65s\n",
            "125:\tlearn: 0.1290944\ttotal: 238ms\tremaining: 1.65s\n",
            "126:\tlearn: 0.1288240\ttotal: 240ms\tremaining: 1.65s\n",
            "127:\tlearn: 0.1286108\ttotal: 242ms\tremaining: 1.65s\n",
            "128:\tlearn: 0.1284683\ttotal: 244ms\tremaining: 1.65s\n",
            "129:\tlearn: 0.1282032\ttotal: 246ms\tremaining: 1.65s\n",
            "130:\tlearn: 0.1279486\ttotal: 248ms\tremaining: 1.65s\n",
            "131:\tlearn: 0.1276548\ttotal: 250ms\tremaining: 1.64s\n",
            "132:\tlearn: 0.1274637\ttotal: 252ms\tremaining: 1.64s\n",
            "133:\tlearn: 0.1272296\ttotal: 254ms\tremaining: 1.64s\n",
            "134:\tlearn: 0.1269779\ttotal: 256ms\tremaining: 1.64s\n",
            "135:\tlearn: 0.1267472\ttotal: 258ms\tremaining: 1.64s\n",
            "136:\tlearn: 0.1264681\ttotal: 260ms\tremaining: 1.64s\n",
            "137:\tlearn: 0.1262955\ttotal: 264ms\tremaining: 1.65s\n",
            "138:\tlearn: 0.1261148\ttotal: 266ms\tremaining: 1.65s\n",
            "139:\tlearn: 0.1259087\ttotal: 268ms\tremaining: 1.64s\n",
            "140:\tlearn: 0.1256670\ttotal: 269ms\tremaining: 1.64s\n",
            "141:\tlearn: 0.1253842\ttotal: 271ms\tremaining: 1.64s\n",
            "142:\tlearn: 0.1251988\ttotal: 272ms\tremaining: 1.63s\n",
            "143:\tlearn: 0.1250101\ttotal: 274ms\tremaining: 1.63s\n",
            "144:\tlearn: 0.1248713\ttotal: 276ms\tremaining: 1.63s\n",
            "145:\tlearn: 0.1246944\ttotal: 278ms\tremaining: 1.63s\n",
            "146:\tlearn: 0.1245099\ttotal: 280ms\tremaining: 1.62s\n",
            "147:\tlearn: 0.1242573\ttotal: 282ms\tremaining: 1.62s\n",
            "148:\tlearn: 0.1240745\ttotal: 284ms\tremaining: 1.62s\n",
            "149:\tlearn: 0.1239829\ttotal: 285ms\tremaining: 1.62s\n",
            "150:\tlearn: 0.1237745\ttotal: 287ms\tremaining: 1.61s\n",
            "151:\tlearn: 0.1235762\ttotal: 289ms\tremaining: 1.61s\n",
            "152:\tlearn: 0.1233875\ttotal: 291ms\tremaining: 1.61s\n",
            "153:\tlearn: 0.1232166\ttotal: 293ms\tremaining: 1.61s\n",
            "154:\tlearn: 0.1231909\ttotal: 294ms\tremaining: 1.6s\n",
            "155:\tlearn: 0.1230021\ttotal: 296ms\tremaining: 1.6s\n",
            "156:\tlearn: 0.1227916\ttotal: 298ms\tremaining: 1.6s\n",
            "157:\tlearn: 0.1226386\ttotal: 300ms\tremaining: 1.6s\n",
            "158:\tlearn: 0.1224299\ttotal: 304ms\tremaining: 1.61s\n",
            "159:\tlearn: 0.1222664\ttotal: 306ms\tremaining: 1.6s\n",
            "160:\tlearn: 0.1220605\ttotal: 308ms\tremaining: 1.6s\n",
            "161:\tlearn: 0.1218333\ttotal: 309ms\tremaining: 1.6s\n",
            "162:\tlearn: 0.1216137\ttotal: 311ms\tremaining: 1.6s\n",
            "163:\tlearn: 0.1214591\ttotal: 313ms\tremaining: 1.6s\n",
            "164:\tlearn: 0.1213205\ttotal: 315ms\tremaining: 1.59s\n",
            "165:\tlearn: 0.1211296\ttotal: 317ms\tremaining: 1.59s\n",
            "166:\tlearn: 0.1208695\ttotal: 319ms\tremaining: 1.59s\n",
            "167:\tlearn: 0.1206750\ttotal: 321ms\tremaining: 1.59s\n",
            "168:\tlearn: 0.1205656\ttotal: 323ms\tremaining: 1.59s\n",
            "169:\tlearn: 0.1204015\ttotal: 325ms\tremaining: 1.59s\n",
            "170:\tlearn: 0.1202622\ttotal: 327ms\tremaining: 1.58s\n",
            "171:\tlearn: 0.1201148\ttotal: 329ms\tremaining: 1.58s\n",
            "172:\tlearn: 0.1200383\ttotal: 331ms\tremaining: 1.58s\n",
            "173:\tlearn: 0.1199731\ttotal: 333ms\tremaining: 1.58s\n",
            "174:\tlearn: 0.1198297\ttotal: 334ms\tremaining: 1.58s\n",
            "175:\tlearn: 0.1197104\ttotal: 336ms\tremaining: 1.57s\n",
            "176:\tlearn: 0.1195334\ttotal: 338ms\tremaining: 1.57s\n",
            "177:\tlearn: 0.1194185\ttotal: 340ms\tremaining: 1.57s\n",
            "178:\tlearn: 0.1192901\ttotal: 344ms\tremaining: 1.58s\n",
            "179:\tlearn: 0.1190876\ttotal: 346ms\tremaining: 1.57s\n",
            "180:\tlearn: 0.1189976\ttotal: 347ms\tremaining: 1.57s\n",
            "181:\tlearn: 0.1189114\ttotal: 349ms\tremaining: 1.57s\n",
            "182:\tlearn: 0.1187582\ttotal: 351ms\tremaining: 1.57s\n",
            "183:\tlearn: 0.1186249\ttotal: 353ms\tremaining: 1.56s\n",
            "184:\tlearn: 0.1184264\ttotal: 355ms\tremaining: 1.56s\n",
            "185:\tlearn: 0.1182356\ttotal: 356ms\tremaining: 1.56s\n",
            "186:\tlearn: 0.1180883\ttotal: 358ms\tremaining: 1.56s\n",
            "187:\tlearn: 0.1178908\ttotal: 360ms\tremaining: 1.55s\n",
            "188:\tlearn: 0.1178014\ttotal: 362ms\tremaining: 1.55s\n",
            "189:\tlearn: 0.1177633\ttotal: 364ms\tremaining: 1.55s\n",
            "190:\tlearn: 0.1175766\ttotal: 366ms\tremaining: 1.55s\n",
            "191:\tlearn: 0.1173602\ttotal: 368ms\tremaining: 1.55s\n",
            "192:\tlearn: 0.1172550\ttotal: 370ms\tremaining: 1.54s\n",
            "193:\tlearn: 0.1171572\ttotal: 372ms\tremaining: 1.54s\n",
            "194:\tlearn: 0.1170048\ttotal: 374ms\tremaining: 1.54s\n",
            "195:\tlearn: 0.1168646\ttotal: 375ms\tremaining: 1.54s\n",
            "196:\tlearn: 0.1168013\ttotal: 378ms\tremaining: 1.54s\n",
            "197:\tlearn: 0.1166471\ttotal: 380ms\tremaining: 1.54s\n",
            "198:\tlearn: 0.1164816\ttotal: 386ms\tremaining: 1.55s\n",
            "199:\tlearn: 0.1163468\ttotal: 388ms\tremaining: 1.55s\n",
            "200:\tlearn: 0.1161773\ttotal: 390ms\tremaining: 1.55s\n",
            "201:\tlearn: 0.1159864\ttotal: 391ms\tremaining: 1.54s\n",
            "202:\tlearn: 0.1158852\ttotal: 393ms\tremaining: 1.54s\n",
            "203:\tlearn: 0.1157875\ttotal: 395ms\tremaining: 1.54s\n",
            "204:\tlearn: 0.1156437\ttotal: 398ms\tremaining: 1.54s\n",
            "205:\tlearn: 0.1154764\ttotal: 400ms\tremaining: 1.54s\n",
            "206:\tlearn: 0.1153277\ttotal: 402ms\tremaining: 1.54s\n",
            "207:\tlearn: 0.1151631\ttotal: 404ms\tremaining: 1.54s\n",
            "208:\tlearn: 0.1149916\ttotal: 405ms\tremaining: 1.53s\n",
            "209:\tlearn: 0.1148508\ttotal: 407ms\tremaining: 1.53s\n",
            "210:\tlearn: 0.1146815\ttotal: 409ms\tremaining: 1.53s\n",
            "211:\tlearn: 0.1145675\ttotal: 411ms\tremaining: 1.53s\n",
            "212:\tlearn: 0.1144120\ttotal: 413ms\tremaining: 1.52s\n",
            "213:\tlearn: 0.1143251\ttotal: 415ms\tremaining: 1.52s\n",
            "214:\tlearn: 0.1142359\ttotal: 417ms\tremaining: 1.52s\n",
            "215:\tlearn: 0.1141774\ttotal: 418ms\tremaining: 1.52s\n",
            "216:\tlearn: 0.1140106\ttotal: 420ms\tremaining: 1.51s\n",
            "217:\tlearn: 0.1138677\ttotal: 423ms\tremaining: 1.52s\n",
            "218:\tlearn: 0.1137125\ttotal: 425ms\tremaining: 1.51s\n",
            "219:\tlearn: 0.1135302\ttotal: 427ms\tremaining: 1.51s\n",
            "220:\tlearn: 0.1134070\ttotal: 428ms\tremaining: 1.51s\n",
            "221:\tlearn: 0.1133242\ttotal: 430ms\tremaining: 1.51s\n",
            "222:\tlearn: 0.1132001\ttotal: 432ms\tremaining: 1.5s\n",
            "223:\tlearn: 0.1131052\ttotal: 434ms\tremaining: 1.5s\n",
            "224:\tlearn: 0.1129966\ttotal: 436ms\tremaining: 1.5s\n",
            "225:\tlearn: 0.1129890\ttotal: 437ms\tremaining: 1.5s\n",
            "226:\tlearn: 0.1128188\ttotal: 439ms\tremaining: 1.5s\n",
            "227:\tlearn: 0.1126472\ttotal: 441ms\tremaining: 1.49s\n",
            "228:\tlearn: 0.1125871\ttotal: 443ms\tremaining: 1.49s\n",
            "229:\tlearn: 0.1124568\ttotal: 445ms\tremaining: 1.49s\n",
            "230:\tlearn: 0.1122609\ttotal: 447ms\tremaining: 1.49s\n",
            "231:\tlearn: 0.1121997\ttotal: 448ms\tremaining: 1.48s\n",
            "232:\tlearn: 0.1121572\ttotal: 450ms\tremaining: 1.48s\n",
            "233:\tlearn: 0.1119903\ttotal: 452ms\tremaining: 1.48s\n",
            "234:\tlearn: 0.1118619\ttotal: 454ms\tremaining: 1.48s\n",
            "235:\tlearn: 0.1117438\ttotal: 456ms\tremaining: 1.47s\n",
            "236:\tlearn: 0.1116170\ttotal: 457ms\tremaining: 1.47s\n",
            "237:\tlearn: 0.1114986\ttotal: 459ms\tremaining: 1.47s\n",
            "238:\tlearn: 0.1113707\ttotal: 462ms\tremaining: 1.47s\n",
            "239:\tlearn: 0.1112504\ttotal: 465ms\tremaining: 1.47s\n",
            "240:\tlearn: 0.1111418\ttotal: 467ms\tremaining: 1.47s\n",
            "241:\tlearn: 0.1110043\ttotal: 469ms\tremaining: 1.47s\n",
            "242:\tlearn: 0.1109227\ttotal: 471ms\tremaining: 1.47s\n",
            "243:\tlearn: 0.1108171\ttotal: 472ms\tremaining: 1.46s\n",
            "244:\tlearn: 0.1107983\ttotal: 474ms\tremaining: 1.46s\n",
            "245:\tlearn: 0.1106406\ttotal: 476ms\tremaining: 1.46s\n",
            "246:\tlearn: 0.1104676\ttotal: 478ms\tremaining: 1.46s\n",
            "247:\tlearn: 0.1103818\ttotal: 480ms\tremaining: 1.45s\n",
            "248:\tlearn: 0.1103042\ttotal: 481ms\tremaining: 1.45s\n",
            "249:\tlearn: 0.1102439\ttotal: 483ms\tremaining: 1.45s\n",
            "250:\tlearn: 0.1101105\ttotal: 485ms\tremaining: 1.45s\n",
            "251:\tlearn: 0.1100394\ttotal: 487ms\tremaining: 1.45s\n",
            "252:\tlearn: 0.1099077\ttotal: 489ms\tremaining: 1.44s\n",
            "253:\tlearn: 0.1098057\ttotal: 491ms\tremaining: 1.44s\n",
            "254:\tlearn: 0.1096971\ttotal: 493ms\tremaining: 1.44s\n",
            "255:\tlearn: 0.1096481\ttotal: 494ms\tremaining: 1.44s\n",
            "256:\tlearn: 0.1095459\ttotal: 496ms\tremaining: 1.44s\n",
            "257:\tlearn: 0.1093531\ttotal: 498ms\tremaining: 1.43s\n",
            "258:\tlearn: 0.1092087\ttotal: 501ms\tremaining: 1.43s\n",
            "259:\tlearn: 0.1091401\ttotal: 503ms\tremaining: 1.43s\n",
            "260:\tlearn: 0.1090442\ttotal: 505ms\tremaining: 1.43s\n",
            "261:\tlearn: 0.1089562\ttotal: 507ms\tremaining: 1.43s\n",
            "262:\tlearn: 0.1088080\ttotal: 508ms\tremaining: 1.42s\n",
            "263:\tlearn: 0.1087289\ttotal: 510ms\tremaining: 1.42s\n",
            "264:\tlearn: 0.1086277\ttotal: 512ms\tremaining: 1.42s\n",
            "265:\tlearn: 0.1084975\ttotal: 514ms\tremaining: 1.42s\n",
            "266:\tlearn: 0.1084043\ttotal: 516ms\tremaining: 1.42s\n",
            "267:\tlearn: 0.1083574\ttotal: 518ms\tremaining: 1.41s\n",
            "268:\tlearn: 0.1082099\ttotal: 520ms\tremaining: 1.41s\n",
            "269:\tlearn: 0.1081529\ttotal: 522ms\tremaining: 1.41s\n",
            "270:\tlearn: 0.1080534\ttotal: 524ms\tremaining: 1.41s\n",
            "271:\tlearn: 0.1079827\ttotal: 526ms\tremaining: 1.41s\n",
            "272:\tlearn: 0.1078638\ttotal: 528ms\tremaining: 1.41s\n",
            "273:\tlearn: 0.1077649\ttotal: 530ms\tremaining: 1.4s\n",
            "274:\tlearn: 0.1076558\ttotal: 532ms\tremaining: 1.4s\n",
            "275:\tlearn: 0.1075764\ttotal: 534ms\tremaining: 1.4s\n",
            "276:\tlearn: 0.1074508\ttotal: 536ms\tremaining: 1.4s\n",
            "277:\tlearn: 0.1073332\ttotal: 539ms\tremaining: 1.4s\n",
            "278:\tlearn: 0.1072166\ttotal: 541ms\tremaining: 1.4s\n",
            "279:\tlearn: 0.1070886\ttotal: 543ms\tremaining: 1.4s\n",
            "280:\tlearn: 0.1069526\ttotal: 545ms\tremaining: 1.39s\n",
            "281:\tlearn: 0.1068886\ttotal: 546ms\tremaining: 1.39s\n",
            "282:\tlearn: 0.1068065\ttotal: 548ms\tremaining: 1.39s\n",
            "283:\tlearn: 0.1066862\ttotal: 550ms\tremaining: 1.39s\n",
            "284:\tlearn: 0.1066596\ttotal: 552ms\tremaining: 1.38s\n",
            "285:\tlearn: 0.1065538\ttotal: 554ms\tremaining: 1.38s\n",
            "286:\tlearn: 0.1064938\ttotal: 556ms\tremaining: 1.38s\n",
            "287:\tlearn: 0.1063483\ttotal: 558ms\tremaining: 1.38s\n",
            "288:\tlearn: 0.1062274\ttotal: 560ms\tremaining: 1.38s\n",
            "289:\tlearn: 0.1061061\ttotal: 562ms\tremaining: 1.37s\n",
            "290:\tlearn: 0.1060607\ttotal: 563ms\tremaining: 1.37s\n",
            "291:\tlearn: 0.1059742\ttotal: 565ms\tremaining: 1.37s\n",
            "292:\tlearn: 0.1059179\ttotal: 567ms\tremaining: 1.37s\n",
            "293:\tlearn: 0.1057937\ttotal: 569ms\tremaining: 1.37s\n",
            "294:\tlearn: 0.1056680\ttotal: 572ms\tremaining: 1.37s\n",
            "295:\tlearn: 0.1055979\ttotal: 574ms\tremaining: 1.36s\n",
            "296:\tlearn: 0.1055376\ttotal: 578ms\tremaining: 1.37s\n",
            "297:\tlearn: 0.1055368\ttotal: 580ms\tremaining: 1.36s\n",
            "298:\tlearn: 0.1054896\ttotal: 581ms\tremaining: 1.36s\n",
            "299:\tlearn: 0.1053537\ttotal: 583ms\tremaining: 1.36s\n",
            "300:\tlearn: 0.1051636\ttotal: 585ms\tremaining: 1.36s\n",
            "301:\tlearn: 0.1051098\ttotal: 587ms\tremaining: 1.36s\n",
            "302:\tlearn: 0.1050369\ttotal: 589ms\tremaining: 1.35s\n",
            "303:\tlearn: 0.1049016\ttotal: 591ms\tremaining: 1.35s\n",
            "304:\tlearn: 0.1047899\ttotal: 592ms\tremaining: 1.35s\n",
            "305:\tlearn: 0.1047443\ttotal: 594ms\tremaining: 1.35s\n",
            "306:\tlearn: 0.1046156\ttotal: 596ms\tremaining: 1.34s\n",
            "307:\tlearn: 0.1045030\ttotal: 598ms\tremaining: 1.34s\n",
            "308:\tlearn: 0.1044646\ttotal: 600ms\tremaining: 1.34s\n",
            "309:\tlearn: 0.1042712\ttotal: 602ms\tremaining: 1.34s\n",
            "310:\tlearn: 0.1041718\ttotal: 604ms\tremaining: 1.34s\n",
            "311:\tlearn: 0.1040105\ttotal: 607ms\tremaining: 1.34s\n",
            "312:\tlearn: 0.1039311\ttotal: 609ms\tremaining: 1.34s\n",
            "313:\tlearn: 0.1038107\ttotal: 611ms\tremaining: 1.33s\n",
            "314:\tlearn: 0.1036562\ttotal: 613ms\tremaining: 1.33s\n",
            "315:\tlearn: 0.1035423\ttotal: 614ms\tremaining: 1.33s\n",
            "316:\tlearn: 0.1034276\ttotal: 616ms\tremaining: 1.33s\n",
            "317:\tlearn: 0.1033678\ttotal: 619ms\tremaining: 1.33s\n",
            "318:\tlearn: 0.1033134\ttotal: 621ms\tremaining: 1.33s\n",
            "319:\tlearn: 0.1031905\ttotal: 623ms\tremaining: 1.32s\n",
            "320:\tlearn: 0.1030950\ttotal: 625ms\tremaining: 1.32s\n",
            "321:\tlearn: 0.1029964\ttotal: 627ms\tremaining: 1.32s\n",
            "322:\tlearn: 0.1028805\ttotal: 628ms\tremaining: 1.32s\n",
            "323:\tlearn: 0.1028016\ttotal: 630ms\tremaining: 1.31s\n",
            "324:\tlearn: 0.1026653\ttotal: 632ms\tremaining: 1.31s\n",
            "325:\tlearn: 0.1026158\ttotal: 634ms\tremaining: 1.31s\n",
            "326:\tlearn: 0.1025260\ttotal: 636ms\tremaining: 1.31s\n",
            "327:\tlearn: 0.1023957\ttotal: 638ms\tremaining: 1.31s\n",
            "328:\tlearn: 0.1022986\ttotal: 639ms\tremaining: 1.3s\n",
            "329:\tlearn: 0.1022331\ttotal: 641ms\tremaining: 1.3s\n",
            "330:\tlearn: 0.1020653\ttotal: 643ms\tremaining: 1.3s\n",
            "331:\tlearn: 0.1020071\ttotal: 645ms\tremaining: 1.3s\n",
            "332:\tlearn: 0.1019225\ttotal: 646ms\tremaining: 1.29s\n",
            "333:\tlearn: 0.1018316\ttotal: 648ms\tremaining: 1.29s\n",
            "334:\tlearn: 0.1017420\ttotal: 650ms\tremaining: 1.29s\n",
            "335:\tlearn: 0.1016579\ttotal: 652ms\tremaining: 1.29s\n",
            "336:\tlearn: 0.1015633\ttotal: 653ms\tremaining: 1.28s\n",
            "337:\tlearn: 0.1014409\ttotal: 655ms\tremaining: 1.28s\n",
            "338:\tlearn: 0.1013255\ttotal: 659ms\tremaining: 1.28s\n",
            "339:\tlearn: 0.1012568\ttotal: 660ms\tremaining: 1.28s\n",
            "340:\tlearn: 0.1011495\ttotal: 662ms\tremaining: 1.28s\n",
            "341:\tlearn: 0.1010513\ttotal: 664ms\tremaining: 1.28s\n",
            "342:\tlearn: 0.1009992\ttotal: 666ms\tremaining: 1.27s\n",
            "343:\tlearn: 0.1008278\ttotal: 668ms\tremaining: 1.27s\n",
            "344:\tlearn: 0.1007492\ttotal: 669ms\tremaining: 1.27s\n",
            "345:\tlearn: 0.1006736\ttotal: 671ms\tremaining: 1.27s\n",
            "346:\tlearn: 0.1006170\ttotal: 673ms\tremaining: 1.27s\n",
            "347:\tlearn: 0.1005574\ttotal: 675ms\tremaining: 1.26s\n",
            "348:\tlearn: 0.1004258\ttotal: 677ms\tremaining: 1.26s\n",
            "349:\tlearn: 0.1003489\ttotal: 678ms\tremaining: 1.26s\n",
            "350:\tlearn: 0.1003255\ttotal: 680ms\tremaining: 1.26s\n",
            "351:\tlearn: 0.1001538\ttotal: 682ms\tremaining: 1.25s\n",
            "352:\tlearn: 0.1000619\ttotal: 684ms\tremaining: 1.25s\n",
            "353:\tlearn: 0.0999378\ttotal: 687ms\tremaining: 1.25s\n",
            "354:\tlearn: 0.0998962\ttotal: 689ms\tremaining: 1.25s\n",
            "355:\tlearn: 0.0998192\ttotal: 693ms\tremaining: 1.25s\n",
            "356:\tlearn: 0.0997367\ttotal: 695ms\tremaining: 1.25s\n",
            "357:\tlearn: 0.0996577\ttotal: 700ms\tremaining: 1.26s\n",
            "358:\tlearn: 0.0995459\ttotal: 705ms\tremaining: 1.26s\n",
            "359:\tlearn: 0.0994237\ttotal: 709ms\tremaining: 1.26s\n",
            "360:\tlearn: 0.0994126\ttotal: 711ms\tremaining: 1.26s\n",
            "361:\tlearn: 0.0993279\ttotal: 713ms\tremaining: 1.26s\n",
            "362:\tlearn: 0.0992314\ttotal: 715ms\tremaining: 1.25s\n",
            "363:\tlearn: 0.0991435\ttotal: 717ms\tremaining: 1.25s\n",
            "364:\tlearn: 0.0990523\ttotal: 719ms\tremaining: 1.25s\n",
            "365:\tlearn: 0.0989107\ttotal: 720ms\tremaining: 1.25s\n",
            "366:\tlearn: 0.0988509\ttotal: 722ms\tremaining: 1.25s\n",
            "367:\tlearn: 0.0987602\ttotal: 724ms\tremaining: 1.24s\n",
            "368:\tlearn: 0.0987449\ttotal: 726ms\tremaining: 1.24s\n",
            "369:\tlearn: 0.0986636\ttotal: 727ms\tremaining: 1.24s\n",
            "370:\tlearn: 0.0985633\ttotal: 729ms\tremaining: 1.24s\n",
            "371:\tlearn: 0.0984774\ttotal: 731ms\tremaining: 1.23s\n",
            "372:\tlearn: 0.0984071\ttotal: 733ms\tremaining: 1.23s\n",
            "373:\tlearn: 0.0983354\ttotal: 734ms\tremaining: 1.23s\n",
            "374:\tlearn: 0.0982386\ttotal: 737ms\tremaining: 1.23s\n",
            "375:\tlearn: 0.0981435\ttotal: 739ms\tremaining: 1.23s\n",
            "376:\tlearn: 0.0980137\ttotal: 740ms\tremaining: 1.22s\n",
            "377:\tlearn: 0.0979325\ttotal: 742ms\tremaining: 1.22s\n",
            "378:\tlearn: 0.0978747\ttotal: 744ms\tremaining: 1.22s\n",
            "379:\tlearn: 0.0978053\ttotal: 746ms\tremaining: 1.22s\n",
            "380:\tlearn: 0.0976929\ttotal: 748ms\tremaining: 1.21s\n",
            "381:\tlearn: 0.0976259\ttotal: 749ms\tremaining: 1.21s\n",
            "382:\tlearn: 0.0975246\ttotal: 751ms\tremaining: 1.21s\n",
            "383:\tlearn: 0.0973708\ttotal: 753ms\tremaining: 1.21s\n",
            "384:\tlearn: 0.0972506\ttotal: 755ms\tremaining: 1.21s\n",
            "385:\tlearn: 0.0972092\ttotal: 756ms\tremaining: 1.2s\n",
            "386:\tlearn: 0.0971697\ttotal: 758ms\tremaining: 1.2s\n",
            "387:\tlearn: 0.0970904\ttotal: 760ms\tremaining: 1.2s\n",
            "388:\tlearn: 0.0969871\ttotal: 762ms\tremaining: 1.2s\n",
            "389:\tlearn: 0.0969204\ttotal: 764ms\tremaining: 1.2s\n",
            "390:\tlearn: 0.0968104\ttotal: 767ms\tremaining: 1.19s\n",
            "391:\tlearn: 0.0967320\ttotal: 769ms\tremaining: 1.19s\n",
            "392:\tlearn: 0.0966980\ttotal: 770ms\tremaining: 1.19s\n",
            "393:\tlearn: 0.0966260\ttotal: 772ms\tremaining: 1.19s\n",
            "394:\tlearn: 0.0965624\ttotal: 775ms\tremaining: 1.19s\n",
            "395:\tlearn: 0.0964963\ttotal: 776ms\tremaining: 1.18s\n",
            "396:\tlearn: 0.0964246\ttotal: 778ms\tremaining: 1.18s\n",
            "397:\tlearn: 0.0963230\ttotal: 780ms\tremaining: 1.18s\n",
            "398:\tlearn: 0.0962444\ttotal: 782ms\tremaining: 1.18s\n",
            "399:\tlearn: 0.0961392\ttotal: 784ms\tremaining: 1.18s\n",
            "400:\tlearn: 0.0960558\ttotal: 786ms\tremaining: 1.17s\n",
            "401:\tlearn: 0.0959564\ttotal: 788ms\tremaining: 1.17s\n",
            "402:\tlearn: 0.0958126\ttotal: 791ms\tremaining: 1.17s\n",
            "403:\tlearn: 0.0957293\ttotal: 792ms\tremaining: 1.17s\n",
            "404:\tlearn: 0.0956472\ttotal: 794ms\tremaining: 1.17s\n",
            "405:\tlearn: 0.0955318\ttotal: 796ms\tremaining: 1.16s\n",
            "406:\tlearn: 0.0954593\ttotal: 798ms\tremaining: 1.16s\n",
            "407:\tlearn: 0.0953594\ttotal: 799ms\tremaining: 1.16s\n",
            "408:\tlearn: 0.0952652\ttotal: 801ms\tremaining: 1.16s\n",
            "409:\tlearn: 0.0951561\ttotal: 803ms\tremaining: 1.16s\n",
            "410:\tlearn: 0.0951109\ttotal: 805ms\tremaining: 1.15s\n",
            "411:\tlearn: 0.0950107\ttotal: 807ms\tremaining: 1.15s\n",
            "412:\tlearn: 0.0949685\ttotal: 808ms\tremaining: 1.15s\n",
            "413:\tlearn: 0.0948589\ttotal: 810ms\tremaining: 1.15s\n",
            "414:\tlearn: 0.0947492\ttotal: 812ms\tremaining: 1.14s\n",
            "415:\tlearn: 0.0946444\ttotal: 814ms\tremaining: 1.14s\n",
            "416:\tlearn: 0.0946006\ttotal: 815ms\tremaining: 1.14s\n",
            "417:\tlearn: 0.0945372\ttotal: 817ms\tremaining: 1.14s\n",
            "418:\tlearn: 0.0944216\ttotal: 819ms\tremaining: 1.14s\n",
            "419:\tlearn: 0.0943529\ttotal: 821ms\tremaining: 1.13s\n",
            "420:\tlearn: 0.0942452\ttotal: 823ms\tremaining: 1.13s\n",
            "421:\tlearn: 0.0941739\ttotal: 826ms\tremaining: 1.13s\n",
            "422:\tlearn: 0.0941185\ttotal: 828ms\tremaining: 1.13s\n",
            "423:\tlearn: 0.0940372\ttotal: 830ms\tremaining: 1.13s\n",
            "424:\tlearn: 0.0939467\ttotal: 831ms\tremaining: 1.12s\n",
            "425:\tlearn: 0.0938482\ttotal: 833ms\tremaining: 1.12s\n",
            "426:\tlearn: 0.0937726\ttotal: 834ms\tremaining: 1.12s\n",
            "427:\tlearn: 0.0936977\ttotal: 837ms\tremaining: 1.12s\n",
            "428:\tlearn: 0.0936726\ttotal: 839ms\tremaining: 1.12s\n",
            "429:\tlearn: 0.0935849\ttotal: 841ms\tremaining: 1.11s\n",
            "430:\tlearn: 0.0934750\ttotal: 843ms\tremaining: 1.11s\n",
            "431:\tlearn: 0.0933157\ttotal: 845ms\tremaining: 1.11s\n",
            "432:\tlearn: 0.0931974\ttotal: 847ms\tremaining: 1.11s\n",
            "433:\tlearn: 0.0931016\ttotal: 849ms\tremaining: 1.11s\n",
            "434:\tlearn: 0.0930496\ttotal: 850ms\tremaining: 1.1s\n",
            "435:\tlearn: 0.0929616\ttotal: 852ms\tremaining: 1.1s\n",
            "436:\tlearn: 0.0929215\ttotal: 854ms\tremaining: 1.1s\n",
            "437:\tlearn: 0.0928522\ttotal: 856ms\tremaining: 1.1s\n",
            "438:\tlearn: 0.0927867\ttotal: 858ms\tremaining: 1.09s\n",
            "439:\tlearn: 0.0926927\ttotal: 859ms\tremaining: 1.09s\n",
            "440:\tlearn: 0.0926431\ttotal: 861ms\tremaining: 1.09s\n",
            "441:\tlearn: 0.0925249\ttotal: 863ms\tremaining: 1.09s\n",
            "442:\tlearn: 0.0923536\ttotal: 865ms\tremaining: 1.09s\n",
            "443:\tlearn: 0.0923022\ttotal: 867ms\tremaining: 1.08s\n",
            "444:\tlearn: 0.0922403\ttotal: 869ms\tremaining: 1.08s\n",
            "445:\tlearn: 0.0921704\ttotal: 871ms\tremaining: 1.08s\n",
            "446:\tlearn: 0.0920843\ttotal: 872ms\tremaining: 1.08s\n",
            "447:\tlearn: 0.0920171\ttotal: 874ms\tremaining: 1.08s\n",
            "448:\tlearn: 0.0919627\ttotal: 876ms\tremaining: 1.07s\n",
            "449:\tlearn: 0.0918934\ttotal: 878ms\tremaining: 1.07s\n",
            "450:\tlearn: 0.0918130\ttotal: 880ms\tremaining: 1.07s\n",
            "451:\tlearn: 0.0916850\ttotal: 882ms\tremaining: 1.07s\n",
            "452:\tlearn: 0.0915592\ttotal: 884ms\tremaining: 1.07s\n",
            "453:\tlearn: 0.0914579\ttotal: 885ms\tremaining: 1.06s\n",
            "454:\tlearn: 0.0913341\ttotal: 887ms\tremaining: 1.06s\n",
            "455:\tlearn: 0.0912799\ttotal: 889ms\tremaining: 1.06s\n",
            "456:\tlearn: 0.0911866\ttotal: 891ms\tremaining: 1.06s\n",
            "457:\tlearn: 0.0910791\ttotal: 893ms\tremaining: 1.06s\n",
            "458:\tlearn: 0.0909989\ttotal: 895ms\tremaining: 1.05s\n",
            "459:\tlearn: 0.0908886\ttotal: 897ms\tremaining: 1.05s\n",
            "460:\tlearn: 0.0908173\ttotal: 898ms\tremaining: 1.05s\n",
            "461:\tlearn: 0.0907126\ttotal: 900ms\tremaining: 1.05s\n",
            "462:\tlearn: 0.0906292\ttotal: 902ms\tremaining: 1.05s\n",
            "463:\tlearn: 0.0905767\ttotal: 904ms\tremaining: 1.04s\n",
            "464:\tlearn: 0.0904897\ttotal: 906ms\tremaining: 1.04s\n",
            "465:\tlearn: 0.0904360\ttotal: 907ms\tremaining: 1.04s\n",
            "466:\tlearn: 0.0903644\ttotal: 909ms\tremaining: 1.04s\n",
            "467:\tlearn: 0.0902791\ttotal: 911ms\tremaining: 1.03s\n",
            "468:\tlearn: 0.0902239\ttotal: 913ms\tremaining: 1.03s\n",
            "469:\tlearn: 0.0900769\ttotal: 915ms\tremaining: 1.03s\n",
            "470:\tlearn: 0.0899544\ttotal: 917ms\tremaining: 1.03s\n",
            "471:\tlearn: 0.0898687\ttotal: 919ms\tremaining: 1.03s\n",
            "472:\tlearn: 0.0897942\ttotal: 921ms\tremaining: 1.02s\n",
            "473:\tlearn: 0.0897547\ttotal: 922ms\tremaining: 1.02s\n",
            "474:\tlearn: 0.0896856\ttotal: 924ms\tremaining: 1.02s\n",
            "475:\tlearn: 0.0896329\ttotal: 926ms\tremaining: 1.02s\n",
            "476:\tlearn: 0.0896008\ttotal: 928ms\tremaining: 1.02s\n",
            "477:\tlearn: 0.0895354\ttotal: 929ms\tremaining: 1.01s\n",
            "478:\tlearn: 0.0894131\ttotal: 931ms\tremaining: 1.01s\n",
            "479:\tlearn: 0.0892993\ttotal: 933ms\tremaining: 1.01s\n",
            "480:\tlearn: 0.0892129\ttotal: 935ms\tremaining: 1.01s\n",
            "481:\tlearn: 0.0891530\ttotal: 937ms\tremaining: 1.01s\n",
            "482:\tlearn: 0.0890637\ttotal: 938ms\tremaining: 1s\n",
            "483:\tlearn: 0.0889637\ttotal: 940ms\tremaining: 1s\n",
            "484:\tlearn: 0.0888986\ttotal: 942ms\tremaining: 1s\n",
            "485:\tlearn: 0.0888056\ttotal: 944ms\tremaining: 999ms\n",
            "486:\tlearn: 0.0886843\ttotal: 946ms\tremaining: 997ms\n",
            "487:\tlearn: 0.0886000\ttotal: 948ms\tremaining: 995ms\n",
            "488:\tlearn: 0.0885006\ttotal: 950ms\tremaining: 993ms\n",
            "489:\tlearn: 0.0884474\ttotal: 954ms\tremaining: 993ms\n",
            "490:\tlearn: 0.0883930\ttotal: 957ms\tremaining: 992ms\n",
            "491:\tlearn: 0.0883193\ttotal: 958ms\tremaining: 989ms\n",
            "492:\tlearn: 0.0882321\ttotal: 960ms\tremaining: 987ms\n",
            "493:\tlearn: 0.0881649\ttotal: 962ms\tremaining: 985ms\n",
            "494:\tlearn: 0.0880441\ttotal: 964ms\tremaining: 983ms\n",
            "495:\tlearn: 0.0879921\ttotal: 965ms\tremaining: 981ms\n",
            "496:\tlearn: 0.0879141\ttotal: 967ms\tremaining: 979ms\n",
            "497:\tlearn: 0.0877769\ttotal: 969ms\tremaining: 977ms\n",
            "498:\tlearn: 0.0877132\ttotal: 971ms\tremaining: 975ms\n",
            "499:\tlearn: 0.0876453\ttotal: 973ms\tremaining: 973ms\n",
            "500:\tlearn: 0.0875932\ttotal: 975ms\tremaining: 971ms\n",
            "501:\tlearn: 0.0875220\ttotal: 976ms\tremaining: 969ms\n",
            "502:\tlearn: 0.0874773\ttotal: 978ms\tremaining: 967ms\n",
            "503:\tlearn: 0.0873784\ttotal: 980ms\tremaining: 965ms\n",
            "504:\tlearn: 0.0873161\ttotal: 982ms\tremaining: 962ms\n",
            "505:\tlearn: 0.0872412\ttotal: 984ms\tremaining: 960ms\n",
            "506:\tlearn: 0.0871922\ttotal: 986ms\tremaining: 958ms\n",
            "507:\tlearn: 0.0870307\ttotal: 987ms\tremaining: 956ms\n",
            "508:\tlearn: 0.0869778\ttotal: 989ms\tremaining: 954ms\n",
            "509:\tlearn: 0.0869473\ttotal: 991ms\tremaining: 952ms\n",
            "510:\tlearn: 0.0868838\ttotal: 993ms\tremaining: 950ms\n",
            "511:\tlearn: 0.0868087\ttotal: 995ms\tremaining: 948ms\n",
            "512:\tlearn: 0.0866985\ttotal: 997ms\tremaining: 946ms\n",
            "513:\tlearn: 0.0866500\ttotal: 999ms\tremaining: 944ms\n",
            "514:\tlearn: 0.0866160\ttotal: 1s\tremaining: 942ms\n",
            "515:\tlearn: 0.0865672\ttotal: 1s\tremaining: 940ms\n",
            "516:\tlearn: 0.0865158\ttotal: 1s\tremaining: 938ms\n",
            "517:\tlearn: 0.0864585\ttotal: 1.01s\tremaining: 936ms\n",
            "518:\tlearn: 0.0864209\ttotal: 1.01s\tremaining: 934ms\n",
            "519:\tlearn: 0.0863738\ttotal: 1.01s\tremaining: 932ms\n",
            "520:\tlearn: 0.0863252\ttotal: 1.01s\tremaining: 930ms\n",
            "521:\tlearn: 0.0862566\ttotal: 1.01s\tremaining: 928ms\n",
            "522:\tlearn: 0.0861831\ttotal: 1.01s\tremaining: 926ms\n",
            "523:\tlearn: 0.0861224\ttotal: 1.02s\tremaining: 925ms\n",
            "524:\tlearn: 0.0860935\ttotal: 1.02s\tremaining: 923ms\n",
            "525:\tlearn: 0.0860525\ttotal: 1.02s\tremaining: 921ms\n",
            "526:\tlearn: 0.0860127\ttotal: 1.02s\tremaining: 920ms\n",
            "527:\tlearn: 0.0859558\ttotal: 1.03s\tremaining: 918ms\n",
            "528:\tlearn: 0.0858752\ttotal: 1.03s\tremaining: 916ms\n",
            "529:\tlearn: 0.0857309\ttotal: 1.03s\tremaining: 914ms\n",
            "530:\tlearn: 0.0856670\ttotal: 1.03s\tremaining: 913ms\n",
            "531:\tlearn: 0.0856249\ttotal: 1.03s\tremaining: 911ms\n",
            "532:\tlearn: 0.0855459\ttotal: 1.04s\tremaining: 910ms\n",
            "533:\tlearn: 0.0854513\ttotal: 1.04s\tremaining: 908ms\n",
            "534:\tlearn: 0.0853790\ttotal: 1.04s\tremaining: 907ms\n",
            "535:\tlearn: 0.0852965\ttotal: 1.04s\tremaining: 905ms\n",
            "536:\tlearn: 0.0852137\ttotal: 1.05s\tremaining: 903ms\n",
            "537:\tlearn: 0.0851223\ttotal: 1.05s\tremaining: 901ms\n",
            "538:\tlearn: 0.0850808\ttotal: 1.05s\tremaining: 899ms\n",
            "539:\tlearn: 0.0850214\ttotal: 1.05s\tremaining: 897ms\n",
            "540:\tlearn: 0.0849659\ttotal: 1.05s\tremaining: 895ms\n",
            "541:\tlearn: 0.0849268\ttotal: 1.06s\tremaining: 893ms\n",
            "542:\tlearn: 0.0848439\ttotal: 1.06s\tremaining: 891ms\n",
            "543:\tlearn: 0.0848000\ttotal: 1.06s\tremaining: 888ms\n",
            "544:\tlearn: 0.0847084\ttotal: 1.06s\tremaining: 886ms\n",
            "545:\tlearn: 0.0846191\ttotal: 1.06s\tremaining: 884ms\n",
            "546:\tlearn: 0.0845631\ttotal: 1.06s\tremaining: 882ms\n",
            "547:\tlearn: 0.0844924\ttotal: 1.07s\tremaining: 880ms\n",
            "548:\tlearn: 0.0844558\ttotal: 1.07s\tremaining: 878ms\n",
            "549:\tlearn: 0.0843888\ttotal: 1.07s\tremaining: 876ms\n",
            "550:\tlearn: 0.0842728\ttotal: 1.07s\tremaining: 874ms\n",
            "551:\tlearn: 0.0842199\ttotal: 1.07s\tremaining: 872ms\n",
            "552:\tlearn: 0.0841461\ttotal: 1.08s\tremaining: 870ms\n",
            "553:\tlearn: 0.0840993\ttotal: 1.08s\tremaining: 868ms\n",
            "554:\tlearn: 0.0840270\ttotal: 1.08s\tremaining: 866ms\n",
            "555:\tlearn: 0.0839879\ttotal: 1.08s\tremaining: 865ms\n",
            "556:\tlearn: 0.0839077\ttotal: 1.08s\tremaining: 862ms\n",
            "557:\tlearn: 0.0838312\ttotal: 1.09s\tremaining: 860ms\n",
            "558:\tlearn: 0.0837588\ttotal: 1.09s\tremaining: 858ms\n",
            "559:\tlearn: 0.0837119\ttotal: 1.09s\tremaining: 856ms\n",
            "560:\tlearn: 0.0836947\ttotal: 1.09s\tremaining: 854ms\n",
            "561:\tlearn: 0.0836468\ttotal: 1.09s\tremaining: 853ms\n",
            "562:\tlearn: 0.0836030\ttotal: 1.09s\tremaining: 851ms\n",
            "563:\tlearn: 0.0835347\ttotal: 1.1s\tremaining: 849ms\n",
            "564:\tlearn: 0.0834882\ttotal: 1.1s\tremaining: 847ms\n",
            "565:\tlearn: 0.0834135\ttotal: 1.1s\tremaining: 845ms\n",
            "566:\tlearn: 0.0833571\ttotal: 1.1s\tremaining: 843ms\n",
            "567:\tlearn: 0.0832706\ttotal: 1.1s\tremaining: 841ms\n",
            "568:\tlearn: 0.0832396\ttotal: 1.11s\tremaining: 839ms\n",
            "569:\tlearn: 0.0832098\ttotal: 1.11s\tremaining: 837ms\n",
            "570:\tlearn: 0.0831097\ttotal: 1.11s\tremaining: 835ms\n",
            "571:\tlearn: 0.0830476\ttotal: 1.11s\tremaining: 833ms\n",
            "572:\tlearn: 0.0829681\ttotal: 1.11s\tremaining: 831ms\n",
            "573:\tlearn: 0.0829329\ttotal: 1.12s\tremaining: 829ms\n",
            "574:\tlearn: 0.0829039\ttotal: 1.12s\tremaining: 828ms\n",
            "575:\tlearn: 0.0828642\ttotal: 1.12s\tremaining: 827ms\n",
            "576:\tlearn: 0.0828104\ttotal: 1.12s\tremaining: 824ms\n",
            "577:\tlearn: 0.0827369\ttotal: 1.13s\tremaining: 822ms\n",
            "578:\tlearn: 0.0826494\ttotal: 1.13s\tremaining: 820ms\n",
            "579:\tlearn: 0.0826110\ttotal: 1.13s\tremaining: 818ms\n",
            "580:\tlearn: 0.0825385\ttotal: 1.13s\tremaining: 817ms\n",
            "581:\tlearn: 0.0824975\ttotal: 1.13s\tremaining: 815ms\n",
            "582:\tlearn: 0.0824385\ttotal: 1.14s\tremaining: 813ms\n",
            "583:\tlearn: 0.0823947\ttotal: 1.14s\tremaining: 811ms\n",
            "584:\tlearn: 0.0823564\ttotal: 1.14s\tremaining: 810ms\n",
            "585:\tlearn: 0.0823151\ttotal: 1.14s\tremaining: 809ms\n",
            "586:\tlearn: 0.0822486\ttotal: 1.15s\tremaining: 807ms\n",
            "587:\tlearn: 0.0821751\ttotal: 1.15s\tremaining: 806ms\n",
            "588:\tlearn: 0.0821155\ttotal: 1.15s\tremaining: 804ms\n",
            "589:\tlearn: 0.0820395\ttotal: 1.15s\tremaining: 802ms\n",
            "590:\tlearn: 0.0820006\ttotal: 1.16s\tremaining: 801ms\n",
            "591:\tlearn: 0.0819090\ttotal: 1.16s\tremaining: 799ms\n",
            "592:\tlearn: 0.0818146\ttotal: 1.16s\tremaining: 797ms\n",
            "593:\tlearn: 0.0817536\ttotal: 1.16s\tremaining: 795ms\n",
            "594:\tlearn: 0.0816945\ttotal: 1.17s\tremaining: 794ms\n",
            "595:\tlearn: 0.0816673\ttotal: 1.17s\tremaining: 791ms\n",
            "596:\tlearn: 0.0815907\ttotal: 1.17s\tremaining: 789ms\n",
            "597:\tlearn: 0.0814942\ttotal: 1.17s\tremaining: 787ms\n",
            "598:\tlearn: 0.0814529\ttotal: 1.17s\tremaining: 785ms\n",
            "599:\tlearn: 0.0814155\ttotal: 1.17s\tremaining: 783ms\n",
            "600:\tlearn: 0.0813424\ttotal: 1.18s\tremaining: 781ms\n",
            "601:\tlearn: 0.0813139\ttotal: 1.18s\tremaining: 779ms\n",
            "602:\tlearn: 0.0812886\ttotal: 1.18s\tremaining: 777ms\n",
            "603:\tlearn: 0.0812421\ttotal: 1.18s\tremaining: 775ms\n",
            "604:\tlearn: 0.0811741\ttotal: 1.18s\tremaining: 773ms\n",
            "605:\tlearn: 0.0810913\ttotal: 1.19s\tremaining: 772ms\n",
            "606:\tlearn: 0.0810254\ttotal: 1.19s\tremaining: 770ms\n",
            "607:\tlearn: 0.0809843\ttotal: 1.19s\tremaining: 768ms\n",
            "608:\tlearn: 0.0809192\ttotal: 1.19s\tremaining: 766ms\n",
            "609:\tlearn: 0.0808426\ttotal: 1.2s\tremaining: 765ms\n",
            "610:\tlearn: 0.0807686\ttotal: 1.2s\tremaining: 763ms\n",
            "611:\tlearn: 0.0807005\ttotal: 1.2s\tremaining: 761ms\n",
            "612:\tlearn: 0.0806219\ttotal: 1.2s\tremaining: 759ms\n",
            "613:\tlearn: 0.0805753\ttotal: 1.2s\tremaining: 757ms\n",
            "614:\tlearn: 0.0805255\ttotal: 1.21s\tremaining: 756ms\n",
            "615:\tlearn: 0.0804774\ttotal: 1.21s\tremaining: 754ms\n",
            "616:\tlearn: 0.0804493\ttotal: 1.21s\tremaining: 752ms\n",
            "617:\tlearn: 0.0804087\ttotal: 1.21s\tremaining: 750ms\n",
            "618:\tlearn: 0.0803700\ttotal: 1.21s\tremaining: 748ms\n",
            "619:\tlearn: 0.0803159\ttotal: 1.22s\tremaining: 746ms\n",
            "620:\tlearn: 0.0802850\ttotal: 1.22s\tremaining: 743ms\n",
            "621:\tlearn: 0.0802479\ttotal: 1.22s\tremaining: 741ms\n",
            "622:\tlearn: 0.0802144\ttotal: 1.22s\tremaining: 739ms\n",
            "623:\tlearn: 0.0801293\ttotal: 1.22s\tremaining: 737ms\n",
            "624:\tlearn: 0.0800893\ttotal: 1.23s\tremaining: 735ms\n",
            "625:\tlearn: 0.0800643\ttotal: 1.23s\tremaining: 733ms\n",
            "626:\tlearn: 0.0800000\ttotal: 1.23s\tremaining: 731ms\n",
            "627:\tlearn: 0.0799072\ttotal: 1.23s\tremaining: 730ms\n",
            "628:\tlearn: 0.0798762\ttotal: 1.23s\tremaining: 727ms\n",
            "629:\tlearn: 0.0797850\ttotal: 1.24s\tremaining: 726ms\n",
            "630:\tlearn: 0.0797551\ttotal: 1.24s\tremaining: 724ms\n",
            "631:\tlearn: 0.0797142\ttotal: 1.24s\tremaining: 722ms\n",
            "632:\tlearn: 0.0796776\ttotal: 1.24s\tremaining: 720ms\n",
            "633:\tlearn: 0.0796451\ttotal: 1.24s\tremaining: 718ms\n",
            "634:\tlearn: 0.0795982\ttotal: 1.24s\tremaining: 716ms\n",
            "635:\tlearn: 0.0795354\ttotal: 1.25s\tremaining: 714ms\n",
            "636:\tlearn: 0.0794988\ttotal: 1.25s\tremaining: 712ms\n",
            "637:\tlearn: 0.0794615\ttotal: 1.25s\tremaining: 710ms\n",
            "638:\tlearn: 0.0794268\ttotal: 1.25s\tremaining: 708ms\n",
            "639:\tlearn: 0.0793661\ttotal: 1.25s\tremaining: 706ms\n",
            "640:\tlearn: 0.0793373\ttotal: 1.26s\tremaining: 704ms\n",
            "641:\tlearn: 0.0793024\ttotal: 1.26s\tremaining: 702ms\n",
            "642:\tlearn: 0.0792443\ttotal: 1.26s\tremaining: 700ms\n",
            "643:\tlearn: 0.0792043\ttotal: 1.26s\tremaining: 698ms\n",
            "644:\tlearn: 0.0791213\ttotal: 1.26s\tremaining: 696ms\n",
            "645:\tlearn: 0.0790863\ttotal: 1.27s\tremaining: 694ms\n",
            "646:\tlearn: 0.0790521\ttotal: 1.27s\tremaining: 692ms\n",
            "647:\tlearn: 0.0790177\ttotal: 1.27s\tremaining: 690ms\n",
            "648:\tlearn: 0.0789908\ttotal: 1.27s\tremaining: 688ms\n",
            "649:\tlearn: 0.0789475\ttotal: 1.27s\tremaining: 686ms\n",
            "650:\tlearn: 0.0789148\ttotal: 1.27s\tremaining: 684ms\n",
            "651:\tlearn: 0.0788728\ttotal: 1.28s\tremaining: 682ms\n",
            "652:\tlearn: 0.0788134\ttotal: 1.28s\tremaining: 681ms\n",
            "653:\tlearn: 0.0787179\ttotal: 1.28s\tremaining: 679ms\n",
            "654:\tlearn: 0.0786511\ttotal: 1.28s\tremaining: 677ms\n",
            "655:\tlearn: 0.0786084\ttotal: 1.29s\tremaining: 675ms\n",
            "656:\tlearn: 0.0785811\ttotal: 1.29s\tremaining: 673ms\n",
            "657:\tlearn: 0.0785505\ttotal: 1.29s\tremaining: 671ms\n",
            "658:\tlearn: 0.0785204\ttotal: 1.29s\tremaining: 669ms\n",
            "659:\tlearn: 0.0784391\ttotal: 1.29s\tremaining: 667ms\n",
            "660:\tlearn: 0.0783978\ttotal: 1.29s\tremaining: 665ms\n",
            "661:\tlearn: 0.0783069\ttotal: 1.3s\tremaining: 662ms\n",
            "662:\tlearn: 0.0782744\ttotal: 1.3s\tremaining: 660ms\n",
            "663:\tlearn: 0.0782295\ttotal: 1.3s\tremaining: 659ms\n",
            "664:\tlearn: 0.0781889\ttotal: 1.3s\tremaining: 657ms\n",
            "665:\tlearn: 0.0781184\ttotal: 1.3s\tremaining: 655ms\n",
            "666:\tlearn: 0.0780575\ttotal: 1.31s\tremaining: 653ms\n",
            "667:\tlearn: 0.0780140\ttotal: 1.31s\tremaining: 651ms\n",
            "668:\tlearn: 0.0779850\ttotal: 1.31s\tremaining: 648ms\n",
            "669:\tlearn: 0.0779567\ttotal: 1.31s\tremaining: 646ms\n",
            "670:\tlearn: 0.0778945\ttotal: 1.31s\tremaining: 644ms\n",
            "671:\tlearn: 0.0778639\ttotal: 1.32s\tremaining: 642ms\n",
            "672:\tlearn: 0.0778068\ttotal: 1.32s\tremaining: 640ms\n",
            "673:\tlearn: 0.0777471\ttotal: 1.32s\tremaining: 638ms\n",
            "674:\tlearn: 0.0776817\ttotal: 1.32s\tremaining: 636ms\n",
            "675:\tlearn: 0.0776420\ttotal: 1.32s\tremaining: 634ms\n",
            "676:\tlearn: 0.0775901\ttotal: 1.32s\tremaining: 632ms\n",
            "677:\tlearn: 0.0775630\ttotal: 1.33s\tremaining: 630ms\n",
            "678:\tlearn: 0.0775243\ttotal: 1.33s\tremaining: 628ms\n",
            "679:\tlearn: 0.0774742\ttotal: 1.33s\tremaining: 628ms\n",
            "680:\tlearn: 0.0774477\ttotal: 1.34s\tremaining: 626ms\n",
            "681:\tlearn: 0.0774326\ttotal: 1.34s\tremaining: 624ms\n",
            "682:\tlearn: 0.0773448\ttotal: 1.34s\tremaining: 622ms\n",
            "683:\tlearn: 0.0772943\ttotal: 1.34s\tremaining: 620ms\n",
            "684:\tlearn: 0.0772594\ttotal: 1.34s\tremaining: 618ms\n",
            "685:\tlearn: 0.0772142\ttotal: 1.34s\tremaining: 616ms\n",
            "686:\tlearn: 0.0771756\ttotal: 1.35s\tremaining: 614ms\n",
            "687:\tlearn: 0.0771455\ttotal: 1.35s\tremaining: 612ms\n",
            "688:\tlearn: 0.0770919\ttotal: 1.35s\tremaining: 610ms\n",
            "689:\tlearn: 0.0770025\ttotal: 1.35s\tremaining: 608ms\n",
            "690:\tlearn: 0.0769708\ttotal: 1.35s\tremaining: 606ms\n",
            "691:\tlearn: 0.0769197\ttotal: 1.36s\tremaining: 604ms\n",
            "692:\tlearn: 0.0768790\ttotal: 1.36s\tremaining: 602ms\n",
            "693:\tlearn: 0.0768010\ttotal: 1.36s\tremaining: 600ms\n",
            "694:\tlearn: 0.0767576\ttotal: 1.36s\tremaining: 598ms\n",
            "695:\tlearn: 0.0766727\ttotal: 1.36s\tremaining: 596ms\n",
            "696:\tlearn: 0.0766370\ttotal: 1.37s\tremaining: 594ms\n",
            "697:\tlearn: 0.0766000\ttotal: 1.37s\tremaining: 592ms\n",
            "698:\tlearn: 0.0765785\ttotal: 1.37s\tremaining: 590ms\n",
            "699:\tlearn: 0.0765492\ttotal: 1.38s\tremaining: 590ms\n",
            "700:\tlearn: 0.0764840\ttotal: 1.38s\tremaining: 588ms\n",
            "701:\tlearn: 0.0764646\ttotal: 1.38s\tremaining: 585ms\n",
            "702:\tlearn: 0.0764140\ttotal: 1.38s\tremaining: 583ms\n",
            "703:\tlearn: 0.0763851\ttotal: 1.38s\tremaining: 581ms\n",
            "704:\tlearn: 0.0763691\ttotal: 1.39s\tremaining: 580ms\n",
            "705:\tlearn: 0.0762873\ttotal: 1.39s\tremaining: 578ms\n",
            "706:\tlearn: 0.0762320\ttotal: 1.39s\tremaining: 576ms\n",
            "707:\tlearn: 0.0762041\ttotal: 1.39s\tremaining: 574ms\n",
            "708:\tlearn: 0.0761766\ttotal: 1.39s\tremaining: 572ms\n",
            "709:\tlearn: 0.0761413\ttotal: 1.4s\tremaining: 570ms\n",
            "710:\tlearn: 0.0761163\ttotal: 1.4s\tremaining: 568ms\n",
            "711:\tlearn: 0.0760702\ttotal: 1.4s\tremaining: 566ms\n",
            "712:\tlearn: 0.0760359\ttotal: 1.4s\tremaining: 564ms\n",
            "713:\tlearn: 0.0760114\ttotal: 1.4s\tremaining: 562ms\n",
            "714:\tlearn: 0.0759174\ttotal: 1.41s\tremaining: 560ms\n",
            "715:\tlearn: 0.0758641\ttotal: 1.41s\tremaining: 559ms\n",
            "716:\tlearn: 0.0758414\ttotal: 1.41s\tremaining: 558ms\n",
            "717:\tlearn: 0.0757857\ttotal: 1.42s\tremaining: 559ms\n",
            "718:\tlearn: 0.0756938\ttotal: 1.43s\tremaining: 558ms\n",
            "719:\tlearn: 0.0756611\ttotal: 1.43s\tremaining: 558ms\n",
            "720:\tlearn: 0.0756007\ttotal: 1.44s\tremaining: 556ms\n",
            "721:\tlearn: 0.0755763\ttotal: 1.44s\tremaining: 554ms\n",
            "722:\tlearn: 0.0755274\ttotal: 1.44s\tremaining: 553ms\n",
            "723:\tlearn: 0.0755003\ttotal: 1.45s\tremaining: 551ms\n",
            "724:\tlearn: 0.0754479\ttotal: 1.45s\tremaining: 552ms\n",
            "725:\tlearn: 0.0754149\ttotal: 1.46s\tremaining: 551ms\n",
            "726:\tlearn: 0.0753668\ttotal: 1.47s\tremaining: 550ms\n",
            "727:\tlearn: 0.0753435\ttotal: 1.47s\tremaining: 549ms\n",
            "728:\tlearn: 0.0752601\ttotal: 1.47s\tremaining: 548ms\n",
            "729:\tlearn: 0.0752081\ttotal: 1.48s\tremaining: 546ms\n",
            "730:\tlearn: 0.0751573\ttotal: 1.48s\tremaining: 544ms\n",
            "731:\tlearn: 0.0751334\ttotal: 1.48s\tremaining: 542ms\n",
            "732:\tlearn: 0.0750853\ttotal: 1.48s\tremaining: 540ms\n",
            "733:\tlearn: 0.0750712\ttotal: 1.48s\tremaining: 538ms\n",
            "734:\tlearn: 0.0750014\ttotal: 1.49s\tremaining: 536ms\n",
            "735:\tlearn: 0.0749543\ttotal: 1.49s\tremaining: 534ms\n",
            "736:\tlearn: 0.0748984\ttotal: 1.49s\tremaining: 532ms\n",
            "737:\tlearn: 0.0748679\ttotal: 1.49s\tremaining: 530ms\n",
            "738:\tlearn: 0.0748544\ttotal: 1.49s\tremaining: 528ms\n",
            "739:\tlearn: 0.0748029\ttotal: 1.5s\tremaining: 526ms\n",
            "740:\tlearn: 0.0747509\ttotal: 1.5s\tremaining: 524ms\n",
            "741:\tlearn: 0.0747059\ttotal: 1.5s\tremaining: 522ms\n",
            "742:\tlearn: 0.0746764\ttotal: 1.5s\tremaining: 520ms\n",
            "743:\tlearn: 0.0746089\ttotal: 1.5s\tremaining: 518ms\n",
            "744:\tlearn: 0.0745646\ttotal: 1.51s\tremaining: 516ms\n",
            "745:\tlearn: 0.0745153\ttotal: 1.51s\tremaining: 514ms\n",
            "746:\tlearn: 0.0744842\ttotal: 1.51s\tremaining: 512ms\n",
            "747:\tlearn: 0.0743661\ttotal: 1.51s\tremaining: 510ms\n",
            "748:\tlearn: 0.0743129\ttotal: 1.52s\tremaining: 508ms\n",
            "749:\tlearn: 0.0742610\ttotal: 1.52s\tremaining: 506ms\n",
            "750:\tlearn: 0.0741953\ttotal: 1.52s\tremaining: 504ms\n",
            "751:\tlearn: 0.0741513\ttotal: 1.52s\tremaining: 502ms\n",
            "752:\tlearn: 0.0741014\ttotal: 1.52s\tremaining: 500ms\n",
            "753:\tlearn: 0.0740577\ttotal: 1.53s\tremaining: 499ms\n",
            "754:\tlearn: 0.0739827\ttotal: 1.53s\tremaining: 498ms\n",
            "755:\tlearn: 0.0739267\ttotal: 1.54s\tremaining: 497ms\n",
            "756:\tlearn: 0.0738885\ttotal: 1.54s\tremaining: 496ms\n",
            "757:\tlearn: 0.0738060\ttotal: 1.55s\tremaining: 495ms\n",
            "758:\tlearn: 0.0737692\ttotal: 1.55s\tremaining: 494ms\n",
            "759:\tlearn: 0.0736865\ttotal: 1.56s\tremaining: 492ms\n",
            "760:\tlearn: 0.0736289\ttotal: 1.57s\tremaining: 492ms\n",
            "761:\tlearn: 0.0736000\ttotal: 1.57s\tremaining: 491ms\n",
            "762:\tlearn: 0.0735439\ttotal: 1.58s\tremaining: 490ms\n",
            "763:\tlearn: 0.0735203\ttotal: 1.58s\tremaining: 488ms\n",
            "764:\tlearn: 0.0734665\ttotal: 1.58s\tremaining: 487ms\n",
            "765:\tlearn: 0.0734177\ttotal: 1.59s\tremaining: 486ms\n",
            "766:\tlearn: 0.0733460\ttotal: 1.59s\tremaining: 484ms\n",
            "767:\tlearn: 0.0733280\ttotal: 1.6s\tremaining: 483ms\n",
            "768:\tlearn: 0.0733038\ttotal: 1.6s\tremaining: 482ms\n",
            "769:\tlearn: 0.0731922\ttotal: 1.61s\tremaining: 481ms\n",
            "770:\tlearn: 0.0731481\ttotal: 1.61s\tremaining: 479ms\n",
            "771:\tlearn: 0.0731015\ttotal: 1.62s\tremaining: 479ms\n",
            "772:\tlearn: 0.0730596\ttotal: 1.62s\tremaining: 477ms\n",
            "773:\tlearn: 0.0730125\ttotal: 1.63s\tremaining: 476ms\n",
            "774:\tlearn: 0.0729704\ttotal: 1.63s\tremaining: 474ms\n",
            "775:\tlearn: 0.0729254\ttotal: 1.64s\tremaining: 473ms\n",
            "776:\tlearn: 0.0728992\ttotal: 1.64s\tremaining: 472ms\n",
            "777:\tlearn: 0.0728606\ttotal: 1.65s\tremaining: 470ms\n",
            "778:\tlearn: 0.0728190\ttotal: 1.65s\tremaining: 469ms\n",
            "779:\tlearn: 0.0727631\ttotal: 1.66s\tremaining: 468ms\n",
            "780:\tlearn: 0.0727278\ttotal: 1.66s\tremaining: 466ms\n",
            "781:\tlearn: 0.0726467\ttotal: 1.67s\tremaining: 465ms\n",
            "782:\tlearn: 0.0726003\ttotal: 1.67s\tremaining: 463ms\n",
            "783:\tlearn: 0.0725285\ttotal: 1.68s\tremaining: 462ms\n",
            "784:\tlearn: 0.0724529\ttotal: 1.68s\tremaining: 460ms\n",
            "785:\tlearn: 0.0724134\ttotal: 1.68s\tremaining: 458ms\n",
            "786:\tlearn: 0.0723708\ttotal: 1.68s\tremaining: 456ms\n",
            "787:\tlearn: 0.0723203\ttotal: 1.69s\tremaining: 454ms\n",
            "788:\tlearn: 0.0722375\ttotal: 1.69s\tremaining: 451ms\n",
            "789:\tlearn: 0.0721914\ttotal: 1.69s\tremaining: 449ms\n",
            "790:\tlearn: 0.0721130\ttotal: 1.69s\tremaining: 447ms\n",
            "791:\tlearn: 0.0720587\ttotal: 1.7s\tremaining: 446ms\n",
            "792:\tlearn: 0.0720220\ttotal: 1.7s\tremaining: 444ms\n",
            "793:\tlearn: 0.0719131\ttotal: 1.71s\tremaining: 443ms\n",
            "794:\tlearn: 0.0718645\ttotal: 1.71s\tremaining: 441ms\n",
            "795:\tlearn: 0.0718225\ttotal: 1.71s\tremaining: 439ms\n",
            "796:\tlearn: 0.0717462\ttotal: 1.71s\tremaining: 436ms\n",
            "797:\tlearn: 0.0716739\ttotal: 1.71s\tremaining: 434ms\n",
            "798:\tlearn: 0.0716255\ttotal: 1.72s\tremaining: 432ms\n",
            "799:\tlearn: 0.0715728\ttotal: 1.72s\tremaining: 430ms\n",
            "800:\tlearn: 0.0715352\ttotal: 1.72s\tremaining: 427ms\n",
            "801:\tlearn: 0.0714769\ttotal: 1.72s\tremaining: 425ms\n",
            "802:\tlearn: 0.0714393\ttotal: 1.72s\tremaining: 423ms\n",
            "803:\tlearn: 0.0714121\ttotal: 1.73s\tremaining: 421ms\n",
            "804:\tlearn: 0.0713572\ttotal: 1.73s\tremaining: 419ms\n",
            "805:\tlearn: 0.0712523\ttotal: 1.73s\tremaining: 416ms\n",
            "806:\tlearn: 0.0712156\ttotal: 1.73s\tremaining: 414ms\n",
            "807:\tlearn: 0.0711475\ttotal: 1.73s\tremaining: 412ms\n",
            "808:\tlearn: 0.0710700\ttotal: 1.74s\tremaining: 410ms\n",
            "809:\tlearn: 0.0710006\ttotal: 1.74s\tremaining: 407ms\n",
            "810:\tlearn: 0.0709774\ttotal: 1.74s\tremaining: 405ms\n",
            "811:\tlearn: 0.0709433\ttotal: 1.74s\tremaining: 403ms\n",
            "812:\tlearn: 0.0708777\ttotal: 1.74s\tremaining: 401ms\n",
            "813:\tlearn: 0.0708526\ttotal: 1.74s\tremaining: 399ms\n",
            "814:\tlearn: 0.0707786\ttotal: 1.75s\tremaining: 396ms\n",
            "815:\tlearn: 0.0707345\ttotal: 1.75s\tremaining: 394ms\n",
            "816:\tlearn: 0.0707019\ttotal: 1.75s\tremaining: 392ms\n",
            "817:\tlearn: 0.0706086\ttotal: 1.75s\tremaining: 390ms\n",
            "818:\tlearn: 0.0705427\ttotal: 1.75s\tremaining: 388ms\n",
            "819:\tlearn: 0.0704991\ttotal: 1.75s\tremaining: 385ms\n",
            "820:\tlearn: 0.0704172\ttotal: 1.76s\tremaining: 383ms\n",
            "821:\tlearn: 0.0703841\ttotal: 1.76s\tremaining: 381ms\n",
            "822:\tlearn: 0.0703573\ttotal: 1.76s\tremaining: 379ms\n",
            "823:\tlearn: 0.0702789\ttotal: 1.76s\tremaining: 377ms\n",
            "824:\tlearn: 0.0702081\ttotal: 1.76s\tremaining: 374ms\n",
            "825:\tlearn: 0.0701905\ttotal: 1.77s\tremaining: 372ms\n",
            "826:\tlearn: 0.0701207\ttotal: 1.77s\tremaining: 370ms\n",
            "827:\tlearn: 0.0700989\ttotal: 1.77s\tremaining: 368ms\n",
            "828:\tlearn: 0.0700596\ttotal: 1.77s\tremaining: 366ms\n",
            "829:\tlearn: 0.0700280\ttotal: 1.77s\tremaining: 363ms\n",
            "830:\tlearn: 0.0699912\ttotal: 1.78s\tremaining: 361ms\n",
            "831:\tlearn: 0.0698914\ttotal: 1.78s\tremaining: 359ms\n",
            "832:\tlearn: 0.0697946\ttotal: 1.78s\tremaining: 357ms\n",
            "833:\tlearn: 0.0697158\ttotal: 1.78s\tremaining: 355ms\n",
            "834:\tlearn: 0.0696898\ttotal: 1.78s\tremaining: 353ms\n",
            "835:\tlearn: 0.0695944\ttotal: 1.78s\tremaining: 350ms\n",
            "836:\tlearn: 0.0695654\ttotal: 1.79s\tremaining: 348ms\n",
            "837:\tlearn: 0.0694981\ttotal: 1.79s\tremaining: 346ms\n",
            "838:\tlearn: 0.0694251\ttotal: 1.79s\tremaining: 344ms\n",
            "839:\tlearn: 0.0693488\ttotal: 1.79s\tremaining: 342ms\n",
            "840:\tlearn: 0.0692653\ttotal: 1.8s\tremaining: 340ms\n",
            "841:\tlearn: 0.0692194\ttotal: 1.8s\tremaining: 337ms\n",
            "842:\tlearn: 0.0691961\ttotal: 1.8s\tremaining: 335ms\n",
            "843:\tlearn: 0.0691604\ttotal: 1.8s\tremaining: 333ms\n",
            "844:\tlearn: 0.0691245\ttotal: 1.8s\tremaining: 331ms\n",
            "845:\tlearn: 0.0690678\ttotal: 1.8s\tremaining: 329ms\n",
            "846:\tlearn: 0.0690293\ttotal: 1.81s\tremaining: 326ms\n",
            "847:\tlearn: 0.0690064\ttotal: 1.81s\tremaining: 324ms\n",
            "848:\tlearn: 0.0689835\ttotal: 1.81s\tremaining: 322ms\n",
            "849:\tlearn: 0.0689181\ttotal: 1.81s\tremaining: 320ms\n",
            "850:\tlearn: 0.0688763\ttotal: 1.81s\tremaining: 318ms\n",
            "851:\tlearn: 0.0687917\ttotal: 1.82s\tremaining: 316ms\n",
            "852:\tlearn: 0.0687474\ttotal: 1.82s\tremaining: 313ms\n",
            "853:\tlearn: 0.0687252\ttotal: 1.82s\tremaining: 311ms\n",
            "854:\tlearn: 0.0686879\ttotal: 1.82s\tremaining: 309ms\n",
            "855:\tlearn: 0.0686660\ttotal: 1.82s\tremaining: 307ms\n",
            "856:\tlearn: 0.0686230\ttotal: 1.83s\tremaining: 305ms\n",
            "857:\tlearn: 0.0686064\ttotal: 1.83s\tremaining: 304ms\n",
            "858:\tlearn: 0.0685708\ttotal: 1.84s\tremaining: 302ms\n",
            "859:\tlearn: 0.0685366\ttotal: 1.84s\tremaining: 299ms\n",
            "860:\tlearn: 0.0684981\ttotal: 1.84s\tremaining: 297ms\n",
            "861:\tlearn: 0.0684334\ttotal: 1.84s\tremaining: 295ms\n",
            "862:\tlearn: 0.0683731\ttotal: 1.84s\tremaining: 293ms\n",
            "863:\tlearn: 0.0683000\ttotal: 1.85s\tremaining: 291ms\n",
            "864:\tlearn: 0.0682294\ttotal: 1.85s\tremaining: 288ms\n",
            "865:\tlearn: 0.0682007\ttotal: 1.85s\tremaining: 286ms\n",
            "866:\tlearn: 0.0681755\ttotal: 1.85s\tremaining: 284ms\n",
            "867:\tlearn: 0.0681474\ttotal: 1.85s\tremaining: 282ms\n",
            "868:\tlearn: 0.0681030\ttotal: 1.85s\tremaining: 280ms\n",
            "869:\tlearn: 0.0680412\ttotal: 1.86s\tremaining: 278ms\n",
            "870:\tlearn: 0.0680137\ttotal: 1.86s\tremaining: 275ms\n",
            "871:\tlearn: 0.0679796\ttotal: 1.86s\tremaining: 273ms\n",
            "872:\tlearn: 0.0679602\ttotal: 1.86s\tremaining: 271ms\n",
            "873:\tlearn: 0.0678987\ttotal: 1.87s\tremaining: 269ms\n",
            "874:\tlearn: 0.0678171\ttotal: 1.87s\tremaining: 267ms\n",
            "875:\tlearn: 0.0677839\ttotal: 1.87s\tremaining: 265ms\n",
            "876:\tlearn: 0.0677460\ttotal: 1.87s\tremaining: 263ms\n",
            "877:\tlearn: 0.0676751\ttotal: 1.88s\tremaining: 261ms\n",
            "878:\tlearn: 0.0676141\ttotal: 1.88s\tremaining: 259ms\n",
            "879:\tlearn: 0.0675550\ttotal: 1.88s\tremaining: 256ms\n",
            "880:\tlearn: 0.0675128\ttotal: 1.88s\tremaining: 254ms\n",
            "881:\tlearn: 0.0674738\ttotal: 1.88s\tremaining: 252ms\n",
            "882:\tlearn: 0.0674003\ttotal: 1.89s\tremaining: 250ms\n",
            "883:\tlearn: 0.0673579\ttotal: 1.89s\tremaining: 248ms\n",
            "884:\tlearn: 0.0673370\ttotal: 1.89s\tremaining: 246ms\n",
            "885:\tlearn: 0.0672765\ttotal: 1.89s\tremaining: 243ms\n",
            "886:\tlearn: 0.0672219\ttotal: 1.89s\tremaining: 241ms\n",
            "887:\tlearn: 0.0671637\ttotal: 1.89s\tremaining: 239ms\n",
            "888:\tlearn: 0.0671276\ttotal: 1.9s\tremaining: 237ms\n",
            "889:\tlearn: 0.0671066\ttotal: 1.9s\tremaining: 235ms\n",
            "890:\tlearn: 0.0670669\ttotal: 1.9s\tremaining: 233ms\n",
            "891:\tlearn: 0.0669889\ttotal: 1.9s\tremaining: 230ms\n",
            "892:\tlearn: 0.0669442\ttotal: 1.9s\tremaining: 228ms\n",
            "893:\tlearn: 0.0669238\ttotal: 1.91s\tremaining: 226ms\n",
            "894:\tlearn: 0.0668552\ttotal: 1.91s\tremaining: 224ms\n",
            "895:\tlearn: 0.0667671\ttotal: 1.91s\tremaining: 222ms\n",
            "896:\tlearn: 0.0667427\ttotal: 1.91s\tremaining: 220ms\n",
            "897:\tlearn: 0.0667052\ttotal: 1.92s\tremaining: 218ms\n",
            "898:\tlearn: 0.0666352\ttotal: 1.92s\tremaining: 215ms\n",
            "899:\tlearn: 0.0665791\ttotal: 1.92s\tremaining: 213ms\n",
            "900:\tlearn: 0.0665592\ttotal: 1.92s\tremaining: 211ms\n",
            "901:\tlearn: 0.0665120\ttotal: 1.92s\tremaining: 209ms\n",
            "902:\tlearn: 0.0664788\ttotal: 1.92s\tremaining: 207ms\n",
            "903:\tlearn: 0.0663937\ttotal: 1.93s\tremaining: 205ms\n",
            "904:\tlearn: 0.0663564\ttotal: 1.93s\tremaining: 202ms\n",
            "905:\tlearn: 0.0663304\ttotal: 1.93s\tremaining: 200ms\n",
            "906:\tlearn: 0.0663110\ttotal: 1.93s\tremaining: 198ms\n",
            "907:\tlearn: 0.0662707\ttotal: 1.93s\tremaining: 196ms\n",
            "908:\tlearn: 0.0662300\ttotal: 1.94s\tremaining: 194ms\n",
            "909:\tlearn: 0.0661898\ttotal: 1.94s\tremaining: 192ms\n",
            "910:\tlearn: 0.0661353\ttotal: 1.94s\tremaining: 190ms\n",
            "911:\tlearn: 0.0660938\ttotal: 1.94s\tremaining: 188ms\n",
            "912:\tlearn: 0.0660680\ttotal: 1.95s\tremaining: 186ms\n",
            "913:\tlearn: 0.0660462\ttotal: 1.95s\tremaining: 183ms\n",
            "914:\tlearn: 0.0659829\ttotal: 1.95s\tremaining: 181ms\n",
            "915:\tlearn: 0.0659370\ttotal: 1.95s\tremaining: 179ms\n",
            "916:\tlearn: 0.0659109\ttotal: 1.96s\tremaining: 177ms\n",
            "917:\tlearn: 0.0658551\ttotal: 1.96s\tremaining: 175ms\n",
            "918:\tlearn: 0.0658017\ttotal: 1.96s\tremaining: 173ms\n",
            "919:\tlearn: 0.0657818\ttotal: 1.96s\tremaining: 171ms\n",
            "920:\tlearn: 0.0657278\ttotal: 1.96s\tremaining: 168ms\n",
            "921:\tlearn: 0.0656891\ttotal: 1.96s\tremaining: 166ms\n",
            "922:\tlearn: 0.0656443\ttotal: 1.97s\tremaining: 164ms\n",
            "923:\tlearn: 0.0656104\ttotal: 1.97s\tremaining: 162ms\n",
            "924:\tlearn: 0.0655755\ttotal: 1.97s\tremaining: 160ms\n",
            "925:\tlearn: 0.0655436\ttotal: 1.97s\tremaining: 158ms\n",
            "926:\tlearn: 0.0655224\ttotal: 1.97s\tremaining: 155ms\n",
            "927:\tlearn: 0.0654499\ttotal: 1.98s\tremaining: 153ms\n",
            "928:\tlearn: 0.0654260\ttotal: 1.98s\tremaining: 151ms\n",
            "929:\tlearn: 0.0653741\ttotal: 1.98s\tremaining: 149ms\n",
            "930:\tlearn: 0.0653561\ttotal: 1.98s\tremaining: 147ms\n",
            "931:\tlearn: 0.0653038\ttotal: 1.98s\tremaining: 145ms\n",
            "932:\tlearn: 0.0652845\ttotal: 1.98s\tremaining: 143ms\n",
            "933:\tlearn: 0.0652314\ttotal: 1.99s\tremaining: 140ms\n",
            "934:\tlearn: 0.0652138\ttotal: 1.99s\tremaining: 138ms\n",
            "935:\tlearn: 0.0651455\ttotal: 1.99s\tremaining: 136ms\n",
            "936:\tlearn: 0.0651267\ttotal: 2s\tremaining: 134ms\n",
            "937:\tlearn: 0.0650879\ttotal: 2s\tremaining: 132ms\n",
            "938:\tlearn: 0.0650634\ttotal: 2s\tremaining: 130ms\n",
            "939:\tlearn: 0.0650118\ttotal: 2s\tremaining: 128ms\n",
            "940:\tlearn: 0.0649398\ttotal: 2s\tremaining: 126ms\n",
            "941:\tlearn: 0.0649215\ttotal: 2s\tremaining: 123ms\n",
            "942:\tlearn: 0.0649045\ttotal: 2.01s\tremaining: 121ms\n",
            "943:\tlearn: 0.0648386\ttotal: 2.01s\tremaining: 119ms\n",
            "944:\tlearn: 0.0648242\ttotal: 2.01s\tremaining: 117ms\n",
            "945:\tlearn: 0.0647562\ttotal: 2.01s\tremaining: 115ms\n",
            "946:\tlearn: 0.0647384\ttotal: 2.01s\tremaining: 113ms\n",
            "947:\tlearn: 0.0646847\ttotal: 2.02s\tremaining: 111ms\n",
            "948:\tlearn: 0.0646203\ttotal: 2.02s\tremaining: 108ms\n",
            "949:\tlearn: 0.0645585\ttotal: 2.02s\tremaining: 106ms\n",
            "950:\tlearn: 0.0645347\ttotal: 2.02s\tremaining: 104ms\n",
            "951:\tlearn: 0.0644854\ttotal: 2.02s\tremaining: 102ms\n",
            "952:\tlearn: 0.0644715\ttotal: 2.02s\tremaining: 99.9ms\n",
            "953:\tlearn: 0.0644120\ttotal: 2.03s\tremaining: 97.8ms\n",
            "954:\tlearn: 0.0643888\ttotal: 2.03s\tremaining: 95.6ms\n",
            "955:\tlearn: 0.0643101\ttotal: 2.03s\tremaining: 93.5ms\n",
            "956:\tlearn: 0.0642937\ttotal: 2.03s\tremaining: 91.4ms\n",
            "957:\tlearn: 0.0642692\ttotal: 2.04s\tremaining: 89.2ms\n",
            "958:\tlearn: 0.0642324\ttotal: 2.04s\tremaining: 87.1ms\n",
            "959:\tlearn: 0.0641942\ttotal: 2.04s\tremaining: 84.9ms\n",
            "960:\tlearn: 0.0641365\ttotal: 2.04s\tremaining: 82.8ms\n",
            "961:\tlearn: 0.0640509\ttotal: 2.04s\tremaining: 80.7ms\n",
            "962:\tlearn: 0.0639816\ttotal: 2.04s\tremaining: 78.6ms\n",
            "963:\tlearn: 0.0639654\ttotal: 2.05s\tremaining: 76.4ms\n",
            "964:\tlearn: 0.0639515\ttotal: 2.05s\tremaining: 74.3ms\n",
            "965:\tlearn: 0.0639340\ttotal: 2.05s\tremaining: 72.2ms\n",
            "966:\tlearn: 0.0638854\ttotal: 2.05s\tremaining: 70.1ms\n",
            "967:\tlearn: 0.0638111\ttotal: 2.06s\tremaining: 68.1ms\n",
            "968:\tlearn: 0.0637723\ttotal: 2.06s\tremaining: 66ms\n",
            "969:\tlearn: 0.0637355\ttotal: 2.06s\tremaining: 63.8ms\n",
            "970:\tlearn: 0.0636621\ttotal: 2.06s\tremaining: 61.7ms\n",
            "971:\tlearn: 0.0636321\ttotal: 2.07s\tremaining: 59.6ms\n",
            "972:\tlearn: 0.0636187\ttotal: 2.07s\tremaining: 57.4ms\n",
            "973:\tlearn: 0.0635810\ttotal: 2.07s\tremaining: 55.3ms\n",
            "974:\tlearn: 0.0635640\ttotal: 2.07s\tremaining: 53.2ms\n",
            "975:\tlearn: 0.0635190\ttotal: 2.07s\tremaining: 51ms\n",
            "976:\tlearn: 0.0635018\ttotal: 2.08s\tremaining: 48.9ms\n",
            "977:\tlearn: 0.0634859\ttotal: 2.08s\tremaining: 46.8ms\n",
            "978:\tlearn: 0.0634512\ttotal: 2.08s\tremaining: 44.7ms\n",
            "979:\tlearn: 0.0634356\ttotal: 2.08s\tremaining: 42.5ms\n",
            "980:\tlearn: 0.0634099\ttotal: 2.09s\tremaining: 40.4ms\n",
            "981:\tlearn: 0.0633383\ttotal: 2.09s\tremaining: 38.3ms\n",
            "982:\tlearn: 0.0632918\ttotal: 2.09s\tremaining: 36.2ms\n",
            "983:\tlearn: 0.0632331\ttotal: 2.09s\tremaining: 34ms\n",
            "984:\tlearn: 0.0632178\ttotal: 2.1s\tremaining: 31.9ms\n",
            "985:\tlearn: 0.0631516\ttotal: 2.1s\tremaining: 29.8ms\n",
            "986:\tlearn: 0.0631365\ttotal: 2.1s\tremaining: 27.6ms\n",
            "987:\tlearn: 0.0631216\ttotal: 2.1s\tremaining: 25.5ms\n",
            "988:\tlearn: 0.0630852\ttotal: 2.1s\tremaining: 23.4ms\n",
            "989:\tlearn: 0.0630363\ttotal: 2.1s\tremaining: 21.3ms\n",
            "990:\tlearn: 0.0630197\ttotal: 2.1s\tremaining: 19.1ms\n",
            "991:\tlearn: 0.0630051\ttotal: 2.11s\tremaining: 17ms\n",
            "992:\tlearn: 0.0629586\ttotal: 2.11s\tremaining: 14.9ms\n",
            "993:\tlearn: 0.0628955\ttotal: 2.11s\tremaining: 12.7ms\n",
            "994:\tlearn: 0.0628697\ttotal: 2.11s\tremaining: 10.6ms\n",
            "995:\tlearn: 0.0628188\ttotal: 2.11s\tremaining: 8.49ms\n",
            "996:\tlearn: 0.0628044\ttotal: 2.12s\tremaining: 6.37ms\n",
            "997:\tlearn: 0.0627264\ttotal: 2.12s\tremaining: 4.25ms\n",
            "998:\tlearn: 0.0626902\ttotal: 2.12s\tremaining: 2.12ms\n",
            "999:\tlearn: 0.0626566\ttotal: 2.12s\tremaining: 0us\n"
          ]
        },
        {
          "output_type": "execute_result",
          "data": {
            "text/plain": [
              "<matplotlib.axes._subplots.AxesSubplot at 0x7f40104204f0>"
            ]
          },
          "metadata": {},
          "execution_count": 121
        },
        {
          "output_type": "display_data",
          "data": {
            "text/plain": [
              "<Figure size 432x288 with 2 Axes>"
            ],
            "image/png": "[encoded data removed]"
          },
          "metadata": {
            "needs_background": "light"
          }
        }
      ]
    },
    {
      "cell_type": "code",
      "source": [
        "from sklearn.metrics import classification_report\n",
        "print(classification_report(y_test , y_predict))\n",
        "pd.crosstab(y_test , y_predict)"
      ],
      "metadata": {
        "colab": {
          "base_uri": "https://localhost:8080/"
        },
        "id": "Ujjaqik_0bV2",
        "outputId": "81cb7e91-08a5-4827-9693-c54b293d9511"
      },
      "execution_count": null,
      "outputs": [
        {
          "output_type": "stream",
          "name": "stdout",
          "text": [
            "              precision    recall  f1-score   support\n",
            "\n",
            "           0       0.96      1.00      0.98       939\n",
            "           1       0.00      0.00      0.00        43\n",
            "\n",
            "    accuracy                           0.96       982\n",
            "   macro avg       0.48      0.50      0.49       982\n",
            "weighted avg       0.91      0.96      0.93       982\n",
            "\n"
          ]
        },
        {
          "output_type": "stream",
          "name": "stderr",
          "text": [
            "/usr/local/lib/python3.8/dist-packages/sklearn/metrics/_classification.py:1318: UndefinedMetricWarning: Precision and F-score are ill-defined and being set to 0.0 in labels with no predicted samples. Use `zero_division` parameter to control this behavior.\n",
            "  _warn_prf(average, modifier, msg_start, len(result))\n",
            "/usr/local/lib/python3.8/dist-packages/sklearn/metrics/_classification.py:1318: UndefinedMetricWarning: Precision and F-score are ill-defined and being set to 0.0 in labels with no predicted samples. Use `zero_division` parameter to control this behavior.\n",
            "  _warn_prf(average, modifier, msg_start, len(result))\n",
            "/usr/local/lib/python3.8/dist-packages/sklearn/metrics/_classification.py:1318: UndefinedMetricWarning: Precision and F-score are ill-defined and being set to 0.0 in labels with no predicted samples. Use `zero_division` parameter to control this behavior.\n",
            "  _warn_prf(average, modifier, msg_start, len(result))\n"
          ]
        },
        {
          "output_type": "execute_result",
          "data": {
            "text/plain": [
              "col_0    0\n",
              "row_0     \n",
              "0      939\n",
              "1       43"
            ],
            "text/html": [
              "\n",
              "  <div id=\"df-17e96e53-f781-47b2-bc01-60c6c4ddff67\">\n",
              "    <div class=\"colab-df-container\">\n",
              "      <div>\n",
              "<style scoped>\n",
              "    .dataframe tbody tr th:only-of-type {\n",
              "        vertical-align: middle;\n",
              "    }\n",
              "\n",
              "    .dataframe tbody tr th {\n",
              "        vertical-align: top;\n",
              "    }\n",
              "\n",
              "    .dataframe thead th {\n",
              "        text-align: right;\n",
              "    }\n",
              "</style>\n",
              "<table border=\"1\" class=\"dataframe\">\n",
              "  <thead>\n",
              "    <tr style=\"text-align: right;\">\n",
              "      <th>col_0</th>\n",
              "      <th>0</th>\n",
              "    </tr>\n",
              "    <tr>\n",
              "      <th>row_0</th>\n",
              "      <th></th>\n",
              "    </tr>\n",
              "  </thead>\n",
              "  <tbody>\n",
              "    <tr>\n",
              "      <th>0</th>\n",
              "      <td>939</td>\n",
              "    </tr>\n",
              "    <tr>\n",
              "      <th>1</th>\n",
              "      <td>43</td>\n",
              "    </tr>\n",
              "  </tbody>\n",
              "</table>\n",
              "</div>\n",
              "      <button class=\"colab-df-convert\" onclick=\"convertToInteractive('df-17e96e53-f781-47b2-bc01-60c6c4ddff67')\"\n",
              "              title=\"Convert this dataframe to an interactive table.\"\n",
              "              style=\"display:none;\">\n",
              "        \n",
              "  <svg xmlns=\"http://www.w3.org/2000/svg\" height=\"24px\"viewBox=\"0 0 24 24\"\n",
              "       width=\"24px\">\n",
              "    <path d=\"M0 0h24v24H0V0z\" fill=\"none\"/>\n",
              "    <path d=\"M18.56 5.44l.94 2.06.94-2.06 2.06-.94-2.06-.94-.94-2.06-.94 2.06-2.06.94zm-11 1L8.5 8.5l.94-2.06 2.06-.94-2.06-.94L8.5 2.5l-.94 2.06-2.06.94zm10 10l.94 2.06.94-2.06 2.06-.94-2.06-.94-.94-2.06-.94 2.06-2.06.94z\"/><path d=\"M17.41 7.96l-1.37-1.37c-.4-.4-.92-.59-1.43-.59-.52 0-1.04.2-1.43.59L10.3 9.45l-7.72 7.72c-.78.78-.78 2.05 0 2.83L4 21.41c.39.39.9.59 1.41.59.51 0 1.02-.2 1.41-.59l7.78-7.78 2.81-2.81c.8-.78.8-2.07 0-2.86zM5.41 20L4 18.59l7.72-7.72 1.47 1.35L5.41 20z\"/>\n",
              "  </svg>\n",
              "      </button>\n",
              "      \n",
              "  <style>\n",
              "    .colab-df-container {\n",
              "      display:flex;\n",
              "      flex-wrap:wrap;\n",
              "      gap: 12px;\n",
              "    }\n",
              "\n",
              "    .colab-df-convert {\n",
              "      background-color: #E8F0FE;\n",
              "      border: none;\n",
              "      border-radius: 50%;\n",
              "      cursor: pointer;\n",
              "      display: none;\n",
              "      fill: #1967D2;\n",
              "      height: 32px;\n",
              "      padding: 0 0 0 0;\n",
              "      width: 32px;\n",
              "    }\n",
              "\n",
              "    .colab-df-convert:hover {\n",
              "      background-color: #E2EBFA;\n",
              "      box-shadow: 0px 1px 2px rgba(60, 64, 67, 0.3), 0px 1px 3px 1px rgba(60, 64, 67, 0.15);\n",
              "      fill: #174EA6;\n",
              "    }\n",
              "\n",
              "    [theme=dark] .colab-df-convert {\n",
              "      background-color: #3B4455;\n",
              "      fill: #D2E3FC;\n",
              "    }\n",
              "\n",
              "    [theme=dark] .colab-df-convert:hover {\n",
              "      background-color: #434B5C;\n",
              "      box-shadow: 0px 1px 3px 1px rgba(0, 0, 0, 0.15);\n",
              "      filter: drop-shadow(0px 1px 2px rgba(0, 0, 0, 0.3));\n",
              "      fill: #FFFFFF;\n",
              "    }\n",
              "  </style>\n",
              "\n",
              "      <script>\n",
              "        const buttonEl =\n",
              "          document.querySelector('#df-17e96e53-f781-47b2-bc01-60c6c4ddff67 button.colab-df-convert');\n",
              "        buttonEl.style.display =\n",
              "          google.colab.kernel.accessAllowed ? 'block' : 'none';\n",
              "\n",
              "        async function convertToInteractive(key) {\n",
              "          const element = document.querySelector('#df-17e96e53-f781-47b2-bc01-60c6c4ddff67');\n",
              "          const dataTable =\n",
              "            await google.colab.kernel.invokeFunction('convertToInteractive',\n",
              "                                                     [key], {});\n",
              "          if (!dataTable) return;\n",
              "\n",
              "          const docLinkHtml = 'Like what you see? Visit the ' +\n",
              "            '<a target=\"_blank\" href=https://colab.research.google.com/notebooks/data_table.ipynb>data table notebook</a>'\n",
              "            + ' to learn more about interactive tables.';\n",
              "          element.innerHTML = '';\n",
              "          dataTable['output_type'] = 'display_data';\n",
              "          await google.colab.output.renderOutput(dataTable, element);\n",
              "          const docLink = document.createElement('div');\n",
              "          docLink.innerHTML = docLinkHtml;\n",
              "          element.appendChild(docLink);\n",
              "        }\n",
              "      </script>\n",
              "    </div>\n",
              "  </div>\n",
              "  "
            ]
          },
          "metadata": {},
          "execution_count": 122
        }
      ]
    },
    {
      "cell_type": "code",
      "source": [
        "from sklearn.metrics import accuracy_score\n",
        "f=accuracy_score(y_test, y_predict)\n",
        "f"
      ],
      "metadata": {
        "colab": {
          "base_uri": "https://localhost:8080/"
        },
        "id": "2hX46Xb6_oEY",
        "outputId": "98258c88-7d7c-4d0f-af0d-6e9fd4e089b2"
      },
      "execution_count": null,
      "outputs": [
        {
          "output_type": "execute_result",
          "data": {
            "text/plain": [
              "0.9562118126272913"
            ]
          },
          "metadata": {},
          "execution_count": 123
        }
      ]
    },
    {
      "cell_type": "code",
      "source": [
        "perf_measure(y_test, y_predict)"
      ],
      "metadata": {
        "colab": {
          "base_uri": "https://localhost:8080/"
        },
        "outputId": "6478c2b7-68d5-42e1-a56b-9a8dd7c5d158",
        "id": "Gu3hvs9wVeH-"
      },
      "execution_count": null,
      "outputs": [
        {
          "output_type": "execute_result",
          "data": {
            "text/plain": [
              "(0, 0, 939, 43)"
            ]
          },
          "metadata": {},
          "execution_count": 124
        }
      ]
    },
    {
      "cell_type": "code",
      "source": [
        "f1 = truepositive(y_test, y_predict)\n",
        "f1"
      ],
      "metadata": {
        "colab": {
          "base_uri": "https://localhost:8080/"
        },
        "outputId": "7fa3b0db-f2bd-47be-92a0-21625a61c83f",
        "id": "MT1qr6aCVlPF"
      },
      "execution_count": null,
      "outputs": [
        {
          "output_type": "execute_result",
          "data": {
            "text/plain": [
              "0"
            ]
          },
          "metadata": {},
          "execution_count": 125
        }
      ]
    },
    {
      "cell_type": "markdown",
      "source": [
        "**GaussianNB**"
      ],
      "metadata": {
        "id": "HIuSkxTudxhW"
      }
    },
    {
      "cell_type": "code",
      "source": [
        "from sklearn.naive_bayes import GaussianNB\n",
        "model = GaussianNB()\n",
        "model.fit(x_train, y_train)\n",
        "y_pred = model.predict(x_test)\n",
        "accuracy_score(y_test, y_pred)"
      ],
      "metadata": {
        "colab": {
          "base_uri": "https://localhost:8080/"
        },
        "id": "kMUPdvoZO-N0",
        "outputId": "7ed42841-5a18-4d5c-8b89-96ab96e43863"
      },
      "execution_count": null,
      "outputs": [
        {
          "output_type": "execute_result",
          "data": {
            "text/plain": [
              "0.8778004073319755"
            ]
          },
          "metadata": {},
          "execution_count": 126
        }
      ]
    },
    {
      "cell_type": "code",
      "source": [
        "from sklearn.metrics import classification_report\n",
        "print(classification_report(y_test , y_predict))\n",
        "pd.crosstab(y_test , y_predict)"
      ],
      "metadata": {
        "colab": {
          "base_uri": "https://localhost:8080/"
        },
        "outputId": "e32084ed-9b25-49e2-c4dd-38b560b09db0",
        "id": "9TevsZIwPF9U"
      },
      "execution_count": null,
      "outputs": [
        {
          "output_type": "stream",
          "name": "stdout",
          "text": [
            "              precision    recall  f1-score   support\n",
            "\n",
            "           0       0.96      1.00      0.98       939\n",
            "           1       0.00      0.00      0.00        43\n",
            "\n",
            "    accuracy                           0.96       982\n",
            "   macro avg       0.48      0.50      0.49       982\n",
            "weighted avg       0.91      0.96      0.93       982\n",
            "\n"
          ]
        },
        {
          "output_type": "stream",
          "name": "stderr",
          "text": [
            "/usr/local/lib/python3.8/dist-packages/sklearn/metrics/_classification.py:1318: UndefinedMetricWarning: Precision and F-score are ill-defined and being set to 0.0 in labels with no predicted samples. Use `zero_division` parameter to control this behavior.\n",
            "  _warn_prf(average, modifier, msg_start, len(result))\n",
            "/usr/local/lib/python3.8/dist-packages/sklearn/metrics/_classification.py:1318: UndefinedMetricWarning: Precision and F-score are ill-defined and being set to 0.0 in labels with no predicted samples. Use `zero_division` parameter to control this behavior.\n",
            "  _warn_prf(average, modifier, msg_start, len(result))\n",
            "/usr/local/lib/python3.8/dist-packages/sklearn/metrics/_classification.py:1318: UndefinedMetricWarning: Precision and F-score are ill-defined and being set to 0.0 in labels with no predicted samples. Use `zero_division` parameter to control this behavior.\n",
            "  _warn_prf(average, modifier, msg_start, len(result))\n"
          ]
        },
        {
          "output_type": "execute_result",
          "data": {
            "text/plain": [
              "col_0    0\n",
              "row_0     \n",
              "0      939\n",
              "1       43"
            ],
            "text/html": [
              "\n",
              "  <div id=\"df-b8d9d309-c427-4b3b-b4e6-77f69b738e8b\">\n",
              "    <div class=\"colab-df-container\">\n",
              "      <div>\n",
              "<style scoped>\n",
              "    .dataframe tbody tr th:only-of-type {\n",
              "        vertical-align: middle;\n",
              "    }\n",
              "\n",
              "    .dataframe tbody tr th {\n",
              "        vertical-align: top;\n",
              "    }\n",
              "\n",
              "    .dataframe thead th {\n",
              "        text-align: right;\n",
              "    }\n",
              "</style>\n",
              "<table border=\"1\" class=\"dataframe\">\n",
              "  <thead>\n",
              "    <tr style=\"text-align: right;\">\n",
              "      <th>col_0</th>\n",
              "      <th>0</th>\n",
              "    </tr>\n",
              "    <tr>\n",
              "      <th>row_0</th>\n",
              "      <th></th>\n",
              "    </tr>\n",
              "  </thead>\n",
              "  <tbody>\n",
              "    <tr>\n",
              "      <th>0</th>\n",
              "      <td>939</td>\n",
              "    </tr>\n",
              "    <tr>\n",
              "      <th>1</th>\n",
              "      <td>43</td>\n",
              "    </tr>\n",
              "  </tbody>\n",
              "</table>\n",
              "</div>\n",
              "      <button class=\"colab-df-convert\" onclick=\"convertToInteractive('df-b8d9d309-c427-4b3b-b4e6-77f69b738e8b')\"\n",
              "              title=\"Convert this dataframe to an interactive table.\"\n",
              "              style=\"display:none;\">\n",
              "        \n",
              "  <svg xmlns=\"http://www.w3.org/2000/svg\" height=\"24px\"viewBox=\"0 0 24 24\"\n",
              "       width=\"24px\">\n",
              "    <path d=\"M0 0h24v24H0V0z\" fill=\"none\"/>\n",
              "    <path d=\"M18.56 5.44l.94 2.06.94-2.06 2.06-.94-2.06-.94-.94-2.06-.94 2.06-2.06.94zm-11 1L8.5 8.5l.94-2.06 2.06-.94-2.06-.94L8.5 2.5l-.94 2.06-2.06.94zm10 10l.94 2.06.94-2.06 2.06-.94-2.06-.94-.94-2.06-.94 2.06-2.06.94z\"/><path d=\"M17.41 7.96l-1.37-1.37c-.4-.4-.92-.59-1.43-.59-.52 0-1.04.2-1.43.59L10.3 9.45l-7.72 7.72c-.78.78-.78 2.05 0 2.83L4 21.41c.39.39.9.59 1.41.59.51 0 1.02-.2 1.41-.59l7.78-7.78 2.81-2.81c.8-.78.8-2.07 0-2.86zM5.41 20L4 18.59l7.72-7.72 1.47 1.35L5.41 20z\"/>\n",
              "  </svg>\n",
              "      </button>\n",
              "      \n",
              "  <style>\n",
              "    .colab-df-container {\n",
              "      display:flex;\n",
              "      flex-wrap:wrap;\n",
              "      gap: 12px;\n",
              "    }\n",
              "\n",
              "    .colab-df-convert {\n",
              "      background-color: #E8F0FE;\n",
              "      border: none;\n",
              "      border-radius: 50%;\n",
              "      cursor: pointer;\n",
              "      display: none;\n",
              "      fill: #1967D2;\n",
              "      height: 32px;\n",
              "      padding: 0 0 0 0;\n",
              "      width: 32px;\n",
              "    }\n",
              "\n",
              "    .colab-df-convert:hover {\n",
              "      background-color: #E2EBFA;\n",
              "      box-shadow: 0px 1px 2px rgba(60, 64, 67, 0.3), 0px 1px 3px 1px rgba(60, 64, 67, 0.15);\n",
              "      fill: #174EA6;\n",
              "    }\n",
              "\n",
              "    [theme=dark] .colab-df-convert {\n",
              "      background-color: #3B4455;\n",
              "      fill: #D2E3FC;\n",
              "    }\n",
              "\n",
              "    [theme=dark] .colab-df-convert:hover {\n",
              "      background-color: #434B5C;\n",
              "      box-shadow: 0px 1px 3px 1px rgba(0, 0, 0, 0.15);\n",
              "      filter: drop-shadow(0px 1px 2px rgba(0, 0, 0, 0.3));\n",
              "      fill: #FFFFFF;\n",
              "    }\n",
              "  </style>\n",
              "\n",
              "      <script>\n",
              "        const buttonEl =\n",
              "          document.querySelector('#df-b8d9d309-c427-4b3b-b4e6-77f69b738e8b button.colab-df-convert');\n",
              "        buttonEl.style.display =\n",
              "          google.colab.kernel.accessAllowed ? 'block' : 'none';\n",
              "\n",
              "        async function convertToInteractive(key) {\n",
              "          const element = document.querySelector('#df-b8d9d309-c427-4b3b-b4e6-77f69b738e8b');\n",
              "          const dataTable =\n",
              "            await google.colab.kernel.invokeFunction('convertToInteractive',\n",
              "                                                     [key], {});\n",
              "          if (!dataTable) return;\n",
              "\n",
              "          const docLinkHtml = 'Like what you see? Visit the ' +\n",
              "            '<a target=\"_blank\" href=https://colab.research.google.com/notebooks/data_table.ipynb>data table notebook</a>'\n",
              "            + ' to learn more about interactive tables.';\n",
              "          element.innerHTML = '';\n",
              "          dataTable['output_type'] = 'display_data';\n",
              "          await google.colab.output.renderOutput(dataTable, element);\n",
              "          const docLink = document.createElement('div');\n",
              "          docLink.innerHTML = docLinkHtml;\n",
              "          element.appendChild(docLink);\n",
              "        }\n",
              "      </script>\n",
              "    </div>\n",
              "  </div>\n",
              "  "
            ]
          },
          "metadata": {},
          "execution_count": 127
        }
      ]
    },
    {
      "cell_type": "code",
      "source": [
        "from sklearn.metrics import accuracy_score\n",
        "g=accuracy_score(y_test, y_predict)\n",
        "g"
      ],
      "metadata": {
        "colab": {
          "base_uri": "https://localhost:8080/"
        },
        "outputId": "d93ae16d-82c6-4cca-f736-652b3b3261b7",
        "id": "_XYhgnmNQNEV"
      },
      "execution_count": null,
      "outputs": [
        {
          "output_type": "execute_result",
          "data": {
            "text/plain": [
              "0.9562118126272913"
            ]
          },
          "metadata": {},
          "execution_count": 128
        }
      ]
    },
    {
      "cell_type": "code",
      "source": [
        "perf_measure(y_test, y_predict)"
      ],
      "metadata": {
        "colab": {
          "base_uri": "https://localhost:8080/"
        },
        "outputId": "73aed6b9-6ac0-4654-bbb7-9c34e53b7293",
        "id": "YldzjSCfQNEV"
      },
      "execution_count": null,
      "outputs": [
        {
          "output_type": "execute_result",
          "data": {
            "text/plain": [
              "(0, 0, 939, 43)"
            ]
          },
          "metadata": {},
          "execution_count": 129
        }
      ]
    },
    {
      "cell_type": "code",
      "source": [
        "g1 = truepositive(y_test, y_predict)\n",
        "g1"
      ],
      "metadata": {
        "colab": {
          "base_uri": "https://localhost:8080/"
        },
        "outputId": "7a6b346e-c0cd-44e1-b25c-852fc2731c44",
        "id": "Ck67evqkQNEV"
      },
      "execution_count": null,
      "outputs": [
        {
          "output_type": "execute_result",
          "data": {
            "text/plain": [
              "0"
            ]
          },
          "metadata": {},
          "execution_count": 130
        }
      ]
    },
    {
      "cell_type": "markdown",
      "source": [
        "# **Result of our prediction**"
      ],
      "metadata": {
        "id": "PJOslRwwAMdq"
      }
    },
    {
      "cell_type": "code",
      "source": [
        "# totall accuracy \n",
        "plt.figure(figsize=[10,6])\n",
        "left=[1,2,3,4,5,6]\n",
        "high=[a,b,c,d,e,f]\n",
        "tic=['regression' , 'k_nearest' , 'decission trees' , 'naive bayes', 'xgboost' , 'catboost']\n",
        "plt.bar(left, high ,tick_label=tic  ,width=0.5 ,color=['green' , 'blue' ,'yellow' ,'red','black','pink'])\n",
        "plt.show()"
      ],
      "metadata": {
        "colab": {
          "base_uri": "https://localhost:8080/",
          "height": 378
        },
        "id": "KlTMXr9E_xqB",
        "outputId": "70615604-a6bb-46b0-be6b-cd2d78ffba0b"
      },
      "execution_count": null,
      "outputs": [
        {
          "output_type": "display_data",
          "data": {
            "text/plain": [
              "<Figure size 720x432 with 1 Axes>"
            ],
            "image/png": "[encoded data removed]"
          },
          "metadata": {
            "needs_background": "light"
          }
        }
      ]
    },
    {
      "cell_type": "code",
      "source": [
        "# class 1\n",
        "plt.figure(figsize=[10,6])\n",
        "left=[1,2,3,4,5,6]\n",
        "high=[a1,b1,c1,d1,e1,f1]\n",
        "tic=['regression' , 'k_nearest' , 'decission trees' ,'naive bayes', 'xgboost' , 'catboost']\n",
        "plt.bar(left, high ,tick_label=tic  ,width=0.5 ,color=['green' , 'blue' ,'yellow' ,'red','black'])"
      ],
      "metadata": {
        "colab": {
          "base_uri": "https://localhost:8080/",
          "height": 393
        },
        "id": "2Bt0FfASVp5P",
        "outputId": "efdcfeb0-0d5d-4f0c-c89d-6e9adce2b19e"
      },
      "execution_count": null,
      "outputs": [
        {
          "output_type": "execute_result",
          "data": {
            "text/plain": [
              "<BarContainer object of 6 artists>"
            ]
          },
          "metadata": {},
          "execution_count": 132
        },
        {
          "output_type": "display_data",
          "data": {
            "text/plain": [
              "<Figure size 720x432 with 1 Axes>"
            ],
            "image/png": "[encoded data removed]"
          },
          "metadata": {
            "needs_background": "light"
          }
        }
      ]
    },
    {
      "cell_type": "markdown",
      "source": [
        "Best Model for our data is decission trees but Naive bayes classification is the best model for predict our lowes class(class 1)."
      ],
      "metadata": {
        "id": "oJoKBT6DBWe3"
      }
    },
    {
      "cell_type": "code",
      "source": [
        "from sklearn import datasets\n",
        "from sklearn.metrics import roc_curve, roc_auc_score"
      ],
      "metadata": {
        "id": "GS8wq1GwRsAd"
      },
      "execution_count": null,
      "outputs": []
    },
    {
      "cell_type": "code",
      "source": [
        "rf_predict=lo.predict(x_test)\n",
        "nb_predict=classifier.predict(x_test)\n",
        "lg_predict=random.predict(x_test)\n",
        "kn_predict=classifier.predict(x_test)\n",
        "xg_predict=model.predict(x_test)\n",
        "ca_predict=cat.predict(x_test)"
      ],
      "metadata": {
        "id": "RkwNEYftRvBz"
      },
      "execution_count": null,
      "outputs": []
    },
    {
      "cell_type": "code",
      "source": [
        "rf_auc=roc_auc_score(y_test,rf_predict)\n",
        "nb_auc=roc_auc_score(y_test,nb_predict)\n",
        "lg_auc=roc_auc_score(y_test,lg_predict)\n",
        "kn_auc=roc_auc_score(y_test,kn_predict)\n",
        "xg_auc=roc_auc_score(y_test,xg_predict)\n",
        "ca_auc=roc_auc_score(y_test,ca_predict)"
      ],
      "metadata": {
        "id": "1MjrvJvURuZ0"
      },
      "execution_count": null,
      "outputs": []
    },
    {
      "cell_type": "code",
      "source": [
        "rf_fpr,rf_tpr,_ =roc_curve(y_test,rf_predict)\n",
        "nb_fpr,nb_tpr,_ =roc_curve(y_test,nb_predict)\n",
        "lg_fpr,lg_tpr,_ =roc_curve(y_test,lg_predict)\n",
        "kn_fpr,kn_tpr,_ =roc_curve(y_test,kn_predict)\n",
        "xg_fpr,xg_tpr,_ =roc_curve(y_test,xg_predict)\n",
        "ca_fpr,ca_tpr,_ =roc_curve(y_test,ca_predict)"
      ],
      "metadata": {
        "id": "9qKW_bRGScHZ"
      },
      "execution_count": null,
      "outputs": []
    },
    {
      "cell_type": "code",
      "source": [
        "plt.subplots(1, figsize=(10,10))\n",
        "r=[0,0.5,1]\n",
        "p=r\n",
        "plt.plot(r,p , linestyle='-', label='base')\n",
        "plt.plot(rf_fpr,rf_tpr , linestyle='--' , label='random forest')\n",
        "plt.plot(nb_fpr,nb_tpr , linestyle='--' , label='naive bayes')\n",
        "plt.plot(lg_fpr,lg_tpr , linestyle='--' , label='regression')\n",
        "plt.plot(kn_fpr,kn_tpr , linestyle='--' , label='k_nearest')\n",
        "plt.plot(xg_fpr,xg_tpr , linestyle='--' , label='xgboost')\n",
        "plt.plot(ca_fpr,ca_tpr , linestyle='--' , label='catboost')\n",
        "\n",
        "\n",
        "\n",
        "plt.title('ROC curve_gain chart')\n",
        "plt.ylabel('True Positive Rate')\n",
        "plt.xlabel('False Positive Rate')\n",
        "plt.legend()\n",
        "plt.show()"
      ],
      "metadata": {
        "colab": {
          "base_uri": "https://localhost:8080/",
          "height": 621
        },
        "id": "Ik3Oy7BpSgHV",
        "outputId": "f42dd62a-32f6-48ed-ef42-b504c78dc1b3"
      },
      "execution_count": null,
      "outputs": [
        {
          "output_type": "display_data",
          "data": {
            "text/plain": [
              "<Figure size 720x720 with 1 Axes>"
            ],
            "image/png": "[encoded data removed]"
          },
          "metadata": {
            "needs_background": "light"
          }
        }
      ]
    },
    {
      "cell_type": "markdown",
      "source": [
        "# **useful functions**"
      ],
      "metadata": {
        "id": "JULzPXflrObM"
      }
    },
    {
      "cell_type": "code",
      "source": [
        "from sklearn.metrics import classification_report ,confusion_matrix "
      ],
      "metadata": {
        "id": "UfRO2aIrxICI"
      },
      "execution_count": null,
      "outputs": []
    },
    {
      "cell_type": "code",
      "source": [
        "def perf_measure(y_actual, y_pred):\n",
        "    TP = 0\n",
        "    FP = 0\n",
        "    TN = 0\n",
        "    FN = 0\n",
        "\n",
        "    for i in range(len(y_pred)): \n",
        "        if y_actual[i]==y_pred[i]==1:\n",
        "           TP += 1\n",
        "        if y_pred[i]==1 and y_actual[i]!=y_pred[i]:\n",
        "           FP += 1\n",
        "        if y_actual[i]==y_pred[i]==0:\n",
        "           TN += 1\n",
        "        if y_pred[i]==0 and y_actual[i]!=y_pred[i]:\n",
        "           FN += 1\n",
        "    return(TP, FP, TN, FN)"
      ],
      "metadata": {
        "id": "GYl5Br4trYNC"
      },
      "execution_count": null,
      "outputs": []
    },
    {
      "cell_type": "code",
      "source": [
        "def truepositive(y_actual, y_pred):\n",
        "    tn, fp, fn, tp = confusion_matrix(y_actual, y_pred).ravel()\n",
        "    return(tp)"
      ],
      "metadata": {
        "id": "VPocg-kfrepf"
      },
      "execution_count": null,
      "outputs": []
    },
    {
      "cell_type": "code",
      "source": [
        "def stackbar(x,y):\n",
        "   tn, fp, fn, tp = confusion_matrix(y_test, y_predict).ravel()\n",
        "   plt.figure(figsize=(6,8))\n",
        "   x=['class0' , 'class1']\n",
        "   y1=[tn , fn]\n",
        "   y2=[tp , tn]\n",
        "   plt.bar(x, y1, color='g')\n",
        "   plt.bar(x, y2, bottom=y1, color='b')\n",
        "   plt.legend()\n",
        "   plt.show()"
      ],
      "metadata": {
        "id": "1gKoOwvIriyi"
      },
      "execution_count": null,
      "outputs": []
    },
    {
      "cell_type": "code",
      "source": [
        "def barplot(a,b):\n",
        "  plt.figure(figsize=[8,4])\n",
        "  left=[]\n",
        "  high=[]\n",
        "  for i in a:\n",
        "    left.append(i)\n",
        "  for j in b:\n",
        "      high.append(j)\n",
        "  return(plt.bar(left, left ,tick_label=high, width=12  ,color=['yellow' ,'red','black','pink','green'])) "
      ],
      "metadata": {
        "id": "I3yNKsYQrlYm"
      },
      "execution_count": null,
      "outputs": []
    }
  ]
}
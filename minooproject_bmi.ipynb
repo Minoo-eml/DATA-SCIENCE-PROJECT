{
  "nbformat": 4,
  "nbformat_minor": 0,
  "metadata": {
    "colab": {
      "provenance": [],
      "collapsed_sections": [
        "rxIAwtV6oMcd",
        "usOxAk9BKCZY",
        "PJOslRwwAMdq",
        "JULzPXflrObM"
      ],
      "authorship_tag": "ABX9TyPMGKyHkEGknDnu0FlSPP+a",
      "include_colab_link": true
    },
    "kernelspec": {
      "name": "python3",
      "display_name": "Python 3"
    },
    "language_info": {
      "name": "python"
    }
  },
  "cells": [
    {
      "cell_type": "markdown",
      "metadata": {
        "id": "view-in-github",
        "colab_type": "text"
      },
      "source": [
        "<a href=\"https://colab.research.google.com/github/Minoo-eml/DATA-SCIENCE-PROJECT/blob/main/minooproject_bmi.ipynb\" target=\"_parent\"><img src=\"https://colab.research.google.com/assets/colab-badge.svg\" alt=\"Open In Colab\"/></a>"
      ]
    },
    {
      "cell_type": "markdown",
      "source": [
        "**PREDICTING WITH SMOTE AND FILLINF BMI MEANING**"
      ],
      "metadata": {
        "id": "y4vg362AhEJw"
      }
    },
    {
      "cell_type": "code",
      "execution_count": 1,
      "metadata": {
        "id": "eNCuH64VYAgd"
      },
      "outputs": [],
      "source": [
        "import pandas as pd\n",
        "import numpy as np\n",
        "import seaborn as sns\n",
        "import matplotlib.pyplot as plt "
      ]
    },
    {
      "cell_type": "markdown",
      "source": [
        "## **Reading and Cleaning Dataset**"
      ],
      "metadata": {
        "id": "rxIAwtV6oMcd"
      }
    },
    {
      "cell_type": "code",
      "source": [
        "stroke = pd.read_csv('/content/healthcare-dataset-stroke-data.csv')"
      ],
      "metadata": {
        "id": "zeK77PMLa9ai"
      },
      "execution_count": 47,
      "outputs": []
    },
    {
      "cell_type": "code",
      "source": [
        "stroke.head(2)"
      ],
      "metadata": {
        "colab": {
          "base_uri": "https://localhost:8080/",
          "height": 112
        },
        "id": "kPk-NGM7pDkN",
        "outputId": "bb0b1f45-d200-402a-f4ae-edfd8e2781e4"
      },
      "execution_count": 48,
      "outputs": [
        {
          "output_type": "execute_result",
          "data": {
            "text/plain": [
              "      id  gender   age  hypertension  heart_disease ever_married  \\\n",
              "0   9046    Male  67.0             0              1          Yes   \n",
              "1  51676  Female  61.0             0              0          Yes   \n",
              "\n",
              "       work_type Residence_type  avg_glucose_level   bmi   smoking_status  \\\n",
              "0        Private          Urban             228.69  36.6  formerly smoked   \n",
              "1  Self-employed          Rural             202.21   NaN     never smoked   \n",
              "\n",
              "   stroke  \n",
              "0       1  \n",
              "1       1  "
            ],
            "text/html": [
              "\n",
              "  <div id=\"df-8394ed69-abf2-48f9-947a-913845ed32b1\">\n",
              "    <div class=\"colab-df-container\">\n",
              "      <div>\n",
              "<style scoped>\n",
              "    .dataframe tbody tr th:only-of-type {\n",
              "        vertical-align: middle;\n",
              "    }\n",
              "\n",
              "    .dataframe tbody tr th {\n",
              "        vertical-align: top;\n",
              "    }\n",
              "\n",
              "    .dataframe thead th {\n",
              "        text-align: right;\n",
              "    }\n",
              "</style>\n",
              "<table border=\"1\" class=\"dataframe\">\n",
              "  <thead>\n",
              "    <tr style=\"text-align: right;\">\n",
              "      <th></th>\n",
              "      <th>id</th>\n",
              "      <th>gender</th>\n",
              "      <th>age</th>\n",
              "      <th>hypertension</th>\n",
              "      <th>heart_disease</th>\n",
              "      <th>ever_married</th>\n",
              "      <th>work_type</th>\n",
              "      <th>Residence_type</th>\n",
              "      <th>avg_glucose_level</th>\n",
              "      <th>bmi</th>\n",
              "      <th>smoking_status</th>\n",
              "      <th>stroke</th>\n",
              "    </tr>\n",
              "  </thead>\n",
              "  <tbody>\n",
              "    <tr>\n",
              "      <th>0</th>\n",
              "      <td>9046</td>\n",
              "      <td>Male</td>\n",
              "      <td>67.0</td>\n",
              "      <td>0</td>\n",
              "      <td>1</td>\n",
              "      <td>Yes</td>\n",
              "      <td>Private</td>\n",
              "      <td>Urban</td>\n",
              "      <td>228.69</td>\n",
              "      <td>36.6</td>\n",
              "      <td>formerly smoked</td>\n",
              "      <td>1</td>\n",
              "    </tr>\n",
              "    <tr>\n",
              "      <th>1</th>\n",
              "      <td>51676</td>\n",
              "      <td>Female</td>\n",
              "      <td>61.0</td>\n",
              "      <td>0</td>\n",
              "      <td>0</td>\n",
              "      <td>Yes</td>\n",
              "      <td>Self-employed</td>\n",
              "      <td>Rural</td>\n",
              "      <td>202.21</td>\n",
              "      <td>NaN</td>\n",
              "      <td>never smoked</td>\n",
              "      <td>1</td>\n",
              "    </tr>\n",
              "  </tbody>\n",
              "</table>\n",
              "</div>\n",
              "      <button class=\"colab-df-convert\" onclick=\"convertToInteractive('df-8394ed69-abf2-48f9-947a-913845ed32b1')\"\n",
              "              title=\"Convert this dataframe to an interactive table.\"\n",
              "              style=\"display:none;\">\n",
              "        \n",
              "  <svg xmlns=\"http://www.w3.org/2000/svg\" height=\"24px\"viewBox=\"0 0 24 24\"\n",
              "       width=\"24px\">\n",
              "    <path d=\"M0 0h24v24H0V0z\" fill=\"none\"/>\n",
              "    <path d=\"M18.56 5.44l.94 2.06.94-2.06 2.06-.94-2.06-.94-.94-2.06-.94 2.06-2.06.94zm-11 1L8.5 8.5l.94-2.06 2.06-.94-2.06-.94L8.5 2.5l-.94 2.06-2.06.94zm10 10l.94 2.06.94-2.06 2.06-.94-2.06-.94-.94-2.06-.94 2.06-2.06.94z\"/><path d=\"M17.41 7.96l-1.37-1.37c-.4-.4-.92-.59-1.43-.59-.52 0-1.04.2-1.43.59L10.3 9.45l-7.72 7.72c-.78.78-.78 2.05 0 2.83L4 21.41c.39.39.9.59 1.41.59.51 0 1.02-.2 1.41-.59l7.78-7.78 2.81-2.81c.8-.78.8-2.07 0-2.86zM5.41 20L4 18.59l7.72-7.72 1.47 1.35L5.41 20z\"/>\n",
              "  </svg>\n",
              "      </button>\n",
              "      \n",
              "  <style>\n",
              "    .colab-df-container {\n",
              "      display:flex;\n",
              "      flex-wrap:wrap;\n",
              "      gap: 12px;\n",
              "    }\n",
              "\n",
              "    .colab-df-convert {\n",
              "      background-color: #E8F0FE;\n",
              "      border: none;\n",
              "      border-radius: 50%;\n",
              "      cursor: pointer;\n",
              "      display: none;\n",
              "      fill: #1967D2;\n",
              "      height: 32px;\n",
              "      padding: 0 0 0 0;\n",
              "      width: 32px;\n",
              "    }\n",
              "\n",
              "    .colab-df-convert:hover {\n",
              "      background-color: #E2EBFA;\n",
              "      box-shadow: 0px 1px 2px rgba(60, 64, 67, 0.3), 0px 1px 3px 1px rgba(60, 64, 67, 0.15);\n",
              "      fill: #174EA6;\n",
              "    }\n",
              "\n",
              "    [theme=dark] .colab-df-convert {\n",
              "      background-color: #3B4455;\n",
              "      fill: #D2E3FC;\n",
              "    }\n",
              "\n",
              "    [theme=dark] .colab-df-convert:hover {\n",
              "      background-color: #434B5C;\n",
              "      box-shadow: 0px 1px 3px 1px rgba(0, 0, 0, 0.15);\n",
              "      filter: drop-shadow(0px 1px 2px rgba(0, 0, 0, 0.3));\n",
              "      fill: #FFFFFF;\n",
              "    }\n",
              "  </style>\n",
              "\n",
              "      <script>\n",
              "        const buttonEl =\n",
              "          document.querySelector('#df-8394ed69-abf2-48f9-947a-913845ed32b1 button.colab-df-convert');\n",
              "        buttonEl.style.display =\n",
              "          google.colab.kernel.accessAllowed ? 'block' : 'none';\n",
              "\n",
              "        async function convertToInteractive(key) {\n",
              "          const element = document.querySelector('#df-8394ed69-abf2-48f9-947a-913845ed32b1');\n",
              "          const dataTable =\n",
              "            await google.colab.kernel.invokeFunction('convertToInteractive',\n",
              "                                                     [key], {});\n",
              "          if (!dataTable) return;\n",
              "\n",
              "          const docLinkHtml = 'Like what you see? Visit the ' +\n",
              "            '<a target=\"_blank\" href=https://colab.research.google.com/notebooks/data_table.ipynb>data table notebook</a>'\n",
              "            + ' to learn more about interactive tables.';\n",
              "          element.innerHTML = '';\n",
              "          dataTable['output_type'] = 'display_data';\n",
              "          await google.colab.output.renderOutput(dataTable, element);\n",
              "          const docLink = document.createElement('div');\n",
              "          docLink.innerHTML = docLinkHtml;\n",
              "          element.appendChild(docLink);\n",
              "        }\n",
              "      </script>\n",
              "    </div>\n",
              "  </div>\n",
              "  "
            ]
          },
          "metadata": {},
          "execution_count": 48
        }
      ]
    },
    {
      "cell_type": "code",
      "source": [
        "stroke.shape"
      ],
      "metadata": {
        "colab": {
          "base_uri": "https://localhost:8080/"
        },
        "id": "syfxXqW7Knrt",
        "outputId": "5225205d-06cb-4e70-caec-c3d5846a57b7"
      },
      "execution_count": 49,
      "outputs": [
        {
          "output_type": "execute_result",
          "data": {
            "text/plain": [
              "(5110, 12)"
            ]
          },
          "metadata": {},
          "execution_count": 49
        }
      ]
    },
    {
      "cell_type": "code",
      "source": [
        "sns.scatterplot(x= stroke['age'] ,y=stroke['bmi'] , hue=stroke['stroke'])"
      ],
      "metadata": {
        "colab": {
          "base_uri": "https://localhost:8080/",
          "height": 296
        },
        "id": "YR9IAkTBpFx9",
        "outputId": "48413495-1699-4844-f110-1a25607681ca"
      },
      "execution_count": 50,
      "outputs": [
        {
          "output_type": "execute_result",
          "data": {
            "text/plain": [
              "<matplotlib.axes._subplots.AxesSubplot at 0x7f2bf43aa160>"
            ]
          },
          "metadata": {},
          "execution_count": 50
        },
        {
          "output_type": "display_data",
          "data": {
            "text/plain": [
              "<Figure size 432x288 with 1 Axes>"
            ],
            "image/png": "[encoded data removed]"
          },
          "metadata": {
            "needs_background": "light"
          }
        }
      ]
    },
    {
      "cell_type": "code",
      "source": [
        "# the count of empty values\n",
        "stroke.isnull().sum()"
      ],
      "metadata": {
        "colab": {
          "base_uri": "https://localhost:8080/"
        },
        "id": "cu0icjgx0EGn",
        "outputId": "79111ef6-ac3a-487d-aec5-7f596c2f1072"
      },
      "execution_count": 51,
      "outputs": [
        {
          "output_type": "execute_result",
          "data": {
            "text/plain": [
              "id                     0\n",
              "gender                 0\n",
              "age                    0\n",
              "hypertension           0\n",
              "heart_disease          0\n",
              "ever_married           0\n",
              "work_type              0\n",
              "Residence_type         0\n",
              "avg_glucose_level      0\n",
              "bmi                  201\n",
              "smoking_status         0\n",
              "stroke                 0\n",
              "dtype: int64"
            ]
          },
          "metadata": {},
          "execution_count": 51
        }
      ]
    },
    {
      "cell_type": "code",
      "source": [
        "# showing the nun values with blue color\n",
        "sns.heatmap(stroke.isnull() , yticklabels=False ,cbar=False ,cmap='Blues')"
      ],
      "metadata": {
        "colab": {
          "base_uri": "https://localhost:8080/",
          "height": 363
        },
        "id": "RQs-JJn98kr3",
        "outputId": "120b1d1b-2dcb-4259-c7da-51864893942b"
      },
      "execution_count": 52,
      "outputs": [
        {
          "output_type": "execute_result",
          "data": {
            "text/plain": [
              "<matplotlib.axes._subplots.AxesSubplot at 0x7f2bf41a23d0>"
            ]
          },
          "metadata": {},
          "execution_count": 52
        },
        {
          "output_type": "display_data",
          "data": {
            "text/plain": [
              "<Figure size 432x288 with 1 Axes>"
            ],
            "image/png": "[encoded data removed]"
          },
          "metadata": {
            "needs_background": "light"
          }
        }
      ]
    },
    {
      "cell_type": "code",
      "source": [
        "# filling that values that was empty be the meaning of bmi\n",
        "stroke['bmi']=stroke['bmi'].fillna(stroke['bmi'].mean())"
      ],
      "metadata": {
        "id": "E0yvoe9Ip82z"
      },
      "execution_count": 53,
      "outputs": []
    },
    {
      "cell_type": "code",
      "source": [
        "sns.heatmap(stroke.isnull() , yticklabels=False ,cbar=False ,cmap='Blues')"
      ],
      "metadata": {
        "colab": {
          "base_uri": "https://localhost:8080/",
          "height": 363
        },
        "id": "vOcr0-hSJxoW",
        "outputId": "cba80c4b-8e54-4f4b-a490-267acdea8a74"
      },
      "execution_count": 54,
      "outputs": [
        {
          "output_type": "execute_result",
          "data": {
            "text/plain": [
              "<matplotlib.axes._subplots.AxesSubplot at 0x7f2c09a4ca00>"
            ]
          },
          "metadata": {},
          "execution_count": 54
        },
        {
          "output_type": "display_data",
          "data": {
            "text/plain": [
              "<Figure size 432x288 with 1 Axes>"
            ],
            "image/png": "[encoded data removed]"
          },
          "metadata": {
            "needs_background": "light"
          }
        }
      ]
    },
    {
      "cell_type": "code",
      "source": [
        "stroke.shape"
      ],
      "metadata": {
        "colab": {
          "base_uri": "https://localhost:8080/"
        },
        "id": "RPdnFSWMKrQm",
        "outputId": "75bccb60-f18f-420c-f972-5054931a7234"
      },
      "execution_count": 55,
      "outputs": [
        {
          "output_type": "execute_result",
          "data": {
            "text/plain": [
              "(5110, 12)"
            ]
          },
          "metadata": {},
          "execution_count": 55
        }
      ]
    },
    {
      "cell_type": "markdown",
      "source": [
        "## **predicting **"
      ],
      "metadata": {
        "id": "usOxAk9BKCZY"
      }
    },
    {
      "cell_type": "code",
      "source": [
        "from sklearn import preprocessing\n",
        "le = preprocessing.LabelEncoder()\n",
        "for col in stroke.columns:\n",
        "     stroke[col] = le.fit_transform(stroke[col])"
      ],
      "metadata": {
        "id": "8EbpnJ5LJ6ie"
      },
      "execution_count": 74,
      "outputs": []
    },
    {
      "cell_type": "code",
      "source": [
        "stroke.head(5)"
      ],
      "metadata": {
        "colab": {
          "base_uri": "https://localhost:8080/",
          "height": 206
        },
        "id": "NU9zFEvAKSaz",
        "outputId": "6a6d0544-79a2-4eb4-f325-719c2cf85f3e"
      },
      "execution_count": 75,
      "outputs": [
        {
          "output_type": "execute_result",
          "data": {
            "text/plain": [
              "     id  gender  age  hypertension  heart_disease  ever_married  work_type  \\\n",
              "0   671       1   88             0              1             1          2   \n",
              "1  3610       0   82             0              0             1          3   \n",
              "2  2151       1  101             0              1             1          2   \n",
              "3  4226       0   70             0              0             1          2   \n",
              "4   114       0  100             1              0             1          3   \n",
              "\n",
              "   Residence_type  avg_glucose_level  bmi  smoking_status  stroke  \n",
              "0               1               3850  240               1       1  \n",
              "1               0               3588  162               2       1  \n",
              "2               0               2483  199               2       1  \n",
              "3               1               3385  218               3       1  \n",
              "4               0               3394  113               2       1  "
            ],
            "text/html": [
              "\n",
              "  <div id=\"df-8b71d680-af41-46a9-82fa-e4ca78dc484d\">\n",
              "    <div class=\"colab-df-container\">\n",
              "      <div>\n",
              "<style scoped>\n",
              "    .dataframe tbody tr th:only-of-type {\n",
              "        vertical-align: middle;\n",
              "    }\n",
              "\n",
              "    .dataframe tbody tr th {\n",
              "        vertical-align: top;\n",
              "    }\n",
              "\n",
              "    .dataframe thead th {\n",
              "        text-align: right;\n",
              "    }\n",
              "</style>\n",
              "<table border=\"1\" class=\"dataframe\">\n",
              "  <thead>\n",
              "    <tr style=\"text-align: right;\">\n",
              "      <th></th>\n",
              "      <th>id</th>\n",
              "      <th>gender</th>\n",
              "      <th>age</th>\n",
              "      <th>hypertension</th>\n",
              "      <th>heart_disease</th>\n",
              "      <th>ever_married</th>\n",
              "      <th>work_type</th>\n",
              "      <th>Residence_type</th>\n",
              "      <th>avg_glucose_level</th>\n",
              "      <th>bmi</th>\n",
              "      <th>smoking_status</th>\n",
              "      <th>stroke</th>\n",
              "    </tr>\n",
              "  </thead>\n",
              "  <tbody>\n",
              "    <tr>\n",
              "      <th>0</th>\n",
              "      <td>671</td>\n",
              "      <td>1</td>\n",
              "      <td>88</td>\n",
              "      <td>0</td>\n",
              "      <td>1</td>\n",
              "      <td>1</td>\n",
              "      <td>2</td>\n",
              "      <td>1</td>\n",
              "      <td>3850</td>\n",
              "      <td>240</td>\n",
              "      <td>1</td>\n",
              "      <td>1</td>\n",
              "    </tr>\n",
              "    <tr>\n",
              "      <th>1</th>\n",
              "      <td>3610</td>\n",
              "      <td>0</td>\n",
              "      <td>82</td>\n",
              "      <td>0</td>\n",
              "      <td>0</td>\n",
              "      <td>1</td>\n",
              "      <td>3</td>\n",
              "      <td>0</td>\n",
              "      <td>3588</td>\n",
              "      <td>162</td>\n",
              "      <td>2</td>\n",
              "      <td>1</td>\n",
              "    </tr>\n",
              "    <tr>\n",
              "      <th>2</th>\n",
              "      <td>2151</td>\n",
              "      <td>1</td>\n",
              "      <td>101</td>\n",
              "      <td>0</td>\n",
              "      <td>1</td>\n",
              "      <td>1</td>\n",
              "      <td>2</td>\n",
              "      <td>0</td>\n",
              "      <td>2483</td>\n",
              "      <td>199</td>\n",
              "      <td>2</td>\n",
              "      <td>1</td>\n",
              "    </tr>\n",
              "    <tr>\n",
              "      <th>3</th>\n",
              "      <td>4226</td>\n",
              "      <td>0</td>\n",
              "      <td>70</td>\n",
              "      <td>0</td>\n",
              "      <td>0</td>\n",
              "      <td>1</td>\n",
              "      <td>2</td>\n",
              "      <td>1</td>\n",
              "      <td>3385</td>\n",
              "      <td>218</td>\n",
              "      <td>3</td>\n",
              "      <td>1</td>\n",
              "    </tr>\n",
              "    <tr>\n",
              "      <th>4</th>\n",
              "      <td>114</td>\n",
              "      <td>0</td>\n",
              "      <td>100</td>\n",
              "      <td>1</td>\n",
              "      <td>0</td>\n",
              "      <td>1</td>\n",
              "      <td>3</td>\n",
              "      <td>0</td>\n",
              "      <td>3394</td>\n",
              "      <td>113</td>\n",
              "      <td>2</td>\n",
              "      <td>1</td>\n",
              "    </tr>\n",
              "  </tbody>\n",
              "</table>\n",
              "</div>\n",
              "      <button class=\"colab-df-convert\" onclick=\"convertToInteractive('df-8b71d680-af41-46a9-82fa-e4ca78dc484d')\"\n",
              "              title=\"Convert this dataframe to an interactive table.\"\n",
              "              style=\"display:none;\">\n",
              "        \n",
              "  <svg xmlns=\"http://www.w3.org/2000/svg\" height=\"24px\"viewBox=\"0 0 24 24\"\n",
              "       width=\"24px\">\n",
              "    <path d=\"M0 0h24v24H0V0z\" fill=\"none\"/>\n",
              "    <path d=\"M18.56 5.44l.94 2.06.94-2.06 2.06-.94-2.06-.94-.94-2.06-.94 2.06-2.06.94zm-11 1L8.5 8.5l.94-2.06 2.06-.94-2.06-.94L8.5 2.5l-.94 2.06-2.06.94zm10 10l.94 2.06.94-2.06 2.06-.94-2.06-.94-.94-2.06-.94 2.06-2.06.94z\"/><path d=\"M17.41 7.96l-1.37-1.37c-.4-.4-.92-.59-1.43-.59-.52 0-1.04.2-1.43.59L10.3 9.45l-7.72 7.72c-.78.78-.78 2.05 0 2.83L4 21.41c.39.39.9.59 1.41.59.51 0 1.02-.2 1.41-.59l7.78-7.78 2.81-2.81c.8-.78.8-2.07 0-2.86zM5.41 20L4 18.59l7.72-7.72 1.47 1.35L5.41 20z\"/>\n",
              "  </svg>\n",
              "      </button>\n",
              "      \n",
              "  <style>\n",
              "    .colab-df-container {\n",
              "      display:flex;\n",
              "      flex-wrap:wrap;\n",
              "      gap: 12px;\n",
              "    }\n",
              "\n",
              "    .colab-df-convert {\n",
              "      background-color: #E8F0FE;\n",
              "      border: none;\n",
              "      border-radius: 50%;\n",
              "      cursor: pointer;\n",
              "      display: none;\n",
              "      fill: #1967D2;\n",
              "      height: 32px;\n",
              "      padding: 0 0 0 0;\n",
              "      width: 32px;\n",
              "    }\n",
              "\n",
              "    .colab-df-convert:hover {\n",
              "      background-color: #E2EBFA;\n",
              "      box-shadow: 0px 1px 2px rgba(60, 64, 67, 0.3), 0px 1px 3px 1px rgba(60, 64, 67, 0.15);\n",
              "      fill: #174EA6;\n",
              "    }\n",
              "\n",
              "    [theme=dark] .colab-df-convert {\n",
              "      background-color: #3B4455;\n",
              "      fill: #D2E3FC;\n",
              "    }\n",
              "\n",
              "    [theme=dark] .colab-df-convert:hover {\n",
              "      background-color: #434B5C;\n",
              "      box-shadow: 0px 1px 3px 1px rgba(0, 0, 0, 0.15);\n",
              "      filter: drop-shadow(0px 1px 2px rgba(0, 0, 0, 0.3));\n",
              "      fill: #FFFFFF;\n",
              "    }\n",
              "  </style>\n",
              "\n",
              "      <script>\n",
              "        const buttonEl =\n",
              "          document.querySelector('#df-8b71d680-af41-46a9-82fa-e4ca78dc484d button.colab-df-convert');\n",
              "        buttonEl.style.display =\n",
              "          google.colab.kernel.accessAllowed ? 'block' : 'none';\n",
              "\n",
              "        async function convertToInteractive(key) {\n",
              "          const element = document.querySelector('#df-8b71d680-af41-46a9-82fa-e4ca78dc484d');\n",
              "          const dataTable =\n",
              "            await google.colab.kernel.invokeFunction('convertToInteractive',\n",
              "                                                     [key], {});\n",
              "          if (!dataTable) return;\n",
              "\n",
              "          const docLinkHtml = 'Like what you see? Visit the ' +\n",
              "            '<a target=\"_blank\" href=https://colab.research.google.com/notebooks/data_table.ipynb>data table notebook</a>'\n",
              "            + ' to learn more about interactive tables.';\n",
              "          element.innerHTML = '';\n",
              "          dataTable['output_type'] = 'display_data';\n",
              "          await google.colab.output.renderOutput(dataTable, element);\n",
              "          const docLink = document.createElement('div');\n",
              "          docLink.innerHTML = docLinkHtml;\n",
              "          element.appendChild(docLink);\n",
              "        }\n",
              "      </script>\n",
              "    </div>\n",
              "  </div>\n",
              "  "
            ]
          },
          "metadata": {},
          "execution_count": 75
        }
      ]
    },
    {
      "cell_type": "code",
      "source": [
        "x=stroke.drop('stroke' ,axis=1).values\n",
        "y=stroke['stroke'].values"
      ],
      "metadata": {
        "id": "4r41LGZjGHsV"
      },
      "execution_count": 76,
      "outputs": []
    },
    {
      "cell_type": "code",
      "source": [
        "from sklearn.model_selection import train_test_split\n",
        "x_train , x_test , y_train , y_test = train_test_split(x,y , test_size=0.2 , random_state=0)"
      ],
      "metadata": {
        "id": "adQsUY-aFZJV"
      },
      "execution_count": 77,
      "outputs": []
    },
    {
      "cell_type": "code",
      "source": [
        "unique, counts = np.unique( y_train, return_counts=True)\n",
        "print (np.asarray((unique, counts)).T)\n",
        "unique, counts = np.unique( y_test, return_counts=True)\n",
        "print (np.asarray((unique, counts)).T)"
      ],
      "metadata": {
        "colab": {
          "base_uri": "https://localhost:8080/"
        },
        "id": "AWgIbWgttPZH",
        "outputId": "cf786eae-7ef5-45b7-9461-8c523d925873"
      },
      "execution_count": 78,
      "outputs": [
        {
          "output_type": "stream",
          "name": "stdout",
          "text": [
            "[[   0 3893]\n",
            " [   1  195]]\n",
            "[[  0 968]\n",
            " [  1  54]]\n"
          ]
        }
      ]
    },
    {
      "cell_type": "code",
      "source": [
        "from collections import Counter\n",
        "from numpy import where\n",
        "import matplotlib.pyplot as plt"
      ],
      "metadata": {
        "id": "RyI2uxz5uIDV"
      },
      "execution_count": 79,
      "outputs": []
    },
    {
      "cell_type": "code",
      "source": [
        "counter = Counter(y_train)"
      ],
      "metadata": {
        "id": "mWfJ_LWst7Oa"
      },
      "execution_count": 80,
      "outputs": []
    },
    {
      "cell_type": "code",
      "source": [
        "for label, _ in counter.items():\n",
        " row_ix = where(y_train == label)\n",
        " plt.scatter(x_train[row_ix, 0], x_train[row_ix, 1], label=str(label))\n",
        "plt.legend()\n",
        "plt.show()"
      ],
      "metadata": {
        "colab": {
          "base_uri": "https://localhost:8080/",
          "height": 265
        },
        "id": "i5E0Zbf8tqUn",
        "outputId": "d2022ef4-a929-4279-a80a-eff6f97b15eb"
      },
      "execution_count": 81,
      "outputs": [
        {
          "output_type": "display_data",
          "data": {
            "text/plain": [
              "<Figure size 432x288 with 1 Axes>"
            ],
            "image/png": "[encoded data removed]"
          },
          "metadata": {
            "needs_background": "light"
          }
        }
      ]
    },
    {
      "cell_type": "code",
      "source": [
        "from imblearn.over_sampling import SMOTE"
      ],
      "metadata": {
        "id": "b7WNHhRgsocz"
      },
      "execution_count": 82,
      "outputs": []
    },
    {
      "cell_type": "code",
      "source": [
        "sm=SMOTE(random_state=0)\n",
        "X_res, y_res = sm.fit_resample(x_train,y_train)"
      ],
      "metadata": {
        "id": "jjorj0zGsDQY"
      },
      "execution_count": 83,
      "outputs": []
    },
    {
      "cell_type": "code",
      "source": [
        "unique, counts = np.unique( y_res, return_counts=True)\n",
        "print (np.asarray((unique, counts)).T)\n",
        "unique, counts = np.unique( y_test, return_counts=True)\n",
        "print (np.asarray((unique, counts)).T)"
      ],
      "metadata": {
        "colab": {
          "base_uri": "https://localhost:8080/"
        },
        "id": "ZjqTh-QQt4-t",
        "outputId": "e0add06b-788b-49c9-c260-6a2dbf13ece4"
      },
      "execution_count": 84,
      "outputs": [
        {
          "output_type": "stream",
          "name": "stdout",
          "text": [
            "[[   0 3893]\n",
            " [   1 3893]]\n",
            "[[  0 968]\n",
            " [  1  54]]\n"
          ]
        }
      ]
    },
    {
      "cell_type": "code",
      "source": [
        "counter = Counter(y_res)\n",
        "for label, _ in counter.items():\n",
        " row_ix = where(y_res == label)[0]\n",
        " plt.scatter(X_res[row_ix, 0], X_res[row_ix, 1], label=str(label))\n",
        "plt.legend()\n",
        "plt.show()"
      ],
      "metadata": {
        "colab": {
          "base_uri": "https://localhost:8080/",
          "height": 265
        },
        "id": "bB5guQVqurXV",
        "outputId": "4a00d232-2df0-4729-bb21-86e99e37cba5"
      },
      "execution_count": 85,
      "outputs": [
        {
          "output_type": "display_data",
          "data": {
            "text/plain": [
              "<Figure size 432x288 with 1 Axes>"
            ],
            "image/png": "[encoded data removed]"
          },
          "metadata": {
            "needs_background": "light"
          }
        }
      ]
    },
    {
      "cell_type": "markdown",
      "source": [
        "**LogesticRegration Model**"
      ],
      "metadata": {
        "id": "iHqu2AcwLx7L"
      }
    },
    {
      "cell_type": "code",
      "source": [
        "# we use this model before balancing ---> the prediction in our stroke = 1 is bad \n",
        "from sklearn.linear_model import LogisticRegression\n",
        "lo= LogisticRegression(random_state=0)\n",
        "lo.fit(x_train, y_train)\n",
        "y_predict = lo.predict(x_test)\n",
        "from sklearn.metrics import classification_report ,confusion_matrix\n",
        "cm=confusion_matrix(y_test , y_predict)\n",
        "sns.heatmap(cm, annot=True )"
      ],
      "metadata": {
        "id": "fo5WMCupNiJJ",
        "colab": {
          "base_uri": "https://localhost:8080/",
          "height": 421
        },
        "outputId": "948c65cc-b300-4a71-b358-189c34782416"
      },
      "execution_count": 86,
      "outputs": [
        {
          "output_type": "stream",
          "name": "stderr",
          "text": [
            "/usr/local/lib/python3.8/dist-packages/sklearn/linear_model/_logistic.py:814: ConvergenceWarning: lbfgs failed to converge (status=1):\n",
            "STOP: TOTAL NO. of ITERATIONS REACHED LIMIT.\n",
            "\n",
            "Increase the number of iterations (max_iter) or scale the data as shown in:\n",
            "    https://scikit-learn.org/stable/modules/preprocessing.html\n",
            "Please also refer to the documentation for alternative solver options:\n",
            "    https://scikit-learn.org/stable/modules/linear_model.html#logistic-regression\n",
            "  n_iter_i = _check_optimize_result(\n"
          ]
        },
        {
          "output_type": "execute_result",
          "data": {
            "text/plain": [
              "<matplotlib.axes._subplots.AxesSubplot at 0x7f2c12cd2970>"
            ]
          },
          "metadata": {},
          "execution_count": 86
        },
        {
          "output_type": "display_data",
          "data": {
            "text/plain": [
              "<Figure size 432x288 with 2 Axes>"
            ],
            "image/png": "[encoded data removed]"
          },
          "metadata": {
            "needs_background": "light"
          }
        }
      ]
    },
    {
      "cell_type": "code",
      "source": [
        "# after balancing the data ---> our result in prediction is better\n",
        "from sklearn.linear_model import LogisticRegression\n",
        "lo= LogisticRegression(random_state=0)\n",
        "lo.fit(X_res, y_res)\n",
        "y_predict = lo.predict(x_test)\n",
        "from sklearn.metrics import classification_report\n",
        "print(classification_report(y_test , y_predict))\n",
        "pd.crosstab(y_test , y_predict)"
      ],
      "metadata": {
        "colab": {
          "base_uri": "https://localhost:8080/",
          "height": 439
        },
        "id": "O0906ZgPulDn",
        "outputId": "b758f6e3-c08f-43dc-b000-2992e2f3a423"
      },
      "execution_count": 87,
      "outputs": [
        {
          "output_type": "stream",
          "name": "stdout",
          "text": [
            "              precision    recall  f1-score   support\n",
            "\n",
            "           0       0.97      0.75      0.84       968\n",
            "           1       0.10      0.52      0.17        54\n",
            "\n",
            "    accuracy                           0.74      1022\n",
            "   macro avg       0.53      0.63      0.51      1022\n",
            "weighted avg       0.92      0.74      0.81      1022\n",
            "\n"
          ]
        },
        {
          "output_type": "stream",
          "name": "stderr",
          "text": [
            "/usr/local/lib/python3.8/dist-packages/sklearn/linear_model/_logistic.py:814: ConvergenceWarning: lbfgs failed to converge (status=1):\n",
            "STOP: TOTAL NO. of ITERATIONS REACHED LIMIT.\n",
            "\n",
            "Increase the number of iterations (max_iter) or scale the data as shown in:\n",
            "    https://scikit-learn.org/stable/modules/preprocessing.html\n",
            "Please also refer to the documentation for alternative solver options:\n",
            "    https://scikit-learn.org/stable/modules/linear_model.html#logistic-regression\n",
            "  n_iter_i = _check_optimize_result(\n"
          ]
        },
        {
          "output_type": "execute_result",
          "data": {
            "text/plain": [
              "col_0    0    1\n",
              "row_0          \n",
              "0      727  241\n",
              "1       26   28"
            ],
            "text/html": [
              "\n",
              "  <div id=\"df-4393decc-d27c-4b3a-9c88-f564620205c7\">\n",
              "    <div class=\"colab-df-container\">\n",
              "      <div>\n",
              "<style scoped>\n",
              "    .dataframe tbody tr th:only-of-type {\n",
              "        vertical-align: middle;\n",
              "    }\n",
              "\n",
              "    .dataframe tbody tr th {\n",
              "        vertical-align: top;\n",
              "    }\n",
              "\n",
              "    .dataframe thead th {\n",
              "        text-align: right;\n",
              "    }\n",
              "</style>\n",
              "<table border=\"1\" class=\"dataframe\">\n",
              "  <thead>\n",
              "    <tr style=\"text-align: right;\">\n",
              "      <th>col_0</th>\n",
              "      <th>0</th>\n",
              "      <th>1</th>\n",
              "    </tr>\n",
              "    <tr>\n",
              "      <th>row_0</th>\n",
              "      <th></th>\n",
              "      <th></th>\n",
              "    </tr>\n",
              "  </thead>\n",
              "  <tbody>\n",
              "    <tr>\n",
              "      <th>0</th>\n",
              "      <td>727</td>\n",
              "      <td>241</td>\n",
              "    </tr>\n",
              "    <tr>\n",
              "      <th>1</th>\n",
              "      <td>26</td>\n",
              "      <td>28</td>\n",
              "    </tr>\n",
              "  </tbody>\n",
              "</table>\n",
              "</div>\n",
              "      <button class=\"colab-df-convert\" onclick=\"convertToInteractive('df-4393decc-d27c-4b3a-9c88-f564620205c7')\"\n",
              "              title=\"Convert this dataframe to an interactive table.\"\n",
              "              style=\"display:none;\">\n",
              "        \n",
              "  <svg xmlns=\"http://www.w3.org/2000/svg\" height=\"24px\"viewBox=\"0 0 24 24\"\n",
              "       width=\"24px\">\n",
              "    <path d=\"M0 0h24v24H0V0z\" fill=\"none\"/>\n",
              "    <path d=\"M18.56 5.44l.94 2.06.94-2.06 2.06-.94-2.06-.94-.94-2.06-.94 2.06-2.06.94zm-11 1L8.5 8.5l.94-2.06 2.06-.94-2.06-.94L8.5 2.5l-.94 2.06-2.06.94zm10 10l.94 2.06.94-2.06 2.06-.94-2.06-.94-.94-2.06-.94 2.06-2.06.94z\"/><path d=\"M17.41 7.96l-1.37-1.37c-.4-.4-.92-.59-1.43-.59-.52 0-1.04.2-1.43.59L10.3 9.45l-7.72 7.72c-.78.78-.78 2.05 0 2.83L4 21.41c.39.39.9.59 1.41.59.51 0 1.02-.2 1.41-.59l7.78-7.78 2.81-2.81c.8-.78.8-2.07 0-2.86zM5.41 20L4 18.59l7.72-7.72 1.47 1.35L5.41 20z\"/>\n",
              "  </svg>\n",
              "      </button>\n",
              "      \n",
              "  <style>\n",
              "    .colab-df-container {\n",
              "      display:flex;\n",
              "      flex-wrap:wrap;\n",
              "      gap: 12px;\n",
              "    }\n",
              "\n",
              "    .colab-df-convert {\n",
              "      background-color: #E8F0FE;\n",
              "      border: none;\n",
              "      border-radius: 50%;\n",
              "      cursor: pointer;\n",
              "      display: none;\n",
              "      fill: #1967D2;\n",
              "      height: 32px;\n",
              "      padding: 0 0 0 0;\n",
              "      width: 32px;\n",
              "    }\n",
              "\n",
              "    .colab-df-convert:hover {\n",
              "      background-color: #E2EBFA;\n",
              "      box-shadow: 0px 1px 2px rgba(60, 64, 67, 0.3), 0px 1px 3px 1px rgba(60, 64, 67, 0.15);\n",
              "      fill: #174EA6;\n",
              "    }\n",
              "\n",
              "    [theme=dark] .colab-df-convert {\n",
              "      background-color: #3B4455;\n",
              "      fill: #D2E3FC;\n",
              "    }\n",
              "\n",
              "    [theme=dark] .colab-df-convert:hover {\n",
              "      background-color: #434B5C;\n",
              "      box-shadow: 0px 1px 3px 1px rgba(0, 0, 0, 0.15);\n",
              "      filter: drop-shadow(0px 1px 2px rgba(0, 0, 0, 0.3));\n",
              "      fill: #FFFFFF;\n",
              "    }\n",
              "  </style>\n",
              "\n",
              "      <script>\n",
              "        const buttonEl =\n",
              "          document.querySelector('#df-4393decc-d27c-4b3a-9c88-f564620205c7 button.colab-df-convert');\n",
              "        buttonEl.style.display =\n",
              "          google.colab.kernel.accessAllowed ? 'block' : 'none';\n",
              "\n",
              "        async function convertToInteractive(key) {\n",
              "          const element = document.querySelector('#df-4393decc-d27c-4b3a-9c88-f564620205c7');\n",
              "          const dataTable =\n",
              "            await google.colab.kernel.invokeFunction('convertToInteractive',\n",
              "                                                     [key], {});\n",
              "          if (!dataTable) return;\n",
              "\n",
              "          const docLinkHtml = 'Like what you see? Visit the ' +\n",
              "            '<a target=\"_blank\" href=https://colab.research.google.com/notebooks/data_table.ipynb>data table notebook</a>'\n",
              "            + ' to learn more about interactive tables.';\n",
              "          element.innerHTML = '';\n",
              "          dataTable['output_type'] = 'display_data';\n",
              "          await google.colab.output.renderOutput(dataTable, element);\n",
              "          const docLink = document.createElement('div');\n",
              "          docLink.innerHTML = docLinkHtml;\n",
              "          element.appendChild(docLink);\n",
              "        }\n",
              "      </script>\n",
              "    </div>\n",
              "  </div>\n",
              "  "
            ]
          },
          "metadata": {},
          "execution_count": 87
        }
      ]
    },
    {
      "cell_type": "code",
      "source": [
        "from sklearn.metrics import accuracy_score\n",
        "a=accuracy_score(y_test, y_predict)\n",
        "a"
      ],
      "metadata": {
        "colab": {
          "base_uri": "https://localhost:8080/"
        },
        "id": "lH9awf6DxSel",
        "outputId": "8b4f448c-79d2-499c-bc35-4e4957009c4d"
      },
      "execution_count": 88,
      "outputs": [
        {
          "output_type": "execute_result",
          "data": {
            "text/plain": [
              "0.738747553816047"
            ]
          },
          "metadata": {},
          "execution_count": 88
        }
      ]
    },
    {
      "cell_type": "markdown",
      "source": [
        "**K_nearestneighbors**"
      ],
      "metadata": {
        "id": "IHNuODAWxWQC"
      }
    },
    {
      "cell_type": "code",
      "source": [
        "from sklearn.neighbors import KNeighborsClassifier\n",
        "classifier= KNeighborsClassifier(n_neighbors = 5 , metric= 'minkowski' , p=2)\n",
        "classifier.fit(X_res, y_res)\n",
        "y_predict = classifier.predict(x_test)\n",
        "from sklearn.metrics import classification_report\n",
        "print(classification_report(y_test , y_predict))\n",
        "pd.crosstab(y_test , y_predict)"
      ],
      "metadata": {
        "colab": {
          "base_uri": "https://localhost:8080/",
          "height": 300
        },
        "id": "aD01Jx1EwCsG",
        "outputId": "b229a319-05cb-40b6-9eaa-5cce74f71f04"
      },
      "execution_count": 89,
      "outputs": [
        {
          "output_type": "stream",
          "name": "stdout",
          "text": [
            "              precision    recall  f1-score   support\n",
            "\n",
            "           0       0.95      0.72      0.82       968\n",
            "           1       0.07      0.37      0.12        54\n",
            "\n",
            "    accuracy                           0.70      1022\n",
            "   macro avg       0.51      0.55      0.47      1022\n",
            "weighted avg       0.91      0.70      0.79      1022\n",
            "\n"
          ]
        },
        {
          "output_type": "execute_result",
          "data": {
            "text/plain": [
              "col_0    0    1\n",
              "row_0          \n",
              "0      700  268\n",
              "1       34   20"
            ],
            "text/html": [
              "\n",
              "  <div id=\"df-a4488aa3-6e54-4a8a-a33b-5c1361787145\">\n",
              "    <div class=\"colab-df-container\">\n",
              "      <div>\n",
              "<style scoped>\n",
              "    .dataframe tbody tr th:only-of-type {\n",
              "        vertical-align: middle;\n",
              "    }\n",
              "\n",
              "    .dataframe tbody tr th {\n",
              "        vertical-align: top;\n",
              "    }\n",
              "\n",
              "    .dataframe thead th {\n",
              "        text-align: right;\n",
              "    }\n",
              "</style>\n",
              "<table border=\"1\" class=\"dataframe\">\n",
              "  <thead>\n",
              "    <tr style=\"text-align: right;\">\n",
              "      <th>col_0</th>\n",
              "      <th>0</th>\n",
              "      <th>1</th>\n",
              "    </tr>\n",
              "    <tr>\n",
              "      <th>row_0</th>\n",
              "      <th></th>\n",
              "      <th></th>\n",
              "    </tr>\n",
              "  </thead>\n",
              "  <tbody>\n",
              "    <tr>\n",
              "      <th>0</th>\n",
              "      <td>700</td>\n",
              "      <td>268</td>\n",
              "    </tr>\n",
              "    <tr>\n",
              "      <th>1</th>\n",
              "      <td>34</td>\n",
              "      <td>20</td>\n",
              "    </tr>\n",
              "  </tbody>\n",
              "</table>\n",
              "</div>\n",
              "      <button class=\"colab-df-convert\" onclick=\"convertToInteractive('df-a4488aa3-6e54-4a8a-a33b-5c1361787145')\"\n",
              "              title=\"Convert this dataframe to an interactive table.\"\n",
              "              style=\"display:none;\">\n",
              "        \n",
              "  <svg xmlns=\"http://www.w3.org/2000/svg\" height=\"24px\"viewBox=\"0 0 24 24\"\n",
              "       width=\"24px\">\n",
              "    <path d=\"M0 0h24v24H0V0z\" fill=\"none\"/>\n",
              "    <path d=\"M18.56 5.44l.94 2.06.94-2.06 2.06-.94-2.06-.94-.94-2.06-.94 2.06-2.06.94zm-11 1L8.5 8.5l.94-2.06 2.06-.94-2.06-.94L8.5 2.5l-.94 2.06-2.06.94zm10 10l.94 2.06.94-2.06 2.06-.94-2.06-.94-.94-2.06-.94 2.06-2.06.94z\"/><path d=\"M17.41 7.96l-1.37-1.37c-.4-.4-.92-.59-1.43-.59-.52 0-1.04.2-1.43.59L10.3 9.45l-7.72 7.72c-.78.78-.78 2.05 0 2.83L4 21.41c.39.39.9.59 1.41.59.51 0 1.02-.2 1.41-.59l7.78-7.78 2.81-2.81c.8-.78.8-2.07 0-2.86zM5.41 20L4 18.59l7.72-7.72 1.47 1.35L5.41 20z\"/>\n",
              "  </svg>\n",
              "      </button>\n",
              "      \n",
              "  <style>\n",
              "    .colab-df-container {\n",
              "      display:flex;\n",
              "      flex-wrap:wrap;\n",
              "      gap: 12px;\n",
              "    }\n",
              "\n",
              "    .colab-df-convert {\n",
              "      background-color: #E8F0FE;\n",
              "      border: none;\n",
              "      border-radius: 50%;\n",
              "      cursor: pointer;\n",
              "      display: none;\n",
              "      fill: #1967D2;\n",
              "      height: 32px;\n",
              "      padding: 0 0 0 0;\n",
              "      width: 32px;\n",
              "    }\n",
              "\n",
              "    .colab-df-convert:hover {\n",
              "      background-color: #E2EBFA;\n",
              "      box-shadow: 0px 1px 2px rgba(60, 64, 67, 0.3), 0px 1px 3px 1px rgba(60, 64, 67, 0.15);\n",
              "      fill: #174EA6;\n",
              "    }\n",
              "\n",
              "    [theme=dark] .colab-df-convert {\n",
              "      background-color: #3B4455;\n",
              "      fill: #D2E3FC;\n",
              "    }\n",
              "\n",
              "    [theme=dark] .colab-df-convert:hover {\n",
              "      background-color: #434B5C;\n",
              "      box-shadow: 0px 1px 3px 1px rgba(0, 0, 0, 0.15);\n",
              "      filter: drop-shadow(0px 1px 2px rgba(0, 0, 0, 0.3));\n",
              "      fill: #FFFFFF;\n",
              "    }\n",
              "  </style>\n",
              "\n",
              "      <script>\n",
              "        const buttonEl =\n",
              "          document.querySelector('#df-a4488aa3-6e54-4a8a-a33b-5c1361787145 button.colab-df-convert');\n",
              "        buttonEl.style.display =\n",
              "          google.colab.kernel.accessAllowed ? 'block' : 'none';\n",
              "\n",
              "        async function convertToInteractive(key) {\n",
              "          const element = document.querySelector('#df-a4488aa3-6e54-4a8a-a33b-5c1361787145');\n",
              "          const dataTable =\n",
              "            await google.colab.kernel.invokeFunction('convertToInteractive',\n",
              "                                                     [key], {});\n",
              "          if (!dataTable) return;\n",
              "\n",
              "          const docLinkHtml = 'Like what you see? Visit the ' +\n",
              "            '<a target=\"_blank\" href=https://colab.research.google.com/notebooks/data_table.ipynb>data table notebook</a>'\n",
              "            + ' to learn more about interactive tables.';\n",
              "          element.innerHTML = '';\n",
              "          dataTable['output_type'] = 'display_data';\n",
              "          await google.colab.output.renderOutput(dataTable, element);\n",
              "          const docLink = document.createElement('div');\n",
              "          docLink.innerHTML = docLinkHtml;\n",
              "          element.appendChild(docLink);\n",
              "        }\n",
              "      </script>\n",
              "    </div>\n",
              "  </div>\n",
              "  "
            ]
          },
          "metadata": {},
          "execution_count": 89
        }
      ]
    },
    {
      "cell_type": "code",
      "source": [
        "from sklearn.metrics import accuracy_score\n",
        "b=accuracy_score(y_test, y_predict)\n",
        "b"
      ],
      "metadata": {
        "colab": {
          "base_uri": "https://localhost:8080/"
        },
        "id": "sYIN_JcPxojY",
        "outputId": "950d0ae0-fb11-426d-a3fd-1cc7e28ad77e"
      },
      "execution_count": 90,
      "outputs": [
        {
          "output_type": "execute_result",
          "data": {
            "text/plain": [
              "0.7045009784735812"
            ]
          },
          "metadata": {},
          "execution_count": 90
        }
      ]
    },
    {
      "cell_type": "markdown",
      "source": [
        "**Decision Trees and random forest**"
      ],
      "metadata": {
        "id": "lZRRCFiJxzYa"
      }
    },
    {
      "cell_type": "code",
      "source": [
        "from sklearn.ensemble import RandomForestClassifier\n",
        "random = RandomForestClassifier(n_estimators=100 , criterion='entropy')\n",
        "random.fit(X_res, y_res)\n",
        "y_predict= random.predict(x_test)\n",
        "from sklearn.metrics import classification_report\n",
        "print(classification_report(y_test , y_predict))\n",
        "pd.crosstab(y_test , y_predict)"
      ],
      "metadata": {
        "colab": {
          "base_uri": "https://localhost:8080/",
          "height": 300
        },
        "id": "AbD0Cuk4xwJU",
        "outputId": "7a16c9f0-c3f5-4f7a-b517-ceeece823861"
      },
      "execution_count": 91,
      "outputs": [
        {
          "output_type": "stream",
          "name": "stdout",
          "text": [
            "              precision    recall  f1-score   support\n",
            "\n",
            "           0       0.95      0.94      0.95       968\n",
            "           1       0.10      0.11      0.10        54\n",
            "\n",
            "    accuracy                           0.90      1022\n",
            "   macro avg       0.52      0.53      0.52      1022\n",
            "weighted avg       0.90      0.90      0.90      1022\n",
            "\n"
          ]
        },
        {
          "output_type": "execute_result",
          "data": {
            "text/plain": [
              "col_0    0   1\n",
              "row_0         \n",
              "0      911  57\n",
              "1       48   6"
            ],
            "text/html": [
              "\n",
              "  <div id=\"df-9c18d2d0-f669-4087-8f88-b91e74ceac79\">\n",
              "    <div class=\"colab-df-container\">\n",
              "      <div>\n",
              "<style scoped>\n",
              "    .dataframe tbody tr th:only-of-type {\n",
              "        vertical-align: middle;\n",
              "    }\n",
              "\n",
              "    .dataframe tbody tr th {\n",
              "        vertical-align: top;\n",
              "    }\n",
              "\n",
              "    .dataframe thead th {\n",
              "        text-align: right;\n",
              "    }\n",
              "</style>\n",
              "<table border=\"1\" class=\"dataframe\">\n",
              "  <thead>\n",
              "    <tr style=\"text-align: right;\">\n",
              "      <th>col_0</th>\n",
              "      <th>0</th>\n",
              "      <th>1</th>\n",
              "    </tr>\n",
              "    <tr>\n",
              "      <th>row_0</th>\n",
              "      <th></th>\n",
              "      <th></th>\n",
              "    </tr>\n",
              "  </thead>\n",
              "  <tbody>\n",
              "    <tr>\n",
              "      <th>0</th>\n",
              "      <td>911</td>\n",
              "      <td>57</td>\n",
              "    </tr>\n",
              "    <tr>\n",
              "      <th>1</th>\n",
              "      <td>48</td>\n",
              "      <td>6</td>\n",
              "    </tr>\n",
              "  </tbody>\n",
              "</table>\n",
              "</div>\n",
              "      <button class=\"colab-df-convert\" onclick=\"convertToInteractive('df-9c18d2d0-f669-4087-8f88-b91e74ceac79')\"\n",
              "              title=\"Convert this dataframe to an interactive table.\"\n",
              "              style=\"display:none;\">\n",
              "        \n",
              "  <svg xmlns=\"http://www.w3.org/2000/svg\" height=\"24px\"viewBox=\"0 0 24 24\"\n",
              "       width=\"24px\">\n",
              "    <path d=\"M0 0h24v24H0V0z\" fill=\"none\"/>\n",
              "    <path d=\"M18.56 5.44l.94 2.06.94-2.06 2.06-.94-2.06-.94-.94-2.06-.94 2.06-2.06.94zm-11 1L8.5 8.5l.94-2.06 2.06-.94-2.06-.94L8.5 2.5l-.94 2.06-2.06.94zm10 10l.94 2.06.94-2.06 2.06-.94-2.06-.94-.94-2.06-.94 2.06-2.06.94z\"/><path d=\"M17.41 7.96l-1.37-1.37c-.4-.4-.92-.59-1.43-.59-.52 0-1.04.2-1.43.59L10.3 9.45l-7.72 7.72c-.78.78-.78 2.05 0 2.83L4 21.41c.39.39.9.59 1.41.59.51 0 1.02-.2 1.41-.59l7.78-7.78 2.81-2.81c.8-.78.8-2.07 0-2.86zM5.41 20L4 18.59l7.72-7.72 1.47 1.35L5.41 20z\"/>\n",
              "  </svg>\n",
              "      </button>\n",
              "      \n",
              "  <style>\n",
              "    .colab-df-container {\n",
              "      display:flex;\n",
              "      flex-wrap:wrap;\n",
              "      gap: 12px;\n",
              "    }\n",
              "\n",
              "    .colab-df-convert {\n",
              "      background-color: #E8F0FE;\n",
              "      border: none;\n",
              "      border-radius: 50%;\n",
              "      cursor: pointer;\n",
              "      display: none;\n",
              "      fill: #1967D2;\n",
              "      height: 32px;\n",
              "      padding: 0 0 0 0;\n",
              "      width: 32px;\n",
              "    }\n",
              "\n",
              "    .colab-df-convert:hover {\n",
              "      background-color: #E2EBFA;\n",
              "      box-shadow: 0px 1px 2px rgba(60, 64, 67, 0.3), 0px 1px 3px 1px rgba(60, 64, 67, 0.15);\n",
              "      fill: #174EA6;\n",
              "    }\n",
              "\n",
              "    [theme=dark] .colab-df-convert {\n",
              "      background-color: #3B4455;\n",
              "      fill: #D2E3FC;\n",
              "    }\n",
              "\n",
              "    [theme=dark] .colab-df-convert:hover {\n",
              "      background-color: #434B5C;\n",
              "      box-shadow: 0px 1px 3px 1px rgba(0, 0, 0, 0.15);\n",
              "      filter: drop-shadow(0px 1px 2px rgba(0, 0, 0, 0.3));\n",
              "      fill: #FFFFFF;\n",
              "    }\n",
              "  </style>\n",
              "\n",
              "      <script>\n",
              "        const buttonEl =\n",
              "          document.querySelector('#df-9c18d2d0-f669-4087-8f88-b91e74ceac79 button.colab-df-convert');\n",
              "        buttonEl.style.display =\n",
              "          google.colab.kernel.accessAllowed ? 'block' : 'none';\n",
              "\n",
              "        async function convertToInteractive(key) {\n",
              "          const element = document.querySelector('#df-9c18d2d0-f669-4087-8f88-b91e74ceac79');\n",
              "          const dataTable =\n",
              "            await google.colab.kernel.invokeFunction('convertToInteractive',\n",
              "                                                     [key], {});\n",
              "          if (!dataTable) return;\n",
              "\n",
              "          const docLinkHtml = 'Like what you see? Visit the ' +\n",
              "            '<a target=\"_blank\" href=https://colab.research.google.com/notebooks/data_table.ipynb>data table notebook</a>'\n",
              "            + ' to learn more about interactive tables.';\n",
              "          element.innerHTML = '';\n",
              "          dataTable['output_type'] = 'display_data';\n",
              "          await google.colab.output.renderOutput(dataTable, element);\n",
              "          const docLink = document.createElement('div');\n",
              "          docLink.innerHTML = docLinkHtml;\n",
              "          element.appendChild(docLink);\n",
              "        }\n",
              "      </script>\n",
              "    </div>\n",
              "  </div>\n",
              "  "
            ]
          },
          "metadata": {},
          "execution_count": 91
        }
      ]
    },
    {
      "cell_type": "code",
      "source": [
        "from sklearn.metrics import accuracy_score\n",
        "c=accuracy_score(y_test, y_predict)\n",
        "c"
      ],
      "metadata": {
        "colab": {
          "base_uri": "https://localhost:8080/"
        },
        "id": "SKx2eRuKyNQo",
        "outputId": "5a1030f5-8ffc-4a5e-ceb6-ebfcdd172e8e"
      },
      "execution_count": 92,
      "outputs": [
        {
          "output_type": "execute_result",
          "data": {
            "text/plain": [
              "0.8972602739726028"
            ]
          },
          "metadata": {},
          "execution_count": 92
        }
      ]
    },
    {
      "cell_type": "markdown",
      "source": [
        "**Naive bayes classification**"
      ],
      "metadata": {
        "id": "gukU5M2GyvHR"
      }
    },
    {
      "cell_type": "code",
      "source": [
        "from sklearn.naive_bayes import MultinomialNB\n",
        "classifier=MultinomialNB()\n",
        "classifier.fit(X_res, y_res)\n",
        "y_predict=classifier.predict(x_test)\n",
        "from sklearn.metrics import classification_report ,confusion_matrix\n",
        "cm=confusion_matrix(y_test , y_predict)\n",
        "sns.heatmap(cm, annot=True )"
      ],
      "metadata": {
        "colab": {
          "base_uri": "https://localhost:8080/",
          "height": 282
        },
        "id": "yKc3ozAzyWi2",
        "outputId": "06e3e8d8-8eaf-4755-9a5c-6f7ffdcb7500"
      },
      "execution_count": 93,
      "outputs": [
        {
          "output_type": "execute_result",
          "data": {
            "text/plain": [
              "<matplotlib.axes._subplots.AxesSubplot at 0x7f2bf4038400>"
            ]
          },
          "metadata": {},
          "execution_count": 93
        },
        {
          "output_type": "display_data",
          "data": {
            "text/plain": [
              "<Figure size 432x288 with 2 Axes>"
            ],
            "image/png": "[encoded data removed]"
          },
          "metadata": {
            "needs_background": "light"
          }
        }
      ]
    },
    {
      "cell_type": "code",
      "source": [
        "from sklearn.metrics import accuracy_score\n",
        "d=accuracy_score(y_test, y_predict)\n",
        "d"
      ],
      "metadata": {
        "colab": {
          "base_uri": "https://localhost:8080/"
        },
        "id": "yLEOnbtVy19Y",
        "outputId": "b39e1cde-5c2f-44be-bed1-7ff0fd9c795b"
      },
      "execution_count": 94,
      "outputs": [
        {
          "output_type": "execute_result",
          "data": {
            "text/plain": [
              "0.5185909980430529"
            ]
          },
          "metadata": {},
          "execution_count": 94
        }
      ]
    },
    {
      "cell_type": "markdown",
      "source": [
        "**xgboost**"
      ],
      "metadata": {
        "id": "lexLfa5rNcJj"
      }
    },
    {
      "cell_type": "code",
      "source": [
        "from xgboost import XGBClassifier\n",
        "model = XGBClassifier()\n",
        "model.fit(X_res, y_res)\n",
        "y_predict=model.predict(x_test)\n",
        "from sklearn.metrics import classification_report ,confusion_matrix\n",
        "cm=confusion_matrix(y_test , y_predict)\n",
        "sns.heatmap(cm, annot=True )"
      ],
      "metadata": {
        "colab": {
          "base_uri": "https://localhost:8080/",
          "height": 285
        },
        "id": "dJGD1AjTzDWI",
        "outputId": "ba472adf-1c43-4928-c5ea-6687760ebc8c"
      },
      "execution_count": 95,
      "outputs": [
        {
          "output_type": "execute_result",
          "data": {
            "text/plain": [
              "<matplotlib.axes._subplots.AxesSubplot at 0x7f2bf40206a0>"
            ]
          },
          "metadata": {},
          "execution_count": 95
        },
        {
          "output_type": "display_data",
          "data": {
            "text/plain": [
              "<Figure size 432x288 with 2 Axes>"
            ],
            "image/png": "[encoded data removed]"
          },
          "metadata": {
            "needs_background": "light"
          }
        }
      ]
    },
    {
      "cell_type": "code",
      "source": [
        "from sklearn.metrics import accuracy_score\n",
        "e=accuracy_score(y_test, y_predict)\n",
        "e"
      ],
      "metadata": {
        "colab": {
          "base_uri": "https://localhost:8080/"
        },
        "id": "J_1_rBXzzLlH",
        "outputId": "1236fb7b-d5f8-416b-fca2-26953af4aeb3"
      },
      "execution_count": 96,
      "outputs": [
        {
          "output_type": "execute_result",
          "data": {
            "text/plain": [
              "0.8052837573385518"
            ]
          },
          "metadata": {},
          "execution_count": 96
        }
      ]
    },
    {
      "cell_type": "markdown",
      "source": [
        "**cat boost**"
      ],
      "metadata": {
        "id": "kEAdtPsSNgZn"
      }
    },
    {
      "cell_type": "code",
      "source": [
        "!pip install catboost"
      ],
      "metadata": {
        "colab": {
          "base_uri": "https://localhost:8080/"
        },
        "id": "TDNtcTOdqy7k",
        "outputId": "d1833c39-5f62-4c41-ae8a-6a8675810235"
      },
      "execution_count": 97,
      "outputs": [
        {
          "output_type": "stream",
          "name": "stdout",
          "text": [
            "Looking in indexes: https://pypi.org/simple, https://us-python.pkg.dev/colab-wheels/public/simple/\n",
            "Requirement already satisfied: catboost in /usr/local/lib/python3.8/dist-packages (1.1.1)\n",
            "Requirement already satisfied: six in /usr/local/lib/python3.8/dist-packages (from catboost) (1.15.0)\n",
            "Requirement already satisfied: graphviz in /usr/local/lib/python3.8/dist-packages (from catboost) (0.10.1)\n",
            "Requirement already satisfied: pandas>=0.24.0 in /usr/local/lib/python3.8/dist-packages (from catboost) (1.3.5)\n",
            "Requirement already satisfied: scipy in /usr/local/lib/python3.8/dist-packages (from catboost) (1.7.3)\n",
            "Requirement already satisfied: numpy>=1.16.0 in /usr/local/lib/python3.8/dist-packages (from catboost) (1.21.6)\n",
            "Requirement already satisfied: matplotlib in /usr/local/lib/python3.8/dist-packages (from catboost) (3.2.2)\n",
            "Requirement already satisfied: plotly in /usr/local/lib/python3.8/dist-packages (from catboost) (5.5.0)\n",
            "Requirement already satisfied: pytz>=2017.3 in /usr/local/lib/python3.8/dist-packages (from pandas>=0.24.0->catboost) (2022.7.1)\n",
            "Requirement already satisfied: python-dateutil>=2.7.3 in /usr/local/lib/python3.8/dist-packages (from pandas>=0.24.0->catboost) (2.8.2)\n",
            "Requirement already satisfied: cycler>=0.10 in /usr/local/lib/python3.8/dist-packages (from matplotlib->catboost) (0.11.0)\n",
            "Requirement already satisfied: kiwisolver>=1.0.1 in /usr/local/lib/python3.8/dist-packages (from matplotlib->catboost) (1.4.4)\n",
            "Requirement already satisfied: pyparsing!=2.0.4,!=2.1.2,!=2.1.6,>=2.0.1 in /usr/local/lib/python3.8/dist-packages (from matplotlib->catboost) (3.0.9)\n",
            "Requirement already satisfied: tenacity>=6.2.0 in /usr/local/lib/python3.8/dist-packages (from plotly->catboost) (8.2.1)\n"
          ]
        }
      ]
    },
    {
      "cell_type": "code",
      "source": [
        "from catboost import CatBoostClassifier\n",
        "cat=CatBoostClassifier()\n",
        "cat.fit(X_res,y_res)\n",
        "y_predict=model.predict(x_test)\n",
        "from sklearn.metrics import classification_report ,confusion_matrix\n",
        "cm=confusion_matrix(y_test , y_predict)\n",
        "sns.heatmap(cm, annot=True )"
      ],
      "metadata": {
        "colab": {
          "base_uri": "https://localhost:8080/",
          "height": 1000
        },
        "id": "W_u0wqw39-xP",
        "outputId": "c7d366d0-3711-40f5-c086-1ada1d8dd2eb"
      },
      "execution_count": 98,
      "outputs": [
        {
          "output_type": "stream",
          "name": "stdout",
          "text": [
            "Learning rate set to 0.024747\n",
            "0:\tlearn: 0.6737225\ttotal: 3.06ms\tremaining: 3.06s\n",
            "1:\tlearn: 0.6545493\ttotal: 5.66ms\tremaining: 2.82s\n",
            "2:\tlearn: 0.6377926\ttotal: 8.42ms\tremaining: 2.8s\n",
            "3:\tlearn: 0.6228984\ttotal: 10.9ms\tremaining: 2.72s\n",
            "4:\tlearn: 0.6084418\ttotal: 13.4ms\tremaining: 2.67s\n",
            "5:\tlearn: 0.5931810\ttotal: 16ms\tremaining: 2.64s\n",
            "6:\tlearn: 0.5815336\ttotal: 18.5ms\tremaining: 2.62s\n",
            "7:\tlearn: 0.5699934\ttotal: 21ms\tremaining: 2.6s\n",
            "8:\tlearn: 0.5592085\ttotal: 23.4ms\tremaining: 2.58s\n",
            "9:\tlearn: 0.5501244\ttotal: 26.1ms\tremaining: 2.58s\n",
            "10:\tlearn: 0.5407617\ttotal: 29.8ms\tremaining: 2.68s\n",
            "11:\tlearn: 0.5302254\ttotal: 32.4ms\tremaining: 2.67s\n",
            "12:\tlearn: 0.5215710\ttotal: 35.1ms\tremaining: 2.66s\n",
            "13:\tlearn: 0.5136837\ttotal: 37.6ms\tremaining: 2.65s\n",
            "14:\tlearn: 0.5061069\ttotal: 40.2ms\tremaining: 2.64s\n",
            "15:\tlearn: 0.4993394\ttotal: 42.7ms\tremaining: 2.63s\n",
            "16:\tlearn: 0.4916662\ttotal: 45.4ms\tremaining: 2.62s\n",
            "17:\tlearn: 0.4847064\ttotal: 47.9ms\tremaining: 2.61s\n",
            "18:\tlearn: 0.4789002\ttotal: 50.5ms\tremaining: 2.61s\n",
            "19:\tlearn: 0.4732377\ttotal: 53.1ms\tremaining: 2.6s\n",
            "20:\tlearn: 0.4676960\ttotal: 55.7ms\tremaining: 2.6s\n",
            "21:\tlearn: 0.4627466\ttotal: 58.2ms\tremaining: 2.59s\n",
            "22:\tlearn: 0.4575224\ttotal: 60.8ms\tremaining: 2.58s\n",
            "23:\tlearn: 0.4523298\ttotal: 63.4ms\tremaining: 2.58s\n",
            "24:\tlearn: 0.4469971\ttotal: 66ms\tremaining: 2.58s\n",
            "25:\tlearn: 0.4421717\ttotal: 68.5ms\tremaining: 2.57s\n",
            "26:\tlearn: 0.4387632\ttotal: 71.2ms\tremaining: 2.56s\n",
            "27:\tlearn: 0.4348500\ttotal: 73.8ms\tremaining: 2.56s\n",
            "28:\tlearn: 0.4314392\ttotal: 76.1ms\tremaining: 2.55s\n",
            "29:\tlearn: 0.4280156\ttotal: 78.8ms\tremaining: 2.55s\n",
            "30:\tlearn: 0.4246002\ttotal: 81.4ms\tremaining: 2.54s\n",
            "31:\tlearn: 0.4207830\ttotal: 84ms\tremaining: 2.54s\n",
            "32:\tlearn: 0.4174036\ttotal: 86.6ms\tremaining: 2.54s\n",
            "33:\tlearn: 0.4141024\ttotal: 91.4ms\tremaining: 2.6s\n",
            "34:\tlearn: 0.4112073\ttotal: 95.1ms\tremaining: 2.62s\n",
            "35:\tlearn: 0.4083352\ttotal: 98.5ms\tremaining: 2.64s\n",
            "36:\tlearn: 0.4059810\ttotal: 110ms\tremaining: 2.86s\n",
            "37:\tlearn: 0.4030534\ttotal: 114ms\tremaining: 2.88s\n",
            "38:\tlearn: 0.4004182\ttotal: 118ms\tremaining: 2.9s\n",
            "39:\tlearn: 0.3970712\ttotal: 125ms\tremaining: 3s\n",
            "40:\tlearn: 0.3936897\ttotal: 128ms\tremaining: 3s\n",
            "41:\tlearn: 0.3917686\ttotal: 131ms\tremaining: 2.99s\n",
            "42:\tlearn: 0.3899080\ttotal: 133ms\tremaining: 2.97s\n",
            "43:\tlearn: 0.3878289\ttotal: 136ms\tremaining: 2.95s\n",
            "44:\tlearn: 0.3854356\ttotal: 138ms\tremaining: 2.94s\n",
            "45:\tlearn: 0.3830024\ttotal: 141ms\tremaining: 2.93s\n",
            "46:\tlearn: 0.3812072\ttotal: 144ms\tremaining: 2.92s\n",
            "47:\tlearn: 0.3792220\ttotal: 147ms\tremaining: 2.91s\n",
            "48:\tlearn: 0.3773740\ttotal: 149ms\tremaining: 2.9s\n",
            "49:\tlearn: 0.3747944\ttotal: 152ms\tremaining: 2.89s\n",
            "50:\tlearn: 0.3731877\ttotal: 155ms\tremaining: 2.88s\n",
            "51:\tlearn: 0.3715736\ttotal: 157ms\tremaining: 2.87s\n",
            "52:\tlearn: 0.3691888\ttotal: 160ms\tremaining: 2.85s\n",
            "53:\tlearn: 0.3679349\ttotal: 162ms\tremaining: 2.84s\n",
            "54:\tlearn: 0.3664182\ttotal: 165ms\tremaining: 2.83s\n",
            "55:\tlearn: 0.3648741\ttotal: 167ms\tremaining: 2.82s\n",
            "56:\tlearn: 0.3630251\ttotal: 170ms\tremaining: 2.82s\n",
            "57:\tlearn: 0.3617091\ttotal: 173ms\tremaining: 2.81s\n",
            "58:\tlearn: 0.3599341\ttotal: 176ms\tremaining: 2.8s\n",
            "59:\tlearn: 0.3590566\ttotal: 178ms\tremaining: 2.79s\n",
            "60:\tlearn: 0.3572993\ttotal: 181ms\tremaining: 2.78s\n",
            "61:\tlearn: 0.3559713\ttotal: 183ms\tremaining: 2.77s\n",
            "62:\tlearn: 0.3547765\ttotal: 186ms\tremaining: 2.77s\n",
            "63:\tlearn: 0.3534238\ttotal: 192ms\tremaining: 2.81s\n",
            "64:\tlearn: 0.3517380\ttotal: 196ms\tremaining: 2.81s\n",
            "65:\tlearn: 0.3504686\ttotal: 198ms\tremaining: 2.8s\n",
            "66:\tlearn: 0.3490934\ttotal: 201ms\tremaining: 2.79s\n",
            "67:\tlearn: 0.3477166\ttotal: 203ms\tremaining: 2.79s\n",
            "68:\tlearn: 0.3464231\ttotal: 206ms\tremaining: 2.78s\n",
            "69:\tlearn: 0.3448268\ttotal: 209ms\tremaining: 2.78s\n",
            "70:\tlearn: 0.3432301\ttotal: 212ms\tremaining: 2.77s\n",
            "71:\tlearn: 0.3418983\ttotal: 214ms\tremaining: 2.76s\n",
            "72:\tlearn: 0.3410910\ttotal: 217ms\tremaining: 2.75s\n",
            "73:\tlearn: 0.3400002\ttotal: 220ms\tremaining: 2.75s\n",
            "74:\tlearn: 0.3390065\ttotal: 222ms\tremaining: 2.74s\n",
            "75:\tlearn: 0.3381634\ttotal: 225ms\tremaining: 2.73s\n",
            "76:\tlearn: 0.3370355\ttotal: 228ms\tremaining: 2.73s\n",
            "77:\tlearn: 0.3357464\ttotal: 230ms\tremaining: 2.72s\n",
            "78:\tlearn: 0.3347430\ttotal: 233ms\tremaining: 2.71s\n",
            "79:\tlearn: 0.3335145\ttotal: 236ms\tremaining: 2.71s\n",
            "80:\tlearn: 0.3325549\ttotal: 238ms\tremaining: 2.7s\n",
            "81:\tlearn: 0.3317378\ttotal: 241ms\tremaining: 2.7s\n",
            "82:\tlearn: 0.3306826\ttotal: 244ms\tremaining: 2.69s\n",
            "83:\tlearn: 0.3299039\ttotal: 246ms\tremaining: 2.68s\n",
            "84:\tlearn: 0.3290848\ttotal: 249ms\tremaining: 2.68s\n",
            "85:\tlearn: 0.3280329\ttotal: 253ms\tremaining: 2.69s\n",
            "86:\tlearn: 0.3269613\ttotal: 256ms\tremaining: 2.69s\n",
            "87:\tlearn: 0.3259326\ttotal: 260ms\tremaining: 2.69s\n",
            "88:\tlearn: 0.3247798\ttotal: 262ms\tremaining: 2.68s\n",
            "89:\tlearn: 0.3238021\ttotal: 265ms\tremaining: 2.68s\n",
            "90:\tlearn: 0.3231281\ttotal: 267ms\tremaining: 2.67s\n",
            "91:\tlearn: 0.3224783\ttotal: 271ms\tremaining: 2.68s\n",
            "92:\tlearn: 0.3215508\ttotal: 274ms\tremaining: 2.67s\n",
            "93:\tlearn: 0.3206673\ttotal: 276ms\tremaining: 2.66s\n",
            "94:\tlearn: 0.3201417\ttotal: 279ms\tremaining: 2.66s\n",
            "95:\tlearn: 0.3191354\ttotal: 282ms\tremaining: 2.65s\n",
            "96:\tlearn: 0.3185510\ttotal: 284ms\tremaining: 2.65s\n",
            "97:\tlearn: 0.3179384\ttotal: 287ms\tremaining: 2.64s\n",
            "98:\tlearn: 0.3169343\ttotal: 290ms\tremaining: 2.64s\n",
            "99:\tlearn: 0.3162212\ttotal: 294ms\tremaining: 2.65s\n",
            "100:\tlearn: 0.3154130\ttotal: 302ms\tremaining: 2.68s\n",
            "101:\tlearn: 0.3143866\ttotal: 304ms\tremaining: 2.68s\n",
            "102:\tlearn: 0.3135322\ttotal: 307ms\tremaining: 2.67s\n",
            "103:\tlearn: 0.3128842\ttotal: 311ms\tremaining: 2.68s\n",
            "104:\tlearn: 0.3119932\ttotal: 314ms\tremaining: 2.67s\n",
            "105:\tlearn: 0.3113555\ttotal: 316ms\tremaining: 2.67s\n",
            "106:\tlearn: 0.3107317\ttotal: 320ms\tremaining: 2.67s\n",
            "107:\tlearn: 0.3101562\ttotal: 324ms\tremaining: 2.68s\n",
            "108:\tlearn: 0.3095979\ttotal: 331ms\tremaining: 2.7s\n",
            "109:\tlearn: 0.3088470\ttotal: 337ms\tremaining: 2.72s\n",
            "110:\tlearn: 0.3079283\ttotal: 339ms\tremaining: 2.72s\n",
            "111:\tlearn: 0.3071322\ttotal: 342ms\tremaining: 2.71s\n",
            "112:\tlearn: 0.3064650\ttotal: 344ms\tremaining: 2.7s\n",
            "113:\tlearn: 0.3055766\ttotal: 347ms\tremaining: 2.7s\n",
            "114:\tlearn: 0.3050071\ttotal: 351ms\tremaining: 2.7s\n",
            "115:\tlearn: 0.3042642\ttotal: 354ms\tremaining: 2.69s\n",
            "116:\tlearn: 0.3036393\ttotal: 356ms\tremaining: 2.69s\n",
            "117:\tlearn: 0.3028506\ttotal: 359ms\tremaining: 2.68s\n",
            "118:\tlearn: 0.3021913\ttotal: 362ms\tremaining: 2.68s\n",
            "119:\tlearn: 0.3014977\ttotal: 364ms\tremaining: 2.67s\n",
            "120:\tlearn: 0.3009653\ttotal: 367ms\tremaining: 2.66s\n",
            "121:\tlearn: 0.3000826\ttotal: 369ms\tremaining: 2.66s\n",
            "122:\tlearn: 0.2993204\ttotal: 372ms\tremaining: 2.65s\n",
            "123:\tlearn: 0.2986679\ttotal: 374ms\tremaining: 2.64s\n",
            "124:\tlearn: 0.2980689\ttotal: 377ms\tremaining: 2.64s\n",
            "125:\tlearn: 0.2974829\ttotal: 379ms\tremaining: 2.63s\n",
            "126:\tlearn: 0.2966850\ttotal: 382ms\tremaining: 2.63s\n",
            "127:\tlearn: 0.2960173\ttotal: 388ms\tremaining: 2.64s\n",
            "128:\tlearn: 0.2954585\ttotal: 391ms\tremaining: 2.64s\n",
            "129:\tlearn: 0.2948148\ttotal: 393ms\tremaining: 2.63s\n",
            "130:\tlearn: 0.2940289\ttotal: 396ms\tremaining: 2.63s\n",
            "131:\tlearn: 0.2934947\ttotal: 399ms\tremaining: 2.62s\n",
            "132:\tlearn: 0.2926297\ttotal: 401ms\tremaining: 2.61s\n",
            "133:\tlearn: 0.2921995\ttotal: 404ms\tremaining: 2.61s\n",
            "134:\tlearn: 0.2916402\ttotal: 406ms\tremaining: 2.6s\n",
            "135:\tlearn: 0.2910872\ttotal: 409ms\tremaining: 2.6s\n",
            "136:\tlearn: 0.2907076\ttotal: 411ms\tremaining: 2.59s\n",
            "137:\tlearn: 0.2899347\ttotal: 414ms\tremaining: 2.58s\n",
            "138:\tlearn: 0.2895429\ttotal: 416ms\tremaining: 2.58s\n",
            "139:\tlearn: 0.2891406\ttotal: 419ms\tremaining: 2.57s\n",
            "140:\tlearn: 0.2884080\ttotal: 421ms\tremaining: 2.57s\n",
            "141:\tlearn: 0.2877446\ttotal: 424ms\tremaining: 2.56s\n",
            "142:\tlearn: 0.2872229\ttotal: 426ms\tremaining: 2.56s\n",
            "143:\tlearn: 0.2865768\ttotal: 429ms\tremaining: 2.55s\n",
            "144:\tlearn: 0.2861250\ttotal: 432ms\tremaining: 2.54s\n",
            "145:\tlearn: 0.2854593\ttotal: 434ms\tremaining: 2.54s\n",
            "146:\tlearn: 0.2849707\ttotal: 437ms\tremaining: 2.53s\n",
            "147:\tlearn: 0.2844510\ttotal: 439ms\tremaining: 2.53s\n",
            "148:\tlearn: 0.2836364\ttotal: 442ms\tremaining: 2.52s\n",
            "149:\tlearn: 0.2833870\ttotal: 444ms\tremaining: 2.52s\n",
            "150:\tlearn: 0.2829677\ttotal: 447ms\tremaining: 2.51s\n",
            "151:\tlearn: 0.2823531\ttotal: 449ms\tremaining: 2.51s\n",
            "152:\tlearn: 0.2817552\ttotal: 452ms\tremaining: 2.5s\n",
            "153:\tlearn: 0.2813267\ttotal: 454ms\tremaining: 2.5s\n",
            "154:\tlearn: 0.2809727\ttotal: 457ms\tremaining: 2.49s\n",
            "155:\tlearn: 0.2805983\ttotal: 459ms\tremaining: 2.48s\n",
            "156:\tlearn: 0.2801176\ttotal: 462ms\tremaining: 2.48s\n",
            "157:\tlearn: 0.2795746\ttotal: 464ms\tremaining: 2.48s\n",
            "158:\tlearn: 0.2790562\ttotal: 467ms\tremaining: 2.47s\n",
            "159:\tlearn: 0.2786183\ttotal: 469ms\tremaining: 2.46s\n",
            "160:\tlearn: 0.2780796\ttotal: 472ms\tremaining: 2.46s\n",
            "161:\tlearn: 0.2776124\ttotal: 474ms\tremaining: 2.45s\n",
            "162:\tlearn: 0.2771623\ttotal: 477ms\tremaining: 2.45s\n",
            "163:\tlearn: 0.2766767\ttotal: 479ms\tremaining: 2.44s\n",
            "164:\tlearn: 0.2762346\ttotal: 482ms\tremaining: 2.44s\n",
            "165:\tlearn: 0.2755140\ttotal: 484ms\tremaining: 2.43s\n",
            "166:\tlearn: 0.2749986\ttotal: 487ms\tremaining: 2.43s\n",
            "167:\tlearn: 0.2745703\ttotal: 489ms\tremaining: 2.42s\n",
            "168:\tlearn: 0.2740655\ttotal: 492ms\tremaining: 2.42s\n",
            "169:\tlearn: 0.2733895\ttotal: 494ms\tremaining: 2.41s\n",
            "170:\tlearn: 0.2726913\ttotal: 497ms\tremaining: 2.41s\n",
            "171:\tlearn: 0.2721703\ttotal: 500ms\tremaining: 2.4s\n",
            "172:\tlearn: 0.2717982\ttotal: 502ms\tremaining: 2.4s\n",
            "173:\tlearn: 0.2712765\ttotal: 504ms\tremaining: 2.39s\n",
            "174:\tlearn: 0.2708834\ttotal: 507ms\tremaining: 2.39s\n",
            "175:\tlearn: 0.2703183\ttotal: 510ms\tremaining: 2.38s\n",
            "176:\tlearn: 0.2699651\ttotal: 512ms\tremaining: 2.38s\n",
            "177:\tlearn: 0.2696641\ttotal: 514ms\tremaining: 2.38s\n",
            "178:\tlearn: 0.2692211\ttotal: 517ms\tremaining: 2.37s\n",
            "179:\tlearn: 0.2687955\ttotal: 520ms\tremaining: 2.37s\n",
            "180:\tlearn: 0.2683455\ttotal: 523ms\tremaining: 2.37s\n",
            "181:\tlearn: 0.2678768\ttotal: 525ms\tremaining: 2.36s\n",
            "182:\tlearn: 0.2672506\ttotal: 528ms\tremaining: 2.35s\n",
            "183:\tlearn: 0.2668454\ttotal: 530ms\tremaining: 2.35s\n",
            "184:\tlearn: 0.2663203\ttotal: 533ms\tremaining: 2.35s\n",
            "185:\tlearn: 0.2658875\ttotal: 535ms\tremaining: 2.34s\n",
            "186:\tlearn: 0.2652360\ttotal: 538ms\tremaining: 2.34s\n",
            "187:\tlearn: 0.2645916\ttotal: 540ms\tremaining: 2.33s\n",
            "188:\tlearn: 0.2640175\ttotal: 543ms\tremaining: 2.33s\n",
            "189:\tlearn: 0.2636384\ttotal: 545ms\tremaining: 2.32s\n",
            "190:\tlearn: 0.2629885\ttotal: 548ms\tremaining: 2.32s\n",
            "191:\tlearn: 0.2623737\ttotal: 550ms\tremaining: 2.31s\n",
            "192:\tlearn: 0.2620410\ttotal: 553ms\tremaining: 2.31s\n",
            "193:\tlearn: 0.2617227\ttotal: 555ms\tremaining: 2.31s\n",
            "194:\tlearn: 0.2615309\ttotal: 558ms\tremaining: 2.3s\n",
            "195:\tlearn: 0.2610522\ttotal: 560ms\tremaining: 2.3s\n",
            "196:\tlearn: 0.2605567\ttotal: 563ms\tremaining: 2.29s\n",
            "197:\tlearn: 0.2601588\ttotal: 566ms\tremaining: 2.29s\n",
            "198:\tlearn: 0.2597250\ttotal: 568ms\tremaining: 2.29s\n",
            "199:\tlearn: 0.2592205\ttotal: 571ms\tremaining: 2.28s\n",
            "200:\tlearn: 0.2587889\ttotal: 573ms\tremaining: 2.28s\n",
            "201:\tlearn: 0.2583709\ttotal: 576ms\tremaining: 2.27s\n",
            "202:\tlearn: 0.2580324\ttotal: 578ms\tremaining: 2.27s\n",
            "203:\tlearn: 0.2575668\ttotal: 580ms\tremaining: 2.26s\n",
            "204:\tlearn: 0.2569005\ttotal: 587ms\tremaining: 2.27s\n",
            "205:\tlearn: 0.2565299\ttotal: 590ms\tremaining: 2.27s\n",
            "206:\tlearn: 0.2561239\ttotal: 592ms\tremaining: 2.27s\n",
            "207:\tlearn: 0.2556840\ttotal: 595ms\tremaining: 2.26s\n",
            "208:\tlearn: 0.2553450\ttotal: 597ms\tremaining: 2.26s\n",
            "209:\tlearn: 0.2550293\ttotal: 600ms\tremaining: 2.26s\n",
            "210:\tlearn: 0.2546005\ttotal: 602ms\tremaining: 2.25s\n",
            "211:\tlearn: 0.2540163\ttotal: 605ms\tremaining: 2.25s\n",
            "212:\tlearn: 0.2533827\ttotal: 608ms\tremaining: 2.25s\n",
            "213:\tlearn: 0.2530582\ttotal: 610ms\tremaining: 2.24s\n",
            "214:\tlearn: 0.2526702\ttotal: 613ms\tremaining: 2.24s\n",
            "215:\tlearn: 0.2522647\ttotal: 615ms\tremaining: 2.23s\n",
            "216:\tlearn: 0.2518922\ttotal: 618ms\tremaining: 2.23s\n",
            "217:\tlearn: 0.2514702\ttotal: 620ms\tremaining: 2.23s\n",
            "218:\tlearn: 0.2507136\ttotal: 623ms\tremaining: 2.22s\n",
            "219:\tlearn: 0.2502315\ttotal: 625ms\tremaining: 2.22s\n",
            "220:\tlearn: 0.2499644\ttotal: 628ms\tremaining: 2.21s\n",
            "221:\tlearn: 0.2497278\ttotal: 630ms\tremaining: 2.21s\n",
            "222:\tlearn: 0.2492495\ttotal: 633ms\tremaining: 2.21s\n",
            "223:\tlearn: 0.2489218\ttotal: 635ms\tremaining: 2.2s\n",
            "224:\tlearn: 0.2485149\ttotal: 638ms\tremaining: 2.2s\n",
            "225:\tlearn: 0.2481456\ttotal: 641ms\tremaining: 2.19s\n",
            "226:\tlearn: 0.2477431\ttotal: 643ms\tremaining: 2.19s\n",
            "227:\tlearn: 0.2473706\ttotal: 645ms\tremaining: 2.19s\n",
            "228:\tlearn: 0.2469531\ttotal: 648ms\tremaining: 2.18s\n",
            "229:\tlearn: 0.2466043\ttotal: 650ms\tremaining: 2.18s\n",
            "230:\tlearn: 0.2460882\ttotal: 653ms\tremaining: 2.17s\n",
            "231:\tlearn: 0.2455612\ttotal: 656ms\tremaining: 2.17s\n",
            "232:\tlearn: 0.2453157\ttotal: 658ms\tremaining: 2.17s\n",
            "233:\tlearn: 0.2448588\ttotal: 660ms\tremaining: 2.16s\n",
            "234:\tlearn: 0.2445530\ttotal: 664ms\tremaining: 2.16s\n",
            "235:\tlearn: 0.2439857\ttotal: 667ms\tremaining: 2.16s\n",
            "236:\tlearn: 0.2437943\ttotal: 670ms\tremaining: 2.15s\n",
            "237:\tlearn: 0.2433898\ttotal: 673ms\tremaining: 2.15s\n",
            "238:\tlearn: 0.2429590\ttotal: 676ms\tremaining: 2.15s\n",
            "239:\tlearn: 0.2427219\ttotal: 678ms\tremaining: 2.15s\n",
            "240:\tlearn: 0.2424423\ttotal: 681ms\tremaining: 2.14s\n",
            "241:\tlearn: 0.2420411\ttotal: 683ms\tremaining: 2.14s\n",
            "242:\tlearn: 0.2415993\ttotal: 685ms\tremaining: 2.13s\n",
            "243:\tlearn: 0.2412747\ttotal: 688ms\tremaining: 2.13s\n",
            "244:\tlearn: 0.2407465\ttotal: 690ms\tremaining: 2.13s\n",
            "245:\tlearn: 0.2403892\ttotal: 692ms\tremaining: 2.12s\n",
            "246:\tlearn: 0.2397777\ttotal: 695ms\tremaining: 2.12s\n",
            "247:\tlearn: 0.2395682\ttotal: 697ms\tremaining: 2.11s\n",
            "248:\tlearn: 0.2393735\ttotal: 700ms\tremaining: 2.11s\n",
            "249:\tlearn: 0.2387901\ttotal: 702ms\tremaining: 2.11s\n",
            "250:\tlearn: 0.2382741\ttotal: 705ms\tremaining: 2.1s\n",
            "251:\tlearn: 0.2379999\ttotal: 707ms\tremaining: 2.1s\n",
            "252:\tlearn: 0.2374333\ttotal: 710ms\tremaining: 2.1s\n",
            "253:\tlearn: 0.2371632\ttotal: 712ms\tremaining: 2.09s\n",
            "254:\tlearn: 0.2368077\ttotal: 715ms\tremaining: 2.09s\n",
            "255:\tlearn: 0.2364868\ttotal: 717ms\tremaining: 2.08s\n",
            "256:\tlearn: 0.2362256\ttotal: 720ms\tremaining: 2.08s\n",
            "257:\tlearn: 0.2357534\ttotal: 722ms\tremaining: 2.08s\n",
            "258:\tlearn: 0.2355243\ttotal: 725ms\tremaining: 2.07s\n",
            "259:\tlearn: 0.2351891\ttotal: 727ms\tremaining: 2.07s\n",
            "260:\tlearn: 0.2347805\ttotal: 730ms\tremaining: 2.07s\n",
            "261:\tlearn: 0.2344676\ttotal: 732ms\tremaining: 2.06s\n",
            "262:\tlearn: 0.2341671\ttotal: 735ms\tremaining: 2.06s\n",
            "263:\tlearn: 0.2338803\ttotal: 737ms\tremaining: 2.06s\n",
            "264:\tlearn: 0.2333971\ttotal: 740ms\tremaining: 2.05s\n",
            "265:\tlearn: 0.2331224\ttotal: 742ms\tremaining: 2.05s\n",
            "266:\tlearn: 0.2327859\ttotal: 745ms\tremaining: 2.04s\n",
            "267:\tlearn: 0.2325009\ttotal: 747ms\tremaining: 2.04s\n",
            "268:\tlearn: 0.2319626\ttotal: 750ms\tremaining: 2.04s\n",
            "269:\tlearn: 0.2317396\ttotal: 752ms\tremaining: 2.03s\n",
            "270:\tlearn: 0.2313529\ttotal: 755ms\tremaining: 2.03s\n",
            "271:\tlearn: 0.2309848\ttotal: 757ms\tremaining: 2.03s\n",
            "272:\tlearn: 0.2309770\ttotal: 759ms\tremaining: 2.02s\n",
            "273:\tlearn: 0.2305465\ttotal: 762ms\tremaining: 2.02s\n",
            "274:\tlearn: 0.2303787\ttotal: 764ms\tremaining: 2.01s\n",
            "275:\tlearn: 0.2300801\ttotal: 767ms\tremaining: 2.01s\n",
            "276:\tlearn: 0.2295289\ttotal: 769ms\tremaining: 2.01s\n",
            "277:\tlearn: 0.2291717\ttotal: 772ms\tremaining: 2s\n",
            "278:\tlearn: 0.2287570\ttotal: 774ms\tremaining: 2s\n",
            "279:\tlearn: 0.2285240\ttotal: 777ms\tremaining: 2s\n",
            "280:\tlearn: 0.2279083\ttotal: 780ms\tremaining: 2s\n",
            "281:\tlearn: 0.2275661\ttotal: 785ms\tremaining: 2s\n",
            "282:\tlearn: 0.2272743\ttotal: 788ms\tremaining: 2s\n",
            "283:\tlearn: 0.2269816\ttotal: 790ms\tremaining: 1.99s\n",
            "284:\tlearn: 0.2268353\ttotal: 793ms\tremaining: 1.99s\n",
            "285:\tlearn: 0.2263881\ttotal: 795ms\tremaining: 1.98s\n",
            "286:\tlearn: 0.2261407\ttotal: 797ms\tremaining: 1.98s\n",
            "287:\tlearn: 0.2259000\ttotal: 800ms\tremaining: 1.98s\n",
            "288:\tlearn: 0.2256198\ttotal: 802ms\tremaining: 1.97s\n",
            "289:\tlearn: 0.2252582\ttotal: 805ms\tremaining: 1.97s\n",
            "290:\tlearn: 0.2250220\ttotal: 807ms\tremaining: 1.97s\n",
            "291:\tlearn: 0.2248279\ttotal: 810ms\tremaining: 1.96s\n",
            "292:\tlearn: 0.2245113\ttotal: 813ms\tremaining: 1.96s\n",
            "293:\tlearn: 0.2242775\ttotal: 815ms\tremaining: 1.96s\n",
            "294:\tlearn: 0.2238653\ttotal: 818ms\tremaining: 1.95s\n",
            "295:\tlearn: 0.2235843\ttotal: 820ms\tremaining: 1.95s\n",
            "296:\tlearn: 0.2234254\ttotal: 823ms\tremaining: 1.95s\n",
            "297:\tlearn: 0.2231854\ttotal: 825ms\tremaining: 1.94s\n",
            "298:\tlearn: 0.2226429\ttotal: 828ms\tremaining: 1.94s\n",
            "299:\tlearn: 0.2224258\ttotal: 830ms\tremaining: 1.94s\n",
            "300:\tlearn: 0.2219443\ttotal: 833ms\tremaining: 1.93s\n",
            "301:\tlearn: 0.2216508\ttotal: 836ms\tremaining: 1.93s\n",
            "302:\tlearn: 0.2214470\ttotal: 838ms\tremaining: 1.93s\n",
            "303:\tlearn: 0.2211514\ttotal: 841ms\tremaining: 1.92s\n",
            "304:\tlearn: 0.2208820\ttotal: 843ms\tremaining: 1.92s\n",
            "305:\tlearn: 0.2205705\ttotal: 847ms\tremaining: 1.92s\n",
            "306:\tlearn: 0.2202123\ttotal: 850ms\tremaining: 1.92s\n",
            "307:\tlearn: 0.2199370\ttotal: 853ms\tremaining: 1.92s\n",
            "308:\tlearn: 0.2197626\ttotal: 855ms\tremaining: 1.91s\n",
            "309:\tlearn: 0.2194672\ttotal: 858ms\tremaining: 1.91s\n",
            "310:\tlearn: 0.2192023\ttotal: 860ms\tremaining: 1.91s\n",
            "311:\tlearn: 0.2187951\ttotal: 862ms\tremaining: 1.9s\n",
            "312:\tlearn: 0.2184819\ttotal: 865ms\tremaining: 1.9s\n",
            "313:\tlearn: 0.2180644\ttotal: 867ms\tremaining: 1.89s\n",
            "314:\tlearn: 0.2177563\ttotal: 870ms\tremaining: 1.89s\n",
            "315:\tlearn: 0.2174268\ttotal: 872ms\tremaining: 1.89s\n",
            "316:\tlearn: 0.2169415\ttotal: 875ms\tremaining: 1.88s\n",
            "317:\tlearn: 0.2167215\ttotal: 877ms\tremaining: 1.88s\n",
            "318:\tlearn: 0.2163294\ttotal: 880ms\tremaining: 1.88s\n",
            "319:\tlearn: 0.2160787\ttotal: 882ms\tremaining: 1.88s\n",
            "320:\tlearn: 0.2158963\ttotal: 885ms\tremaining: 1.87s\n",
            "321:\tlearn: 0.2156654\ttotal: 889ms\tremaining: 1.87s\n",
            "322:\tlearn: 0.2154353\ttotal: 891ms\tremaining: 1.87s\n",
            "323:\tlearn: 0.2150867\ttotal: 894ms\tremaining: 1.86s\n",
            "324:\tlearn: 0.2149199\ttotal: 896ms\tremaining: 1.86s\n",
            "325:\tlearn: 0.2146733\ttotal: 899ms\tremaining: 1.86s\n",
            "326:\tlearn: 0.2141813\ttotal: 902ms\tremaining: 1.85s\n",
            "327:\tlearn: 0.2138213\ttotal: 904ms\tremaining: 1.85s\n",
            "328:\tlearn: 0.2134623\ttotal: 907ms\tremaining: 1.85s\n",
            "329:\tlearn: 0.2130212\ttotal: 909ms\tremaining: 1.84s\n",
            "330:\tlearn: 0.2126052\ttotal: 912ms\tremaining: 1.84s\n",
            "331:\tlearn: 0.2123835\ttotal: 914ms\tremaining: 1.84s\n",
            "332:\tlearn: 0.2121139\ttotal: 917ms\tremaining: 1.84s\n",
            "333:\tlearn: 0.2117439\ttotal: 919ms\tremaining: 1.83s\n",
            "334:\tlearn: 0.2114868\ttotal: 922ms\tremaining: 1.83s\n",
            "335:\tlearn: 0.2109238\ttotal: 924ms\tremaining: 1.83s\n",
            "336:\tlearn: 0.2106507\ttotal: 927ms\tremaining: 1.82s\n",
            "337:\tlearn: 0.2102811\ttotal: 929ms\tremaining: 1.82s\n",
            "338:\tlearn: 0.2098727\ttotal: 932ms\tremaining: 1.82s\n",
            "339:\tlearn: 0.2095448\ttotal: 935ms\tremaining: 1.81s\n",
            "340:\tlearn: 0.2093550\ttotal: 937ms\tremaining: 1.81s\n",
            "341:\tlearn: 0.2091173\ttotal: 940ms\tremaining: 1.81s\n",
            "342:\tlearn: 0.2087514\ttotal: 942ms\tremaining: 1.8s\n",
            "343:\tlearn: 0.2083303\ttotal: 945ms\tremaining: 1.8s\n",
            "344:\tlearn: 0.2080310\ttotal: 947ms\tremaining: 1.8s\n",
            "345:\tlearn: 0.2077597\ttotal: 950ms\tremaining: 1.79s\n",
            "346:\tlearn: 0.2074708\ttotal: 952ms\tremaining: 1.79s\n",
            "347:\tlearn: 0.2071930\ttotal: 955ms\tremaining: 1.79s\n",
            "348:\tlearn: 0.2068256\ttotal: 957ms\tremaining: 1.78s\n",
            "349:\tlearn: 0.2063240\ttotal: 960ms\tremaining: 1.78s\n",
            "350:\tlearn: 0.2060916\ttotal: 962ms\tremaining: 1.78s\n",
            "351:\tlearn: 0.2059540\ttotal: 965ms\tremaining: 1.78s\n",
            "352:\tlearn: 0.2056779\ttotal: 968ms\tremaining: 1.77s\n",
            "353:\tlearn: 0.2053596\ttotal: 970ms\tremaining: 1.77s\n",
            "354:\tlearn: 0.2050502\ttotal: 974ms\tremaining: 1.77s\n",
            "355:\tlearn: 0.2047321\ttotal: 978ms\tremaining: 1.77s\n",
            "356:\tlearn: 0.2043940\ttotal: 980ms\tremaining: 1.76s\n",
            "357:\tlearn: 0.2041400\ttotal: 983ms\tremaining: 1.76s\n",
            "358:\tlearn: 0.2039696\ttotal: 985ms\tremaining: 1.76s\n",
            "359:\tlearn: 0.2037944\ttotal: 987ms\tremaining: 1.75s\n",
            "360:\tlearn: 0.2035606\ttotal: 990ms\tremaining: 1.75s\n",
            "361:\tlearn: 0.2033824\ttotal: 992ms\tremaining: 1.75s\n",
            "362:\tlearn: 0.2031687\ttotal: 995ms\tremaining: 1.75s\n",
            "363:\tlearn: 0.2029483\ttotal: 998ms\tremaining: 1.74s\n",
            "364:\tlearn: 0.2027538\ttotal: 1s\tremaining: 1.74s\n",
            "365:\tlearn: 0.2022789\ttotal: 1s\tremaining: 1.74s\n",
            "366:\tlearn: 0.2021027\ttotal: 1s\tremaining: 1.73s\n",
            "367:\tlearn: 0.2018249\ttotal: 1.01s\tremaining: 1.73s\n",
            "368:\tlearn: 0.2015075\ttotal: 1.01s\tremaining: 1.73s\n",
            "369:\tlearn: 0.2011275\ttotal: 1.01s\tremaining: 1.72s\n",
            "370:\tlearn: 0.2009745\ttotal: 1.01s\tremaining: 1.72s\n",
            "371:\tlearn: 0.2006909\ttotal: 1.02s\tremaining: 1.72s\n",
            "372:\tlearn: 0.2005075\ttotal: 1.02s\tremaining: 1.72s\n",
            "373:\tlearn: 0.2002079\ttotal: 1.02s\tremaining: 1.71s\n",
            "374:\tlearn: 0.2000753\ttotal: 1.02s\tremaining: 1.71s\n",
            "375:\tlearn: 0.1998403\ttotal: 1.03s\tremaining: 1.71s\n",
            "376:\tlearn: 0.1995286\ttotal: 1.03s\tremaining: 1.7s\n",
            "377:\tlearn: 0.1991059\ttotal: 1.03s\tremaining: 1.7s\n",
            "378:\tlearn: 0.1989650\ttotal: 1.03s\tremaining: 1.7s\n",
            "379:\tlearn: 0.1986869\ttotal: 1.04s\tremaining: 1.69s\n",
            "380:\tlearn: 0.1984098\ttotal: 1.04s\tremaining: 1.69s\n",
            "381:\tlearn: 0.1981690\ttotal: 1.05s\tremaining: 1.69s\n",
            "382:\tlearn: 0.1978979\ttotal: 1.05s\tremaining: 1.7s\n",
            "383:\tlearn: 0.1977473\ttotal: 1.06s\tremaining: 1.7s\n",
            "384:\tlearn: 0.1975422\ttotal: 1.06s\tremaining: 1.7s\n",
            "385:\tlearn: 0.1973792\ttotal: 1.07s\tremaining: 1.71s\n",
            "386:\tlearn: 0.1971216\ttotal: 1.08s\tremaining: 1.71s\n",
            "387:\tlearn: 0.1966483\ttotal: 1.08s\tremaining: 1.71s\n",
            "388:\tlearn: 0.1964956\ttotal: 1.08s\tremaining: 1.7s\n",
            "389:\tlearn: 0.1962795\ttotal: 1.09s\tremaining: 1.7s\n",
            "390:\tlearn: 0.1960249\ttotal: 1.09s\tremaining: 1.7s\n",
            "391:\tlearn: 0.1957576\ttotal: 1.09s\tremaining: 1.69s\n",
            "392:\tlearn: 0.1955124\ttotal: 1.09s\tremaining: 1.69s\n",
            "393:\tlearn: 0.1952129\ttotal: 1.1s\tremaining: 1.69s\n",
            "394:\tlearn: 0.1949972\ttotal: 1.1s\tremaining: 1.69s\n",
            "395:\tlearn: 0.1947365\ttotal: 1.1s\tremaining: 1.68s\n",
            "396:\tlearn: 0.1945516\ttotal: 1.11s\tremaining: 1.68s\n",
            "397:\tlearn: 0.1941531\ttotal: 1.11s\tremaining: 1.68s\n",
            "398:\tlearn: 0.1939802\ttotal: 1.11s\tremaining: 1.67s\n",
            "399:\tlearn: 0.1936730\ttotal: 1.11s\tremaining: 1.67s\n",
            "400:\tlearn: 0.1934627\ttotal: 1.12s\tremaining: 1.67s\n",
            "401:\tlearn: 0.1932415\ttotal: 1.12s\tremaining: 1.67s\n",
            "402:\tlearn: 0.1930981\ttotal: 1.12s\tremaining: 1.66s\n",
            "403:\tlearn: 0.1928382\ttotal: 1.12s\tremaining: 1.66s\n",
            "404:\tlearn: 0.1926496\ttotal: 1.13s\tremaining: 1.66s\n",
            "405:\tlearn: 0.1923380\ttotal: 1.13s\tremaining: 1.66s\n",
            "406:\tlearn: 0.1919272\ttotal: 1.16s\tremaining: 1.69s\n",
            "407:\tlearn: 0.1917498\ttotal: 1.17s\tremaining: 1.69s\n",
            "408:\tlearn: 0.1915060\ttotal: 1.18s\tremaining: 1.7s\n",
            "409:\tlearn: 0.1912602\ttotal: 1.18s\tremaining: 1.7s\n",
            "410:\tlearn: 0.1909348\ttotal: 1.19s\tremaining: 1.7s\n",
            "411:\tlearn: 0.1907781\ttotal: 1.19s\tremaining: 1.7s\n",
            "412:\tlearn: 0.1905063\ttotal: 1.19s\tremaining: 1.7s\n",
            "413:\tlearn: 0.1902730\ttotal: 1.2s\tremaining: 1.7s\n",
            "414:\tlearn: 0.1901418\ttotal: 1.2s\tremaining: 1.7s\n",
            "415:\tlearn: 0.1899422\ttotal: 1.21s\tremaining: 1.7s\n",
            "416:\tlearn: 0.1896698\ttotal: 1.21s\tremaining: 1.7s\n",
            "417:\tlearn: 0.1894030\ttotal: 1.22s\tremaining: 1.7s\n",
            "418:\tlearn: 0.1890983\ttotal: 1.23s\tremaining: 1.7s\n",
            "419:\tlearn: 0.1889852\ttotal: 1.23s\tremaining: 1.7s\n",
            "420:\tlearn: 0.1887863\ttotal: 1.24s\tremaining: 1.7s\n",
            "421:\tlearn: 0.1886022\ttotal: 1.24s\tremaining: 1.7s\n",
            "422:\tlearn: 0.1884117\ttotal: 1.25s\tremaining: 1.7s\n",
            "423:\tlearn: 0.1879923\ttotal: 1.25s\tremaining: 1.71s\n",
            "424:\tlearn: 0.1876594\ttotal: 1.26s\tremaining: 1.71s\n",
            "425:\tlearn: 0.1875421\ttotal: 1.27s\tremaining: 1.71s\n",
            "426:\tlearn: 0.1873176\ttotal: 1.27s\tremaining: 1.71s\n",
            "427:\tlearn: 0.1871944\ttotal: 1.28s\tremaining: 1.71s\n",
            "428:\tlearn: 0.1870018\ttotal: 1.28s\tremaining: 1.71s\n",
            "429:\tlearn: 0.1865292\ttotal: 1.28s\tremaining: 1.7s\n",
            "430:\tlearn: 0.1862800\ttotal: 1.29s\tremaining: 1.7s\n",
            "431:\tlearn: 0.1860775\ttotal: 1.29s\tremaining: 1.7s\n",
            "432:\tlearn: 0.1858609\ttotal: 1.29s\tremaining: 1.7s\n",
            "433:\tlearn: 0.1855951\ttotal: 1.3s\tremaining: 1.7s\n",
            "434:\tlearn: 0.1854749\ttotal: 1.31s\tremaining: 1.7s\n",
            "435:\tlearn: 0.1852252\ttotal: 1.32s\tremaining: 1.7s\n",
            "436:\tlearn: 0.1850694\ttotal: 1.32s\tremaining: 1.71s\n",
            "437:\tlearn: 0.1847539\ttotal: 1.33s\tremaining: 1.71s\n",
            "438:\tlearn: 0.1845651\ttotal: 1.34s\tremaining: 1.71s\n",
            "439:\tlearn: 0.1843139\ttotal: 1.35s\tremaining: 1.71s\n",
            "440:\tlearn: 0.1840686\ttotal: 1.36s\tremaining: 1.73s\n",
            "441:\tlearn: 0.1837946\ttotal: 1.37s\tremaining: 1.73s\n",
            "442:\tlearn: 0.1836816\ttotal: 1.38s\tremaining: 1.73s\n",
            "443:\tlearn: 0.1835008\ttotal: 1.38s\tremaining: 1.73s\n",
            "444:\tlearn: 0.1832461\ttotal: 1.39s\tremaining: 1.73s\n",
            "445:\tlearn: 0.1830468\ttotal: 1.39s\tremaining: 1.72s\n",
            "446:\tlearn: 0.1828627\ttotal: 1.39s\tremaining: 1.72s\n",
            "447:\tlearn: 0.1825929\ttotal: 1.39s\tremaining: 1.72s\n",
            "448:\tlearn: 0.1822706\ttotal: 1.4s\tremaining: 1.71s\n",
            "449:\tlearn: 0.1818325\ttotal: 1.4s\tremaining: 1.72s\n",
            "450:\tlearn: 0.1816802\ttotal: 1.42s\tremaining: 1.73s\n",
            "451:\tlearn: 0.1814788\ttotal: 1.43s\tremaining: 1.73s\n",
            "452:\tlearn: 0.1812902\ttotal: 1.44s\tremaining: 1.74s\n",
            "453:\tlearn: 0.1810804\ttotal: 1.47s\tremaining: 1.77s\n",
            "454:\tlearn: 0.1809444\ttotal: 1.47s\tremaining: 1.77s\n",
            "455:\tlearn: 0.1807063\ttotal: 1.48s\tremaining: 1.76s\n",
            "456:\tlearn: 0.1803048\ttotal: 1.49s\tremaining: 1.77s\n",
            "457:\tlearn: 0.1800233\ttotal: 1.5s\tremaining: 1.78s\n",
            "458:\tlearn: 0.1796297\ttotal: 1.52s\tremaining: 1.79s\n",
            "459:\tlearn: 0.1794799\ttotal: 1.52s\tremaining: 1.79s\n",
            "460:\tlearn: 0.1792878\ttotal: 1.54s\tremaining: 1.8s\n",
            "461:\tlearn: 0.1790456\ttotal: 1.55s\tremaining: 1.81s\n",
            "462:\tlearn: 0.1788635\ttotal: 1.56s\tremaining: 1.81s\n",
            "463:\tlearn: 0.1786116\ttotal: 1.57s\tremaining: 1.82s\n",
            "464:\tlearn: 0.1782149\ttotal: 1.58s\tremaining: 1.82s\n",
            "465:\tlearn: 0.1779237\ttotal: 1.59s\tremaining: 1.82s\n",
            "466:\tlearn: 0.1777206\ttotal: 1.6s\tremaining: 1.83s\n",
            "467:\tlearn: 0.1774361\ttotal: 1.61s\tremaining: 1.83s\n",
            "468:\tlearn: 0.1772049\ttotal: 1.62s\tremaining: 1.84s\n",
            "469:\tlearn: 0.1768099\ttotal: 1.64s\tremaining: 1.84s\n",
            "470:\tlearn: 0.1765354\ttotal: 1.64s\tremaining: 1.85s\n",
            "471:\tlearn: 0.1762981\ttotal: 1.65s\tremaining: 1.85s\n",
            "472:\tlearn: 0.1759970\ttotal: 1.66s\tremaining: 1.84s\n",
            "473:\tlearn: 0.1756284\ttotal: 1.66s\tremaining: 1.84s\n",
            "474:\tlearn: 0.1754625\ttotal: 1.67s\tremaining: 1.84s\n",
            "475:\tlearn: 0.1750890\ttotal: 1.68s\tremaining: 1.84s\n",
            "476:\tlearn: 0.1748491\ttotal: 1.68s\tremaining: 1.84s\n",
            "477:\tlearn: 0.1744740\ttotal: 1.68s\tremaining: 1.84s\n",
            "478:\tlearn: 0.1742102\ttotal: 1.69s\tremaining: 1.83s\n",
            "479:\tlearn: 0.1738828\ttotal: 1.69s\tremaining: 1.83s\n",
            "480:\tlearn: 0.1736422\ttotal: 1.69s\tremaining: 1.83s\n",
            "481:\tlearn: 0.1734036\ttotal: 1.7s\tremaining: 1.82s\n",
            "482:\tlearn: 0.1731644\ttotal: 1.7s\tremaining: 1.82s\n",
            "483:\tlearn: 0.1730287\ttotal: 1.7s\tremaining: 1.81s\n",
            "484:\tlearn: 0.1728664\ttotal: 1.7s\tremaining: 1.81s\n",
            "485:\tlearn: 0.1726450\ttotal: 1.71s\tremaining: 1.8s\n",
            "486:\tlearn: 0.1725419\ttotal: 1.71s\tremaining: 1.8s\n",
            "487:\tlearn: 0.1722591\ttotal: 1.71s\tremaining: 1.79s\n",
            "488:\tlearn: 0.1721017\ttotal: 1.71s\tremaining: 1.79s\n",
            "489:\tlearn: 0.1718999\ttotal: 1.72s\tremaining: 1.79s\n",
            "490:\tlearn: 0.1717377\ttotal: 1.72s\tremaining: 1.78s\n",
            "491:\tlearn: 0.1714740\ttotal: 1.72s\tremaining: 1.78s\n",
            "492:\tlearn: 0.1711918\ttotal: 1.72s\tremaining: 1.77s\n",
            "493:\tlearn: 0.1709743\ttotal: 1.73s\tremaining: 1.77s\n",
            "494:\tlearn: 0.1707562\ttotal: 1.73s\tremaining: 1.76s\n",
            "495:\tlearn: 0.1705093\ttotal: 1.73s\tremaining: 1.76s\n",
            "496:\tlearn: 0.1703591\ttotal: 1.73s\tremaining: 1.75s\n",
            "497:\tlearn: 0.1702092\ttotal: 1.74s\tremaining: 1.75s\n",
            "498:\tlearn: 0.1699457\ttotal: 1.74s\tremaining: 1.75s\n",
            "499:\tlearn: 0.1696775\ttotal: 1.74s\tremaining: 1.74s\n",
            "500:\tlearn: 0.1695056\ttotal: 1.75s\tremaining: 1.74s\n",
            "501:\tlearn: 0.1692726\ttotal: 1.75s\tremaining: 1.73s\n",
            "502:\tlearn: 0.1690832\ttotal: 1.75s\tremaining: 1.73s\n",
            "503:\tlearn: 0.1688505\ttotal: 1.76s\tremaining: 1.73s\n",
            "504:\tlearn: 0.1686271\ttotal: 1.76s\tremaining: 1.72s\n",
            "505:\tlearn: 0.1684461\ttotal: 1.76s\tremaining: 1.72s\n",
            "506:\tlearn: 0.1682187\ttotal: 1.76s\tremaining: 1.71s\n",
            "507:\tlearn: 0.1680381\ttotal: 1.77s\tremaining: 1.71s\n",
            "508:\tlearn: 0.1679020\ttotal: 1.77s\tremaining: 1.71s\n",
            "509:\tlearn: 0.1676763\ttotal: 1.77s\tremaining: 1.7s\n",
            "510:\tlearn: 0.1675016\ttotal: 1.77s\tremaining: 1.7s\n",
            "511:\tlearn: 0.1673267\ttotal: 1.78s\tremaining: 1.69s\n",
            "512:\tlearn: 0.1670640\ttotal: 1.78s\tremaining: 1.69s\n",
            "513:\tlearn: 0.1668505\ttotal: 1.78s\tremaining: 1.69s\n",
            "514:\tlearn: 0.1666222\ttotal: 1.79s\tremaining: 1.68s\n",
            "515:\tlearn: 0.1663515\ttotal: 1.79s\tremaining: 1.68s\n",
            "516:\tlearn: 0.1660812\ttotal: 1.8s\tremaining: 1.68s\n",
            "517:\tlearn: 0.1657893\ttotal: 1.8s\tremaining: 1.68s\n",
            "518:\tlearn: 0.1655501\ttotal: 1.8s\tremaining: 1.67s\n",
            "519:\tlearn: 0.1652737\ttotal: 1.81s\tremaining: 1.67s\n",
            "520:\tlearn: 0.1651795\ttotal: 1.81s\tremaining: 1.66s\n",
            "521:\tlearn: 0.1650329\ttotal: 1.81s\tremaining: 1.66s\n",
            "522:\tlearn: 0.1648598\ttotal: 1.81s\tremaining: 1.65s\n",
            "523:\tlearn: 0.1646869\ttotal: 1.82s\tremaining: 1.65s\n",
            "524:\tlearn: 0.1644654\ttotal: 1.83s\tremaining: 1.66s\n",
            "525:\tlearn: 0.1641348\ttotal: 1.83s\tremaining: 1.65s\n",
            "526:\tlearn: 0.1639816\ttotal: 1.84s\tremaining: 1.65s\n",
            "527:\tlearn: 0.1637846\ttotal: 1.84s\tremaining: 1.65s\n",
            "528:\tlearn: 0.1636138\ttotal: 1.84s\tremaining: 1.64s\n",
            "529:\tlearn: 0.1633296\ttotal: 1.85s\tremaining: 1.64s\n",
            "530:\tlearn: 0.1631983\ttotal: 1.85s\tremaining: 1.64s\n",
            "531:\tlearn: 0.1630382\ttotal: 1.86s\tremaining: 1.64s\n",
            "532:\tlearn: 0.1628775\ttotal: 1.86s\tremaining: 1.63s\n",
            "533:\tlearn: 0.1626767\ttotal: 1.86s\tremaining: 1.63s\n",
            "534:\tlearn: 0.1622368\ttotal: 1.87s\tremaining: 1.62s\n",
            "535:\tlearn: 0.1618558\ttotal: 1.87s\tremaining: 1.62s\n",
            "536:\tlearn: 0.1616870\ttotal: 1.87s\tremaining: 1.61s\n",
            "537:\tlearn: 0.1615308\ttotal: 1.87s\tremaining: 1.61s\n",
            "538:\tlearn: 0.1613296\ttotal: 1.88s\tremaining: 1.6s\n",
            "539:\tlearn: 0.1610619\ttotal: 1.88s\tremaining: 1.6s\n",
            "540:\tlearn: 0.1607496\ttotal: 1.88s\tremaining: 1.6s\n",
            "541:\tlearn: 0.1605731\ttotal: 1.88s\tremaining: 1.59s\n",
            "542:\tlearn: 0.1604148\ttotal: 1.89s\tremaining: 1.59s\n",
            "543:\tlearn: 0.1601600\ttotal: 1.89s\tremaining: 1.58s\n",
            "544:\tlearn: 0.1599172\ttotal: 1.89s\tremaining: 1.58s\n",
            "545:\tlearn: 0.1597093\ttotal: 1.89s\tremaining: 1.57s\n",
            "546:\tlearn: 0.1595390\ttotal: 1.9s\tremaining: 1.57s\n",
            "547:\tlearn: 0.1593792\ttotal: 1.9s\tremaining: 1.57s\n",
            "548:\tlearn: 0.1592194\ttotal: 1.9s\tremaining: 1.56s\n",
            "549:\tlearn: 0.1589445\ttotal: 1.9s\tremaining: 1.56s\n",
            "550:\tlearn: 0.1587980\ttotal: 1.91s\tremaining: 1.55s\n",
            "551:\tlearn: 0.1586827\ttotal: 1.91s\tremaining: 1.55s\n",
            "552:\tlearn: 0.1585368\ttotal: 1.91s\tremaining: 1.54s\n",
            "553:\tlearn: 0.1583602\ttotal: 1.91s\tremaining: 1.54s\n",
            "554:\tlearn: 0.1582291\ttotal: 1.92s\tremaining: 1.54s\n",
            "555:\tlearn: 0.1581016\ttotal: 1.92s\tremaining: 1.53s\n",
            "556:\tlearn: 0.1578827\ttotal: 1.92s\tremaining: 1.53s\n",
            "557:\tlearn: 0.1577519\ttotal: 1.93s\tremaining: 1.52s\n",
            "558:\tlearn: 0.1575023\ttotal: 1.93s\tremaining: 1.52s\n",
            "559:\tlearn: 0.1573366\ttotal: 1.93s\tremaining: 1.52s\n",
            "560:\tlearn: 0.1572685\ttotal: 1.93s\tremaining: 1.51s\n",
            "561:\tlearn: 0.1570495\ttotal: 1.93s\tremaining: 1.51s\n",
            "562:\tlearn: 0.1568412\ttotal: 1.94s\tremaining: 1.5s\n",
            "563:\tlearn: 0.1566876\ttotal: 1.94s\tremaining: 1.5s\n",
            "564:\tlearn: 0.1565621\ttotal: 1.94s\tremaining: 1.5s\n",
            "565:\tlearn: 0.1563540\ttotal: 1.94s\tremaining: 1.49s\n",
            "566:\tlearn: 0.1560797\ttotal: 1.95s\tremaining: 1.49s\n",
            "567:\tlearn: 0.1557340\ttotal: 1.95s\tremaining: 1.48s\n",
            "568:\tlearn: 0.1555443\ttotal: 1.96s\tremaining: 1.48s\n",
            "569:\tlearn: 0.1553609\ttotal: 1.96s\tremaining: 1.48s\n",
            "570:\tlearn: 0.1551247\ttotal: 1.96s\tremaining: 1.47s\n",
            "571:\tlearn: 0.1548695\ttotal: 1.96s\tremaining: 1.47s\n",
            "572:\tlearn: 0.1545518\ttotal: 1.97s\tremaining: 1.47s\n",
            "573:\tlearn: 0.1543655\ttotal: 1.97s\tremaining: 1.46s\n",
            "574:\tlearn: 0.1541310\ttotal: 1.97s\tremaining: 1.46s\n",
            "575:\tlearn: 0.1538597\ttotal: 1.97s\tremaining: 1.45s\n",
            "576:\tlearn: 0.1536891\ttotal: 1.98s\tremaining: 1.45s\n",
            "577:\tlearn: 0.1534533\ttotal: 1.98s\tremaining: 1.44s\n",
            "578:\tlearn: 0.1533198\ttotal: 1.98s\tremaining: 1.44s\n",
            "579:\tlearn: 0.1531618\ttotal: 1.99s\tremaining: 1.44s\n",
            "580:\tlearn: 0.1529524\ttotal: 1.99s\tremaining: 1.43s\n",
            "581:\tlearn: 0.1528038\ttotal: 1.99s\tremaining: 1.43s\n",
            "582:\tlearn: 0.1525708\ttotal: 1.99s\tremaining: 1.43s\n",
            "583:\tlearn: 0.1523714\ttotal: 2s\tremaining: 1.42s\n",
            "584:\tlearn: 0.1522583\ttotal: 2s\tremaining: 1.42s\n",
            "585:\tlearn: 0.1519541\ttotal: 2s\tremaining: 1.41s\n",
            "586:\tlearn: 0.1518289\ttotal: 2s\tremaining: 1.41s\n",
            "587:\tlearn: 0.1516587\ttotal: 2.01s\tremaining: 1.41s\n",
            "588:\tlearn: 0.1514259\ttotal: 2.01s\tremaining: 1.4s\n",
            "589:\tlearn: 0.1511518\ttotal: 2.01s\tremaining: 1.4s\n",
            "590:\tlearn: 0.1509072\ttotal: 2.01s\tremaining: 1.39s\n",
            "591:\tlearn: 0.1507536\ttotal: 2.02s\tremaining: 1.39s\n",
            "592:\tlearn: 0.1505223\ttotal: 2.02s\tremaining: 1.39s\n",
            "593:\tlearn: 0.1502618\ttotal: 2.02s\tremaining: 1.38s\n",
            "594:\tlearn: 0.1500941\ttotal: 2.03s\tremaining: 1.38s\n",
            "595:\tlearn: 0.1498420\ttotal: 2.04s\tremaining: 1.38s\n",
            "596:\tlearn: 0.1496564\ttotal: 2.04s\tremaining: 1.38s\n",
            "597:\tlearn: 0.1495221\ttotal: 2.04s\tremaining: 1.37s\n",
            "598:\tlearn: 0.1493963\ttotal: 2.04s\tremaining: 1.37s\n",
            "599:\tlearn: 0.1492666\ttotal: 2.04s\tremaining: 1.36s\n",
            "600:\tlearn: 0.1491629\ttotal: 2.05s\tremaining: 1.36s\n",
            "601:\tlearn: 0.1488944\ttotal: 2.05s\tremaining: 1.35s\n",
            "602:\tlearn: 0.1486891\ttotal: 2.05s\tremaining: 1.35s\n",
            "603:\tlearn: 0.1484768\ttotal: 2.05s\tremaining: 1.35s\n",
            "604:\tlearn: 0.1483080\ttotal: 2.06s\tremaining: 1.34s\n",
            "605:\tlearn: 0.1481604\ttotal: 2.06s\tremaining: 1.34s\n",
            "606:\tlearn: 0.1479759\ttotal: 2.06s\tremaining: 1.33s\n",
            "607:\tlearn: 0.1478566\ttotal: 2.06s\tremaining: 1.33s\n",
            "608:\tlearn: 0.1477073\ttotal: 2.06s\tremaining: 1.33s\n",
            "609:\tlearn: 0.1474401\ttotal: 2.07s\tremaining: 1.32s\n",
            "610:\tlearn: 0.1473274\ttotal: 2.07s\tremaining: 1.32s\n",
            "611:\tlearn: 0.1471641\ttotal: 2.07s\tremaining: 1.31s\n",
            "612:\tlearn: 0.1470151\ttotal: 2.08s\tremaining: 1.31s\n",
            "613:\tlearn: 0.1467551\ttotal: 2.08s\tremaining: 1.31s\n",
            "614:\tlearn: 0.1465615\ttotal: 2.08s\tremaining: 1.3s\n",
            "615:\tlearn: 0.1463656\ttotal: 2.08s\tremaining: 1.3s\n",
            "616:\tlearn: 0.1461596\ttotal: 2.09s\tremaining: 1.29s\n",
            "617:\tlearn: 0.1460698\ttotal: 2.09s\tremaining: 1.29s\n",
            "618:\tlearn: 0.1459351\ttotal: 2.09s\tremaining: 1.29s\n",
            "619:\tlearn: 0.1457971\ttotal: 2.09s\tremaining: 1.28s\n",
            "620:\tlearn: 0.1456044\ttotal: 2.1s\tremaining: 1.28s\n",
            "621:\tlearn: 0.1454162\ttotal: 2.1s\tremaining: 1.28s\n",
            "622:\tlearn: 0.1453117\ttotal: 2.1s\tremaining: 1.27s\n",
            "623:\tlearn: 0.1452311\ttotal: 2.11s\tremaining: 1.27s\n",
            "624:\tlearn: 0.1450801\ttotal: 2.11s\tremaining: 1.26s\n",
            "625:\tlearn: 0.1449380\ttotal: 2.11s\tremaining: 1.26s\n",
            "626:\tlearn: 0.1447503\ttotal: 2.11s\tremaining: 1.26s\n",
            "627:\tlearn: 0.1446222\ttotal: 2.12s\tremaining: 1.25s\n",
            "628:\tlearn: 0.1444743\ttotal: 2.12s\tremaining: 1.25s\n",
            "629:\tlearn: 0.1442029\ttotal: 2.12s\tremaining: 1.25s\n",
            "630:\tlearn: 0.1441175\ttotal: 2.12s\tremaining: 1.24s\n",
            "631:\tlearn: 0.1439683\ttotal: 2.13s\tremaining: 1.24s\n",
            "632:\tlearn: 0.1438599\ttotal: 2.13s\tremaining: 1.23s\n",
            "633:\tlearn: 0.1437797\ttotal: 2.13s\tremaining: 1.23s\n",
            "634:\tlearn: 0.1435900\ttotal: 2.13s\tremaining: 1.23s\n",
            "635:\tlearn: 0.1434457\ttotal: 2.14s\tremaining: 1.22s\n",
            "636:\tlearn: 0.1433330\ttotal: 2.14s\tremaining: 1.22s\n",
            "637:\tlearn: 0.1432222\ttotal: 2.14s\tremaining: 1.22s\n",
            "638:\tlearn: 0.1431236\ttotal: 2.15s\tremaining: 1.21s\n",
            "639:\tlearn: 0.1429496\ttotal: 2.15s\tremaining: 1.21s\n",
            "640:\tlearn: 0.1428156\ttotal: 2.15s\tremaining: 1.21s\n",
            "641:\tlearn: 0.1425638\ttotal: 2.15s\tremaining: 1.2s\n",
            "642:\tlearn: 0.1424474\ttotal: 2.16s\tremaining: 1.2s\n",
            "643:\tlearn: 0.1422928\ttotal: 2.16s\tremaining: 1.19s\n",
            "644:\tlearn: 0.1421144\ttotal: 2.16s\tremaining: 1.19s\n",
            "645:\tlearn: 0.1419698\ttotal: 2.17s\tremaining: 1.19s\n",
            "646:\tlearn: 0.1417716\ttotal: 2.17s\tremaining: 1.18s\n",
            "647:\tlearn: 0.1416394\ttotal: 2.17s\tremaining: 1.18s\n",
            "648:\tlearn: 0.1415454\ttotal: 2.17s\tremaining: 1.18s\n",
            "649:\tlearn: 0.1413976\ttotal: 2.18s\tremaining: 1.17s\n",
            "650:\tlearn: 0.1411663\ttotal: 2.18s\tremaining: 1.17s\n",
            "651:\tlearn: 0.1410014\ttotal: 2.18s\tremaining: 1.16s\n",
            "652:\tlearn: 0.1407158\ttotal: 2.18s\tremaining: 1.16s\n",
            "653:\tlearn: 0.1406611\ttotal: 2.19s\tremaining: 1.16s\n",
            "654:\tlearn: 0.1404689\ttotal: 2.19s\tremaining: 1.15s\n",
            "655:\tlearn: 0.1403492\ttotal: 2.19s\tremaining: 1.15s\n",
            "656:\tlearn: 0.1402138\ttotal: 2.19s\tremaining: 1.15s\n",
            "657:\tlearn: 0.1400502\ttotal: 2.2s\tremaining: 1.14s\n",
            "658:\tlearn: 0.1398571\ttotal: 2.2s\tremaining: 1.14s\n",
            "659:\tlearn: 0.1397239\ttotal: 2.2s\tremaining: 1.13s\n",
            "660:\tlearn: 0.1396228\ttotal: 2.2s\tremaining: 1.13s\n",
            "661:\tlearn: 0.1394472\ttotal: 2.21s\tremaining: 1.13s\n",
            "662:\tlearn: 0.1392848\ttotal: 2.21s\tremaining: 1.12s\n",
            "663:\tlearn: 0.1390907\ttotal: 2.21s\tremaining: 1.12s\n",
            "664:\tlearn: 0.1389238\ttotal: 2.21s\tremaining: 1.11s\n",
            "665:\tlearn: 0.1388528\ttotal: 2.22s\tremaining: 1.11s\n",
            "666:\tlearn: 0.1386667\ttotal: 2.22s\tremaining: 1.11s\n",
            "667:\tlearn: 0.1385091\ttotal: 2.22s\tremaining: 1.1s\n",
            "668:\tlearn: 0.1384087\ttotal: 2.22s\tremaining: 1.1s\n",
            "669:\tlearn: 0.1382026\ttotal: 2.23s\tremaining: 1.1s\n",
            "670:\tlearn: 0.1381047\ttotal: 2.23s\tremaining: 1.09s\n",
            "671:\tlearn: 0.1379205\ttotal: 2.23s\tremaining: 1.09s\n",
            "672:\tlearn: 0.1378007\ttotal: 2.23s\tremaining: 1.09s\n",
            "673:\tlearn: 0.1376751\ttotal: 2.24s\tremaining: 1.08s\n",
            "674:\tlearn: 0.1375085\ttotal: 2.24s\tremaining: 1.08s\n",
            "675:\tlearn: 0.1373298\ttotal: 2.24s\tremaining: 1.07s\n",
            "676:\tlearn: 0.1371941\ttotal: 2.25s\tremaining: 1.07s\n",
            "677:\tlearn: 0.1370296\ttotal: 2.25s\tremaining: 1.07s\n",
            "678:\tlearn: 0.1368898\ttotal: 2.25s\tremaining: 1.06s\n",
            "679:\tlearn: 0.1367614\ttotal: 2.25s\tremaining: 1.06s\n",
            "680:\tlearn: 0.1366864\ttotal: 2.26s\tremaining: 1.06s\n",
            "681:\tlearn: 0.1365051\ttotal: 2.26s\tremaining: 1.05s\n",
            "682:\tlearn: 0.1364163\ttotal: 2.26s\tremaining: 1.05s\n",
            "683:\tlearn: 0.1362396\ttotal: 2.27s\tremaining: 1.05s\n",
            "684:\tlearn: 0.1360799\ttotal: 2.27s\tremaining: 1.04s\n",
            "685:\tlearn: 0.1360021\ttotal: 2.27s\tremaining: 1.04s\n",
            "686:\tlearn: 0.1358966\ttotal: 2.27s\tremaining: 1.03s\n",
            "687:\tlearn: 0.1358153\ttotal: 2.27s\tremaining: 1.03s\n",
            "688:\tlearn: 0.1356404\ttotal: 2.28s\tremaining: 1.03s\n",
            "689:\tlearn: 0.1354936\ttotal: 2.28s\tremaining: 1.02s\n",
            "690:\tlearn: 0.1353816\ttotal: 2.28s\tremaining: 1.02s\n",
            "691:\tlearn: 0.1352360\ttotal: 2.29s\tremaining: 1.02s\n",
            "692:\tlearn: 0.1351155\ttotal: 2.29s\tremaining: 1.01s\n",
            "693:\tlearn: 0.1349942\ttotal: 2.29s\tremaining: 1.01s\n",
            "694:\tlearn: 0.1348928\ttotal: 2.29s\tremaining: 1.01s\n",
            "695:\tlearn: 0.1347672\ttotal: 2.3s\tremaining: 1s\n",
            "696:\tlearn: 0.1346977\ttotal: 2.3s\tremaining: 999ms\n",
            "697:\tlearn: 0.1346012\ttotal: 2.3s\tremaining: 996ms\n",
            "698:\tlearn: 0.1344835\ttotal: 2.3s\tremaining: 992ms\n",
            "699:\tlearn: 0.1343580\ttotal: 2.31s\tremaining: 989ms\n",
            "700:\tlearn: 0.1342495\ttotal: 2.31s\tremaining: 985ms\n",
            "701:\tlearn: 0.1340127\ttotal: 2.31s\tremaining: 981ms\n",
            "702:\tlearn: 0.1338691\ttotal: 2.31s\tremaining: 978ms\n",
            "703:\tlearn: 0.1337686\ttotal: 2.32s\tremaining: 974ms\n",
            "704:\tlearn: 0.1337079\ttotal: 2.32s\tremaining: 971ms\n",
            "705:\tlearn: 0.1335814\ttotal: 2.33s\tremaining: 969ms\n",
            "706:\tlearn: 0.1334817\ttotal: 2.33s\tremaining: 967ms\n",
            "707:\tlearn: 0.1333954\ttotal: 2.34s\tremaining: 964ms\n",
            "708:\tlearn: 0.1332951\ttotal: 2.35s\tremaining: 964ms\n",
            "709:\tlearn: 0.1331338\ttotal: 2.35s\tremaining: 961ms\n",
            "710:\tlearn: 0.1328963\ttotal: 2.35s\tremaining: 957ms\n",
            "711:\tlearn: 0.1327661\ttotal: 2.36s\tremaining: 954ms\n",
            "712:\tlearn: 0.1326494\ttotal: 2.36s\tremaining: 950ms\n",
            "713:\tlearn: 0.1324673\ttotal: 2.36s\tremaining: 947ms\n",
            "714:\tlearn: 0.1323837\ttotal: 2.37s\tremaining: 943ms\n",
            "715:\tlearn: 0.1322868\ttotal: 2.37s\tremaining: 939ms\n",
            "716:\tlearn: 0.1321190\ttotal: 2.37s\tremaining: 936ms\n",
            "717:\tlearn: 0.1319684\ttotal: 2.37s\tremaining: 932ms\n",
            "718:\tlearn: 0.1318555\ttotal: 2.38s\tremaining: 929ms\n",
            "719:\tlearn: 0.1317297\ttotal: 2.38s\tremaining: 925ms\n",
            "720:\tlearn: 0.1316820\ttotal: 2.38s\tremaining: 922ms\n",
            "721:\tlearn: 0.1316203\ttotal: 2.38s\tremaining: 918ms\n",
            "722:\tlearn: 0.1313633\ttotal: 2.39s\tremaining: 915ms\n",
            "723:\tlearn: 0.1313116\ttotal: 2.39s\tremaining: 911ms\n",
            "724:\tlearn: 0.1312105\ttotal: 2.39s\tremaining: 907ms\n",
            "725:\tlearn: 0.1311457\ttotal: 2.39s\tremaining: 904ms\n",
            "726:\tlearn: 0.1309238\ttotal: 2.4s\tremaining: 900ms\n",
            "727:\tlearn: 0.1308016\ttotal: 2.4s\tremaining: 897ms\n",
            "728:\tlearn: 0.1306303\ttotal: 2.41s\tremaining: 896ms\n",
            "729:\tlearn: 0.1305430\ttotal: 2.41s\tremaining: 892ms\n",
            "730:\tlearn: 0.1304683\ttotal: 2.41s\tremaining: 889ms\n",
            "731:\tlearn: 0.1302820\ttotal: 2.42s\tremaining: 885ms\n",
            "732:\tlearn: 0.1301749\ttotal: 2.42s\tremaining: 883ms\n",
            "733:\tlearn: 0.1300494\ttotal: 2.43s\tremaining: 882ms\n",
            "734:\tlearn: 0.1299227\ttotal: 2.44s\tremaining: 879ms\n",
            "735:\tlearn: 0.1298474\ttotal: 2.44s\tremaining: 875ms\n",
            "736:\tlearn: 0.1297051\ttotal: 2.44s\tremaining: 872ms\n",
            "737:\tlearn: 0.1295571\ttotal: 2.44s\tremaining: 868ms\n",
            "738:\tlearn: 0.1293195\ttotal: 2.45s\tremaining: 865ms\n",
            "739:\tlearn: 0.1291718\ttotal: 2.45s\tremaining: 861ms\n",
            "740:\tlearn: 0.1291097\ttotal: 2.45s\tremaining: 857ms\n",
            "741:\tlearn: 0.1290251\ttotal: 2.46s\tremaining: 854ms\n",
            "742:\tlearn: 0.1288574\ttotal: 2.46s\tremaining: 850ms\n",
            "743:\tlearn: 0.1286381\ttotal: 2.46s\tremaining: 847ms\n",
            "744:\tlearn: 0.1284566\ttotal: 2.46s\tremaining: 843ms\n",
            "745:\tlearn: 0.1283047\ttotal: 2.47s\tremaining: 840ms\n",
            "746:\tlearn: 0.1282014\ttotal: 2.47s\tremaining: 836ms\n",
            "747:\tlearn: 0.1281023\ttotal: 2.47s\tremaining: 833ms\n",
            "748:\tlearn: 0.1279200\ttotal: 2.47s\tremaining: 829ms\n",
            "749:\tlearn: 0.1278282\ttotal: 2.48s\tremaining: 826ms\n",
            "750:\tlearn: 0.1277595\ttotal: 2.48s\tremaining: 822ms\n",
            "751:\tlearn: 0.1276462\ttotal: 2.48s\tremaining: 818ms\n",
            "752:\tlearn: 0.1275159\ttotal: 2.48s\tremaining: 815ms\n",
            "753:\tlearn: 0.1273935\ttotal: 2.49s\tremaining: 811ms\n",
            "754:\tlearn: 0.1271849\ttotal: 2.49s\tremaining: 808ms\n",
            "755:\tlearn: 0.1270750\ttotal: 2.49s\tremaining: 804ms\n",
            "756:\tlearn: 0.1269551\ttotal: 2.49s\tremaining: 801ms\n",
            "757:\tlearn: 0.1268557\ttotal: 2.5s\tremaining: 797ms\n",
            "758:\tlearn: 0.1267499\ttotal: 2.5s\tremaining: 794ms\n",
            "759:\tlearn: 0.1266566\ttotal: 2.5s\tremaining: 790ms\n",
            "760:\tlearn: 0.1265707\ttotal: 2.5s\tremaining: 787ms\n",
            "761:\tlearn: 0.1264654\ttotal: 2.51s\tremaining: 783ms\n",
            "762:\tlearn: 0.1263322\ttotal: 2.51s\tremaining: 780ms\n",
            "763:\tlearn: 0.1262360\ttotal: 2.51s\tremaining: 776ms\n",
            "764:\tlearn: 0.1261895\ttotal: 2.52s\tremaining: 773ms\n",
            "765:\tlearn: 0.1260987\ttotal: 2.52s\tremaining: 769ms\n",
            "766:\tlearn: 0.1259018\ttotal: 2.52s\tremaining: 766ms\n",
            "767:\tlearn: 0.1257781\ttotal: 2.52s\tremaining: 762ms\n",
            "768:\tlearn: 0.1256691\ttotal: 2.53s\tremaining: 759ms\n",
            "769:\tlearn: 0.1255778\ttotal: 2.53s\tremaining: 755ms\n",
            "770:\tlearn: 0.1254923\ttotal: 2.53s\tremaining: 752ms\n",
            "771:\tlearn: 0.1253707\ttotal: 2.53s\tremaining: 748ms\n",
            "772:\tlearn: 0.1252340\ttotal: 2.54s\tremaining: 745ms\n",
            "773:\tlearn: 0.1251259\ttotal: 2.54s\tremaining: 741ms\n",
            "774:\tlearn: 0.1250263\ttotal: 2.54s\tremaining: 738ms\n",
            "775:\tlearn: 0.1249280\ttotal: 2.54s\tremaining: 735ms\n",
            "776:\tlearn: 0.1248224\ttotal: 2.55s\tremaining: 732ms\n",
            "777:\tlearn: 0.1246886\ttotal: 2.55s\tremaining: 728ms\n",
            "778:\tlearn: 0.1245851\ttotal: 2.56s\tremaining: 725ms\n",
            "779:\tlearn: 0.1245216\ttotal: 2.56s\tremaining: 721ms\n",
            "780:\tlearn: 0.1244722\ttotal: 2.56s\tremaining: 718ms\n",
            "781:\tlearn: 0.1243932\ttotal: 2.56s\tremaining: 714ms\n",
            "782:\tlearn: 0.1241570\ttotal: 2.56s\tremaining: 711ms\n",
            "783:\tlearn: 0.1239581\ttotal: 2.57s\tremaining: 708ms\n",
            "784:\tlearn: 0.1238574\ttotal: 2.57s\tremaining: 704ms\n",
            "785:\tlearn: 0.1237018\ttotal: 2.57s\tremaining: 701ms\n",
            "786:\tlearn: 0.1235988\ttotal: 2.58s\tremaining: 697ms\n",
            "787:\tlearn: 0.1235338\ttotal: 2.58s\tremaining: 694ms\n",
            "788:\tlearn: 0.1233448\ttotal: 2.58s\tremaining: 690ms\n",
            "789:\tlearn: 0.1232536\ttotal: 2.58s\tremaining: 687ms\n",
            "790:\tlearn: 0.1231825\ttotal: 2.58s\tremaining: 683ms\n",
            "791:\tlearn: 0.1231029\ttotal: 2.59s\tremaining: 680ms\n",
            "792:\tlearn: 0.1230182\ttotal: 2.59s\tremaining: 676ms\n",
            "793:\tlearn: 0.1228769\ttotal: 2.59s\tremaining: 673ms\n",
            "794:\tlearn: 0.1227904\ttotal: 2.6s\tremaining: 669ms\n",
            "795:\tlearn: 0.1226296\ttotal: 2.6s\tremaining: 666ms\n",
            "796:\tlearn: 0.1223758\ttotal: 2.6s\tremaining: 663ms\n",
            "797:\tlearn: 0.1222500\ttotal: 2.61s\tremaining: 660ms\n",
            "798:\tlearn: 0.1220857\ttotal: 2.61s\tremaining: 656ms\n",
            "799:\tlearn: 0.1218907\ttotal: 2.61s\tremaining: 653ms\n",
            "800:\tlearn: 0.1217374\ttotal: 2.61s\tremaining: 650ms\n",
            "801:\tlearn: 0.1216752\ttotal: 2.62s\tremaining: 646ms\n",
            "802:\tlearn: 0.1215325\ttotal: 2.62s\tremaining: 643ms\n",
            "803:\tlearn: 0.1214231\ttotal: 2.62s\tremaining: 639ms\n",
            "804:\tlearn: 0.1212807\ttotal: 2.63s\tremaining: 636ms\n",
            "805:\tlearn: 0.1212008\ttotal: 2.63s\tremaining: 633ms\n",
            "806:\tlearn: 0.1210534\ttotal: 2.63s\tremaining: 629ms\n",
            "807:\tlearn: 0.1209501\ttotal: 2.63s\tremaining: 626ms\n",
            "808:\tlearn: 0.1208457\ttotal: 2.63s\tremaining: 622ms\n",
            "809:\tlearn: 0.1207252\ttotal: 2.64s\tremaining: 619ms\n",
            "810:\tlearn: 0.1205839\ttotal: 2.64s\tremaining: 615ms\n",
            "811:\tlearn: 0.1203938\ttotal: 2.64s\tremaining: 612ms\n",
            "812:\tlearn: 0.1202340\ttotal: 2.65s\tremaining: 609ms\n",
            "813:\tlearn: 0.1201607\ttotal: 2.65s\tremaining: 605ms\n",
            "814:\tlearn: 0.1200466\ttotal: 2.65s\tremaining: 602ms\n",
            "815:\tlearn: 0.1198794\ttotal: 2.65s\tremaining: 599ms\n",
            "816:\tlearn: 0.1197413\ttotal: 2.66s\tremaining: 595ms\n",
            "817:\tlearn: 0.1196134\ttotal: 2.66s\tremaining: 592ms\n",
            "818:\tlearn: 0.1194824\ttotal: 2.66s\tremaining: 588ms\n",
            "819:\tlearn: 0.1193700\ttotal: 2.66s\tremaining: 585ms\n",
            "820:\tlearn: 0.1192796\ttotal: 2.67s\tremaining: 582ms\n",
            "821:\tlearn: 0.1191195\ttotal: 2.67s\tremaining: 578ms\n",
            "822:\tlearn: 0.1189687\ttotal: 2.67s\tremaining: 575ms\n",
            "823:\tlearn: 0.1188396\ttotal: 2.67s\tremaining: 572ms\n",
            "824:\tlearn: 0.1187055\ttotal: 2.68s\tremaining: 568ms\n",
            "825:\tlearn: 0.1185031\ttotal: 2.68s\tremaining: 565ms\n",
            "826:\tlearn: 0.1183122\ttotal: 2.68s\tremaining: 562ms\n",
            "827:\tlearn: 0.1181302\ttotal: 2.69s\tremaining: 558ms\n",
            "828:\tlearn: 0.1180026\ttotal: 2.69s\tremaining: 555ms\n",
            "829:\tlearn: 0.1179050\ttotal: 2.69s\tremaining: 551ms\n",
            "830:\tlearn: 0.1178714\ttotal: 2.69s\tremaining: 548ms\n",
            "831:\tlearn: 0.1176980\ttotal: 2.7s\tremaining: 545ms\n",
            "832:\tlearn: 0.1175787\ttotal: 2.7s\tremaining: 541ms\n",
            "833:\tlearn: 0.1174744\ttotal: 2.7s\tremaining: 538ms\n",
            "834:\tlearn: 0.1173763\ttotal: 2.71s\tremaining: 535ms\n",
            "835:\tlearn: 0.1172633\ttotal: 2.71s\tremaining: 531ms\n",
            "836:\tlearn: 0.1171740\ttotal: 2.71s\tremaining: 528ms\n",
            "837:\tlearn: 0.1170750\ttotal: 2.71s\tremaining: 525ms\n",
            "838:\tlearn: 0.1169885\ttotal: 2.72s\tremaining: 521ms\n",
            "839:\tlearn: 0.1168523\ttotal: 2.72s\tremaining: 518ms\n",
            "840:\tlearn: 0.1167778\ttotal: 2.72s\tremaining: 515ms\n",
            "841:\tlearn: 0.1166710\ttotal: 2.72s\tremaining: 511ms\n",
            "842:\tlearn: 0.1165970\ttotal: 2.73s\tremaining: 508ms\n",
            "843:\tlearn: 0.1165287\ttotal: 2.73s\tremaining: 505ms\n",
            "844:\tlearn: 0.1164051\ttotal: 2.73s\tremaining: 501ms\n",
            "845:\tlearn: 0.1162822\ttotal: 2.73s\tremaining: 498ms\n",
            "846:\tlearn: 0.1162340\ttotal: 2.74s\tremaining: 495ms\n",
            "847:\tlearn: 0.1160929\ttotal: 2.74s\tremaining: 492ms\n",
            "848:\tlearn: 0.1159708\ttotal: 2.75s\tremaining: 489ms\n",
            "849:\tlearn: 0.1159129\ttotal: 2.75s\tremaining: 485ms\n",
            "850:\tlearn: 0.1157656\ttotal: 2.75s\tremaining: 482ms\n",
            "851:\tlearn: 0.1156504\ttotal: 2.75s\tremaining: 479ms\n",
            "852:\tlearn: 0.1156077\ttotal: 2.76s\tremaining: 475ms\n",
            "853:\tlearn: 0.1154286\ttotal: 2.76s\tremaining: 472ms\n",
            "854:\tlearn: 0.1153100\ttotal: 2.76s\tremaining: 469ms\n",
            "855:\tlearn: 0.1152011\ttotal: 2.77s\tremaining: 465ms\n",
            "856:\tlearn: 0.1149969\ttotal: 2.77s\tremaining: 462ms\n",
            "857:\tlearn: 0.1148736\ttotal: 2.77s\tremaining: 459ms\n",
            "858:\tlearn: 0.1147095\ttotal: 2.77s\tremaining: 455ms\n",
            "859:\tlearn: 0.1145507\ttotal: 2.78s\tremaining: 452ms\n",
            "860:\tlearn: 0.1144344\ttotal: 2.78s\tremaining: 449ms\n",
            "861:\tlearn: 0.1142636\ttotal: 2.78s\tremaining: 445ms\n",
            "862:\tlearn: 0.1140953\ttotal: 2.78s\tremaining: 442ms\n",
            "863:\tlearn: 0.1139510\ttotal: 2.79s\tremaining: 439ms\n",
            "864:\tlearn: 0.1138386\ttotal: 2.79s\tremaining: 435ms\n",
            "865:\tlearn: 0.1137166\ttotal: 2.79s\tremaining: 432ms\n",
            "866:\tlearn: 0.1136321\ttotal: 2.79s\tremaining: 429ms\n",
            "867:\tlearn: 0.1135300\ttotal: 2.8s\tremaining: 425ms\n",
            "868:\tlearn: 0.1134264\ttotal: 2.8s\tremaining: 422ms\n",
            "869:\tlearn: 0.1133282\ttotal: 2.8s\tremaining: 419ms\n",
            "870:\tlearn: 0.1132374\ttotal: 2.81s\tremaining: 416ms\n",
            "871:\tlearn: 0.1131406\ttotal: 2.81s\tremaining: 412ms\n",
            "872:\tlearn: 0.1130784\ttotal: 2.81s\tremaining: 409ms\n",
            "873:\tlearn: 0.1129669\ttotal: 2.81s\tremaining: 406ms\n",
            "874:\tlearn: 0.1128639\ttotal: 2.82s\tremaining: 402ms\n",
            "875:\tlearn: 0.1126527\ttotal: 2.82s\tremaining: 399ms\n",
            "876:\tlearn: 0.1125317\ttotal: 2.82s\tremaining: 396ms\n",
            "877:\tlearn: 0.1124636\ttotal: 2.82s\tremaining: 392ms\n",
            "878:\tlearn: 0.1123937\ttotal: 2.83s\tremaining: 389ms\n",
            "879:\tlearn: 0.1122995\ttotal: 2.83s\tremaining: 386ms\n",
            "880:\tlearn: 0.1122359\ttotal: 2.83s\tremaining: 382ms\n",
            "881:\tlearn: 0.1120993\ttotal: 2.83s\tremaining: 379ms\n",
            "882:\tlearn: 0.1119534\ttotal: 2.84s\tremaining: 376ms\n",
            "883:\tlearn: 0.1119022\ttotal: 2.84s\tremaining: 373ms\n",
            "884:\tlearn: 0.1117500\ttotal: 2.84s\tremaining: 369ms\n",
            "885:\tlearn: 0.1116410\ttotal: 2.85s\tremaining: 366ms\n",
            "886:\tlearn: 0.1114565\ttotal: 2.85s\tremaining: 363ms\n",
            "887:\tlearn: 0.1113223\ttotal: 2.85s\tremaining: 360ms\n",
            "888:\tlearn: 0.1111598\ttotal: 2.85s\tremaining: 356ms\n",
            "889:\tlearn: 0.1110755\ttotal: 2.85s\tremaining: 353ms\n",
            "890:\tlearn: 0.1109390\ttotal: 2.86s\tremaining: 350ms\n",
            "891:\tlearn: 0.1108865\ttotal: 2.86s\tremaining: 346ms\n",
            "892:\tlearn: 0.1108362\ttotal: 2.86s\tremaining: 343ms\n",
            "893:\tlearn: 0.1107122\ttotal: 2.87s\tremaining: 340ms\n",
            "894:\tlearn: 0.1106294\ttotal: 2.87s\tremaining: 337ms\n",
            "895:\tlearn: 0.1105543\ttotal: 2.87s\tremaining: 333ms\n",
            "896:\tlearn: 0.1104595\ttotal: 2.87s\tremaining: 330ms\n",
            "897:\tlearn: 0.1103837\ttotal: 2.88s\tremaining: 327ms\n",
            "898:\tlearn: 0.1103231\ttotal: 2.88s\tremaining: 324ms\n",
            "899:\tlearn: 0.1103036\ttotal: 2.89s\tremaining: 321ms\n",
            "900:\tlearn: 0.1102014\ttotal: 2.89s\tremaining: 318ms\n",
            "901:\tlearn: 0.1100972\ttotal: 2.9s\tremaining: 315ms\n",
            "902:\tlearn: 0.1099992\ttotal: 2.9s\tremaining: 312ms\n",
            "903:\tlearn: 0.1099265\ttotal: 2.9s\tremaining: 308ms\n",
            "904:\tlearn: 0.1098024\ttotal: 2.91s\tremaining: 305ms\n",
            "905:\tlearn: 0.1097432\ttotal: 2.91s\tremaining: 302ms\n",
            "906:\tlearn: 0.1096690\ttotal: 2.91s\tremaining: 299ms\n",
            "907:\tlearn: 0.1095459\ttotal: 2.91s\tremaining: 295ms\n",
            "908:\tlearn: 0.1093692\ttotal: 2.92s\tremaining: 292ms\n",
            "909:\tlearn: 0.1092835\ttotal: 2.92s\tremaining: 289ms\n",
            "910:\tlearn: 0.1091383\ttotal: 2.92s\tremaining: 285ms\n",
            "911:\tlearn: 0.1090362\ttotal: 2.92s\tremaining: 282ms\n",
            "912:\tlearn: 0.1088453\ttotal: 2.93s\tremaining: 279ms\n",
            "913:\tlearn: 0.1087257\ttotal: 2.93s\tremaining: 276ms\n",
            "914:\tlearn: 0.1086257\ttotal: 2.93s\tremaining: 272ms\n",
            "915:\tlearn: 0.1085411\ttotal: 2.94s\tremaining: 269ms\n",
            "916:\tlearn: 0.1084402\ttotal: 2.94s\tremaining: 266ms\n",
            "917:\tlearn: 0.1082422\ttotal: 2.94s\tremaining: 263ms\n",
            "918:\tlearn: 0.1081372\ttotal: 2.95s\tremaining: 260ms\n",
            "919:\tlearn: 0.1080404\ttotal: 2.95s\tremaining: 256ms\n",
            "920:\tlearn: 0.1079770\ttotal: 2.95s\tremaining: 253ms\n",
            "921:\tlearn: 0.1078962\ttotal: 2.95s\tremaining: 250ms\n",
            "922:\tlearn: 0.1077659\ttotal: 2.96s\tremaining: 247ms\n",
            "923:\tlearn: 0.1077473\ttotal: 2.96s\tremaining: 243ms\n",
            "924:\tlearn: 0.1076357\ttotal: 2.96s\tremaining: 240ms\n",
            "925:\tlearn: 0.1075876\ttotal: 2.96s\tremaining: 237ms\n",
            "926:\tlearn: 0.1075603\ttotal: 2.97s\tremaining: 234ms\n",
            "927:\tlearn: 0.1074644\ttotal: 2.97s\tremaining: 230ms\n",
            "928:\tlearn: 0.1073868\ttotal: 2.97s\tremaining: 227ms\n",
            "929:\tlearn: 0.1073073\ttotal: 2.98s\tremaining: 224ms\n",
            "930:\tlearn: 0.1072290\ttotal: 2.98s\tremaining: 221ms\n",
            "931:\tlearn: 0.1071472\ttotal: 2.98s\tremaining: 218ms\n",
            "932:\tlearn: 0.1070352\ttotal: 2.98s\tremaining: 214ms\n",
            "933:\tlearn: 0.1069867\ttotal: 2.99s\tremaining: 211ms\n",
            "934:\tlearn: 0.1068558\ttotal: 2.99s\tremaining: 208ms\n",
            "935:\tlearn: 0.1067581\ttotal: 2.99s\tremaining: 205ms\n",
            "936:\tlearn: 0.1066064\ttotal: 3s\tremaining: 202ms\n",
            "937:\tlearn: 0.1065181\ttotal: 3s\tremaining: 198ms\n",
            "938:\tlearn: 0.1063701\ttotal: 3.01s\tremaining: 195ms\n",
            "939:\tlearn: 0.1062768\ttotal: 3.01s\tremaining: 192ms\n",
            "940:\tlearn: 0.1061806\ttotal: 3.01s\tremaining: 189ms\n",
            "941:\tlearn: 0.1060925\ttotal: 3.01s\tremaining: 186ms\n",
            "942:\tlearn: 0.1059983\ttotal: 3.02s\tremaining: 182ms\n",
            "943:\tlearn: 0.1059075\ttotal: 3.02s\tremaining: 179ms\n",
            "944:\tlearn: 0.1058024\ttotal: 3.02s\tremaining: 176ms\n",
            "945:\tlearn: 0.1057031\ttotal: 3.02s\tremaining: 173ms\n",
            "946:\tlearn: 0.1056389\ttotal: 3.03s\tremaining: 169ms\n",
            "947:\tlearn: 0.1055078\ttotal: 3.03s\tremaining: 166ms\n",
            "948:\tlearn: 0.1054057\ttotal: 3.03s\tremaining: 163ms\n",
            "949:\tlearn: 0.1053350\ttotal: 3.04s\tremaining: 160ms\n",
            "950:\tlearn: 0.1052703\ttotal: 3.04s\tremaining: 157ms\n",
            "951:\tlearn: 0.1051997\ttotal: 3.04s\tremaining: 153ms\n",
            "952:\tlearn: 0.1051227\ttotal: 3.04s\tremaining: 150ms\n",
            "953:\tlearn: 0.1050253\ttotal: 3.04s\tremaining: 147ms\n",
            "954:\tlearn: 0.1049733\ttotal: 3.05s\tremaining: 144ms\n",
            "955:\tlearn: 0.1048793\ttotal: 3.05s\tremaining: 140ms\n",
            "956:\tlearn: 0.1048621\ttotal: 3.05s\tremaining: 137ms\n",
            "957:\tlearn: 0.1047999\ttotal: 3.06s\tremaining: 134ms\n",
            "958:\tlearn: 0.1046739\ttotal: 3.06s\tremaining: 131ms\n",
            "959:\tlearn: 0.1046001\ttotal: 3.06s\tremaining: 128ms\n",
            "960:\tlearn: 0.1045198\ttotal: 3.07s\tremaining: 124ms\n",
            "961:\tlearn: 0.1044499\ttotal: 3.07s\tremaining: 121ms\n",
            "962:\tlearn: 0.1044114\ttotal: 3.07s\tremaining: 118ms\n",
            "963:\tlearn: 0.1043179\ttotal: 3.07s\tremaining: 115ms\n",
            "964:\tlearn: 0.1042670\ttotal: 3.08s\tremaining: 112ms\n",
            "965:\tlearn: 0.1041691\ttotal: 3.08s\tremaining: 108ms\n",
            "966:\tlearn: 0.1041278\ttotal: 3.08s\tremaining: 105ms\n",
            "967:\tlearn: 0.1040682\ttotal: 3.08s\tremaining: 102ms\n",
            "968:\tlearn: 0.1039767\ttotal: 3.09s\tremaining: 98.8ms\n",
            "969:\tlearn: 0.1039042\ttotal: 3.09s\tremaining: 95.6ms\n",
            "970:\tlearn: 0.1037237\ttotal: 3.09s\tremaining: 92.4ms\n",
            "971:\tlearn: 0.1036351\ttotal: 3.1s\tremaining: 89.2ms\n",
            "972:\tlearn: 0.1035428\ttotal: 3.1s\tremaining: 86ms\n",
            "973:\tlearn: 0.1034527\ttotal: 3.1s\tremaining: 82.8ms\n",
            "974:\tlearn: 0.1033536\ttotal: 3.1s\tremaining: 79.6ms\n",
            "975:\tlearn: 0.1032841\ttotal: 3.11s\tremaining: 76.4ms\n",
            "976:\tlearn: 0.1031746\ttotal: 3.11s\tremaining: 73.2ms\n",
            "977:\tlearn: 0.1031038\ttotal: 3.11s\tremaining: 70ms\n",
            "978:\tlearn: 0.1029711\ttotal: 3.11s\tremaining: 66.8ms\n",
            "979:\tlearn: 0.1028001\ttotal: 3.12s\tremaining: 63.6ms\n",
            "980:\tlearn: 0.1027194\ttotal: 3.12s\tremaining: 60.4ms\n",
            "981:\tlearn: 0.1026427\ttotal: 3.12s\tremaining: 57.2ms\n",
            "982:\tlearn: 0.1025627\ttotal: 3.12s\tremaining: 54ms\n",
            "983:\tlearn: 0.1024781\ttotal: 3.13s\tremaining: 50.8ms\n",
            "984:\tlearn: 0.1023744\ttotal: 3.13s\tremaining: 47.7ms\n",
            "985:\tlearn: 0.1022809\ttotal: 3.14s\tremaining: 44.5ms\n",
            "986:\tlearn: 0.1021834\ttotal: 3.14s\tremaining: 41.4ms\n",
            "987:\tlearn: 0.1020423\ttotal: 3.14s\tremaining: 38.2ms\n",
            "988:\tlearn: 0.1019432\ttotal: 3.14s\tremaining: 35ms\n",
            "989:\tlearn: 0.1019136\ttotal: 3.15s\tremaining: 31.8ms\n",
            "990:\tlearn: 0.1018508\ttotal: 3.15s\tremaining: 28.6ms\n",
            "991:\tlearn: 0.1017138\ttotal: 3.15s\tremaining: 25.4ms\n",
            "992:\tlearn: 0.1015232\ttotal: 3.15s\tremaining: 22.2ms\n",
            "993:\tlearn: 0.1014565\ttotal: 3.16s\tremaining: 19.1ms\n",
            "994:\tlearn: 0.1013628\ttotal: 3.16s\tremaining: 15.9ms\n",
            "995:\tlearn: 0.1012846\ttotal: 3.16s\tremaining: 12.7ms\n",
            "996:\tlearn: 0.1012129\ttotal: 3.17s\tremaining: 9.52ms\n",
            "997:\tlearn: 0.1010864\ttotal: 3.17s\tremaining: 6.35ms\n",
            "998:\tlearn: 0.1009258\ttotal: 3.17s\tremaining: 3.17ms\n",
            "999:\tlearn: 0.1008604\ttotal: 3.17s\tremaining: 0us\n"
          ]
        },
        {
          "output_type": "execute_result",
          "data": {
            "text/plain": [
              "<matplotlib.axes._subplots.AxesSubplot at 0x7f2c08a15d30>"
            ]
          },
          "metadata": {},
          "execution_count": 98
        },
        {
          "output_type": "display_data",
          "data": {
            "text/plain": [
              "<Figure size 432x288 with 2 Axes>"
            ],
            "image/png": "[encoded data removed]"
          },
          "metadata": {
            "needs_background": "light"
          }
        }
      ]
    },
    {
      "cell_type": "code",
      "source": [
        "from sklearn.metrics import accuracy_score\n",
        "f=accuracy_score(y_test, y_predict)\n",
        "f"
      ],
      "metadata": {
        "colab": {
          "base_uri": "https://localhost:8080/"
        },
        "id": "2hX46Xb6_oEY",
        "outputId": "b284effd-a017-494c-f3d5-926470af388d"
      },
      "execution_count": 99,
      "outputs": [
        {
          "output_type": "execute_result",
          "data": {
            "text/plain": [
              "0.8052837573385518"
            ]
          },
          "metadata": {},
          "execution_count": 99
        }
      ]
    },
    {
      "cell_type": "markdown",
      "source": [
        "**GaussianNB**"
      ],
      "metadata": {
        "id": "5gZscC6QgKpi"
      }
    },
    {
      "cell_type": "code",
      "source": [
        "from sklearn.naive_bayes import GaussianNB\n",
        "model = GaussianNB()\n",
        "model.fit(X_res,y_res)\n",
        "y_predict = model.predict(x_test)\n",
        "from sklearn.metrics import classification_report ,confusion_matrix\n",
        "cm=confusion_matrix(y_test , y_predict)\n",
        "sns.heatmap(cm, annot=True )"
      ],
      "metadata": {
        "colab": {
          "base_uri": "https://localhost:8080/",
          "height": 282
        },
        "id": "kMUPdvoZO-N0",
        "outputId": "317bd8bf-dc67-4036-a12a-c16d517bf17f"
      },
      "execution_count": 100,
      "outputs": [
        {
          "output_type": "execute_result",
          "data": {
            "text/plain": [
              "<matplotlib.axes._subplots.AxesSubplot at 0x7f2beff45760>"
            ]
          },
          "metadata": {},
          "execution_count": 100
        },
        {
          "output_type": "display_data",
          "data": {
            "text/plain": [
              "<Figure size 432x288 with 2 Axes>"
            ],
            "image/png": "[encoded data removed]"
          },
          "metadata": {
            "needs_background": "light"
          }
        }
      ]
    },
    {
      "cell_type": "code",
      "source": [
        "from sklearn.metrics import classification_report\n",
        "print(classification_report(y_test , y_predict))\n",
        "pd.crosstab(y_test , y_predict)"
      ],
      "metadata": {
        "colab": {
          "base_uri": "https://localhost:8080/",
          "height": 300
        },
        "outputId": "fa25017e-b409-4fe7-e302-aa48f027d7a8",
        "id": "9TevsZIwPF9U"
      },
      "execution_count": 101,
      "outputs": [
        {
          "output_type": "stream",
          "name": "stdout",
          "text": [
            "              precision    recall  f1-score   support\n",
            "\n",
            "           0       0.97      0.74      0.84       968\n",
            "           1       0.10      0.54      0.17        54\n",
            "\n",
            "    accuracy                           0.73      1022\n",
            "   macro avg       0.54      0.64      0.51      1022\n",
            "weighted avg       0.92      0.73      0.80      1022\n",
            "\n"
          ]
        },
        {
          "output_type": "execute_result",
          "data": {
            "text/plain": [
              "col_0    0    1\n",
              "row_0          \n",
              "0      718  250\n",
              "1       25   29"
            ],
            "text/html": [
              "\n",
              "  <div id=\"df-6a61aa68-ec0f-45fe-9ae7-7b948c1a3333\">\n",
              "    <div class=\"colab-df-container\">\n",
              "      <div>\n",
              "<style scoped>\n",
              "    .dataframe tbody tr th:only-of-type {\n",
              "        vertical-align: middle;\n",
              "    }\n",
              "\n",
              "    .dataframe tbody tr th {\n",
              "        vertical-align: top;\n",
              "    }\n",
              "\n",
              "    .dataframe thead th {\n",
              "        text-align: right;\n",
              "    }\n",
              "</style>\n",
              "<table border=\"1\" class=\"dataframe\">\n",
              "  <thead>\n",
              "    <tr style=\"text-align: right;\">\n",
              "      <th>col_0</th>\n",
              "      <th>0</th>\n",
              "      <th>1</th>\n",
              "    </tr>\n",
              "    <tr>\n",
              "      <th>row_0</th>\n",
              "      <th></th>\n",
              "      <th></th>\n",
              "    </tr>\n",
              "  </thead>\n",
              "  <tbody>\n",
              "    <tr>\n",
              "      <th>0</th>\n",
              "      <td>718</td>\n",
              "      <td>250</td>\n",
              "    </tr>\n",
              "    <tr>\n",
              "      <th>1</th>\n",
              "      <td>25</td>\n",
              "      <td>29</td>\n",
              "    </tr>\n",
              "  </tbody>\n",
              "</table>\n",
              "</div>\n",
              "      <button class=\"colab-df-convert\" onclick=\"convertToInteractive('df-6a61aa68-ec0f-45fe-9ae7-7b948c1a3333')\"\n",
              "              title=\"Convert this dataframe to an interactive table.\"\n",
              "              style=\"display:none;\">\n",
              "        \n",
              "  <svg xmlns=\"http://www.w3.org/2000/svg\" height=\"24px\"viewBox=\"0 0 24 24\"\n",
              "       width=\"24px\">\n",
              "    <path d=\"M0 0h24v24H0V0z\" fill=\"none\"/>\n",
              "    <path d=\"M18.56 5.44l.94 2.06.94-2.06 2.06-.94-2.06-.94-.94-2.06-.94 2.06-2.06.94zm-11 1L8.5 8.5l.94-2.06 2.06-.94-2.06-.94L8.5 2.5l-.94 2.06-2.06.94zm10 10l.94 2.06.94-2.06 2.06-.94-2.06-.94-.94-2.06-.94 2.06-2.06.94z\"/><path d=\"M17.41 7.96l-1.37-1.37c-.4-.4-.92-.59-1.43-.59-.52 0-1.04.2-1.43.59L10.3 9.45l-7.72 7.72c-.78.78-.78 2.05 0 2.83L4 21.41c.39.39.9.59 1.41.59.51 0 1.02-.2 1.41-.59l7.78-7.78 2.81-2.81c.8-.78.8-2.07 0-2.86zM5.41 20L4 18.59l7.72-7.72 1.47 1.35L5.41 20z\"/>\n",
              "  </svg>\n",
              "      </button>\n",
              "      \n",
              "  <style>\n",
              "    .colab-df-container {\n",
              "      display:flex;\n",
              "      flex-wrap:wrap;\n",
              "      gap: 12px;\n",
              "    }\n",
              "\n",
              "    .colab-df-convert {\n",
              "      background-color: #E8F0FE;\n",
              "      border: none;\n",
              "      border-radius: 50%;\n",
              "      cursor: pointer;\n",
              "      display: none;\n",
              "      fill: #1967D2;\n",
              "      height: 32px;\n",
              "      padding: 0 0 0 0;\n",
              "      width: 32px;\n",
              "    }\n",
              "\n",
              "    .colab-df-convert:hover {\n",
              "      background-color: #E2EBFA;\n",
              "      box-shadow: 0px 1px 2px rgba(60, 64, 67, 0.3), 0px 1px 3px 1px rgba(60, 64, 67, 0.15);\n",
              "      fill: #174EA6;\n",
              "    }\n",
              "\n",
              "    [theme=dark] .colab-df-convert {\n",
              "      background-color: #3B4455;\n",
              "      fill: #D2E3FC;\n",
              "    }\n",
              "\n",
              "    [theme=dark] .colab-df-convert:hover {\n",
              "      background-color: #434B5C;\n",
              "      box-shadow: 0px 1px 3px 1px rgba(0, 0, 0, 0.15);\n",
              "      filter: drop-shadow(0px 1px 2px rgba(0, 0, 0, 0.3));\n",
              "      fill: #FFFFFF;\n",
              "    }\n",
              "  </style>\n",
              "\n",
              "      <script>\n",
              "        const buttonEl =\n",
              "          document.querySelector('#df-6a61aa68-ec0f-45fe-9ae7-7b948c1a3333 button.colab-df-convert');\n",
              "        buttonEl.style.display =\n",
              "          google.colab.kernel.accessAllowed ? 'block' : 'none';\n",
              "\n",
              "        async function convertToInteractive(key) {\n",
              "          const element = document.querySelector('#df-6a61aa68-ec0f-45fe-9ae7-7b948c1a3333');\n",
              "          const dataTable =\n",
              "            await google.colab.kernel.invokeFunction('convertToInteractive',\n",
              "                                                     [key], {});\n",
              "          if (!dataTable) return;\n",
              "\n",
              "          const docLinkHtml = 'Like what you see? Visit the ' +\n",
              "            '<a target=\"_blank\" href=https://colab.research.google.com/notebooks/data_table.ipynb>data table notebook</a>'\n",
              "            + ' to learn more about interactive tables.';\n",
              "          element.innerHTML = '';\n",
              "          dataTable['output_type'] = 'display_data';\n",
              "          await google.colab.output.renderOutput(dataTable, element);\n",
              "          const docLink = document.createElement('div');\n",
              "          docLink.innerHTML = docLinkHtml;\n",
              "          element.appendChild(docLink);\n",
              "        }\n",
              "      </script>\n",
              "    </div>\n",
              "  </div>\n",
              "  "
            ]
          },
          "metadata": {},
          "execution_count": 101
        }
      ]
    },
    {
      "cell_type": "code",
      "source": [
        "from sklearn.metrics import accuracy_score\n",
        "g=accuracy_score(y_test, y_predict)\n",
        "g"
      ],
      "metadata": {
        "colab": {
          "base_uri": "https://localhost:8080/"
        },
        "outputId": "8fe9dbca-5db8-49d5-bfde-d8c860fcbef7",
        "id": "_XYhgnmNQNEV"
      },
      "execution_count": 102,
      "outputs": [
        {
          "output_type": "execute_result",
          "data": {
            "text/plain": [
              "0.7309197651663405"
            ]
          },
          "metadata": {},
          "execution_count": 102
        }
      ]
    },
    {
      "cell_type": "code",
      "source": [
        "perf_measure(y_test, y_predict)"
      ],
      "metadata": {
        "colab": {
          "base_uri": "https://localhost:8080/"
        },
        "outputId": "00c39ea6-f50e-49e7-baf7-93b51ef8624e",
        "id": "YldzjSCfQNEV"
      },
      "execution_count": 103,
      "outputs": [
        {
          "output_type": "execute_result",
          "data": {
            "text/plain": [
              "(29, 250, 718, 25)"
            ]
          },
          "metadata": {},
          "execution_count": 103
        }
      ]
    },
    {
      "cell_type": "markdown",
      "source": [
        "# **Result of our prediction**"
      ],
      "metadata": {
        "id": "PJOslRwwAMdq"
      }
    },
    {
      "cell_type": "code",
      "source": [
        "# totall accuracy \n",
        "plt.figure(figsize=[10,6])\n",
        "left=[1,2,3,4,5,6,7]\n",
        "high=[a,b,c,d,e,f,g]\n",
        "tic=['regression' , 'k_nearest' , 'decission trees' , 'naive bayes', 'xgboost' , 'catboost','GaussianNB']\n",
        "plt.bar(left, high ,tick_label=tic  ,width=0.5 ,color=['green' , 'blue' ,'yellow' ,'red','black','pink','gray'])\n",
        "plt.show()"
      ],
      "metadata": {
        "colab": {
          "base_uri": "https://localhost:8080/",
          "height": 375
        },
        "outputId": "279cb975-2b2e-415f-eabb-36cd215ce928",
        "id": "-3aQ1ssegVOy"
      },
      "execution_count": 104,
      "outputs": [
        {
          "output_type": "display_data",
          "data": {
            "text/plain": [
              "<Figure size 720x432 with 1 Axes>"
            ],
            "image/png": "[encoded data removed]"
          },
          "metadata": {
            "needs_background": "light"
          }
        }
      ]
    },
    {
      "cell_type": "code",
      "source": [
        "from sklearn import datasets\n",
        "from sklearn.metrics import roc_curve, roc_auc_score"
      ],
      "metadata": {
        "id": "GS8wq1GwRsAd"
      },
      "execution_count": 105,
      "outputs": []
    },
    {
      "cell_type": "code",
      "source": [
        "rf_predict=lo.predict(x_test)\n",
        "nb_predict=classifier.predict(x_test)\n",
        "lg_predict=random.predict(x_test)\n",
        "kn_predict=classifier.predict(x_test)\n",
        "xg_predict=model.predict(x_test)\n",
        "ca_predict=cat.predict(x_test)\n",
        "ga_predict=model.predict(x_test)"
      ],
      "metadata": {
        "id": "RkwNEYftRvBz"
      },
      "execution_count": 106,
      "outputs": []
    },
    {
      "cell_type": "code",
      "source": [
        "rf_auc=roc_auc_score(y_test,rf_predict)\n",
        "nb_auc=roc_auc_score(y_test,nb_predict)\n",
        "lg_auc=roc_auc_score(y_test,lg_predict)\n",
        "kn_auc=roc_auc_score(y_test,kn_predict)\n",
        "xg_auc=roc_auc_score(y_test,xg_predict)\n",
        "ca_auc=roc_auc_score(y_test,ca_predict)\n",
        "ga_auc=roc_auc_score(y_test,ga_predict)"
      ],
      "metadata": {
        "id": "1MjrvJvURuZ0"
      },
      "execution_count": 107,
      "outputs": []
    },
    {
      "cell_type": "code",
      "source": [
        "rf_fpr,rf_tpr,_ =roc_curve(y_test,rf_predict)\n",
        "nb_fpr,nb_tpr,_ =roc_curve(y_test,nb_predict)\n",
        "lg_fpr,lg_tpr,_ =roc_curve(y_test,lg_predict)\n",
        "kn_fpr,kn_tpr,_ =roc_curve(y_test,kn_predict)\n",
        "xg_fpr,xg_tpr,_ =roc_curve(y_test,xg_predict)\n",
        "ca_fpr,ca_tpr,_ =roc_curve(y_test,ca_predict)\n",
        "ga_fpr,ga_tpr,_ =roc_curve(y_test,ga_predict)\n"
      ],
      "metadata": {
        "id": "9qKW_bRGScHZ"
      },
      "execution_count": 108,
      "outputs": []
    },
    {
      "cell_type": "code",
      "source": [
        "plt.subplots(1, figsize=(10,10))\n",
        "r=[0,0.5,1]\n",
        "p=r\n",
        "plt.plot(r,p , linestyle='-', label='base')\n",
        "plt.plot(rf_fpr,rf_tpr , linestyle='--' , label='random forest')\n",
        "plt.plot(nb_fpr,nb_tpr , linestyle='--' , label='naive bayes')\n",
        "plt.plot(lg_fpr,lg_tpr , linestyle='--' , label='regression')\n",
        "plt.plot(kn_fpr,kn_tpr , linestyle='--' , label='k_nearest')\n",
        "plt.plot(xg_fpr,xg_tpr , linestyle='--' , label='xgboost')\n",
        "plt.plot(ca_fpr,ca_tpr , linestyle='--' , label='catboost')\n",
        "plt.plot(ga_fpr,ga_tpr , linestyle='--' , label='GaussianNB')\n",
        "\n",
        "\n",
        "plt.title('ROC curve_gain chart')\n",
        "plt.ylabel('True Positive Rate')\n",
        "plt.xlabel('False Positive Rate')\n",
        "plt.legend()\n",
        "plt.show()"
      ],
      "metadata": {
        "colab": {
          "base_uri": "https://localhost:8080/",
          "height": 621
        },
        "id": "Ik3Oy7BpSgHV",
        "outputId": "c1d38d3a-3ee3-4df5-e638-60d4510e7e06"
      },
      "execution_count": 109,
      "outputs": [
        {
          "output_type": "display_data",
          "data": {
            "text/plain": [
              "<Figure size 720x720 with 1 Axes>"
            ],
            "image/png": "[encoded data removed]"
          },
          "metadata": {
            "needs_background": "light"
          }
        }
      ]
    },
    {
      "cell_type": "code",
      "source": [],
      "metadata": {
        "id": "gEBCybybgZ7a"
      },
      "execution_count": 109,
      "outputs": []
    },
    {
      "cell_type": "markdown",
      "source": [
        "# **useful functions**"
      ],
      "metadata": {
        "id": "JULzPXflrObM"
      }
    },
    {
      "cell_type": "code",
      "source": [
        "from sklearn.metrics import classification_report ,confusion_matrix "
      ],
      "metadata": {
        "id": "UfRO2aIrxICI"
      },
      "execution_count": 68,
      "outputs": []
    },
    {
      "cell_type": "code",
      "source": [
        "def perf_measure(y_actual, y_pred):\n",
        "    TP = 0\n",
        "    FP = 0\n",
        "    TN = 0\n",
        "    FN = 0\n",
        "\n",
        "    for i in range(len(y_pred)): \n",
        "        if y_actual[i]==y_pred[i]==1:\n",
        "           TP += 1\n",
        "        if y_pred[i]==1 and y_actual[i]!=y_pred[i]:\n",
        "           FP += 1\n",
        "        if y_actual[i]==y_pred[i]==0:\n",
        "           TN += 1\n",
        "        if y_pred[i]==0 and y_actual[i]!=y_pred[i]:\n",
        "           FN += 1\n",
        "    return(TP, FP, TN, FN)"
      ],
      "metadata": {
        "id": "GYl5Br4trYNC"
      },
      "execution_count": 69,
      "outputs": []
    },
    {
      "cell_type": "code",
      "source": [
        "def truepositive(y_actual, y_pred):\n",
        "    tn, fp, fn, tp = confusion_matrix(y_actual, y_pred).ravel()\n",
        "    return(tp)"
      ],
      "metadata": {
        "id": "VPocg-kfrepf"
      },
      "execution_count": 70,
      "outputs": []
    }
  ]
}